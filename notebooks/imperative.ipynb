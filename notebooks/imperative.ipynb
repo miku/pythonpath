{
 "cells": [
  {
   "cell_type": "markdown",
   "id": "ab7a0dd4-f7d2-410f-bdb7-ca128727e152",
   "metadata": {},
   "source": [
    "## Imperative Style\n",
    "\n",
    "> imperative programming is about updating data and changing state -- https://www.cs.cmu.edu/~me/courses/15-150-Spring2020/lectures/23/ImperativeProgramming.pdf\n",
    ">\n",
    "> A program is a sequence of commands.\n",
    "> Commands are executed relative to an environment.\n",
    "> An environment is a collection of named variables.\n",
    ">  Commands update variables.\n",
    "\n",
    "* put most logic into functions\n",
    "* less encapsulation, more state\n",
    "\n",
    "Less common to see modules implemented only in imperative style. Most modules will have some sort of abstraction, be it a HTTP request or response, a DataFrame, an orchestration Task, a Record in a specific format, etc. \n",
    "\n",
    "A data analysis tasks can be also more functional than imperative, given that data is converted and often not altered during the course of the analysis."
   ]
  },
  {
   "cell_type": "code",
   "execution_count": null,
   "id": "c46f91d0-0a42-4ffe-b770-9994e210ea16",
   "metadata": {},
   "outputs": [],
   "source": []
  }
 ],
 "metadata": {
  "kernelspec": {
   "display_name": "Python 3 (ipykernel)",
   "language": "python",
   "name": "python3"
  },
  "language_info": {
   "codemirror_mode": {
    "name": "ipython",
    "version": 3
   },
   "file_extension": ".py",
   "mimetype": "text/x-python",
   "name": "python",
   "nbconvert_exporter": "python",
   "pygments_lexer": "ipython3",
   "version": "3.10.12"
  }
 },
 "nbformat": 4,
 "nbformat_minor": 5
}
