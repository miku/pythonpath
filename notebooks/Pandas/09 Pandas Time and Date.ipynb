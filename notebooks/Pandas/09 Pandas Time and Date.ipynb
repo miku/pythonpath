{
 "cells": [
  {
   "cell_type": "markdown",
   "metadata": {},
   "source": [
    "# 09 Pandas Time and Date\n",
    "\n",
    "* generatine time indices\n",
    "* indexing\n",
    "* resampling\n",
    "* plotting"
   ]
  },
  {
   "cell_type": "markdown",
   "metadata": {},
   "source": [
    "## Timestamp class"
   ]
  },
  {
   "cell_type": "markdown",
   "metadata": {},
   "source": [
    "Python has basic datetime support. Pandas extends this with a custom Timestamp type."
   ]
  },
  {
   "cell_type": "code",
   "execution_count": 1,
   "metadata": {},
   "outputs": [],
   "source": [
    "import datetime"
   ]
  },
  {
   "cell_type": "code",
   "execution_count": 2,
   "metadata": {},
   "outputs": [
    {
     "data": {
      "text/plain": [
       "datetime.datetime(2000, 1, 1, 0, 0)"
      ]
     },
     "execution_count": 2,
     "metadata": {},
     "output_type": "execute_result"
    }
   ],
   "source": [
    "datetime.datetime(2000, 1, 1)"
   ]
  },
  {
   "cell_type": "markdown",
   "metadata": {},
   "source": [
    "Parsing dates and times is straigtforward, but the variety of date layouts can still be a problem, sometimes. Internally Pandas utilized the [dateutil](http://dateutil.readthedocs.io/en/stable/) library.\n",
    "\n",
    "The traditional method centers around `strptime` and `strftime` - inherited from the [C programming language](http://pubs.opengroup.org/onlinepubs/009695399/functions/strptime.html) and POSIX, respectively."
   ]
  },
  {
   "cell_type": "code",
   "execution_count": 3,
   "metadata": {},
   "outputs": [
    {
     "data": {
      "text/plain": [
       "datetime.datetime(2000, 1, 1, 0, 0)"
      ]
     },
     "execution_count": 3,
     "metadata": {},
     "output_type": "execute_result"
    }
   ],
   "source": [
    "datetime.datetime.strptime(\"2000/1/1\", \"%Y/%m/%d\")"
   ]
  },
  {
   "cell_type": "code",
   "execution_count": 4,
   "metadata": {},
   "outputs": [
    {
     "data": {
      "text/plain": [
       "'20000101'"
      ]
     },
     "execution_count": 4,
     "metadata": {},
     "output_type": "execute_result"
    }
   ],
   "source": [
    "datetime.datetime(2000, 1, 1, 0, 0).strftime(\"%Y%m%d\")"
   ]
  },
  {
   "cell_type": "markdown",
   "metadata": {},
   "source": [
    "With Pandas you do not necessarily have to remember the layout specification."
   ]
  },
  {
   "cell_type": "code",
   "execution_count": 5,
   "metadata": {},
   "outputs": [],
   "source": [
    "import pandas as pd\n",
    "import numpy as np"
   ]
  },
  {
   "cell_type": "code",
   "execution_count": 6,
   "metadata": {},
   "outputs": [
    {
     "data": {
      "text/plain": [
       "Timestamp('2000-07-04 00:00:00')"
      ]
     },
     "execution_count": 6,
     "metadata": {},
     "output_type": "execute_result"
    }
   ],
   "source": [
    "pd.to_datetime(\"4th of July 2000\")"
   ]
  },
  {
   "cell_type": "code",
   "execution_count": 7,
   "metadata": {},
   "outputs": [
    {
     "data": {
      "text/plain": [
       "Timestamp('2010-01-19 00:00:00')"
      ]
     },
     "execution_count": 7,
     "metadata": {},
     "output_type": "execute_result"
    }
   ],
   "source": [
    "pd.to_datetime(\"2010 --- Jan / 19\")"
   ]
  },
  {
   "cell_type": "markdown",
   "metadata": {},
   "source": [
    "There is a hint - `dayfirst=True`, that `to_datetime` accepts, e.g. when day and month might is ambiguous."
   ]
  },
  {
   "cell_type": "code",
   "execution_count": 8,
   "metadata": {},
   "outputs": [
    {
     "data": {
      "text/plain": [
       "Timestamp('2000-09-12 00:00:00')"
      ]
     },
     "execution_count": 8,
     "metadata": {},
     "output_type": "execute_result"
    }
   ],
   "source": [
    "pd.to_datetime(\"09.12.2000\")"
   ]
  },
  {
   "cell_type": "code",
   "execution_count": 9,
   "metadata": {},
   "outputs": [
    {
     "data": {
      "text/plain": [
       "Timestamp('2000-12-09 00:00:00')"
      ]
     },
     "execution_count": 9,
     "metadata": {},
     "output_type": "execute_result"
    }
   ],
   "source": [
    "pd.to_datetime(\"09.12.2000\", dayfirst=True)"
   ]
  },
  {
   "cell_type": "markdown",
   "metadata": {},
   "source": [
    "Allowing various formats is useful, if dates are formatted differently in a single data set (which is unfortunately not that uncommon).\n",
    "\n",
    "The resulting object is a `pd.Timestamp`."
   ]
  },
  {
   "cell_type": "code",
   "execution_count": 10,
   "metadata": {},
   "outputs": [
    {
     "data": {
      "text/plain": [
       "pandas._libs.tslib.Timestamp"
      ]
     },
     "execution_count": 10,
     "metadata": {},
     "output_type": "execute_result"
    }
   ],
   "source": [
    "dt = pd.to_datetime(\"02.03.2018\")\n",
    "type(dt)"
   ]
  },
  {
   "cell_type": "code",
   "execution_count": 11,
   "metadata": {},
   "outputs": [
    {
     "data": {
      "text/plain": [
       "pandas._libs.tslib.Timestamp"
      ]
     },
     "execution_count": 11,
     "metadata": {},
     "output_type": "execute_result"
    }
   ],
   "source": [
    "pd.Timestamp"
   ]
  },
  {
   "cell_type": "code",
   "execution_count": 12,
   "metadata": {},
   "outputs": [
    {
     "data": {
      "text/plain": [
       "True"
      ]
     },
     "execution_count": 12,
     "metadata": {},
     "output_type": "execute_result"
    }
   ],
   "source": [
    "issubclass(pd.Timestamp, datetime.datetime)"
   ]
  },
  {
   "cell_type": "markdown",
   "metadata": {},
   "source": [
    "This means that both types can be used interchangeably in many places and `pd.Timestamp` will behave like a datetime object, e.g. it will have a `weekday` method."
   ]
  },
  {
   "cell_type": "code",
   "execution_count": 13,
   "metadata": {},
   "outputs": [],
   "source": [
    "ts = pd.to_datetime(\"2001-01-01 5:00\")"
   ]
  },
  {
   "cell_type": "code",
   "execution_count": 14,
   "metadata": {},
   "outputs": [
    {
     "data": {
      "text/plain": [
       "Timestamp('2001-01-01 05:00:00')"
      ]
     },
     "execution_count": 14,
     "metadata": {},
     "output_type": "execute_result"
    }
   ],
   "source": [
    "ts"
   ]
  },
  {
   "cell_type": "code",
   "execution_count": 15,
   "metadata": {},
   "outputs": [
    {
     "data": {
      "text/plain": [
       "(2001, 1, 1, 0)"
      ]
     },
     "execution_count": 15,
     "metadata": {},
     "output_type": "execute_result"
    }
   ],
   "source": [
    "ts.year, ts.month, ts.day, ts.weekday()"
   ]
  },
  {
   "cell_type": "markdown",
   "metadata": {},
   "source": [
    "## DatetimeIndex class\n",
    "\n",
    "A DatetimeIndex class is one specialed index type in Pandas.\n",
    "\n"
   ]
  },
  {
   "cell_type": "code",
   "execution_count": 16,
   "metadata": {},
   "outputs": [],
   "source": [
    "index = [pd.Timestamp(\"2000-01-01\"),\n",
    "         pd.Timestamp(\"2000-01-02\"),\n",
    "         pd.Timestamp(\"2000-01-03\")]\n",
    "\n",
    "ts = pd.Series(np.random.randn(len(index)), index=index)"
   ]
  },
  {
   "cell_type": "code",
   "execution_count": 17,
   "metadata": {},
   "outputs": [
    {
     "data": {
      "text/plain": [
       "2000-01-01   -2.426435\n",
       "2000-01-02    0.728601\n",
       "2000-01-03   -1.889533\n",
       "dtype: float64"
      ]
     },
     "execution_count": 17,
     "metadata": {},
     "output_type": "execute_result"
    }
   ],
   "source": [
    "ts"
   ]
  },
  {
   "cell_type": "code",
   "execution_count": 18,
   "metadata": {},
   "outputs": [
    {
     "data": {
      "text/plain": [
       "DatetimeIndex(['2000-01-01', '2000-01-02', '2000-01-03'], dtype='datetime64[ns]', freq=None)"
      ]
     },
     "execution_count": 18,
     "metadata": {},
     "output_type": "execute_result"
    }
   ],
   "source": [
    "ts.index"
   ]
  },
  {
   "cell_type": "markdown",
   "metadata": {},
   "source": [
    "A list of timestamps (or datetime objects) are converted into a DatetimeIndex on Series or DataFrame creation time.\n",
    "\n",
    "A list of date **strings** would not have yielded the same result."
   ]
  },
  {
   "cell_type": "code",
   "execution_count": 19,
   "metadata": {},
   "outputs": [],
   "source": [
    "index = ['2000-01-01', '2000-01-02', '2000-01-03']\n",
    "ts = pd.Series(np.random.randn(len(index)), index=index)"
   ]
  },
  {
   "cell_type": "code",
   "execution_count": 20,
   "metadata": {},
   "outputs": [
    {
     "data": {
      "text/plain": [
       "Index(['2000-01-01', '2000-01-02', '2000-01-03'], dtype='object')"
      ]
     },
     "execution_count": 20,
     "metadata": {},
     "output_type": "execute_result"
    }
   ],
   "source": [
    "ts.index"
   ]
  },
  {
   "cell_type": "markdown",
   "metadata": {},
   "source": [
    "However, `to_datetime` is flexible enough to handle a **list of strings** as well."
   ]
  },
  {
   "cell_type": "code",
   "execution_count": 21,
   "metadata": {},
   "outputs": [],
   "source": [
    "index = pd.to_datetime(['2000-01-01', '2000-01-02', '2000-01-03'])\n",
    "ts = pd.Series(np.random.randn(len(index)), index=index)"
   ]
  },
  {
   "cell_type": "code",
   "execution_count": 22,
   "metadata": {},
   "outputs": [
    {
     "data": {
      "text/plain": [
       "DatetimeIndex(['2000-01-01', '2000-01-02', '2000-01-03'], dtype='datetime64[ns]', freq=None)"
      ]
     },
     "execution_count": 22,
     "metadata": {},
     "output_type": "execute_result"
    }
   ],
   "source": [
    "ts.index"
   ]
  },
  {
   "cell_type": "markdown",
   "metadata": {},
   "source": [
    "## Fixed date ranges\n",
    "\n",
    "Pandas has a handy function called `date_range` that can be utilize to created DatetimeIndex objects from fixed intervals. It is very flexible and if you ever generated intervals by hand, you might be positively surprised.\n",
    "\n",
    "The `date_range` function takes a few parameters (not all of them need to be specified):\n",
    "\n",
    "* start\n",
    "* end\n",
    "* periods\n",
    "* freq"
   ]
  },
  {
   "cell_type": "markdown",
   "metadata": {},
   "source": [
    "### Start and end "
   ]
  },
  {
   "cell_type": "code",
   "execution_count": 23,
   "metadata": {},
   "outputs": [
    {
     "data": {
      "text/plain": [
       "DatetimeIndex(['2000-01-01', '2000-01-02', '2000-01-03', '2000-01-04',\n",
       "               '2000-01-05', '2000-01-06', '2000-01-07', '2000-01-08',\n",
       "               '2000-01-09', '2000-01-10',\n",
       "               ...\n",
       "               '2000-12-23', '2000-12-24', '2000-12-25', '2000-12-26',\n",
       "               '2000-12-27', '2000-12-28', '2000-12-29', '2000-12-30',\n",
       "               '2000-12-31', '2001-01-01'],\n",
       "              dtype='datetime64[ns]', length=367, freq='D')"
      ]
     },
     "execution_count": 23,
     "metadata": {},
     "output_type": "execute_result"
    }
   ],
   "source": [
    "pd.date_range(start=\"2000-01-01\", end=\"2001-01-01\")"
   ]
  },
  {
   "cell_type": "markdown",
   "metadata": {},
   "source": [
    "First and last date are inclusive, here the default frequency is choosen: D, which stands for \"Calendar day frequency\"."
   ]
  },
  {
   "cell_type": "markdown",
   "metadata": {},
   "source": [
    "### Periods and Frequency\n",
    "\n",
    "The following creates three entries with a given frequency, here \"H\", which stands for hourly."
   ]
  },
  {
   "cell_type": "code",
   "execution_count": 24,
   "metadata": {},
   "outputs": [
    {
     "data": {
      "text/plain": [
       "DatetimeIndex(['2000-01-01 00:00:00', '2000-01-01 01:00:00',\n",
       "               '2000-01-01 02:00:00'],\n",
       "              dtype='datetime64[ns]', freq='H')"
      ]
     },
     "execution_count": 24,
     "metadata": {},
     "output_type": "execute_result"
    }
   ],
   "source": [
    "pd.date_range(start=\"2000-01-01\", periods=3, freq=\"H\")"
   ]
  },
  {
   "cell_type": "markdown",
   "metadata": {},
   "source": [
    "A full list of frequencies can be found in the Pandas docs under:\n",
    "    \n",
    "* https://pandas.pydata.org/pandas-docs/stable/timeseries.html#offset-aliases\n",
    "\n",
    "\n",
    "Alias    | Description\n",
    "---------|-----------------------\n",
    "B        | business day frequency\n",
    "C        | custom business day frequency\n",
    "D        | calendar day frequency\n",
    "W        | weekly frequency\n",
    "M        | month end frequency\n",
    "SM       | semi-month end frequency (15th and end of month)\n",
    "BM       | business month end frequency\n",
    "CBM      | custom business month end frequency\n",
    "MS       |  month start frequency\n",
    "SMS      | semi-month start frequency (1st and 15th)\n",
    "BMS      | business month start frequency\n",
    "CBMS     | custom business month start frequency\n",
    "Q        | quarter end frequency\n",
    "BQ       | business quarter end frequency\n",
    "QS       | quarter start frequency\n",
    "BQS      | business quarter start frequency\n",
    "A, Y     | year end frequency\n",
    "BA, BY   | business year end frequency\n",
    "AS, YS   | year start frequency\n",
    "BAS, BYS | business year start frequency\n",
    "BH       | business hour frequency\n",
    "H        | hourly frequency\n",
    "T, min   | minutely frequency\n",
    "S        | secondly frequency\n",
    "L, ms    | milliseconds\n",
    "U, us    | microseconds\n",
    "N        | nanoseconds"
   ]
  },
  {
   "cell_type": "code",
   "execution_count": 25,
   "metadata": {},
   "outputs": [
    {
     "data": {
      "text/plain": [
       "DatetimeIndex(['2000-01-01 00:00:00', '2000-01-01 00:00:01',\n",
       "               '2000-01-01 00:00:02'],\n",
       "              dtype='datetime64[ns]', freq='S')"
      ]
     },
     "execution_count": 25,
     "metadata": {},
     "output_type": "execute_result"
    }
   ],
   "source": [
    "pd.date_range(start=\"2000-01-01\", periods=3, freq=\"S\")"
   ]
  },
  {
   "cell_type": "code",
   "execution_count": 26,
   "metadata": {},
   "outputs": [
    {
     "data": {
      "text/plain": [
       "DatetimeIndex(['2000-01-01 00:00:00', '2000-01-01 00:01:00',\n",
       "               '2000-01-01 00:02:00'],\n",
       "              dtype='datetime64[ns]', freq='T')"
      ]
     },
     "execution_count": 26,
     "metadata": {},
     "output_type": "execute_result"
    }
   ],
   "source": [
    "pd.date_range(start=\"2000-01-01\", periods=3, freq=\"T\")"
   ]
  },
  {
   "cell_type": "markdown",
   "metadata": {},
   "source": [
    "One thing to note is the business days frequency - it takes into account weekends (Sat, Sun).\n",
    "\n",
    "The business year 2000 started on January, 3rd."
   ]
  },
  {
   "cell_type": "code",
   "execution_count": 27,
   "metadata": {},
   "outputs": [
    {
     "data": {
      "text/plain": [
       "DatetimeIndex(['2000-01-03', '2000-01-04', '2000-01-05'], dtype='datetime64[ns]', freq='B')"
      ]
     },
     "execution_count": 27,
     "metadata": {},
     "output_type": "execute_result"
    }
   ],
   "source": [
    "pd.date_range(start=\"2000-01-01\", periods=3, freq=\"B\")"
   ]
  },
  {
   "cell_type": "markdown",
   "metadata": {},
   "source": [
    "### Combined frequencies\n",
    "\n",
    "A less common use case is combination of intervals. Generating an index for intervals of 90 minutesmight look like the following:"
   ]
  },
  {
   "cell_type": "code",
   "execution_count": 28,
   "metadata": {},
   "outputs": [
    {
     "data": {
      "text/plain": [
       "DatetimeIndex(['2000-01-01 00:00:00', '2000-01-01 01:30:00',\n",
       "               '2000-01-01 03:00:00', '2000-01-01 04:30:00',\n",
       "               '2000-01-01 06:00:00'],\n",
       "              dtype='datetime64[ns]', freq='90T')"
      ]
     },
     "execution_count": 28,
     "metadata": {},
     "output_type": "execute_result"
    }
   ],
   "source": [
    "pd.date_range(start=\"2000\", periods=5, freq=\"90min\")"
   ]
  },
  {
   "cell_type": "code",
   "execution_count": 29,
   "metadata": {},
   "outputs": [
    {
     "data": {
      "text/plain": [
       "DatetimeIndex(['2000-01-01 00:00:00', '2000-01-01 01:30:00',\n",
       "               '2000-01-01 03:00:00', '2000-01-01 04:30:00',\n",
       "               '2000-01-01 06:00:00'],\n",
       "              dtype='datetime64[ns]', freq='90T')"
      ]
     },
     "execution_count": 29,
     "metadata": {},
     "output_type": "execute_result"
    }
   ],
   "source": [
    "pd.date_range(start=\"2000\", periods=5, freq=\"1h30min\")"
   ]
  },
  {
   "cell_type": "markdown",
   "metadata": {},
   "source": [
    "Again, Pandas tries to be useful and do the right thing out of the box."
   ]
  },
  {
   "cell_type": "markdown",
   "metadata": {},
   "source": [
    "### Combining aliases\n",
    "\n",
    "It is possible to combine offsets (e.g. business hours - BH) with intervals. To generate entries for every 2 hours of business time (which starts at 9AM and ends at 5PM), one can write the following:"
   ]
  },
  {
   "cell_type": "code",
   "execution_count": 30,
   "metadata": {},
   "outputs": [
    {
     "data": {
      "text/plain": [
       "DatetimeIndex(['2000-01-03 09:00:00', '2000-01-03 11:00:00',\n",
       "               '2000-01-03 13:00:00', '2000-01-03 15:00:00',\n",
       "               '2000-01-04 09:00:00', '2000-01-04 11:00:00',\n",
       "               '2000-01-04 13:00:00', '2000-01-04 15:00:00',\n",
       "               '2000-01-05 09:00:00', '2000-01-05 11:00:00',\n",
       "               '2000-01-05 13:00:00', '2000-01-05 15:00:00'],\n",
       "              dtype='datetime64[ns]', freq='2BH')"
      ]
     },
     "execution_count": 30,
     "metadata": {},
     "output_type": "execute_result"
    }
   ],
   "source": [
    "pd.date_range(start=\"2000\", periods=12, freq=\"2BH\")"
   ]
  },
  {
   "cell_type": "markdown",
   "metadata": {},
   "source": [
    "### Anchored offsets\n",
    "\n",
    "An anchor allows to specify date ranges with some fixed points, such as:\n",
    "    \n",
    "* every Friday\n",
    "* second Tuesday of the month\n",
    "\n",
    "The first takes an offset \"W\" and anchors it on \"FRI\", Friday.\n",
    "\n",
    "The full list of anchored offset can be found in the Pandas documentation:\n",
    "\n",
    "* https://pandas.pydata.org/pandas-docs/stable/timeseries.html#anchored-offsets\n",
    "\n",
    "Anchor|Description\n",
    "------|-------------------\n",
    "W-SUN |weekly frequency (Sundays). Same as ‘W’\n",
    "W-MON |weekly frequency (Mondays)\n",
    "W-TUE |weekly frequency (Tuesdays)\n",
    "W-WED |weekly frequency (Wednesdays)\n",
    "W-THU |weekly frequency (Thursdays)\n",
    "W-FRI |weekly frequency (Fridays)\n",
    "W-SAT |weekly frequency (Saturdays)\n",
    "(B)Q(S)-DEC |quarterly frequency, year ends in December. Same as ‘Q’\n",
    "(B)Q(S)-JAN |quarterly frequency, year ends in January\n",
    "(B)Q(S)-FEB |quarterly frequency, year ends in February\n",
    "(B)Q(S)-MAR |quarterly frequency, year ends in March\n",
    "(B)Q(S)-APR |quarterly frequency, year ends in April\n",
    "(B)Q(S)-MAY |quarterly frequency, year ends in May\n",
    "(B)Q(S)-JUN |quarterly frequency, year ends in June\n",
    "(B)Q(S)-JUL |quarterly frequency, year ends in July\n",
    "(B)Q(S)-AUG |quarterly frequency, year ends in August\n",
    "(B)Q(S)-SEP |quarterly frequency, year ends in September\n",
    "(B)Q(S)-OCT |quarterly frequency, year ends in October\n",
    "(B)Q(S)-NOV |quarterly frequency, year ends in November\n",
    "(B)A(S)-DEC |annual frequency, anchored end of December. Same as ‘A’\n",
    "(B)A(S)-JAN |annual frequency, anchored end of January\n",
    "(B)A(S)-FEB |annual frequency, anchored end of February\n",
    "(B)A(S)-MAR |annual frequency, anchored end of March\n",
    "(B)A(S)-APR |annual frequency, anchored end of April\n",
    "(B)A(S)-MAY |annual frequency, anchored end of May\n",
    "(B)A(S)-JUN |annual frequency, anchored end of June\n",
    "(B)A(S)-JUL |annual frequency, anchored end of July\n",
    "(B)A(S)-AUG |annual frequency, anchored end of August\n",
    "(B)A(S)-SEP |annual frequency, anchored end of September\n",
    "(B)A(S)-OCT |annual frequency, anchored end of October\n",
    "(B)A(S)-NOV |annual frequency, anchored end of November"
   ]
  },
  {
   "cell_type": "code",
   "execution_count": 31,
   "metadata": {},
   "outputs": [
    {
     "data": {
      "text/plain": [
       "DatetimeIndex(['2000-01-07', '2000-01-14', '2000-01-21', '2000-01-28',\n",
       "               '2000-02-04'],\n",
       "              dtype='datetime64[ns]', freq='W-FRI')"
      ]
     },
     "execution_count": 31,
     "metadata": {},
     "output_type": "execute_result"
    }
   ],
   "source": [
    "pd.date_range(start=\"2000-01-01\", periods=5, freq=\"W-Fri\")"
   ]
  },
  {
   "cell_type": "markdown",
   "metadata": {},
   "source": [
    "The \"week of month\" is modified by 2 (second week of month) and anchored on Tuesday."
   ]
  },
  {
   "cell_type": "code",
   "execution_count": 32,
   "metadata": {},
   "outputs": [
    {
     "data": {
      "text/plain": [
       "DatetimeIndex(['2018-01-09', '2018-02-13', '2018-03-13', '2018-04-10',\n",
       "               '2018-05-08', '2018-06-12', '2018-07-10', '2018-08-14',\n",
       "               '2018-09-11', '2018-10-09', '2018-11-13', '2018-12-11'],\n",
       "              dtype='datetime64[ns]', freq='WOM-2TUE')"
      ]
     },
     "execution_count": 32,
     "metadata": {},
     "output_type": "execute_result"
    }
   ],
   "source": [
    "pd.date_range(start=\"2018-01-01\", periods=12, freq=\"WOM-2TUE\")"
   ]
  },
  {
   "cell_type": "markdown",
   "metadata": {},
   "source": [
    "### Index unions\n",
    "\n",
    "Indices can be combined. The API is similar to the API of the `set` type in Python.\n",
    "\n",
    "* union\n",
    "* intersection"
   ]
  },
  {
   "cell_type": "code",
   "execution_count": 33,
   "metadata": {},
   "outputs": [],
   "source": [
    "# BAS (A) nnual (B) usiness frequency, anchored at (S) tart of January\n",
    "s = pd.date_range(start=\"2000-01-01\", periods=10, freq=\"BAS-JAN\")"
   ]
  },
  {
   "cell_type": "code",
   "execution_count": 34,
   "metadata": {},
   "outputs": [
    {
     "data": {
      "text/plain": [
       "DatetimeIndex(['2000-01-03', '2001-01-01', '2002-01-01', '2003-01-01',\n",
       "               '2004-01-01', '2005-01-03', '2006-01-02', '2007-01-01',\n",
       "               '2008-01-01', '2009-01-01'],\n",
       "              dtype='datetime64[ns]', freq='BAS-JAN')"
      ]
     },
     "execution_count": 34,
     "metadata": {},
     "output_type": "execute_result"
    }
   ],
   "source": [
    "s"
   ]
  },
  {
   "cell_type": "code",
   "execution_count": 35,
   "metadata": {},
   "outputs": [],
   "source": [
    "t = pd.date_range(start=\"2001-01-01\", periods=10, freq='A-FEB')"
   ]
  },
  {
   "cell_type": "code",
   "execution_count": 36,
   "metadata": {},
   "outputs": [
    {
     "data": {
      "text/plain": [
       "DatetimeIndex(['2000-01-03', '2001-01-01', '2001-02-28', '2002-01-01',\n",
       "               '2002-02-28', '2003-01-01', '2003-02-28', '2004-01-01',\n",
       "               '2004-02-29', '2005-01-03', '2005-02-28', '2006-01-02',\n",
       "               '2006-02-28', '2007-01-01', '2007-02-28', '2008-01-01',\n",
       "               '2008-02-29', '2009-01-01', '2009-02-28', '2010-02-28'],\n",
       "              dtype='datetime64[ns]', freq=None)"
      ]
     },
     "execution_count": 36,
     "metadata": {},
     "output_type": "execute_result"
    }
   ],
   "source": [
    "s.union(t)"
   ]
  },
  {
   "cell_type": "code",
   "execution_count": 37,
   "metadata": {},
   "outputs": [
    {
     "data": {
      "text/plain": [
       "DatetimeIndex([], dtype='datetime64[ns]', freq=None)"
      ]
     },
     "execution_count": 37,
     "metadata": {},
     "output_type": "execute_result"
    }
   ],
   "source": [
    "s.intersection(t)"
   ]
  },
  {
   "cell_type": "markdown",
   "metadata": {},
   "source": [
    "## Exercises\n",
    "\n",
    "1. Create a DatetimeIndex with at least two elements **without** using `pd.date_range` or `pd.to_datetime`\n",
    "2. Use three different date strings of your choice (or that you encountered in data sets) and test, whether `pd.to_datetime` can parse it correctly.\n",
    "3. Create a DatetimeIndex with 100 date entries starting January, 1st 2010 and indexed hourly.\n",
    "4. Create two DatetimeIndex object, both starting April 1st 2010. One index should contain hourly entries, the other one entry every ten minutes. Create 100 periods. Combine both indices. Create an index, that only contains entries, which can be found in both indices."
   ]
  },
  {
   "cell_type": "markdown",
   "metadata": {},
   "source": [
    "## Solutions\n",
    "\n",
    "1. 1. Create a DatetimeIndex with at least two elements **without** using `pd.date_range` or `pd.to_datetime`\n",
    "\n",
    "**Solution**: Use default Python datetime objects."
   ]
  },
  {
   "cell_type": "code",
   "execution_count": 38,
   "metadata": {},
   "outputs": [
    {
     "data": {
      "text/plain": [
       "DatetimeIndex(['2000-01-01', '2000-02-01'], dtype='datetime64[ns]', freq=None)"
      ]
     },
     "execution_count": 38,
     "metadata": {},
     "output_type": "execute_result"
    }
   ],
   "source": [
    "pd.DatetimeIndex([datetime.datetime(2000, 1, 1), datetime.datetime(2000, 2, 1)])"
   ]
  },
  {
   "cell_type": "code",
   "execution_count": 39,
   "metadata": {},
   "outputs": [
    {
     "data": {
      "text/plain": [
       "DatetimeIndex(['2018-09-07 21:38:33.350709', '2000-02-01 00:00:00'], dtype='datetime64[ns]', freq=None)"
      ]
     },
     "execution_count": 39,
     "metadata": {},
     "output_type": "execute_result"
    }
   ],
   "source": [
    "pd.DatetimeIndex([datetime.datetime.now(), datetime.datetime(2000, 2, 1)])"
   ]
  },
  {
   "cell_type": "markdown",
   "metadata": {},
   "source": [
    "Possible alternative, using `time.time()`.\n",
    "\n",
    "`time.time()` ...\n",
    "\n",
    "> Return the current time in seconds since the Epoch.\n",
    "Fractions of a second may be present if the system clock provides them.\n",
    "\n",
    "However, the DatetimeIndex constructor assumes nanoseconds, if passed an integer (as time.time() returns).\n",
    "\n",
    "So, convert seconds to nanoseconds first, then it would work as well."
   ]
  },
  {
   "cell_type": "code",
   "execution_count": 40,
   "metadata": {},
   "outputs": [],
   "source": [
    "import time"
   ]
  },
  {
   "cell_type": "code",
   "execution_count": 41,
   "metadata": {},
   "outputs": [
    {
     "data": {
      "text/plain": [
       "DatetimeIndex(['2018-09-07 19:38:33.373552896'], dtype='datetime64[ns]', freq=None)"
      ]
     },
     "execution_count": 41,
     "metadata": {},
     "output_type": "execute_result"
    }
   ],
   "source": [
    "pd.DatetimeIndex([time.time() * 1000000000])"
   ]
  },
  {
   "cell_type": "markdown",
   "metadata": {},
   "source": [
    "2. Use three different date strings of your choice (or that you encountered in data sets) and test, whether `pd.to_datetime` can parse it correctly.\n",
    "\n",
    "**Solution**: Just use some strings. Here are some examples. Use `dayfirst` if necessary."
   ]
  },
  {
   "cell_type": "code",
   "execution_count": 42,
   "metadata": {},
   "outputs": [
    {
     "data": {
      "text/plain": [
       "Timestamp('2018-05-23 00:00:00')"
      ]
     },
     "execution_count": 42,
     "metadata": {},
     "output_type": "execute_result"
    }
   ],
   "source": [
    "pd.to_datetime(\"Wed 23 May 2018\")"
   ]
  },
  {
   "cell_type": "code",
   "execution_count": 43,
   "metadata": {},
   "outputs": [
    {
     "data": {
      "text/plain": [
       "Timestamp('2018-05-23 00:00:00')"
      ]
     },
     "execution_count": 43,
     "metadata": {},
     "output_type": "execute_result"
    }
   ],
   "source": [
    "pd.to_datetime(\"2018/23/05\", dayfirst=True)"
   ]
  },
  {
   "cell_type": "code",
   "execution_count": 44,
   "metadata": {},
   "outputs": [],
   "source": [
    "# pd.to_datetime(\"2018/23/05\", dayfirst=False) # TypeError"
   ]
  },
  {
   "cell_type": "code",
   "execution_count": 45,
   "metadata": {},
   "outputs": [],
   "source": [
    "# pd.to_datetime(\"29.02.2010\") # ValueError, since \"Leap Year\", ValueError: day is out of range for month"
   ]
  },
  {
   "cell_type": "code",
   "execution_count": 46,
   "metadata": {},
   "outputs": [
    {
     "data": {
      "text/plain": [
       "Timestamp('2018-01-03 00:00:00')"
      ]
     },
     "execution_count": 46,
     "metadata": {},
     "output_type": "execute_result"
    }
   ],
   "source": [
    "pd.to_datetime(\"2018, Jan 3rd\")"
   ]
  },
  {
   "cell_type": "markdown",
   "metadata": {},
   "source": [
    "How about local month names, e.g. März?\n",
    "\n",
    "With normal strptime, you could set your locale, but this does not work with Pandas."
   ]
  },
  {
   "cell_type": "code",
   "execution_count": 47,
   "metadata": {},
   "outputs": [
    {
     "data": {
      "text/plain": [
       "'de_DE.UTF-8'"
      ]
     },
     "execution_count": 47,
     "metadata": {},
     "output_type": "execute_result"
    }
   ],
   "source": [
    "import locale\n",
    "locale.setlocale(locale.LC_ALL, 'de_DE.UTF-8')"
   ]
  },
  {
   "cell_type": "code",
   "execution_count": 48,
   "metadata": {},
   "outputs": [],
   "source": [
    "# pd.to_datetime(\"2010, März 20\") # TypeError"
   ]
  },
  {
   "cell_type": "markdown",
   "metadata": {},
   "source": [
    "However, due to the locale setting the month abbreviations are available in the standard library as  `calendar.month_abbr` as a dictionary, which could be used to preprocess date strings. "
   ]
  },
  {
   "cell_type": "code",
   "execution_count": 49,
   "metadata": {},
   "outputs": [],
   "source": [
    "import calendar"
   ]
  },
  {
   "cell_type": "code",
   "execution_count": 50,
   "metadata": {},
   "outputs": [
    {
     "data": {
      "text/plain": [
       "{'': 0,\n",
       " 'Apr': 4,\n",
       " 'Aug': 8,\n",
       " 'Dez': 12,\n",
       " 'Feb': 2,\n",
       " 'Jan': 1,\n",
       " 'Jul': 7,\n",
       " 'Jun': 6,\n",
       " 'Mai': 5,\n",
       " 'Mär': 3,\n",
       " 'Nov': 11,\n",
       " 'Okt': 10,\n",
       " 'Sep': 9}"
      ]
     },
     "execution_count": 50,
     "metadata": {},
     "output_type": "execute_result"
    }
   ],
   "source": [
    "dict((v,k) for k,v in enumerate(calendar.month_abbr))"
   ]
  },
  {
   "cell_type": "markdown",
   "metadata": {},
   "source": [
    "3. Create a DatetimeIndex with 100 date entries starting January, 1st 2010 and indexed hourly.\n",
    "\n",
    "**Solution** use `pd.date_range`."
   ]
  },
  {
   "cell_type": "code",
   "execution_count": 51,
   "metadata": {},
   "outputs": [
    {
     "data": {
      "text/plain": [
       "DatetimeIndex(['2010-01-01 00:00:00', '2010-01-01 01:00:00',\n",
       "               '2010-01-01 02:00:00', '2010-01-01 03:00:00',\n",
       "               '2010-01-01 04:00:00', '2010-01-01 05:00:00',\n",
       "               '2010-01-01 06:00:00', '2010-01-01 07:00:00',\n",
       "               '2010-01-01 08:00:00', '2010-01-01 09:00:00',\n",
       "               '2010-01-01 10:00:00', '2010-01-01 11:00:00',\n",
       "               '2010-01-01 12:00:00', '2010-01-01 13:00:00',\n",
       "               '2010-01-01 14:00:00', '2010-01-01 15:00:00',\n",
       "               '2010-01-01 16:00:00', '2010-01-01 17:00:00',\n",
       "               '2010-01-01 18:00:00', '2010-01-01 19:00:00',\n",
       "               '2010-01-01 20:00:00', '2010-01-01 21:00:00',\n",
       "               '2010-01-01 22:00:00', '2010-01-01 23:00:00',\n",
       "               '2010-01-02 00:00:00', '2010-01-02 01:00:00',\n",
       "               '2010-01-02 02:00:00', '2010-01-02 03:00:00',\n",
       "               '2010-01-02 04:00:00', '2010-01-02 05:00:00',\n",
       "               '2010-01-02 06:00:00', '2010-01-02 07:00:00',\n",
       "               '2010-01-02 08:00:00', '2010-01-02 09:00:00',\n",
       "               '2010-01-02 10:00:00', '2010-01-02 11:00:00',\n",
       "               '2010-01-02 12:00:00', '2010-01-02 13:00:00',\n",
       "               '2010-01-02 14:00:00', '2010-01-02 15:00:00',\n",
       "               '2010-01-02 16:00:00', '2010-01-02 17:00:00',\n",
       "               '2010-01-02 18:00:00', '2010-01-02 19:00:00',\n",
       "               '2010-01-02 20:00:00', '2010-01-02 21:00:00',\n",
       "               '2010-01-02 22:00:00', '2010-01-02 23:00:00',\n",
       "               '2010-01-03 00:00:00', '2010-01-03 01:00:00',\n",
       "               '2010-01-03 02:00:00', '2010-01-03 03:00:00',\n",
       "               '2010-01-03 04:00:00', '2010-01-03 05:00:00',\n",
       "               '2010-01-03 06:00:00', '2010-01-03 07:00:00',\n",
       "               '2010-01-03 08:00:00', '2010-01-03 09:00:00',\n",
       "               '2010-01-03 10:00:00', '2010-01-03 11:00:00',\n",
       "               '2010-01-03 12:00:00', '2010-01-03 13:00:00',\n",
       "               '2010-01-03 14:00:00', '2010-01-03 15:00:00',\n",
       "               '2010-01-03 16:00:00', '2010-01-03 17:00:00',\n",
       "               '2010-01-03 18:00:00', '2010-01-03 19:00:00',\n",
       "               '2010-01-03 20:00:00', '2010-01-03 21:00:00',\n",
       "               '2010-01-03 22:00:00', '2010-01-03 23:00:00',\n",
       "               '2010-01-04 00:00:00', '2010-01-04 01:00:00',\n",
       "               '2010-01-04 02:00:00', '2010-01-04 03:00:00',\n",
       "               '2010-01-04 04:00:00', '2010-01-04 05:00:00',\n",
       "               '2010-01-04 06:00:00', '2010-01-04 07:00:00',\n",
       "               '2010-01-04 08:00:00', '2010-01-04 09:00:00',\n",
       "               '2010-01-04 10:00:00', '2010-01-04 11:00:00',\n",
       "               '2010-01-04 12:00:00', '2010-01-04 13:00:00',\n",
       "               '2010-01-04 14:00:00', '2010-01-04 15:00:00',\n",
       "               '2010-01-04 16:00:00', '2010-01-04 17:00:00',\n",
       "               '2010-01-04 18:00:00', '2010-01-04 19:00:00',\n",
       "               '2010-01-04 20:00:00', '2010-01-04 21:00:00',\n",
       "               '2010-01-04 22:00:00', '2010-01-04 23:00:00',\n",
       "               '2010-01-05 00:00:00', '2010-01-05 01:00:00',\n",
       "               '2010-01-05 02:00:00', '2010-01-05 03:00:00'],\n",
       "              dtype='datetime64[ns]', freq='H')"
      ]
     },
     "execution_count": 51,
     "metadata": {},
     "output_type": "execute_result"
    }
   ],
   "source": [
    "pd.date_range(start=\"2010-01-01\", periods=100, freq=\"H\")"
   ]
  },
  {
   "cell_type": "markdown",
   "metadata": {},
   "source": [
    "4. Create two DatetimeIndex object, both starting April 1st 2010. One index should contain hourly entries, the other one entry every ten minutes. Create 100 periods. Combine both indices. Create an index, that only contains entries, which can be found in both indices.\n",
    "\n",
    "**Solution**: Use `union` and `intersection`."
   ]
  },
  {
   "cell_type": "code",
   "execution_count": 52,
   "metadata": {},
   "outputs": [
    {
     "data": {
      "text/plain": [
       "DatetimeIndex(['2000-01-01 00:00:00', '2000-01-01 00:10:00',\n",
       "               '2000-01-01 00:20:00', '2000-01-01 00:30:00',\n",
       "               '2000-01-01 00:40:00', '2000-01-01 00:50:00',\n",
       "               '2000-01-01 01:00:00', '2000-01-01 01:10:00',\n",
       "               '2000-01-01 01:20:00', '2000-01-01 01:30:00',\n",
       "               ...\n",
       "               '2000-01-04 18:00:00', '2000-01-04 19:00:00',\n",
       "               '2000-01-04 20:00:00', '2000-01-04 21:00:00',\n",
       "               '2000-01-04 22:00:00', '2000-01-04 23:00:00',\n",
       "               '2000-01-05 00:00:00', '2000-01-05 01:00:00',\n",
       "               '2000-01-05 02:00:00', '2000-01-05 03:00:00'],\n",
       "              dtype='datetime64[ns]', length=183, freq=None)"
      ]
     },
     "execution_count": 52,
     "metadata": {},
     "output_type": "execute_result"
    }
   ],
   "source": [
    "a = pd.date_range(start=\"2000-01-01\", freq=\"1H\", periods=100)\n",
    "b = pd.date_range(start=\"2000-01-01\", freq=\"10min\", periods=100)\n",
    "\n",
    "a.union(b)"
   ]
  },
  {
   "cell_type": "code",
   "execution_count": 53,
   "metadata": {},
   "outputs": [
    {
     "data": {
      "text/plain": [
       "DatetimeIndex(['2000-01-01 00:00:00', '2000-01-01 01:00:00',\n",
       "               '2000-01-01 02:00:00', '2000-01-01 03:00:00',\n",
       "               '2000-01-01 04:00:00', '2000-01-01 05:00:00',\n",
       "               '2000-01-01 06:00:00', '2000-01-01 07:00:00',\n",
       "               '2000-01-01 08:00:00', '2000-01-01 09:00:00',\n",
       "               '2000-01-01 10:00:00', '2000-01-01 11:00:00',\n",
       "               '2000-01-01 12:00:00', '2000-01-01 13:00:00',\n",
       "               '2000-01-01 14:00:00', '2000-01-01 15:00:00',\n",
       "               '2000-01-01 16:00:00'],\n",
       "              dtype='datetime64[ns]', freq='H')"
      ]
     },
     "execution_count": 53,
     "metadata": {},
     "output_type": "execute_result"
    }
   ],
   "source": [
    "a.intersection(b)"
   ]
  },
  {
   "cell_type": "code",
   "execution_count": null,
   "metadata": {},
   "outputs": [],
   "source": []
  }
 ],
 "metadata": {
  "kernelspec": {
   "display_name": "Python (pandasplus)",
   "language": "python",
   "name": "pandasplus"
  },
  "language_info": {
   "codemirror_mode": {
    "name": "ipython",
    "version": 3
   },
   "file_extension": ".py",
   "mimetype": "text/x-python",
   "name": "python",
   "nbconvert_exporter": "python",
   "pygments_lexer": "ipython3",
   "version": "3.6.4"
  }
 },
 "nbformat": 4,
 "nbformat_minor": 2
}
