{
 "cells": [
  {
   "cell_type": "markdown",
   "id": "33ce15a7-8a3a-4122-a07a-e73648bafa15",
   "metadata": {},
   "source": [
    "One function to handle similar various data types sharing the properties that you can access individual items."
   ]
  },
  {
   "cell_type": "code",
   "execution_count": 7,
   "id": "3238f111-2c40-4e77-898f-dd693e379cdc",
   "metadata": {},
   "outputs": [],
   "source": [
    "def firstlast(seq):\n",
    "    if len(seq) < 1:\n",
    "        raise ValueError(\"sequence cannot be empty\")\n",
    "    return seq[:1] + seq[-1:]"
   ]
  },
  {
   "cell_type": "code",
   "execution_count": 8,
   "id": "9d21d22e-ff52-41ed-a00c-9c4f58df0da9",
   "metadata": {},
   "outputs": [
    {
     "data": {
      "text/plain": [
       "'hd'"
      ]
     },
     "execution_count": 8,
     "metadata": {},
     "output_type": "execute_result"
    }
   ],
   "source": [
    "firstlast(\"hello world\")"
   ]
  },
  {
   "cell_type": "code",
   "execution_count": 9,
   "id": "affa5567-0101-4077-b87d-1e608ecd6e2c",
   "metadata": {},
   "outputs": [
    {
     "data": {
      "text/plain": [
       "[1, 3]"
      ]
     },
     "execution_count": 9,
     "metadata": {},
     "output_type": "execute_result"
    }
   ],
   "source": [
    "firstlast([1, 2, 3])"
   ]
  },
  {
   "cell_type": "code",
   "execution_count": 10,
   "id": "e9e9e0e8-738a-4b8c-a506-da90243f09cc",
   "metadata": {},
   "outputs": [
    {
     "data": {
      "text/plain": [
       "(1, 3)"
      ]
     },
     "execution_count": 10,
     "metadata": {},
     "output_type": "execute_result"
    }
   ],
   "source": [
    "firstlast((1, 2, 3))"
   ]
  },
  {
   "cell_type": "code",
   "execution_count": null,
   "id": "57d55771-2071-4d65-9038-49324f78c6d6",
   "metadata": {},
   "outputs": [],
   "source": []
  }
 ],
 "metadata": {
  "kernelspec": {
   "display_name": "Python 3 (ipykernel)",
   "language": "python",
   "name": "python3"
  },
  "language_info": {
   "codemirror_mode": {
    "name": "ipython",
    "version": 3
   },
   "file_extension": ".py",
   "mimetype": "text/x-python",
   "name": "python",
   "nbconvert_exporter": "python",
   "pygments_lexer": "ipython3",
   "version": "3.10.12"
  }
 },
 "nbformat": 4,
 "nbformat_minor": 5
}
