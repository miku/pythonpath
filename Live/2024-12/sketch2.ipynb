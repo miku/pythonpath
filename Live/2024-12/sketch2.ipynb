{
 "cells": [
  {
   "cell_type": "markdown",
   "metadata": {},
   "source": [
    "### Python Intro Day 2\n",
    "\n",
    "* dict\n",
    "* more control flow\n",
    "* exception handling\n",
    "* functions\n",
    "* classes and objects\n",
    "* data model\n",
    "* stdlib highlights, e.g. collections\n",
    "\n",
    "Examples:\n",
    "\n",
    "* uv project\n",
    "* ansible module\n",
    "* pandas notebook walkthrough\n",
    "* llm interaction\n",
    "\n",
    "Extra:\n",
    "\n",
    "* type hints overview\n"
   ]
  },
  {
   "cell_type": "markdown",
   "metadata": {},
   "source": []
  }
 ],
 "metadata": {
  "language_info": {
   "name": "python"
  }
 },
 "nbformat": 4,
 "nbformat_minor": 2
}
