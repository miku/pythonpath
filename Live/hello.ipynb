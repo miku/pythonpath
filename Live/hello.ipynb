{
 "cells": [
  {
   "cell_type": "code",
   "execution_count": 5,
   "metadata": {},
   "outputs": [
    {
     "data": {
      "text/plain": [
       "4"
      ]
     },
     "execution_count": 5,
     "metadata": {},
     "output_type": "execute_result"
    }
   ],
   "source": [
    "2 + 2"
   ]
  },
  {
   "cell_type": "code",
   "execution_count": 8,
   "metadata": {},
   "outputs": [
    {
     "ename": "ModuleNotFoundError",
     "evalue": "No module named 'pandas'",
     "output_type": "error",
     "traceback": [
      "\u001b[0;31m---------------------------------------------------------------------------\u001b[0m",
      "\u001b[0;31mModuleNotFoundError\u001b[0m                       Traceback (most recent call last)",
      "Cell \u001b[0;32mIn[8], line 1\u001b[0m\n\u001b[0;32m----> 1\u001b[0m \u001b[38;5;28;01mimport\u001b[39;00m \u001b[38;5;21;01mpandas\u001b[39;00m\n",
      "\u001b[0;31mModuleNotFoundError\u001b[0m: No module named 'pandas'"
     ]
    }
   ],
   "source": [
    "import pandas"
   ]
  },
  {
   "cell_type": "code",
   "execution_count": 9,
   "metadata": {},
   "outputs": [
    {
     "name": "stdout",
     "output_type": "stream",
     "text": [
      "Mon Apr 15 09:53:24 AM CEST 2024\n"
     ]
    }
   ],
   "source": [
    "!date"
   ]
  },
  {
   "cell_type": "code",
   "execution_count": 10,
   "metadata": {},
   "outputs": [
    {
     "name": "stdout",
     "output_type": "stream",
     "text": [
      "Collecting pandas\n",
      "  Downloading pandas-2.0.3-cp38-cp38-manylinux_2_17_x86_64.manylinux2014_x86_64.whl.metadata (18 kB)\n",
      "Requirement already satisfied: python-dateutil>=2.8.2 in /home/tir/code/miku/pythonpath/.venv/lib/python3.8/site-packages (from pandas) (2.8.2)\n",
      "Requirement already satisfied: pytz>=2020.1 in /home/tir/code/miku/pythonpath/.venv/lib/python3.8/site-packages (from pandas) (2023.3.post1)\n",
      "Requirement already satisfied: tzdata>=2022.1 in /home/tir/code/miku/pythonpath/.venv/lib/python3.8/site-packages (from pandas) (2023.4)\n",
      "Requirement already satisfied: numpy>=1.20.3 in /home/tir/code/miku/pythonpath/.venv/lib/python3.8/site-packages (from pandas) (1.24.4)\n",
      "Requirement already satisfied: six>=1.5 in /home/tir/code/miku/pythonpath/.venv/lib/python3.8/site-packages (from python-dateutil>=2.8.2->pandas) (1.16.0)\n",
      "Downloading pandas-2.0.3-cp38-cp38-manylinux_2_17_x86_64.manylinux2014_x86_64.whl (12.4 MB)\n",
      "\u001b[2K   \u001b[38;2;114;156;31m━━━━━━━━━━━━━━━━━━━━━━━━━━━━━━━━━━━━━━━━\u001b[0m \u001b[32m12.4/12.4 MB\u001b[0m \u001b[31m1.8 MB/s\u001b[0m eta \u001b[36m0:00:00\u001b[0mm eta \u001b[36m0:00:01\u001b[0m[36m0:00:01\u001b[0m\n",
      "\u001b[?25hInstalling collected packages: pandas\n",
      "Successfully installed pandas-2.0.3\n"
     ]
    }
   ],
   "source": [
    "!pip install pandas"
   ]
  },
  {
   "cell_type": "code",
   "execution_count": 11,
   "metadata": {},
   "outputs": [
    {
     "name": "stdout",
     "output_type": "stream",
     "text": [
      "Found existing installation: pandas 2.0.3\n",
      "Uninstalling pandas-2.0.3:\n",
      "  Successfully uninstalled pandas-2.0.3\n"
     ]
    }
   ],
   "source": [
    "!pip uninstall --yes pandas"
   ]
  },
  {
   "cell_type": "code",
   "execution_count": 14,
   "metadata": {},
   "outputs": [
    {
     "name": "stdout",
     "output_type": "stream",
     "text": [
      "Collecting pandas==1.5\n",
      "  Downloading pandas-1.5.0-cp38-cp38-manylinux_2_17_x86_64.manylinux2014_x86_64.whl.metadata (11 kB)\n",
      "Requirement already satisfied: python-dateutil>=2.8.1 in /home/tir/code/miku/pythonpath/.venv/lib/python3.8/site-packages (from pandas==1.5) (2.8.2)\n",
      "Requirement already satisfied: pytz>=2020.1 in /home/tir/code/miku/pythonpath/.venv/lib/python3.8/site-packages (from pandas==1.5) (2023.3.post1)\n",
      "Requirement already satisfied: numpy>=1.20.3 in /home/tir/code/miku/pythonpath/.venv/lib/python3.8/site-packages (from pandas==1.5) (1.24.4)\n",
      "Requirement already satisfied: six>=1.5 in /home/tir/code/miku/pythonpath/.venv/lib/python3.8/site-packages (from python-dateutil>=2.8.1->pandas==1.5) (1.16.0)\n",
      "Downloading pandas-1.5.0-cp38-cp38-manylinux_2_17_x86_64.manylinux2014_x86_64.whl (12.2 MB)\n",
      "\u001b[2K   \u001b[38;2;114;156;31m━━━━━━━━━━━━━━━━━━━━━━━━━━━━━━━━━━━━━━━━\u001b[0m \u001b[32m12.2/12.2 MB\u001b[0m \u001b[31m2.0 MB/s\u001b[0m eta \u001b[36m0:00:00\u001b[0mm eta \u001b[36m0:00:01\u001b[0m[36m0:00:01\u001b[0m\n",
      "\u001b[?25hInstalling collected packages: pandas\n",
      "Successfully installed pandas-1.5.0\n"
     ]
    }
   ],
   "source": [
    "!pip install pandas==1.5"
   ]
  },
  {
   "cell_type": "code",
   "execution_count": 15,
   "metadata": {},
   "outputs": [
    {
     "name": "stdout",
     "output_type": "stream",
     "text": [
      "Requirement already satisfied: pandas in /home/tir/code/miku/pythonpath/.venv/lib/python3.8/site-packages (1.5.0)\n",
      "Requirement already satisfied: python-dateutil>=2.8.1 in /home/tir/code/miku/pythonpath/.venv/lib/python3.8/site-packages (from pandas) (2.8.2)\n",
      "Requirement already satisfied: pytz>=2020.1 in /home/tir/code/miku/pythonpath/.venv/lib/python3.8/site-packages (from pandas) (2023.3.post1)\n",
      "Requirement already satisfied: numpy>=1.20.3 in /home/tir/code/miku/pythonpath/.venv/lib/python3.8/site-packages (from pandas) (1.24.4)\n",
      "Requirement already satisfied: six>=1.5 in /home/tir/code/miku/pythonpath/.venv/lib/python3.8/site-packages (from python-dateutil>=2.8.1->pandas) (1.16.0)\n"
     ]
    }
   ],
   "source": [
    "!pip install pandas"
   ]
  },
  {
   "cell_type": "code",
   "execution_count": 16,
   "metadata": {},
   "outputs": [
    {
     "name": "stdout",
     "output_type": "stream",
     "text": [
      "Requirement already satisfied: pandas in /home/tir/code/miku/pythonpath/.venv/lib/python3.8/site-packages (1.5.0)\n",
      "Collecting pandas\n",
      "  Using cached pandas-2.0.3-cp38-cp38-manylinux_2_17_x86_64.manylinux2014_x86_64.whl.metadata (18 kB)\n",
      "Requirement already satisfied: python-dateutil>=2.8.2 in /home/tir/code/miku/pythonpath/.venv/lib/python3.8/site-packages (from pandas) (2.8.2)\n",
      "Requirement already satisfied: pytz>=2020.1 in /home/tir/code/miku/pythonpath/.venv/lib/python3.8/site-packages (from pandas) (2023.3.post1)\n",
      "Requirement already satisfied: tzdata>=2022.1 in /home/tir/code/miku/pythonpath/.venv/lib/python3.8/site-packages (from pandas) (2023.4)\n",
      "Requirement already satisfied: numpy>=1.20.3 in /home/tir/code/miku/pythonpath/.venv/lib/python3.8/site-packages (from pandas) (1.24.4)\n",
      "Requirement already satisfied: six>=1.5 in /home/tir/code/miku/pythonpath/.venv/lib/python3.8/site-packages (from python-dateutil>=2.8.2->pandas) (1.16.0)\n",
      "Using cached pandas-2.0.3-cp38-cp38-manylinux_2_17_x86_64.manylinux2014_x86_64.whl (12.4 MB)\n",
      "Installing collected packages: pandas\n",
      "  Attempting uninstall: pandas\n",
      "    Found existing installation: pandas 1.5.0\n",
      "    Uninstalling pandas-1.5.0:\n",
      "      Successfully uninstalled pandas-1.5.0\n",
      "Successfully installed pandas-2.0.3\n"
     ]
    }
   ],
   "source": [
    "!pip install --upgrade pandas"
   ]
  },
  {
   "cell_type": "code",
   "execution_count": 17,
   "metadata": {},
   "outputs": [
    {
     "name": "stdout",
     "output_type": "stream",
     "text": [
      "2 + 2\n",
      "213³\n",
      "2 + 2\n",
      "2 + 2\n",
      "2 + 2\n",
      "!pip uninstall pandas\n",
      "import pandas\n",
      "import pandas\n",
      "!date\n",
      "!pip install pandas\n",
      "!pip uninstall --yes pandas\n",
      "import pandas\n",
      "!pip install pandas==1.5.4\n",
      "!pip install pandas==1.5\n",
      "!pip install pandas\n",
      "!pip install --upgrade pandas\n",
      "%history\n"
     ]
    }
   ],
   "source": [
    "%history"
   ]
  },
  {
   "cell_type": "code",
   "execution_count": 18,
   "metadata": {},
   "outputs": [
    {
     "name": "stdout",
     "output_type": "stream",
     "text": [
      "CPU times: user 7 µs, sys: 0 ns, total: 7 µs\n",
      "Wall time: 13.1 µs\n"
     ]
    },
    {
     "data": {
      "text/plain": [
       "4"
      ]
     },
     "execution_count": 18,
     "metadata": {},
     "output_type": "execute_result"
    }
   ],
   "source": [
    "%time 2 + 2"
   ]
  },
  {
   "cell_type": "code",
   "execution_count": 19,
   "metadata": {},
   "outputs": [
    {
     "name": "stdout",
     "output_type": "stream",
     "text": [
      "7.53 ns ± 0.256 ns per loop (mean ± std. dev. of 7 runs, 100,000,000 loops each)\n"
     ]
    }
   ],
   "source": [
    "%timeit 2 + 2"
   ]
  },
  {
   "cell_type": "code",
   "execution_count": 20,
   "metadata": {},
   "outputs": [
    {
     "name": "stdout",
     "output_type": "stream",
     "text": [
      "7.59 ns ± 0.405 ns per loop (mean ± std. dev. of 7 runs, 100,000,000 loops each)\n"
     ]
    }
   ],
   "source": [
    "%timeit 9 / 2"
   ]
  },
  {
   "cell_type": "code",
   "execution_count": 21,
   "metadata": {},
   "outputs": [
    {
     "name": "stdout",
     "output_type": "stream",
     "text": [
      "7.33 ns ± 0.196 ns per loop (mean ± std. dev. of 7 runs, 100,000,000 loops each)\n"
     ]
    }
   ],
   "source": [
    "%timeit 9 ** 5 / (3 * 2) + 1"
   ]
  },
  {
   "cell_type": "code",
   "execution_count": 28,
   "metadata": {},
   "outputs": [],
   "source": [
    "month = 0"
   ]
  },
  {
   "cell_type": "code",
   "execution_count": 29,
   "metadata": {},
   "outputs": [
    {
     "data": {
      "text/plain": [
       "int"
      ]
     },
     "execution_count": 29,
     "metadata": {},
     "output_type": "execute_result"
    }
   ],
   "source": [
    "type(month)"
   ]
  },
  {
   "cell_type": "code",
   "execution_count": 30,
   "metadata": {},
   "outputs": [],
   "source": [
    "month = 4"
   ]
  },
  {
   "cell_type": "code",
   "execution_count": 31,
   "metadata": {},
   "outputs": [],
   "source": [
    "month = \"april\""
   ]
  },
  {
   "cell_type": "code",
   "execution_count": 34,
   "metadata": {},
   "outputs": [],
   "source": [
    "def f():\n",
    "    x = 1"
   ]
  },
  {
   "cell_type": "code",
   "execution_count": 35,
   "metadata": {},
   "outputs": [
    {
     "ename": "NameError",
     "evalue": "name 'x' is not defined",
     "output_type": "error",
     "traceback": [
      "\u001b[0;31m---------------------------------------------------------------------------\u001b[0m",
      "\u001b[0;31mNameError\u001b[0m                                 Traceback (most recent call last)",
      "Cell \u001b[0;32mIn[35], line 1\u001b[0m\n\u001b[0;32m----> 1\u001b[0m \u001b[43mx\u001b[49m\n",
      "\u001b[0;31mNameError\u001b[0m: name 'x' is not defined"
     ]
    }
   ],
   "source": [
    "x"
   ]
  },
  {
   "cell_type": "code",
   "execution_count": 36,
   "metadata": {},
   "outputs": [],
   "source": [
    "import sys"
   ]
  },
  {
   "cell_type": "code",
   "execution_count": 37,
   "metadata": {},
   "outputs": [
    {
     "data": {
      "text/plain": [
       "module"
      ]
     },
     "execution_count": 37,
     "metadata": {},
     "output_type": "execute_result"
    }
   ],
   "source": [
    "type(sys)"
   ]
  },
  {
   "cell_type": "code",
   "execution_count": 38,
   "metadata": {},
   "outputs": [
    {
     "data": {
      "text/plain": [
       "'3.8.10 (default, Jul 19 2023, 22:20:26) \\n[GCC 11.3.0]'"
      ]
     },
     "execution_count": 38,
     "metadata": {},
     "output_type": "execute_result"
    }
   ],
   "source": [
    "sys.version"
   ]
  },
  {
   "cell_type": "code",
   "execution_count": 39,
   "metadata": {},
   "outputs": [],
   "source": [
    "import pandas"
   ]
  },
  {
   "cell_type": "code",
   "execution_count": 40,
   "metadata": {},
   "outputs": [
    {
     "ename": "AttributeError",
     "evalue": "module 'pandas' has no attribute 'version'",
     "output_type": "error",
     "traceback": [
      "\u001b[0;31m---------------------------------------------------------------------------\u001b[0m",
      "\u001b[0;31mAttributeError\u001b[0m                            Traceback (most recent call last)",
      "Cell \u001b[0;32mIn[40], line 1\u001b[0m\n\u001b[0;32m----> 1\u001b[0m \u001b[43mpandas\u001b[49m\u001b[38;5;241;43m.\u001b[39;49m\u001b[43mversion\u001b[49m\n",
      "\u001b[0;31mAttributeError\u001b[0m: module 'pandas' has no attribute 'version'"
     ]
    }
   ],
   "source": [
    "pandas.version"
   ]
  },
  {
   "cell_type": "code",
   "execution_count": 41,
   "metadata": {},
   "outputs": [
    {
     "data": {
      "text/plain": [
       "'2.0.3'"
      ]
     },
     "execution_count": 41,
     "metadata": {},
     "output_type": "execute_result"
    }
   ],
   "source": [
    "pandas.__version__"
   ]
  },
  {
   "cell_type": "code",
   "execution_count": 42,
   "metadata": {},
   "outputs": [
    {
     "data": {
      "text/plain": [
       "module"
      ]
     },
     "execution_count": 42,
     "metadata": {},
     "output_type": "execute_result"
    }
   ],
   "source": [
    "type(sys)"
   ]
  },
  {
   "cell_type": "code",
   "execution_count": 43,
   "metadata": {},
   "outputs": [],
   "source": [
    "from sys import version"
   ]
  },
  {
   "cell_type": "code",
   "execution_count": 44,
   "metadata": {},
   "outputs": [
    {
     "data": {
      "text/plain": [
       "'3.8.10 (default, Jul 19 2023, 22:20:26) \\n[GCC 11.3.0]'"
      ]
     },
     "execution_count": 44,
     "metadata": {},
     "output_type": "execute_result"
    }
   ],
   "source": [
    "version"
   ]
  },
  {
   "cell_type": "code",
   "execution_count": 45,
   "metadata": {},
   "outputs": [
    {
     "ename": "ModuleNotFoundError",
     "evalue": "No module named 'fantasy_module'",
     "output_type": "error",
     "traceback": [
      "\u001b[0;31m---------------------------------------------------------------------------\u001b[0m",
      "\u001b[0;31mModuleNotFoundError\u001b[0m                       Traceback (most recent call last)",
      "Cell \u001b[0;32mIn[45], line 1\u001b[0m\n\u001b[0;32m----> 1\u001b[0m \u001b[38;5;28;01mimport\u001b[39;00m \u001b[38;5;21;01mfantasy_module\u001b[39;00m\n",
      "\u001b[0;31mModuleNotFoundError\u001b[0m: No module named 'fantasy_module'"
     ]
    }
   ],
   "source": [
    "import fantasy_module"
   ]
  },
  {
   "cell_type": "code",
   "execution_count": 46,
   "metadata": {},
   "outputs": [
    {
     "data": {
      "text/plain": [
       "['/home/tir/code/miku/pythonpath/Live',\n",
       " '/home/tir/.pyenv/versions/3.8.10/lib/python38.zip',\n",
       " '/home/tir/.pyenv/versions/3.8.10/lib/python3.8',\n",
       " '/home/tir/.pyenv/versions/3.8.10/lib/python3.8/lib-dynload',\n",
       " '',\n",
       " '/home/tir/code/miku/pythonpath/.venv/lib/python3.8/site-packages']"
      ]
     },
     "execution_count": 46,
     "metadata": {},
     "output_type": "execute_result"
    }
   ],
   "source": [
    "sys.path"
   ]
  },
  {
   "cell_type": "markdown",
   "metadata": {},
   "source": [
    "## Basic Syntax\n",
    "\n",
    "* basic language element"
   ]
  },
  {
   "cell_type": "code",
   "execution_count": 48,
   "metadata": {},
   "outputs": [
    {
     "data": {
      "text/plain": [
       "2"
      ]
     },
     "execution_count": 48,
     "metadata": {},
     "output_type": "execute_result"
    }
   ],
   "source": [
    "1 + 1"
   ]
  },
  {
   "cell_type": "code",
   "execution_count": 51,
   "metadata": {},
   "outputs": [
    {
     "data": {
      "text/plain": [
       "5"
      ]
     },
     "execution_count": 51,
     "metadata": {},
     "output_type": "execute_result"
    }
   ],
   "source": [
    "1 + 1 + 3"
   ]
  },
  {
   "cell_type": "code",
   "execution_count": 52,
   "metadata": {},
   "outputs": [],
   "source": [
    "# comment"
   ]
  },
  {
   "cell_type": "code",
   "execution_count": 55,
   "metadata": {},
   "outputs": [
    {
     "name": "stdout",
     "output_type": "stream",
     "text": [
      "Help on built-in module sys:\n",
      "\n",
      "NAME\n",
      "    sys\n",
      "\n",
      "MODULE REFERENCE\n",
      "    https://docs.python.org/3.8/library/sys\n",
      "    \n",
      "    The following documentation is automatically generated from the Python\n",
      "    source files.  It may be incomplete, incorrect or include features that\n",
      "    are considered implementation detail and may vary between Python\n",
      "    implementations.  When in doubt, consult the module reference at the\n",
      "    location listed above.\n",
      "\n",
      "DESCRIPTION\n",
      "    This module provides access to some objects used or maintained by the\n",
      "    interpreter and to functions that interact strongly with the interpreter.\n",
      "    \n",
      "    Dynamic objects:\n",
      "    \n",
      "    argv -- command line arguments; argv[0] is the script pathname if known\n",
      "    path -- module search path; path[0] is the script directory, else ''\n",
      "    modules -- dictionary of loaded modules\n",
      "    \n",
      "    displayhook -- called to show results in an interactive session\n",
      "    excepthook -- called to handle any uncaught exception other than SystemExit\n",
      "      To customize printing in an interactive session or to install a custom\n",
      "      top-level exception handler, assign other functions to replace these.\n",
      "    \n",
      "    stdin -- standard input file object; used by input()\n",
      "    stdout -- standard output file object; used by print()\n",
      "    stderr -- standard error object; used for error messages\n",
      "      By assigning other file objects (or objects that behave like files)\n",
      "      to these, it is possible to redirect all of the interpreter's I/O.\n",
      "    \n",
      "    last_type -- type of last uncaught exception\n",
      "    last_value -- value of last uncaught exception\n",
      "    last_traceback -- traceback of last uncaught exception\n",
      "      These three are only available in an interactive session after a\n",
      "      traceback has been printed.\n",
      "    \n",
      "    Static objects:\n",
      "    \n",
      "    builtin_module_names -- tuple of module names built into this interpreter\n",
      "    copyright -- copyright notice pertaining to this interpreter\n",
      "    exec_prefix -- prefix used to find the machine-specific Python library\n",
      "    executable -- absolute path of the executable binary of the Python interpreter\n",
      "    float_info -- a named tuple with information about the float implementation.\n",
      "    float_repr_style -- string indicating the style of repr() output for floats\n",
      "    hash_info -- a named tuple with information about the hash algorithm.\n",
      "    hexversion -- version information encoded as a single integer\n",
      "    implementation -- Python implementation information.\n",
      "    int_info -- a named tuple with information about the int implementation.\n",
      "    maxsize -- the largest supported length of containers.\n",
      "    maxunicode -- the value of the largest Unicode code point\n",
      "    platform -- platform identifier\n",
      "    prefix -- prefix used to find the Python library\n",
      "    thread_info -- a named tuple with information about the thread implementation.\n",
      "    version -- the version of this interpreter as a string\n",
      "    version_info -- version information as a named tuple\n",
      "    __stdin__ -- the original stdin; don't touch!\n",
      "    __stdout__ -- the original stdout; don't touch!\n",
      "    __stderr__ -- the original stderr; don't touch!\n",
      "    __displayhook__ -- the original displayhook; don't touch!\n",
      "    __excepthook__ -- the original excepthook; don't touch!\n",
      "    \n",
      "    Functions:\n",
      "    \n",
      "    displayhook() -- print an object to the screen, and save it in builtins._\n",
      "    excepthook() -- print an exception and its traceback to sys.stderr\n",
      "    exc_info() -- return thread-safe information about the current exception\n",
      "    exit() -- exit the interpreter by raising SystemExit\n",
      "    getdlopenflags() -- returns flags to be used for dlopen() calls\n",
      "    getprofile() -- get the global profiling function\n",
      "    getrefcount() -- return the reference count for an object (plus one :-)\n",
      "    getrecursionlimit() -- return the max recursion depth for the interpreter\n",
      "    getsizeof() -- return the size of an object in bytes\n",
      "    gettrace() -- get the global debug tracing function\n",
      "    setcheckinterval() -- control how often the interpreter checks for events\n",
      "    setdlopenflags() -- set the flags to be used for dlopen() calls\n",
      "    setprofile() -- set the global profiling function\n",
      "    setrecursionlimit() -- set the max recursion depth for the interpreter\n",
      "    settrace() -- set the global debug tracing function\n",
      "\n",
      "FUNCTIONS\n",
      "    __breakpointhook__ = breakpointhook(...)\n",
      "        breakpointhook(*args, **kws)\n",
      "        \n",
      "        This hook function is called by built-in breakpoint().\n",
      "    \n",
      "    __displayhook__ = displayhook(object, /)\n",
      "        Print an object to sys.stdout and also save it in builtins._\n",
      "    \n",
      "    __excepthook__ = excepthook(exctype, value, traceback, /)\n",
      "        Handle an exception by displaying it with a traceback on sys.stderr.\n",
      "    \n",
      "    __unraisablehook__ = unraisablehook(unraisable, /)\n",
      "        Handle an unraisable exception.\n",
      "        \n",
      "        The unraisable argument has the following attributes:\n",
      "        \n",
      "        * exc_type: Exception type.\n",
      "        * exc_value: Exception value, can be None.\n",
      "        * exc_traceback: Exception traceback, can be None.\n",
      "        * err_msg: Error message, can be None.\n",
      "        * object: Object causing the exception, can be None.\n",
      "    \n",
      "    addaudithook(hook)\n",
      "        Adds a new audit hook callback.\n",
      "    \n",
      "    audit(...)\n",
      "        audit(event, *args)\n",
      "        \n",
      "        Passes the event to any audit hooks that are attached.\n",
      "    \n",
      "    call_tracing(func, args, /)\n",
      "        Call func(*args), while tracing is enabled.\n",
      "        \n",
      "        The tracing state is saved, and restored afterwards.  This is intended\n",
      "        to be called from a debugger from a checkpoint, to recursively debug\n",
      "        some other code.\n",
      "    \n",
      "    callstats()\n",
      "        Return a tuple of function call statistics.\n",
      "        \n",
      "        A tuple is returned only if CALL_PROFILE was defined when Python was\n",
      "        built.  Otherwise, this returns None.\n",
      "        \n",
      "        When enabled, this function returns detailed, implementation-specific\n",
      "        details about the number of function calls executed. The return value\n",
      "        is a 11-tuple where the entries in the tuple are counts of:\n",
      "        0. all function calls\n",
      "        1. calls to PyFunction_Type objects\n",
      "        2. PyFunction calls that do not create an argument tuple\n",
      "        3. PyFunction calls that do not create an argument tuple\n",
      "           and bypass PyEval_EvalCodeEx()\n",
      "        4. PyMethod calls\n",
      "        5. PyMethod calls on bound methods\n",
      "        6. PyType calls\n",
      "        7. PyCFunction calls\n",
      "        8. generator calls\n",
      "        9. All other calls\n",
      "        10. Number of stack pops performed by call_function()\n",
      "    \n",
      "    exc_info()\n",
      "        Return current exception information: (type, value, traceback).\n",
      "        \n",
      "        Return information about the most recent exception caught by an except\n",
      "        clause in the current stack frame or in an older stack frame.\n",
      "    \n",
      "    exit(status=None, /)\n",
      "        Exit the interpreter by raising SystemExit(status).\n",
      "        \n",
      "        If the status is omitted or None, it defaults to zero (i.e., success).\n",
      "        If the status is an integer, it will be used as the system exit status.\n",
      "        If it is another kind of object, it will be printed and the system\n",
      "        exit status will be one (i.e., failure).\n",
      "    \n",
      "    get_asyncgen_hooks()\n",
      "        Return the installed asynchronous generators hooks.\n",
      "        \n",
      "        This returns a namedtuple of the form (firstiter, finalizer).\n",
      "    \n",
      "    get_coroutine_origin_tracking_depth()\n",
      "        Check status of origin tracking for coroutine objects in this thread.\n",
      "    \n",
      "    getallocatedblocks()\n",
      "        Return the number of memory blocks currently allocated.\n",
      "    \n",
      "    getcheckinterval()\n",
      "        Return the current check interval; see sys.setcheckinterval().\n",
      "    \n",
      "    getdefaultencoding()\n",
      "        Return the current default encoding used by the Unicode implementation.\n",
      "    \n",
      "    getdlopenflags()\n",
      "        Return the current value of the flags that are used for dlopen calls.\n",
      "        \n",
      "        The flag constants are defined in the os module.\n",
      "    \n",
      "    getfilesystemencodeerrors()\n",
      "        Return the error mode used Unicode to OS filename conversion.\n",
      "    \n",
      "    getfilesystemencoding()\n",
      "        Return the encoding used to convert Unicode filenames to OS filenames.\n",
      "    \n",
      "    getprofile()\n",
      "        Return the profiling function set with sys.setprofile.\n",
      "        \n",
      "        See the profiler chapter in the library manual.\n",
      "    \n",
      "    getrecursionlimit()\n",
      "        Return the current value of the recursion limit.\n",
      "        \n",
      "        The recursion limit is the maximum depth of the Python interpreter\n",
      "        stack.  This limit prevents infinite recursion from causing an overflow\n",
      "        of the C stack and crashing Python.\n",
      "    \n",
      "    getrefcount(object, /)\n",
      "        Return the reference count of object.\n",
      "        \n",
      "        The count returned is generally one higher than you might expect,\n",
      "        because it includes the (temporary) reference as an argument to\n",
      "        getrefcount().\n",
      "    \n",
      "    getsizeof(...)\n",
      "        getsizeof(object [, default]) -> int\n",
      "        \n",
      "        Return the size of object in bytes.\n",
      "    \n",
      "    getswitchinterval()\n",
      "        Return the current thread switch interval; see sys.setswitchinterval().\n",
      "    \n",
      "    gettrace()\n",
      "        Return the global debug tracing function set with sys.settrace.\n",
      "        \n",
      "        See the debugger chapter in the library manual.\n",
      "    \n",
      "    intern(string, /)\n",
      "        ``Intern'' the given string.\n",
      "        \n",
      "        This enters the string in the (global) table of interned strings whose\n",
      "        purpose is to speed up dictionary lookups. Return the string itself or\n",
      "        the previously interned string object with the same value.\n",
      "    \n",
      "    is_finalizing()\n",
      "        Return True if Python is exiting.\n",
      "    \n",
      "    set_asyncgen_hooks(...)\n",
      "        set_asyncgen_hooks(* [, firstiter] [, finalizer])\n",
      "        \n",
      "        Set a finalizer for async generators objects.\n",
      "    \n",
      "    set_coroutine_origin_tracking_depth(depth)\n",
      "        Enable or disable origin tracking for coroutine objects in this thread.\n",
      "        \n",
      "        Coroutine objects will track 'depth' frames of traceback information\n",
      "        about where they came from, available in their cr_origin attribute.\n",
      "        \n",
      "        Set a depth of 0 to disable.\n",
      "    \n",
      "    setcheckinterval(n, /)\n",
      "        Set the async event check interval to n instructions.\n",
      "        \n",
      "        This tells the Python interpreter to check for asynchronous events\n",
      "        every n instructions.\n",
      "        \n",
      "        This also affects how often thread switches occur.\n",
      "    \n",
      "    setdlopenflags(flags, /)\n",
      "        Set the flags used by the interpreter for dlopen calls.\n",
      "        \n",
      "        This is used, for example, when the interpreter loads extension\n",
      "        modules. Among other things, this will enable a lazy resolving of\n",
      "        symbols when importing a module, if called as sys.setdlopenflags(0).\n",
      "        To share symbols across extension modules, call as\n",
      "        sys.setdlopenflags(os.RTLD_GLOBAL).  Symbolic names for the flag\n",
      "        modules can be found in the os module (RTLD_xxx constants, e.g.\n",
      "        os.RTLD_LAZY).\n",
      "    \n",
      "    setprofile(...)\n",
      "        setprofile(function)\n",
      "        \n",
      "        Set the profiling function.  It will be called on each function call\n",
      "        and return.  See the profiler chapter in the library manual.\n",
      "    \n",
      "    setrecursionlimit(limit, /)\n",
      "        Set the maximum depth of the Python interpreter stack to n.\n",
      "        \n",
      "        This limit prevents infinite recursion from causing an overflow of the C\n",
      "        stack and crashing Python.  The highest possible limit is platform-\n",
      "        dependent.\n",
      "    \n",
      "    setswitchinterval(interval, /)\n",
      "        Set the ideal thread switching delay inside the Python interpreter.\n",
      "        \n",
      "        The actual frequency of switching threads can be lower if the\n",
      "        interpreter executes long sequences of uninterruptible code\n",
      "        (this is implementation-specific and workload-dependent).\n",
      "        \n",
      "        The parameter must represent the desired switching delay in seconds\n",
      "        A typical value is 0.005 (5 milliseconds).\n",
      "    \n",
      "    settrace(...)\n",
      "        settrace(function)\n",
      "        \n",
      "        Set the global debug tracing function.  It will be called on each\n",
      "        function call.  See the debugger chapter in the library manual.\n",
      "    \n",
      "    unraisablehook(unraisable, /)\n",
      "        Handle an unraisable exception.\n",
      "        \n",
      "        The unraisable argument has the following attributes:\n",
      "        \n",
      "        * exc_type: Exception type.\n",
      "        * exc_value: Exception value, can be None.\n",
      "        * exc_traceback: Exception traceback, can be None.\n",
      "        * err_msg: Error message, can be None.\n",
      "        * object: Object causing the exception, can be None.\n",
      "\n",
      "DATA\n",
      "    __stderr__ = <_io.TextIOWrapper name='<stderr>' mode='w' encoding='utf...\n",
      "    __stdin__ = <_io.TextIOWrapper name='<stdin>' mode='r' encoding='utf-8...\n",
      "    __stdout__ = <_io.TextIOWrapper name='<stdout>' mode='w' encoding='utf...\n",
      "    abiflags = ''\n",
      "    api_version = 1013\n",
      "    argv = ['/home/tir/code/miku/pythonpath/.venv/lib/python3.8/site-packa...\n",
      "    base_exec_prefix = '/home/tir/.pyenv/versions/3.8.10'\n",
      "    base_prefix = '/home/tir/.pyenv/versions/3.8.10'\n",
      "    builtin_module_names = ('_abc', '_ast', '_codecs', '_collections', '_f...\n",
      "    byteorder = 'little'\n",
      "    copyright = 'Copyright (c) 2001-2021 Python Software Foundati...ematis...\n",
      "    displayhook = <ipykernel.displayhook.ZMQShellDisplayHook object>\n",
      "    dont_write_bytecode = False\n",
      "    exec_prefix = '/home/tir/code/miku/pythonpath/.venv'\n",
      "    executable = '/home/tir/code/miku/pythonpath/.venv/bin/python'\n",
      "    flags = sys.flags(debug=0, inspect=0, interactive=0, opt...ation=1, is...\n",
      "    float_info = sys.float_info(max=1.7976931348623157e+308, max_...epsilo...\n",
      "    float_repr_style = 'short'\n",
      "    hash_info = sys.hash_info(width=64, modulus=2305843009213693...iphash2...\n",
      "    hexversion = 50858736\n",
      "    implementation = namespace(_multiarch='x86_64-linux-gnu', cache_t...no...\n",
      "    int_info = sys.int_info(bits_per_digit=30, sizeof_digit=4)\n",
      "    last_value = ModuleNotFoundError(\"No module named 'fantasy_module'\")\n",
      "    maxsize = 9223372036854775807\n",
      "    maxunicode = 1114111\n",
      "    meta_path = [<class '_frozen_importlib.BuiltinImporter'>, <class '_fro...\n",
      "    modules = {'IPython': <module 'IPython' from '/home/tir/code/miku/pyth...\n",
      "    path = ['/home/tir/code/miku/pythonpath/Live', '/home/tir/.pyenv/versi...\n",
      "    path_hooks = [<class 'zipimport.zipimporter'>, <function FileFinder.pa...\n",
      "    path_importer_cache = {'/home/tir/.pyenv/versions/3.8.10/lib/python3.8...\n",
      "    platform = 'linux'\n",
      "    prefix = '/home/tir/code/miku/pythonpath/.venv'\n",
      "    ps1 = 'In : '\n",
      "    ps2 = '...: '\n",
      "    ps3 = 'Out: '\n",
      "    pycache_prefix = None\n",
      "    stderr = <ipykernel.iostream.OutStream object>\n",
      "    stdin = <_io.TextIOWrapper name='<stdin>' mode='r' encoding='utf-8'>\n",
      "    stdout = <ipykernel.iostream.OutStream object>\n",
      "    thread_info = sys.thread_info(name='pthread', lock='semaphore', versio...\n",
      "    version = '3.8.10 (default, Jul 19 2023, 22:20:26) \\n[GCC 11.3.0]'\n",
      "    version_info = sys.version_info(major=3, minor=8, micro=10, releaselev...\n",
      "    warnoptions = []\n",
      "\n",
      "FILE\n",
      "    (built-in)\n",
      "\n",
      "\n"
     ]
    }
   ],
   "source": [
    "help(sys)"
   ]
  },
  {
   "cell_type": "code",
   "execution_count": 56,
   "metadata": {},
   "outputs": [
    {
     "name": "stdout",
     "output_type": "stream",
     "text": [
      "\n",
      "Here is a list of available topics.  Enter any topic name to get more help.\n",
      "\n",
      "ASSERTION           DELETION            LOOPING             SHIFTING\n",
      "ASSIGNMENT          DICTIONARIES        MAPPINGMETHODS      SLICINGS\n",
      "ATTRIBUTEMETHODS    DICTIONARYLITERALS  MAPPINGS            SPECIALATTRIBUTES\n",
      "ATTRIBUTES          DYNAMICFEATURES     METHODS             SPECIALIDENTIFIERS\n",
      "AUGMENTEDASSIGNMENT ELLIPSIS            MODULES             SPECIALMETHODS\n",
      "BASICMETHODS        EXCEPTIONS          NAMESPACES          STRINGMETHODS\n",
      "BINARY              EXECUTION           NONE                STRINGS\n",
      "BITWISE             EXPRESSIONS         NUMBERMETHODS       SUBSCRIPTS\n",
      "BOOLEAN             FLOAT               NUMBERS             TRACEBACKS\n",
      "CALLABLEMETHODS     FORMATTING          OBJECTS             TRUTHVALUE\n",
      "CALLS               FRAMEOBJECTS        OPERATORS           TUPLELITERALS\n",
      "CLASSES             FRAMES              PACKAGES            TUPLES\n",
      "CODEOBJECTS         FUNCTIONS           POWER               TYPEOBJECTS\n",
      "COMPARISON          IDENTIFIERS         PRECEDENCE          TYPES\n",
      "COMPLEX             IMPORTING           PRIVATENAMES        UNARY\n",
      "CONDITIONAL         INTEGER             RETURNING           UNICODE\n",
      "CONTEXTMANAGERS     LISTLITERALS        SCOPING             \n",
      "CONVERSIONS         LISTS               SEQUENCEMETHODS     \n",
      "DEBUGGING           LITERALS            SEQUENCES           \n",
      "\n"
     ]
    }
   ],
   "source": [
    "help(\"topics\")"
   ]
  },
  {
   "cell_type": "code",
   "execution_count": 58,
   "metadata": {},
   "outputs": [
    {
     "name": "stdout",
     "output_type": "stream",
     "text": [
      "Naming and binding\n",
      "******************\n",
      "\n",
      "\n",
      "Binding of names\n",
      "================\n",
      "\n",
      "*Names* refer to objects.  Names are introduced by name binding\n",
      "operations.\n",
      "\n",
      "The following constructs bind names: formal parameters to functions,\n",
      "\"import\" statements, class and function definitions (these bind the\n",
      "class or function name in the defining block), and targets that are\n",
      "identifiers if occurring in an assignment, \"for\" loop header, or after\n",
      "\"as\" in a \"with\" statement or \"except\" clause. The \"import\" statement\n",
      "of the form \"from ... import *\" binds all names defined in the\n",
      "imported module, except those beginning with an underscore.  This form\n",
      "may only be used at the module level.\n",
      "\n",
      "A target occurring in a \"del\" statement is also considered bound for\n",
      "this purpose (though the actual semantics are to unbind the name).\n",
      "\n",
      "Each assignment or import statement occurs within a block defined by a\n",
      "class or function definition or at the module level (the top-level\n",
      "code block).\n",
      "\n",
      "If a name is bound in a block, it is a local variable of that block,\n",
      "unless declared as \"nonlocal\" or \"global\".  If a name is bound at the\n",
      "module level, it is a global variable.  (The variables of the module\n",
      "code block are local and global.)  If a variable is used in a code\n",
      "block but not defined there, it is a *free variable*.\n",
      "\n",
      "Each occurrence of a name in the program text refers to the *binding*\n",
      "of that name established by the following name resolution rules.\n",
      "\n",
      "\n",
      "Resolution of names\n",
      "===================\n",
      "\n",
      "A *scope* defines the visibility of a name within a block.  If a local\n",
      "variable is defined in a block, its scope includes that block.  If the\n",
      "definition occurs in a function block, the scope extends to any blocks\n",
      "contained within the defining one, unless a contained block introduces\n",
      "a different binding for the name.\n",
      "\n",
      "When a name is used in a code block, it is resolved using the nearest\n",
      "enclosing scope.  The set of all such scopes visible to a code block\n",
      "is called the block’s *environment*.\n",
      "\n",
      "When a name is not found at all, a \"NameError\" exception is raised. If\n",
      "the current scope is a function scope, and the name refers to a local\n",
      "variable that has not yet been bound to a value at the point where the\n",
      "name is used, an \"UnboundLocalError\" exception is raised.\n",
      "\"UnboundLocalError\" is a subclass of \"NameError\".\n",
      "\n",
      "If a name binding operation occurs anywhere within a code block, all\n",
      "uses of the name within the block are treated as references to the\n",
      "current block.  This can lead to errors when a name is used within a\n",
      "block before it is bound.  This rule is subtle.  Python lacks\n",
      "declarations and allows name binding operations to occur anywhere\n",
      "within a code block.  The local variables of a code block can be\n",
      "determined by scanning the entire text of the block for name binding\n",
      "operations.\n",
      "\n",
      "If the \"global\" statement occurs within a block, all uses of the name\n",
      "specified in the statement refer to the binding of that name in the\n",
      "top-level namespace.  Names are resolved in the top-level namespace by\n",
      "searching the global namespace, i.e. the namespace of the module\n",
      "containing the code block, and the builtins namespace, the namespace\n",
      "of the module \"builtins\".  The global namespace is searched first.  If\n",
      "the name is not found there, the builtins namespace is searched.  The\n",
      "\"global\" statement must precede all uses of the name.\n",
      "\n",
      "The \"global\" statement has the same scope as a name binding operation\n",
      "in the same block.  If the nearest enclosing scope for a free variable\n",
      "contains a global statement, the free variable is treated as a global.\n",
      "\n",
      "The \"nonlocal\" statement causes corresponding names to refer to\n",
      "previously bound variables in the nearest enclosing function scope.\n",
      "\"SyntaxError\" is raised at compile time if the given name does not\n",
      "exist in any enclosing function scope.\n",
      "\n",
      "The namespace for a module is automatically created the first time a\n",
      "module is imported.  The main module for a script is always called\n",
      "\"__main__\".\n",
      "\n",
      "Class definition blocks and arguments to \"exec()\" and \"eval()\" are\n",
      "special in the context of name resolution. A class definition is an\n",
      "executable statement that may use and define names. These references\n",
      "follow the normal rules for name resolution with an exception that\n",
      "unbound local variables are looked up in the global namespace. The\n",
      "namespace of the class definition becomes the attribute dictionary of\n",
      "the class. The scope of names defined in a class block is limited to\n",
      "the class block; it does not extend to the code blocks of methods –\n",
      "this includes comprehensions and generator expressions since they are\n",
      "implemented using a function scope.  This means that the following\n",
      "will fail:\n",
      "\n",
      "   class A:\n",
      "       a = 42\n",
      "       b = list(a + i for i in range(10))\n",
      "\n",
      "\n",
      "Builtins and restricted execution\n",
      "=================================\n",
      "\n",
      "**CPython implementation detail:** Users should not touch\n",
      "\"__builtins__\"; it is strictly an implementation detail.  Users\n",
      "wanting to override values in the builtins namespace should \"import\"\n",
      "the \"builtins\" module and modify its attributes appropriately.\n",
      "\n",
      "The builtins namespace associated with the execution of a code block\n",
      "is actually found by looking up the name \"__builtins__\" in its global\n",
      "namespace; this should be a dictionary or a module (in the latter case\n",
      "the module’s dictionary is used).  By default, when in the \"__main__\"\n",
      "module, \"__builtins__\" is the built-in module \"builtins\"; when in any\n",
      "other module, \"__builtins__\" is an alias for the dictionary of the\n",
      "\"builtins\" module itself.\n",
      "\n",
      "\n",
      "Interaction with dynamic features\n",
      "=================================\n",
      "\n",
      "Name resolution of free variables occurs at runtime, not at compile\n",
      "time. This means that the following code will print 42:\n",
      "\n",
      "   i = 10\n",
      "   def f():\n",
      "       print(i)\n",
      "   i = 42\n",
      "   f()\n",
      "\n",
      "The \"eval()\" and \"exec()\" functions do not have access to the full\n",
      "environment for resolving names.  Names may be resolved in the local\n",
      "and global namespaces of the caller.  Free variables are not resolved\n",
      "in the nearest enclosing namespace, but in the global namespace.  [1]\n",
      "The \"exec()\" and \"eval()\" functions have optional arguments to\n",
      "override the global and local namespace.  If only one namespace is\n",
      "specified, it is used for both.\n",
      "\n",
      "Related help topics: global, nonlocal, ASSIGNMENT, DELETION,\n",
      "DYNAMICFEATURES\n",
      "\n"
     ]
    }
   ],
   "source": [
    "help(\"NAMESPACES\")"
   ]
  },
  {
   "cell_type": "code",
   "execution_count": 61,
   "metadata": {},
   "outputs": [],
   "source": [
    "x = 2\n",
    "y = 5\n",
    "z = 'hey'"
   ]
  },
  {
   "cell_type": "code",
   "execution_count": 65,
   "metadata": {},
   "outputs": [],
   "source": [
    "text = \"\"\"\n",
    "a long\n",
    "text\n",
    "here\n",
    "\"\"\""
   ]
  },
  {
   "cell_type": "code",
   "execution_count": 66,
   "metadata": {},
   "outputs": [],
   "source": [
    "z = '\"'"
   ]
  },
  {
   "cell_type": "code",
   "execution_count": 67,
   "metadata": {},
   "outputs": [
    {
     "data": {
      "text/plain": [
       "2"
      ]
     },
     "execution_count": 67,
     "metadata": {},
     "output_type": "execute_result"
    }
   ],
   "source": [
    "x"
   ]
  },
  {
   "cell_type": "code",
   "execution_count": 68,
   "metadata": {},
   "outputs": [
    {
     "name": "stdout",
     "output_type": "stream",
     "text": [
      "2\n"
     ]
    }
   ],
   "source": [
    "print(x)"
   ]
  },
  {
   "cell_type": "code",
   "execution_count": 69,
   "metadata": {},
   "outputs": [
    {
     "name": "stdout",
     "output_type": "stream",
     "text": [
      "2 5\n"
     ]
    }
   ],
   "source": [
    "print(x, y)"
   ]
  },
  {
   "cell_type": "code",
   "execution_count": 72,
   "metadata": {},
   "outputs": [],
   "source": [
    "z = 1e100"
   ]
  },
  {
   "cell_type": "code",
   "execution_count": 73,
   "metadata": {},
   "outputs": [
    {
     "data": {
      "text/plain": [
       "1e+100"
      ]
     },
     "execution_count": 73,
     "metadata": {},
     "output_type": "execute_result"
    }
   ],
   "source": [
    "z"
   ]
  },
  {
   "cell_type": "code",
   "execution_count": 71,
   "metadata": {},
   "outputs": [],
   "source": [
    "f = 1.0"
   ]
  },
  {
   "cell_type": "code",
   "execution_count": 74,
   "metadata": {},
   "outputs": [],
   "source": [
    "flag = True "
   ]
  },
  {
   "cell_type": "code",
   "execution_count": 75,
   "metadata": {},
   "outputs": [
    {
     "data": {
      "text/plain": [
       "bool"
      ]
     },
     "execution_count": 75,
     "metadata": {},
     "output_type": "execute_result"
    }
   ],
   "source": [
    "type(flag)"
   ]
  },
  {
   "cell_type": "code",
   "execution_count": 76,
   "metadata": {},
   "outputs": [],
   "source": [
    "flag = False"
   ]
  },
  {
   "cell_type": "code",
   "execution_count": 78,
   "metadata": {},
   "outputs": [
    {
     "data": {
      "text/plain": [
       "(-1+0j)"
      ]
     },
     "execution_count": 78,
     "metadata": {},
     "output_type": "execute_result"
    }
   ],
   "source": [
    "complex(1, 2j)"
   ]
  },
  {
   "cell_type": "code",
   "execution_count": 79,
   "metadata": {},
   "outputs": [
    {
     "data": {
      "text/plain": [
       "3.0"
      ]
     },
     "execution_count": 79,
     "metadata": {},
     "output_type": "execute_result"
    }
   ],
   "source": [
    "1 + 2.0"
   ]
  },
  {
   "cell_type": "code",
   "execution_count": 80,
   "metadata": {},
   "outputs": [
    {
     "data": {
      "text/plain": [
       "3"
      ]
     },
     "execution_count": 80,
     "metadata": {},
     "output_type": "execute_result"
    }
   ],
   "source": [
    "round(1 + 2.0)"
   ]
  },
  {
   "cell_type": "code",
   "execution_count": 81,
   "metadata": {},
   "outputs": [
    {
     "data": {
      "text/plain": [
       "int"
      ]
     },
     "execution_count": 81,
     "metadata": {},
     "output_type": "execute_result"
    }
   ],
   "source": [
    "type(round(1 + 2.0))"
   ]
  },
  {
   "cell_type": "code",
   "execution_count": 82,
   "metadata": {},
   "outputs": [
    {
     "data": {
      "text/plain": [
       "0.75"
      ]
     },
     "execution_count": 82,
     "metadata": {},
     "output_type": "execute_result"
    }
   ],
   "source": [
    "3 / 4"
   ]
  },
  {
   "cell_type": "code",
   "execution_count": 83,
   "metadata": {},
   "outputs": [
    {
     "data": {
      "text/plain": [
       "0"
      ]
     },
     "execution_count": 83,
     "metadata": {},
     "output_type": "execute_result"
    }
   ],
   "source": [
    "3 // 4"
   ]
  },
  {
   "cell_type": "code",
   "execution_count": 84,
   "metadata": {},
   "outputs": [
    {
     "data": {
      "text/plain": [
       "5"
      ]
     },
     "execution_count": 84,
     "metadata": {},
     "output_type": "execute_result"
    }
   ],
   "source": [
    "15 % 10"
   ]
  },
  {
   "cell_type": "code",
   "execution_count": 85,
   "metadata": {},
   "outputs": [
    {
     "data": {
      "text/plain": [
       "2617010996188399907017032528972038342491649416953000260240805955827972056685382434497090341496787032585738884786745286700473999847280664191731008874811751310888591786111994678208920175143911761181424495660877950654145066969036252669735483098936884016471326487403792787648506879212630637101259246005701084327338001"
      ]
     },
     "execution_count": 85,
     "metadata": {},
     "output_type": "execute_result"
    }
   ],
   "source": [
    "11 ** 300"
   ]
  },
  {
   "cell_type": "code",
   "execution_count": 86,
   "metadata": {},
   "outputs": [
    {
     "ename": "OverflowError",
     "evalue": "(34, 'Numerical result out of range')",
     "output_type": "error",
     "traceback": [
      "\u001b[0;31m---------------------------------------------------------------------------\u001b[0m",
      "\u001b[0;31mOverflowError\u001b[0m                             Traceback (most recent call last)",
      "Cell \u001b[0;32mIn[86], line 1\u001b[0m\n\u001b[0;32m----> 1\u001b[0m \u001b[38;5;241;43m11.0\u001b[39;49m\u001b[43m \u001b[49m\u001b[38;5;241;43m*\u001b[39;49m\u001b[38;5;241;43m*\u001b[39;49m\u001b[43m \u001b[49m\u001b[38;5;241;43m300\u001b[39;49m\n",
      "\u001b[0;31mOverflowError\u001b[0m: (34, 'Numerical result out of range')"
     ]
    }
   ],
   "source": [
    "11.0 ** 300"
   ]
  },
  {
   "cell_type": "code",
   "execution_count": 87,
   "metadata": {},
   "outputs": [],
   "source": [
    "z = 2"
   ]
  },
  {
   "cell_type": "code",
   "execution_count": 89,
   "metadata": {},
   "outputs": [
    {
     "data": {
      "text/plain": [
       "True"
      ]
     },
     "execution_count": 89,
     "metadata": {},
     "output_type": "execute_result"
    }
   ],
   "source": [
    "z == 2"
   ]
  },
  {
   "cell_type": "code",
   "execution_count": 90,
   "metadata": {},
   "outputs": [
    {
     "data": {
      "text/plain": [
       "False"
      ]
     },
     "execution_count": 90,
     "metadata": {},
     "output_type": "execute_result"
    }
   ],
   "source": [
    "z > 2"
   ]
  },
  {
   "cell_type": "code",
   "execution_count": 92,
   "metadata": {},
   "outputs": [
    {
     "data": {
      "text/plain": [
       "True"
      ]
     },
     "execution_count": 92,
     "metadata": {},
     "output_type": "execute_result"
    }
   ],
   "source": [
    "0.5 <= z <= 3"
   ]
  },
  {
   "cell_type": "code",
   "execution_count": 94,
   "metadata": {},
   "outputs": [
    {
     "data": {
      "text/plain": [
       "True"
      ]
     },
     "execution_count": 94,
     "metadata": {},
     "output_type": "execute_result"
    }
   ],
   "source": [
    "0.5 <= z and z <= 3"
   ]
  },
  {
   "cell_type": "code",
   "execution_count": 95,
   "metadata": {},
   "outputs": [],
   "source": [
    "# and, or, not"
   ]
  },
  {
   "cell_type": "code",
   "execution_count": 96,
   "metadata": {},
   "outputs": [],
   "source": [
    "a = 2\n",
    "b = 3"
   ]
  },
  {
   "cell_type": "code",
   "execution_count": 99,
   "metadata": {},
   "outputs": [
    {
     "data": {
      "text/plain": [
       "('0b10', '0b11')"
      ]
     },
     "execution_count": 99,
     "metadata": {},
     "output_type": "execute_result"
    }
   ],
   "source": [
    "bin(a), bin(b)"
   ]
  },
  {
   "cell_type": "code",
   "execution_count": 97,
   "metadata": {},
   "outputs": [
    {
     "data": {
      "text/plain": [
       "2"
      ]
     },
     "execution_count": 97,
     "metadata": {},
     "output_type": "execute_result"
    }
   ],
   "source": [
    "a & b"
   ]
  },
  {
   "cell_type": "code",
   "execution_count": 100,
   "metadata": {},
   "outputs": [
    {
     "data": {
      "text/plain": [
       "3"
      ]
     },
     "execution_count": 100,
     "metadata": {},
     "output_type": "execute_result"
    }
   ],
   "source": [
    "a | b"
   ]
  },
  {
   "cell_type": "code",
   "execution_count": 101,
   "metadata": {},
   "outputs": [
    {
     "data": {
      "text/plain": [
       "1"
      ]
     },
     "execution_count": 101,
     "metadata": {},
     "output_type": "execute_result"
    }
   ],
   "source": [
    "a ^ b # xor"
   ]
  },
  {
   "cell_type": "code",
   "execution_count": 102,
   "metadata": {},
   "outputs": [
    {
     "data": {
      "text/plain": [
       "4"
      ]
     },
     "execution_count": 102,
     "metadata": {},
     "output_type": "execute_result"
    }
   ],
   "source": [
    "a << 1"
   ]
  },
  {
   "cell_type": "code",
   "execution_count": 103,
   "metadata": {},
   "outputs": [
    {
     "data": {
      "text/plain": [
       "8"
      ]
     },
     "execution_count": 103,
     "metadata": {},
     "output_type": "execute_result"
    }
   ],
   "source": [
    "a << 2"
   ]
  },
  {
   "cell_type": "code",
   "execution_count": 106,
   "metadata": {},
   "outputs": [],
   "source": [
    "x = None # null, nil"
   ]
  },
  {
   "cell_type": "code",
   "execution_count": 107,
   "metadata": {},
   "outputs": [
    {
     "data": {
      "text/plain": [
       "NoneType"
      ]
     },
     "execution_count": 107,
     "metadata": {},
     "output_type": "execute_result"
    }
   ],
   "source": [
    "type(x)"
   ]
  },
  {
   "cell_type": "code",
   "execution_count": 108,
   "metadata": {},
   "outputs": [],
   "source": [
    "z = 10"
   ]
  },
  {
   "cell_type": "code",
   "execution_count": 109,
   "metadata": {},
   "outputs": [
    {
     "name": "stdout",
     "output_type": "stream",
     "text": [
      "ok\n"
     ]
    }
   ],
   "source": [
    "if z == 10:\n",
    "    print(\"ok\")"
   ]
  },
  {
   "cell_type": "code",
   "execution_count": 111,
   "metadata": {},
   "outputs": [
    {
     "data": {
      "text/plain": [
       "(False, True)"
      ]
     },
     "execution_count": 111,
     "metadata": {},
     "output_type": "execute_result"
    }
   ],
   "source": [
    "bool(0), bool(1)"
   ]
  },
  {
   "cell_type": "code",
   "execution_count": 112,
   "metadata": {},
   "outputs": [
    {
     "data": {
      "text/plain": [
       "(False, True)"
      ]
     },
     "execution_count": 112,
     "metadata": {},
     "output_type": "execute_result"
    }
   ],
   "source": [
    "bool(\"\"), bool(\"abc\")"
   ]
  },
  {
   "cell_type": "code",
   "execution_count": 114,
   "metadata": {},
   "outputs": [
    {
     "data": {
      "text/plain": [
       "(False, True)"
      ]
     },
     "execution_count": 114,
     "metadata": {},
     "output_type": "execute_result"
    }
   ],
   "source": [
    "bool(0.0), bool(1.0)"
   ]
  },
  {
   "cell_type": "code",
   "execution_count": 117,
   "metadata": {},
   "outputs": [],
   "source": [
    "z = \"\""
   ]
  },
  {
   "cell_type": "code",
   "execution_count": 119,
   "metadata": {},
   "outputs": [
    {
     "name": "stdout",
     "output_type": "stream",
     "text": [
      "ok\n"
     ]
    }
   ],
   "source": [
    "if len(z) == 0:\n",
    "    print(\"ok\")\n",
    "else:\n",
    "    print(\"empty string\")"
   ]
  },
  {
   "cell_type": "code",
   "execution_count": 121,
   "metadata": {},
   "outputs": [
    {
     "data": {
      "text/plain": [
       "True"
      ]
     },
     "execution_count": 121,
     "metadata": {},
     "output_type": "execute_result"
    }
   ],
   "source": [
    "bool(sys)"
   ]
  },
  {
   "cell_type": "code",
   "execution_count": 125,
   "metadata": {},
   "outputs": [
    {
     "data": {
      "text/plain": [
       "100"
      ]
     },
     "execution_count": 125,
     "metadata": {},
     "output_type": "execute_result"
    }
   ],
   "source": [
    "int(\"100\")"
   ]
  },
  {
   "cell_type": "code",
   "execution_count": 129,
   "metadata": {},
   "outputs": [
    {
     "data": {
      "text/plain": [
       "'None'"
      ]
     },
     "execution_count": 129,
     "metadata": {},
     "output_type": "execute_result"
    }
   ],
   "source": [
    "str(None)"
   ]
  },
  {
   "cell_type": "code",
   "execution_count": 131,
   "metadata": {},
   "outputs": [
    {
     "data": {
      "text/plain": [
       "1e+100"
      ]
     },
     "execution_count": 131,
     "metadata": {},
     "output_type": "execute_result"
    }
   ],
   "source": [
    "float(\"1e100\")"
   ]
  },
  {
   "cell_type": "code",
   "execution_count": 132,
   "metadata": {},
   "outputs": [
    {
     "data": {
      "text/plain": [
       "'0x64'"
      ]
     },
     "execution_count": 132,
     "metadata": {},
     "output_type": "execute_result"
    }
   ],
   "source": [
    "hex(100)"
   ]
  },
  {
   "cell_type": "code",
   "execution_count": 133,
   "metadata": {},
   "outputs": [
    {
     "data": {
      "text/plain": [
       "'0o144'"
      ]
     },
     "execution_count": 133,
     "metadata": {},
     "output_type": "execute_result"
    }
   ],
   "source": [
    "oct(100)"
   ]
  },
  {
   "cell_type": "code",
   "execution_count": 134,
   "metadata": {},
   "outputs": [],
   "source": [
    "import math"
   ]
  },
  {
   "cell_type": "code",
   "execution_count": 135,
   "metadata": {},
   "outputs": [
    {
     "data": {
      "text/plain": [
       "1.0"
      ]
     },
     "execution_count": 135,
     "metadata": {},
     "output_type": "execute_result"
    }
   ],
   "source": [
    "math.log(math.e)"
   ]
  },
  {
   "cell_type": "code",
   "execution_count": 136,
   "metadata": {},
   "outputs": [
    {
     "data": {
      "text/plain": [
       "3.141592653589793"
      ]
     },
     "execution_count": 136,
     "metadata": {},
     "output_type": "execute_result"
    }
   ],
   "source": [
    "math.pi"
   ]
  },
  {
   "cell_type": "code",
   "execution_count": 137,
   "metadata": {},
   "outputs": [
    {
     "data": {
      "text/plain": [
       "4"
      ]
     },
     "execution_count": 137,
     "metadata": {},
     "output_type": "execute_result"
    }
   ],
   "source": [
    "round(3.5)"
   ]
  },
  {
   "cell_type": "code",
   "execution_count": 139,
   "metadata": {},
   "outputs": [
    {
     "data": {
      "text/plain": [
       "3.51"
      ]
     },
     "execution_count": 139,
     "metadata": {},
     "output_type": "execute_result"
    }
   ],
   "source": [
    "round(3.510001, 2)"
   ]
  },
  {
   "cell_type": "code",
   "execution_count": 140,
   "metadata": {},
   "outputs": [
    {
     "data": {
      "text/plain": [
       "(4, 1)"
      ]
     },
     "execution_count": 140,
     "metadata": {},
     "output_type": "execute_result"
    }
   ],
   "source": [
    "divmod(9, 2)"
   ]
  },
  {
   "cell_type": "code",
   "execution_count": 141,
   "metadata": {},
   "outputs": [],
   "source": [
    "z = divmod(9, 2)"
   ]
  },
  {
   "cell_type": "code",
   "execution_count": 142,
   "metadata": {},
   "outputs": [
    {
     "data": {
      "text/plain": [
       "tuple"
      ]
     },
     "execution_count": 142,
     "metadata": {},
     "output_type": "execute_result"
    }
   ],
   "source": [
    "type(z)"
   ]
  },
  {
   "cell_type": "code",
   "execution_count": 143,
   "metadata": {},
   "outputs": [
    {
     "data": {
      "text/plain": [
       "'100'"
      ]
     },
     "execution_count": 143,
     "metadata": {},
     "output_type": "execute_result"
    }
   ],
   "source": [
    "input(\"please enter a number\")"
   ]
  },
  {
   "cell_type": "code",
   "execution_count": 144,
   "metadata": {},
   "outputs": [],
   "source": [
    "a = \"2\"\n",
    "b = 3"
   ]
  },
  {
   "cell_type": "code",
   "execution_count": 145,
   "metadata": {},
   "outputs": [
    {
     "ename": "TypeError",
     "evalue": "can only concatenate str (not \"int\") to str",
     "output_type": "error",
     "traceback": [
      "\u001b[0;31m---------------------------------------------------------------------------\u001b[0m",
      "\u001b[0;31mTypeError\u001b[0m                                 Traceback (most recent call last)",
      "Cell \u001b[0;32mIn[145], line 1\u001b[0m\n\u001b[0;32m----> 1\u001b[0m \u001b[43ma\u001b[49m\u001b[43m \u001b[49m\u001b[38;5;241;43m+\u001b[39;49m\u001b[43m \u001b[49m\u001b[43mb\u001b[49m\n",
      "\u001b[0;31mTypeError\u001b[0m: can only concatenate str (not \"int\") to str"
     ]
    }
   ],
   "source": [
    "a + b"
   ]
  },
  {
   "cell_type": "markdown",
   "metadata": {},
   "source": [
    "Exception so far\n",
    "\n",
    "* NameError\n",
    "* ValueError\n",
    "* TypeError\n",
    "* SyntaxError\n",
    "* IndentationError\n",
    "* ModuleNotFoundError"
   ]
  },
  {
   "cell_type": "code",
   "execution_count": 147,
   "metadata": {},
   "outputs": [],
   "source": [
    "a = 1\n",
    "b = 2.0"
   ]
  },
  {
   "cell_type": "code",
   "execution_count": 148,
   "metadata": {},
   "outputs": [
    {
     "data": {
      "text/plain": [
       "3.0"
      ]
     },
     "execution_count": 148,
     "metadata": {},
     "output_type": "execute_result"
    }
   ],
   "source": [
    "a + b"
   ]
  },
  {
   "cell_type": "code",
   "execution_count": 149,
   "metadata": {},
   "outputs": [],
   "source": [
    "s = \"hello\""
   ]
  },
  {
   "cell_type": "code",
   "execution_count": 150,
   "metadata": {},
   "outputs": [
    {
     "name": "stdout",
     "output_type": "stream",
     "text": [
      "\u001b[0;31mDocstring:\u001b[0m\n",
      "print(value, ..., sep=' ', end='\\n', file=sys.stdout, flush=False)\n",
      "\n",
      "Prints the values to a stream, or to sys.stdout by default.\n",
      "Optional keyword arguments:\n",
      "file:  a file-like object (stream); defaults to the current sys.stdout.\n",
      "sep:   string inserted between values, default a space.\n",
      "end:   string appended after the last value, default a newline.\n",
      "flush: whether to forcibly flush the stream.\n",
      "\u001b[0;31mType:\u001b[0m      builtin_function_or_method"
     ]
    }
   ],
   "source": [
    "print?"
   ]
  },
  {
   "cell_type": "code",
   "execution_count": 151,
   "metadata": {},
   "outputs": [
    {
     "name": "stdout",
     "output_type": "stream",
     "text": [
      "Help on built-in function print in module builtins:\n",
      "\n",
      "print(...)\n",
      "    print(value, ..., sep=' ', end='\\n', file=sys.stdout, flush=False)\n",
      "    \n",
      "    Prints the values to a stream, or to sys.stdout by default.\n",
      "    Optional keyword arguments:\n",
      "    file:  a file-like object (stream); defaults to the current sys.stdout.\n",
      "    sep:   string inserted between values, default a space.\n",
      "    end:   string appended after the last value, default a newline.\n",
      "    flush: whether to forcibly flush the stream.\n",
      "\n"
     ]
    }
   ],
   "source": [
    "help(print)"
   ]
  },
  {
   "cell_type": "code",
   "execution_count": 153,
   "metadata": {},
   "outputs": [
    {
     "name": "stdout",
     "output_type": "stream",
     "text": [
      "hello hello hello\n"
     ]
    }
   ],
   "source": [
    "print(s, s, s)"
   ]
  },
  {
   "cell_type": "code",
   "execution_count": 154,
   "metadata": {},
   "outputs": [
    {
     "name": "stdout",
     "output_type": "stream",
     "text": [
      "hello hello\n"
     ]
    }
   ],
   "source": [
    "print(\"hello\", s)"
   ]
  },
  {
   "cell_type": "code",
   "execution_count": 156,
   "metadata": {},
   "outputs": [
    {
     "name": "stdout",
     "output_type": "stream",
     "text": [
      "hi: hello\n"
     ]
    }
   ],
   "source": [
    "print(\"hi: %s\" % s)"
   ]
  },
  {
   "cell_type": "code",
   "execution_count": 157,
   "metadata": {},
   "outputs": [],
   "source": [
    "# %s string\n",
    "# %f float\n",
    "# %d int"
   ]
  },
  {
   "cell_type": "code",
   "execution_count": 158,
   "metadata": {},
   "outputs": [
    {
     "name": "stdout",
     "output_type": "stream",
     "text": [
      "hi: 1000\n"
     ]
    }
   ],
   "source": [
    "print(\"hi: %d\" % 1000)"
   ]
  },
  {
   "cell_type": "code",
   "execution_count": 159,
   "metadata": {},
   "outputs": [
    {
     "name": "stdout",
     "output_type": "stream",
     "text": [
      "hi: 1.34\n"
     ]
    }
   ],
   "source": [
    "print(\"hi: %0.2f\" % 1.335566)"
   ]
  },
  {
   "cell_type": "code",
   "execution_count": 161,
   "metadata": {},
   "outputs": [
    {
     "name": "stdout",
     "output_type": "stream",
     "text": [
      "hello hello\n"
     ]
    }
   ],
   "source": [
    "print(\"%s %s\" % (s, s))"
   ]
  },
  {
   "cell_type": "code",
   "execution_count": 165,
   "metadata": {},
   "outputs": [
    {
     "data": {
      "text/plain": [
       "'a, a, a'"
      ]
     },
     "execution_count": 165,
     "metadata": {},
     "output_type": "execute_result"
    }
   ],
   "source": [
    "'{0}, {0}, {0}'.format('a', 'b', 'c')"
   ]
  },
  {
   "cell_type": "code",
   "execution_count": 166,
   "metadata": {},
   "outputs": [],
   "source": [
    "a = 1\n",
    "b = 2\n",
    "c = \"hello\""
   ]
  },
  {
   "cell_type": "code",
   "execution_count": 170,
   "metadata": {},
   "outputs": [
    {
     "name": "stdout",
     "output_type": "stream",
     "text": [
      "1 2 hello\n"
     ]
    }
   ],
   "source": [
    "print(f\"{a} {b} {c}\") # python 3.6, f-string"
   ]
  },
  {
   "cell_type": "code",
   "execution_count": 171,
   "metadata": {},
   "outputs": [],
   "source": [
    "s = \"hello\""
   ]
  },
  {
   "cell_type": "code",
   "execution_count": 177,
   "metadata": {},
   "outputs": [
    {
     "data": {
      "text/plain": [
       "'HELLO'"
      ]
     },
     "execution_count": 177,
     "metadata": {},
     "output_type": "execute_result"
    }
   ],
   "source": [
    "s.upper()"
   ]
  },
  {
   "cell_type": "code",
   "execution_count": 178,
   "metadata": {},
   "outputs": [
    {
     "data": {
      "text/plain": [
       "'hello'"
      ]
     },
     "execution_count": 178,
     "metadata": {},
     "output_type": "execute_result"
    }
   ],
   "source": [
    "s.lower()"
   ]
  },
  {
   "cell_type": "code",
   "execution_count": 179,
   "metadata": {},
   "outputs": [
    {
     "data": {
      "text/plain": [
       "5"
      ]
     },
     "execution_count": 179,
     "metadata": {},
     "output_type": "execute_result"
    }
   ],
   "source": [
    "len(s)"
   ]
  },
  {
   "cell_type": "code",
   "execution_count": 180,
   "metadata": {},
   "outputs": [
    {
     "data": {
      "text/plain": [
       "False"
      ]
     },
     "execution_count": 180,
     "metadata": {},
     "output_type": "execute_result"
    }
   ],
   "source": [
    "s.isdigit()"
   ]
  },
  {
   "cell_type": "code",
   "execution_count": 181,
   "metadata": {},
   "outputs": [
    {
     "data": {
      "text/plain": [
       "'hello'"
      ]
     },
     "execution_count": 181,
     "metadata": {},
     "output_type": "execute_result"
    }
   ],
   "source": [
    "s"
   ]
  },
  {
   "cell_type": "code",
   "execution_count": 182,
   "metadata": {},
   "outputs": [
    {
     "data": {
      "text/plain": [
       "'helllllo'"
      ]
     },
     "execution_count": 182,
     "metadata": {},
     "output_type": "execute_result"
    }
   ],
   "source": [
    "s.replace(\"ll\", \"lllll\")"
   ]
  },
  {
   "cell_type": "code",
   "execution_count": 183,
   "metadata": {},
   "outputs": [],
   "source": [
    "s = s.replace(\"ll\", \"lllll\")"
   ]
  },
  {
   "cell_type": "code",
   "execution_count": 184,
   "metadata": {},
   "outputs": [
    {
     "data": {
      "text/plain": [
       "'helllllo'"
      ]
     },
     "execution_count": 184,
     "metadata": {},
     "output_type": "execute_result"
    }
   ],
   "source": [
    "s"
   ]
  },
  {
   "cell_type": "code",
   "execution_count": 185,
   "metadata": {},
   "outputs": [
    {
     "data": {
      "text/plain": [
       "True"
      ]
     },
     "execution_count": 185,
     "metadata": {},
     "output_type": "execute_result"
    }
   ],
   "source": [
    "s.startswith(\"h\")"
   ]
  },
  {
   "cell_type": "code",
   "execution_count": 186,
   "metadata": {},
   "outputs": [
    {
     "data": {
      "text/plain": [
       "True"
      ]
     },
     "execution_count": 186,
     "metadata": {},
     "output_type": "execute_result"
    }
   ],
   "source": [
    "s.endswith(\"o\")"
   ]
  },
  {
   "cell_type": "code",
   "execution_count": 187,
   "metadata": {},
   "outputs": [
    {
     "data": {
      "text/plain": [
       "'helllllo'"
      ]
     },
     "execution_count": 187,
     "metadata": {},
     "output_type": "execute_result"
    }
   ],
   "source": [
    "s"
   ]
  },
  {
   "cell_type": "code",
   "execution_count": 188,
   "metadata": {},
   "outputs": [],
   "source": [
    "z = 3"
   ]
  },
  {
   "cell_type": "code",
   "execution_count": 189,
   "metadata": {},
   "outputs": [
    {
     "data": {
      "text/plain": [
       "b'helllllo'"
      ]
     },
     "execution_count": 189,
     "metadata": {},
     "output_type": "execute_result"
    }
   ],
   "source": [
    "s.encode('ascii')"
   ]
  },
  {
   "cell_type": "code",
   "execution_count": 192,
   "metadata": {},
   "outputs": [],
   "source": [
    "encoded = \"Ähnlich\".encode(\"utf-8\")"
   ]
  },
  {
   "cell_type": "code",
   "execution_count": 193,
   "metadata": {},
   "outputs": [
    {
     "data": {
      "text/plain": [
       "bytes"
      ]
     },
     "execution_count": 193,
     "metadata": {},
     "output_type": "execute_result"
    }
   ],
   "source": [
    "type(encoded)"
   ]
  },
  {
   "cell_type": "code",
   "execution_count": 200,
   "metadata": {},
   "outputs": [
    {
     "data": {
      "text/plain": [
       "b'\\xc4hnlich'"
      ]
     },
     "execution_count": 200,
     "metadata": {},
     "output_type": "execute_result"
    }
   ],
   "source": [
    "encoded.decode(\"utf-8\").encode(\"iso-8859-1\")"
   ]
  },
  {
   "cell_type": "code",
   "execution_count": 201,
   "metadata": {},
   "outputs": [],
   "source": [
    "s = \"hello\""
   ]
  },
  {
   "cell_type": "code",
   "execution_count": 202,
   "metadata": {},
   "outputs": [
    {
     "data": {
      "text/plain": [
       "5"
      ]
     },
     "execution_count": 202,
     "metadata": {},
     "output_type": "execute_result"
    }
   ],
   "source": [
    "len(s)"
   ]
  },
  {
   "cell_type": "code",
   "execution_count": 203,
   "metadata": {},
   "outputs": [
    {
     "data": {
      "text/plain": [
       "'hello'"
      ]
     },
     "execution_count": 203,
     "metadata": {},
     "output_type": "execute_result"
    }
   ],
   "source": [
    "s "
   ]
  },
  {
   "cell_type": "code",
   "execution_count": 204,
   "metadata": {},
   "outputs": [
    {
     "data": {
      "text/plain": [
       "'e'"
      ]
     },
     "execution_count": 204,
     "metadata": {},
     "output_type": "execute_result"
    }
   ],
   "source": [
    "s[1]"
   ]
  },
  {
   "cell_type": "code",
   "execution_count": 205,
   "metadata": {},
   "outputs": [
    {
     "data": {
      "text/plain": [
       "'hel'"
      ]
     },
     "execution_count": 205,
     "metadata": {},
     "output_type": "execute_result"
    }
   ],
   "source": [
    "s[0:3]"
   ]
  },
  {
   "cell_type": "code",
   "execution_count": 206,
   "metadata": {},
   "outputs": [
    {
     "data": {
      "text/plain": [
       "'ll'"
      ]
     },
     "execution_count": 206,
     "metadata": {},
     "output_type": "execute_result"
    }
   ],
   "source": [
    "s[2:4]"
   ]
  },
  {
   "cell_type": "code",
   "execution_count": 207,
   "metadata": {},
   "outputs": [
    {
     "data": {
      "text/plain": [
       "''"
      ]
     },
     "execution_count": 207,
     "metadata": {},
     "output_type": "execute_result"
    }
   ],
   "source": [
    "s[10:12]"
   ]
  },
  {
   "cell_type": "code",
   "execution_count": 208,
   "metadata": {},
   "outputs": [
    {
     "data": {
      "text/plain": [
       "5"
      ]
     },
     "execution_count": 208,
     "metadata": {},
     "output_type": "execute_result"
    }
   ],
   "source": [
    "len(s)"
   ]
  },
  {
   "cell_type": "code",
   "execution_count": 209,
   "metadata": {},
   "outputs": [
    {
     "ename": "IndexError",
     "evalue": "string index out of range",
     "output_type": "error",
     "traceback": [
      "\u001b[0;31m---------------------------------------------------------------------------\u001b[0m",
      "\u001b[0;31mIndexError\u001b[0m                                Traceback (most recent call last)",
      "Cell \u001b[0;32mIn[209], line 1\u001b[0m\n\u001b[0;32m----> 1\u001b[0m \u001b[43ms\u001b[49m\u001b[43m[\u001b[49m\u001b[38;5;241;43m10\u001b[39;49m\u001b[43m]\u001b[49m\n",
      "\u001b[0;31mIndexError\u001b[0m: string index out of range"
     ]
    }
   ],
   "source": [
    "s[10]"
   ]
  },
  {
   "cell_type": "code",
   "execution_count": 210,
   "metadata": {},
   "outputs": [
    {
     "data": {
      "text/plain": [
       "'hello'"
      ]
     },
     "execution_count": 210,
     "metadata": {},
     "output_type": "execute_result"
    }
   ],
   "source": [
    "s"
   ]
  },
  {
   "cell_type": "code",
   "execution_count": 212,
   "metadata": {},
   "outputs": [
    {
     "data": {
      "text/plain": [
       "{'__name__': '__main__',\n",
       " '__doc__': 'Automatically created module for IPython interactive environment',\n",
       " '__package__': None,\n",
       " '__loader__': None,\n",
       " '__spec__': None,\n",
       " '__builtin__': <module 'builtins' (built-in)>,\n",
       " '__builtins__': <module 'builtins' (built-in)>,\n",
       " '_ih': ['',\n",
       "  '2 + 2',\n",
       "  '213³',\n",
       "  '2 + 2',\n",
       "  '2 + 2',\n",
       "  '2 + 2',\n",
       "  \"get_ipython().system('pip uninstall pandas')\",\n",
       "  'import pandas',\n",
       "  'import pandas',\n",
       "  \"get_ipython().system('date')\",\n",
       "  \"get_ipython().system('pip install pandas')\",\n",
       "  \"get_ipython().system('pip uninstall --yes pandas')\",\n",
       "  'import pandas',\n",
       "  \"get_ipython().system('pip install pandas==1.5.4')\",\n",
       "  \"get_ipython().system('pip install pandas==1.5')\",\n",
       "  \"get_ipython().system('pip install pandas')\",\n",
       "  \"get_ipython().system('pip install --upgrade pandas')\",\n",
       "  \"get_ipython().run_line_magic('history', '')\",\n",
       "  \"get_ipython().run_line_magic('time', '2 + 2')\",\n",
       "  \"get_ipython().run_line_magic('timeit', '2 + 2')\",\n",
       "  \"get_ipython().run_line_magic('timeit', '9 / 2')\",\n",
       "  \"get_ipython().run_line_magic('timeit', '9 ** 5 / (3 * 2) + 1')\",\n",
       "  'month = 4',\n",
       "  'type(month)',\n",
       "  'month = 4.0',\n",
       "  'type(month)',\n",
       "  'month = \"4\"',\n",
       "  'type(month)',\n",
       "  'month = 0',\n",
       "  'type(month)',\n",
       "  'month = 4',\n",
       "  'month = \"april\"',\n",
       "  'def f():\\n    x = 1',\n",
       "  'def f():\\nx = 1',\n",
       "  'def f():\\n    x = 1',\n",
       "  'x',\n",
       "  'import sys',\n",
       "  'type(sys)',\n",
       "  'sys.version',\n",
       "  'import pandas',\n",
       "  'pandas.version',\n",
       "  'pandas.__version__',\n",
       "  'type(sys)',\n",
       "  'from sys import version',\n",
       "  'version',\n",
       "  'import fantasy_module',\n",
       "  'sys.path',\n",
       "  '## Basic Syntax',\n",
       "  '1 + 1',\n",
       "  '1 + 1 ',\n",
       "  '1 + 1 \\n+ 3',\n",
       "  '1 + 1 + 3',\n",
       "  '# comment',\n",
       "  'help()',\n",
       "  'help(sys)',\n",
       "  'help(sys)',\n",
       "  'help(\"topics\")',\n",
       "  'help(\"namespaces\")',\n",
       "  'help(\"NAMESPACES\")',\n",
       "  'x = 2\\ny = 5\\nz = \"hey\"',\n",
       "  'x = 2\\ny = 5\\nz = \"hey\\'s\"',\n",
       "  \"x = 2\\ny = 5\\nz = 'hey'\",\n",
       "  'text = \"\"\"',\n",
       "  'text = \"\"\"\\na long\\ntext\\nhere\\n\"\"\"',\n",
       "  '# text = \"\"\"\\na long\\ntext\\nhere\\n\"\"\"',\n",
       "  'text = \"\"\"\\na long\\ntext\\nhere\\n\"\"\"',\n",
       "  'z = \\'\"\\'',\n",
       "  'x',\n",
       "  'print(x)',\n",
       "  'print(x, y)',\n",
       "  'z = 1',\n",
       "  'f = 1.0',\n",
       "  'z = 1e100',\n",
       "  'z',\n",
       "  'flag = True ',\n",
       "  'type(flag)',\n",
       "  'flag = False',\n",
       "  'complex(1, 2i)',\n",
       "  'complex(1, 2j)',\n",
       "  '1 + 2.0',\n",
       "  'round(1 + 2.0)',\n",
       "  'type(round(1 + 2.0))',\n",
       "  '3 / 4',\n",
       "  '3 // 4',\n",
       "  '15 % 10',\n",
       "  '11 ** 300',\n",
       "  '11.0 ** 300',\n",
       "  'z = 2',\n",
       "  'z > 2',\n",
       "  'z == 2',\n",
       "  'z > 2',\n",
       "  '0.5 <= z <= 1',\n",
       "  '0.5 <= z <= 3',\n",
       "  '0.5 <= z and <= 3',\n",
       "  '0.5 <= z and z <= 3',\n",
       "  '# and, or, not',\n",
       "  'a = 2\\nb = 3',\n",
       "  'a & b',\n",
       "  'bin(a)',\n",
       "  'bin(a), bin(b)',\n",
       "  'a | b',\n",
       "  'a ^ b # xor',\n",
       "  'a << 1',\n",
       "  'a << 2',\n",
       "  'Nona',\n",
       "  'None',\n",
       "  'x = None # null, nil',\n",
       "  'type(x)',\n",
       "  'z = 10',\n",
       "  'if z == 10:\\n    print(\"ok\")',\n",
       "  'bool(0)',\n",
       "  'bool(0), bool(1)',\n",
       "  'bool(\"\"), bool(\"abc\")',\n",
       "  'bool(0.0, 1.0)',\n",
       "  'bool(0.0), bool(1.0)',\n",
       "  'z = \"hello\"',\n",
       "  'if z:\\n    print(\"ok\")',\n",
       "  'z = \"\"',\n",
       "  'if z:\\n    print(\"ok\")\\nelse:\\n    print(\"empty string\")',\n",
       "  'if len(z) == 0:\\n    print(\"ok\")\\nelse:\\n    print(\"empty string\")',\n",
       "  'bool(None)',\n",
       "  'bool(sys)',\n",
       "  'bool(os)',\n",
       "  'int(\"abc\")',\n",
       "  'int(\"abc\")',\n",
       "  'int(\"100\")',\n",
       "  'str(100)',\n",
       "  'str(True)',\n",
       "  'str(1.0)',\n",
       "  'str(None)',\n",
       "  'float(\"abc\")',\n",
       "  'float(\"1e100\")',\n",
       "  'hex(100)',\n",
       "  'oct(100)',\n",
       "  'import math',\n",
       "  'math.log(math.e)',\n",
       "  'math.pi',\n",
       "  'round(3.5)',\n",
       "  'round(3.510001)',\n",
       "  'round(3.510001, 2)',\n",
       "  'divmod(9, 2)',\n",
       "  'z = divmod(9, 2)',\n",
       "  'type(z)',\n",
       "  'input(\"please enter a number\")',\n",
       "  'a = \"2\"\\nb = 3',\n",
       "  'a + b',\n",
       "  'Exception so farm',\n",
       "  'a = 1\\nb = 2.0',\n",
       "  'a + b',\n",
       "  's = \"hello\"',\n",
       "  \"get_ipython().run_line_magic('pinfo', 'print')\",\n",
       "  'help(print)',\n",
       "  'print(s)',\n",
       "  'print(s, s, s)',\n",
       "  'print(\"hello\", s)',\n",
       "  'print(\"hi: %s\" % z)',\n",
       "  'print(\"hi: %s\" % s)',\n",
       "  '# %s string\\n# %f float\\n# %d int',\n",
       "  'print(\"hi: %d\" % 1000)',\n",
       "  'print(\"hi: %0.2f\" % 1.335566)',\n",
       "  'print(\"%s %s\" % s, s)',\n",
       "  'print(\"%s %s\" % (s, s) )',\n",
       "  \"'{0}, {1}, {2}'.format('a', 'b', 'c')\",\n",
       "  \"'{1}, {0}, {2}'.format('a', 'b', 'c')\",\n",
       "  \"'{}, {}, {}'.format('a', 'b', 'c')\",\n",
       "  \"'{0}, {0}, {0}'.format('a', 'b', 'c')\",\n",
       "  'a = 1\\nb = 2\\nc = \"hello\"',\n",
       "  'print(f\"{a} {b} {c}\")',\n",
       "  'print(f\"{a} {b} {c}\") # python 3.6, f-string',\n",
       "  'print(\"{a} {b} {c}\") # python 3.6, f-string',\n",
       "  'print(f\"{a} {b} {c}\") # python 3.6, f-string',\n",
       "  's = \"hello\"',\n",
       "  's.__dict__',\n",
       "  's.__dict__',\n",
       "  's.__doc__',\n",
       "  's.__doc__',\n",
       "  'print(s.__doc__)',\n",
       "  's.upper()',\n",
       "  's.lower()',\n",
       "  'len(s)',\n",
       "  's.isdigit()',\n",
       "  's',\n",
       "  's.replace(\"ll\", \"lllll\")',\n",
       "  's = s.replace(\"ll\", \"lllll\")',\n",
       "  's',\n",
       "  's.startswith(\"h\")',\n",
       "  's.endswith(\"o\")',\n",
       "  's',\n",
       "  'z = 3',\n",
       "  \"s.encode('ascii')\",\n",
       "  '\"Ähnlich\".encode(\"ascii\")',\n",
       "  '\"Ähnlich\".encode(\"utf-8\")',\n",
       "  'encoded = \"Ähnlich\".encode(\"utf-8\")',\n",
       "  'type(encoded)',\n",
       "  'encoded',\n",
       "  'encoded.decode(\"utf-t\")',\n",
       "  'encoded.decode(\"utf-8\")',\n",
       "  'encoded.decode(\"ascii\")',\n",
       "  'encoded.decode(\"ascii\")',\n",
       "  'encoded.decode(\"utf-8\")',\n",
       "  'encoded.decode(\"utf-8\").encode(\"iso-8859-1\")',\n",
       "  's = \"hello\"',\n",
       "  'len(s)',\n",
       "  's ',\n",
       "  's[1]',\n",
       "  's[0:3]',\n",
       "  's[2:4]',\n",
       "  's[10:12]',\n",
       "  'len(s)',\n",
       "  's[10]',\n",
       "  's',\n",
       "  '__main__',\n",
       "  'locals()'],\n",
       " '_oh': {1: 4,\n",
       "  3: 4,\n",
       "  4: 4,\n",
       "  5: 4,\n",
       "  18: 4,\n",
       "  23: int,\n",
       "  25: float,\n",
       "  27: str,\n",
       "  29: int,\n",
       "  37: module,\n",
       "  38: '3.8.10 (default, Jul 19 2023, 22:20:26) \\n[GCC 11.3.0]',\n",
       "  41: '2.0.3',\n",
       "  42: module,\n",
       "  44: '3.8.10 (default, Jul 19 2023, 22:20:26) \\n[GCC 11.3.0]',\n",
       "  46: ['/home/tir/code/miku/pythonpath/Live',\n",
       "   '/home/tir/.pyenv/versions/3.8.10/lib/python38.zip',\n",
       "   '/home/tir/.pyenv/versions/3.8.10/lib/python3.8',\n",
       "   '/home/tir/.pyenv/versions/3.8.10/lib/python3.8/lib-dynload',\n",
       "   '',\n",
       "   '/home/tir/code/miku/pythonpath/.venv/lib/python3.8/site-packages'],\n",
       "  48: 2,\n",
       "  49: 2,\n",
       "  50: 3,\n",
       "  51: 5,\n",
       "  67: 2,\n",
       "  73: 1e+100,\n",
       "  75: bool,\n",
       "  78: (-1+0j),\n",
       "  79: 3.0,\n",
       "  80: 3,\n",
       "  81: int,\n",
       "  82: 0.75,\n",
       "  83: 0,\n",
       "  84: 5,\n",
       "  85: 2617010996188399907017032528972038342491649416953000260240805955827972056685382434497090341496787032585738884786745286700473999847280664191731008874811751310888591786111994678208920175143911761181424495660877950654145066969036252669735483098936884016471326487403792787648506879212630637101259246005701084327338001,\n",
       "  88: False,\n",
       "  89: True,\n",
       "  90: False,\n",
       "  91: False,\n",
       "  92: True,\n",
       "  94: True,\n",
       "  97: 2,\n",
       "  98: '0b10',\n",
       "  99: ('0b10', '0b11'),\n",
       "  100: 3,\n",
       "  101: 1,\n",
       "  102: 4,\n",
       "  103: 8,\n",
       "  107: NoneType,\n",
       "  110: False,\n",
       "  111: (False, True),\n",
       "  112: (False, True),\n",
       "  114: (False, True),\n",
       "  120: False,\n",
       "  121: True,\n",
       "  125: 100,\n",
       "  126: '100',\n",
       "  127: 'True',\n",
       "  128: '1.0',\n",
       "  129: 'None',\n",
       "  131: 1e+100,\n",
       "  132: '0x64',\n",
       "  133: '0o144',\n",
       "  135: 1.0,\n",
       "  136: 3.141592653589793,\n",
       "  137: 4,\n",
       "  138: 4,\n",
       "  139: 3.51,\n",
       "  140: (4, 1),\n",
       "  142: tuple,\n",
       "  143: '100',\n",
       "  148: 3.0,\n",
       "  162: 'a, b, c',\n",
       "  163: 'b, a, c',\n",
       "  164: 'a, b, c',\n",
       "  165: 'a, a, a',\n",
       "  174: \"str(object='') -> str\\nstr(bytes_or_buffer[, encoding[, errors]]) -> str\\n\\nCreate a new string object from the given object. If encoding or\\nerrors is specified, then the object must expose a data buffer\\nthat will be decoded using the given encoding and error handler.\\nOtherwise, returns the result of object.__str__() (if defined)\\nor repr(object).\\nencoding defaults to sys.getdefaultencoding().\\nerrors defaults to 'strict'.\",\n",
       "  175: \"str(object='') -> str\\nstr(bytes_or_buffer[, encoding[, errors]]) -> str\\n\\nCreate a new string object from the given object. If encoding or\\nerrors is specified, then the object must expose a data buffer\\nthat will be decoded using the given encoding and error handler.\\nOtherwise, returns the result of object.__str__() (if defined)\\nor repr(object).\\nencoding defaults to sys.getdefaultencoding().\\nerrors defaults to 'strict'.\",\n",
       "  177: 'HELLO',\n",
       "  178: 'hello',\n",
       "  179: 5,\n",
       "  180: False,\n",
       "  181: 'hello',\n",
       "  182: 'helllllo',\n",
       "  184: 'helllllo',\n",
       "  185: True,\n",
       "  186: True,\n",
       "  187: 'helllllo',\n",
       "  189: b'helllllo',\n",
       "  191: b'\\xc3\\x84hnlich',\n",
       "  193: bytes,\n",
       "  194: b'\\xc3\\x84hnlich',\n",
       "  196: 'Ähnlich',\n",
       "  199: 'Ähnlich',\n",
       "  200: b'\\xc4hnlich',\n",
       "  202: 5,\n",
       "  203: 'hello',\n",
       "  204: 'e',\n",
       "  205: 'hel',\n",
       "  206: 'll',\n",
       "  207: '',\n",
       "  208: 5,\n",
       "  210: 'hello'},\n",
       " '_dh': [PosixPath('/home/tir/code/miku/pythonpath/Live'),\n",
       "  PosixPath('/home/tir/code/miku/pythonpath/Live')],\n",
       " 'In': ['',\n",
       "  '2 + 2',\n",
       "  '213³',\n",
       "  '2 + 2',\n",
       "  '2 + 2',\n",
       "  '2 + 2',\n",
       "  \"get_ipython().system('pip uninstall pandas')\",\n",
       "  'import pandas',\n",
       "  'import pandas',\n",
       "  \"get_ipython().system('date')\",\n",
       "  \"get_ipython().system('pip install pandas')\",\n",
       "  \"get_ipython().system('pip uninstall --yes pandas')\",\n",
       "  'import pandas',\n",
       "  \"get_ipython().system('pip install pandas==1.5.4')\",\n",
       "  \"get_ipython().system('pip install pandas==1.5')\",\n",
       "  \"get_ipython().system('pip install pandas')\",\n",
       "  \"get_ipython().system('pip install --upgrade pandas')\",\n",
       "  \"get_ipython().run_line_magic('history', '')\",\n",
       "  \"get_ipython().run_line_magic('time', '2 + 2')\",\n",
       "  \"get_ipython().run_line_magic('timeit', '2 + 2')\",\n",
       "  \"get_ipython().run_line_magic('timeit', '9 / 2')\",\n",
       "  \"get_ipython().run_line_magic('timeit', '9 ** 5 / (3 * 2) + 1')\",\n",
       "  'month = 4',\n",
       "  'type(month)',\n",
       "  'month = 4.0',\n",
       "  'type(month)',\n",
       "  'month = \"4\"',\n",
       "  'type(month)',\n",
       "  'month = 0',\n",
       "  'type(month)',\n",
       "  'month = 4',\n",
       "  'month = \"april\"',\n",
       "  'def f():\\n    x = 1',\n",
       "  'def f():\\nx = 1',\n",
       "  'def f():\\n    x = 1',\n",
       "  'x',\n",
       "  'import sys',\n",
       "  'type(sys)',\n",
       "  'sys.version',\n",
       "  'import pandas',\n",
       "  'pandas.version',\n",
       "  'pandas.__version__',\n",
       "  'type(sys)',\n",
       "  'from sys import version',\n",
       "  'version',\n",
       "  'import fantasy_module',\n",
       "  'sys.path',\n",
       "  '## Basic Syntax',\n",
       "  '1 + 1',\n",
       "  '1 + 1 ',\n",
       "  '1 + 1 \\n+ 3',\n",
       "  '1 + 1 + 3',\n",
       "  '# comment',\n",
       "  'help()',\n",
       "  'help(sys)',\n",
       "  'help(sys)',\n",
       "  'help(\"topics\")',\n",
       "  'help(\"namespaces\")',\n",
       "  'help(\"NAMESPACES\")',\n",
       "  'x = 2\\ny = 5\\nz = \"hey\"',\n",
       "  'x = 2\\ny = 5\\nz = \"hey\\'s\"',\n",
       "  \"x = 2\\ny = 5\\nz = 'hey'\",\n",
       "  'text = \"\"\"',\n",
       "  'text = \"\"\"\\na long\\ntext\\nhere\\n\"\"\"',\n",
       "  '# text = \"\"\"\\na long\\ntext\\nhere\\n\"\"\"',\n",
       "  'text = \"\"\"\\na long\\ntext\\nhere\\n\"\"\"',\n",
       "  'z = \\'\"\\'',\n",
       "  'x',\n",
       "  'print(x)',\n",
       "  'print(x, y)',\n",
       "  'z = 1',\n",
       "  'f = 1.0',\n",
       "  'z = 1e100',\n",
       "  'z',\n",
       "  'flag = True ',\n",
       "  'type(flag)',\n",
       "  'flag = False',\n",
       "  'complex(1, 2i)',\n",
       "  'complex(1, 2j)',\n",
       "  '1 + 2.0',\n",
       "  'round(1 + 2.0)',\n",
       "  'type(round(1 + 2.0))',\n",
       "  '3 / 4',\n",
       "  '3 // 4',\n",
       "  '15 % 10',\n",
       "  '11 ** 300',\n",
       "  '11.0 ** 300',\n",
       "  'z = 2',\n",
       "  'z > 2',\n",
       "  'z == 2',\n",
       "  'z > 2',\n",
       "  '0.5 <= z <= 1',\n",
       "  '0.5 <= z <= 3',\n",
       "  '0.5 <= z and <= 3',\n",
       "  '0.5 <= z and z <= 3',\n",
       "  '# and, or, not',\n",
       "  'a = 2\\nb = 3',\n",
       "  'a & b',\n",
       "  'bin(a)',\n",
       "  'bin(a), bin(b)',\n",
       "  'a | b',\n",
       "  'a ^ b # xor',\n",
       "  'a << 1',\n",
       "  'a << 2',\n",
       "  'Nona',\n",
       "  'None',\n",
       "  'x = None # null, nil',\n",
       "  'type(x)',\n",
       "  'z = 10',\n",
       "  'if z == 10:\\n    print(\"ok\")',\n",
       "  'bool(0)',\n",
       "  'bool(0), bool(1)',\n",
       "  'bool(\"\"), bool(\"abc\")',\n",
       "  'bool(0.0, 1.0)',\n",
       "  'bool(0.0), bool(1.0)',\n",
       "  'z = \"hello\"',\n",
       "  'if z:\\n    print(\"ok\")',\n",
       "  'z = \"\"',\n",
       "  'if z:\\n    print(\"ok\")\\nelse:\\n    print(\"empty string\")',\n",
       "  'if len(z) == 0:\\n    print(\"ok\")\\nelse:\\n    print(\"empty string\")',\n",
       "  'bool(None)',\n",
       "  'bool(sys)',\n",
       "  'bool(os)',\n",
       "  'int(\"abc\")',\n",
       "  'int(\"abc\")',\n",
       "  'int(\"100\")',\n",
       "  'str(100)',\n",
       "  'str(True)',\n",
       "  'str(1.0)',\n",
       "  'str(None)',\n",
       "  'float(\"abc\")',\n",
       "  'float(\"1e100\")',\n",
       "  'hex(100)',\n",
       "  'oct(100)',\n",
       "  'import math',\n",
       "  'math.log(math.e)',\n",
       "  'math.pi',\n",
       "  'round(3.5)',\n",
       "  'round(3.510001)',\n",
       "  'round(3.510001, 2)',\n",
       "  'divmod(9, 2)',\n",
       "  'z = divmod(9, 2)',\n",
       "  'type(z)',\n",
       "  'input(\"please enter a number\")',\n",
       "  'a = \"2\"\\nb = 3',\n",
       "  'a + b',\n",
       "  'Exception so farm',\n",
       "  'a = 1\\nb = 2.0',\n",
       "  'a + b',\n",
       "  's = \"hello\"',\n",
       "  \"get_ipython().run_line_magic('pinfo', 'print')\",\n",
       "  'help(print)',\n",
       "  'print(s)',\n",
       "  'print(s, s, s)',\n",
       "  'print(\"hello\", s)',\n",
       "  'print(\"hi: %s\" % z)',\n",
       "  'print(\"hi: %s\" % s)',\n",
       "  '# %s string\\n# %f float\\n# %d int',\n",
       "  'print(\"hi: %d\" % 1000)',\n",
       "  'print(\"hi: %0.2f\" % 1.335566)',\n",
       "  'print(\"%s %s\" % s, s)',\n",
       "  'print(\"%s %s\" % (s, s) )',\n",
       "  \"'{0}, {1}, {2}'.format('a', 'b', 'c')\",\n",
       "  \"'{1}, {0}, {2}'.format('a', 'b', 'c')\",\n",
       "  \"'{}, {}, {}'.format('a', 'b', 'c')\",\n",
       "  \"'{0}, {0}, {0}'.format('a', 'b', 'c')\",\n",
       "  'a = 1\\nb = 2\\nc = \"hello\"',\n",
       "  'print(f\"{a} {b} {c}\")',\n",
       "  'print(f\"{a} {b} {c}\") # python 3.6, f-string',\n",
       "  'print(\"{a} {b} {c}\") # python 3.6, f-string',\n",
       "  'print(f\"{a} {b} {c}\") # python 3.6, f-string',\n",
       "  's = \"hello\"',\n",
       "  's.__dict__',\n",
       "  's.__dict__',\n",
       "  's.__doc__',\n",
       "  's.__doc__',\n",
       "  'print(s.__doc__)',\n",
       "  's.upper()',\n",
       "  's.lower()',\n",
       "  'len(s)',\n",
       "  's.isdigit()',\n",
       "  's',\n",
       "  's.replace(\"ll\", \"lllll\")',\n",
       "  's = s.replace(\"ll\", \"lllll\")',\n",
       "  's',\n",
       "  's.startswith(\"h\")',\n",
       "  's.endswith(\"o\")',\n",
       "  's',\n",
       "  'z = 3',\n",
       "  \"s.encode('ascii')\",\n",
       "  '\"Ähnlich\".encode(\"ascii\")',\n",
       "  '\"Ähnlich\".encode(\"utf-8\")',\n",
       "  'encoded = \"Ähnlich\".encode(\"utf-8\")',\n",
       "  'type(encoded)',\n",
       "  'encoded',\n",
       "  'encoded.decode(\"utf-t\")',\n",
       "  'encoded.decode(\"utf-8\")',\n",
       "  'encoded.decode(\"ascii\")',\n",
       "  'encoded.decode(\"ascii\")',\n",
       "  'encoded.decode(\"utf-8\")',\n",
       "  'encoded.decode(\"utf-8\").encode(\"iso-8859-1\")',\n",
       "  's = \"hello\"',\n",
       "  'len(s)',\n",
       "  's ',\n",
       "  's[1]',\n",
       "  's[0:3]',\n",
       "  's[2:4]',\n",
       "  's[10:12]',\n",
       "  'len(s)',\n",
       "  's[10]',\n",
       "  's',\n",
       "  '__main__',\n",
       "  'locals()'],\n",
       " 'Out': {1: 4,\n",
       "  3: 4,\n",
       "  4: 4,\n",
       "  5: 4,\n",
       "  18: 4,\n",
       "  23: int,\n",
       "  25: float,\n",
       "  27: str,\n",
       "  29: int,\n",
       "  37: module,\n",
       "  38: '3.8.10 (default, Jul 19 2023, 22:20:26) \\n[GCC 11.3.0]',\n",
       "  41: '2.0.3',\n",
       "  42: module,\n",
       "  44: '3.8.10 (default, Jul 19 2023, 22:20:26) \\n[GCC 11.3.0]',\n",
       "  46: ['/home/tir/code/miku/pythonpath/Live',\n",
       "   '/home/tir/.pyenv/versions/3.8.10/lib/python38.zip',\n",
       "   '/home/tir/.pyenv/versions/3.8.10/lib/python3.8',\n",
       "   '/home/tir/.pyenv/versions/3.8.10/lib/python3.8/lib-dynload',\n",
       "   '',\n",
       "   '/home/tir/code/miku/pythonpath/.venv/lib/python3.8/site-packages'],\n",
       "  48: 2,\n",
       "  49: 2,\n",
       "  50: 3,\n",
       "  51: 5,\n",
       "  67: 2,\n",
       "  73: 1e+100,\n",
       "  75: bool,\n",
       "  78: (-1+0j),\n",
       "  79: 3.0,\n",
       "  80: 3,\n",
       "  81: int,\n",
       "  82: 0.75,\n",
       "  83: 0,\n",
       "  84: 5,\n",
       "  85: 2617010996188399907017032528972038342491649416953000260240805955827972056685382434497090341496787032585738884786745286700473999847280664191731008874811751310888591786111994678208920175143911761181424495660877950654145066969036252669735483098936884016471326487403792787648506879212630637101259246005701084327338001,\n",
       "  88: False,\n",
       "  89: True,\n",
       "  90: False,\n",
       "  91: False,\n",
       "  92: True,\n",
       "  94: True,\n",
       "  97: 2,\n",
       "  98: '0b10',\n",
       "  99: ('0b10', '0b11'),\n",
       "  100: 3,\n",
       "  101: 1,\n",
       "  102: 4,\n",
       "  103: 8,\n",
       "  107: NoneType,\n",
       "  110: False,\n",
       "  111: (False, True),\n",
       "  112: (False, True),\n",
       "  114: (False, True),\n",
       "  120: False,\n",
       "  121: True,\n",
       "  125: 100,\n",
       "  126: '100',\n",
       "  127: 'True',\n",
       "  128: '1.0',\n",
       "  129: 'None',\n",
       "  131: 1e+100,\n",
       "  132: '0x64',\n",
       "  133: '0o144',\n",
       "  135: 1.0,\n",
       "  136: 3.141592653589793,\n",
       "  137: 4,\n",
       "  138: 4,\n",
       "  139: 3.51,\n",
       "  140: (4, 1),\n",
       "  142: tuple,\n",
       "  143: '100',\n",
       "  148: 3.0,\n",
       "  162: 'a, b, c',\n",
       "  163: 'b, a, c',\n",
       "  164: 'a, b, c',\n",
       "  165: 'a, a, a',\n",
       "  174: \"str(object='') -> str\\nstr(bytes_or_buffer[, encoding[, errors]]) -> str\\n\\nCreate a new string object from the given object. If encoding or\\nerrors is specified, then the object must expose a data buffer\\nthat will be decoded using the given encoding and error handler.\\nOtherwise, returns the result of object.__str__() (if defined)\\nor repr(object).\\nencoding defaults to sys.getdefaultencoding().\\nerrors defaults to 'strict'.\",\n",
       "  175: \"str(object='') -> str\\nstr(bytes_or_buffer[, encoding[, errors]]) -> str\\n\\nCreate a new string object from the given object. If encoding or\\nerrors is specified, then the object must expose a data buffer\\nthat will be decoded using the given encoding and error handler.\\nOtherwise, returns the result of object.__str__() (if defined)\\nor repr(object).\\nencoding defaults to sys.getdefaultencoding().\\nerrors defaults to 'strict'.\",\n",
       "  177: 'HELLO',\n",
       "  178: 'hello',\n",
       "  179: 5,\n",
       "  180: False,\n",
       "  181: 'hello',\n",
       "  182: 'helllllo',\n",
       "  184: 'helllllo',\n",
       "  185: True,\n",
       "  186: True,\n",
       "  187: 'helllllo',\n",
       "  189: b'helllllo',\n",
       "  191: b'\\xc3\\x84hnlich',\n",
       "  193: bytes,\n",
       "  194: b'\\xc3\\x84hnlich',\n",
       "  196: 'Ähnlich',\n",
       "  199: 'Ähnlich',\n",
       "  200: b'\\xc4hnlich',\n",
       "  202: 5,\n",
       "  203: 'hello',\n",
       "  204: 'e',\n",
       "  205: 'hel',\n",
       "  206: 'll',\n",
       "  207: '',\n",
       "  208: 5,\n",
       "  210: 'hello'},\n",
       " 'get_ipython': <bound method InteractiveShell.get_ipython of <ipykernel.zmqshell.ZMQInteractiveShell object at 0x7351c3ab9f40>>,\n",
       " 'exit': <IPython.core.autocall.ZMQExitAutocall at 0x7351c3ac5cd0>,\n",
       " 'quit': <IPython.core.autocall.ZMQExitAutocall at 0x7351c3ac5cd0>,\n",
       " 'open': <function io.open(file, mode='r', buffering=-1, encoding=None, errors=None, newline=None, closefd=True, opener=None)>,\n",
       " '_': 'hello',\n",
       " '__': 5,\n",
       " '___': '',\n",
       " '__vsc_ipynb_file__': '/home/tir/code/miku/pythonpath/Live/hello.ipynb',\n",
       " '_i': '__main__',\n",
       " '_ii': 's',\n",
       " '_iii': 's[10]',\n",
       " '_i1': '2 + 2',\n",
       " '_1': 4,\n",
       " '_i2': '213³',\n",
       " '_i3': '2 + 2',\n",
       " '_3': 4,\n",
       " '_i4': '2 + 2',\n",
       " '_4': 4,\n",
       " '_i5': '2 + 2',\n",
       " '_5': 4,\n",
       " '_i6': '!pip uninstall pandas',\n",
       " '_exit_code': 0,\n",
       " '_i7': 'import pandas',\n",
       " '_i8': 'import pandas',\n",
       " '_i9': '!date',\n",
       " '_i10': '!pip install pandas',\n",
       " '_i11': '!pip uninstall --yes pandas',\n",
       " '_i12': 'import pandas',\n",
       " '_i13': '!pip install pandas==1.5.4',\n",
       " '_i14': '!pip install pandas==1.5',\n",
       " '_i15': '!pip install pandas',\n",
       " '_i16': '!pip install --upgrade pandas',\n",
       " '_i17': '%history',\n",
       " '_i18': '%time 2 + 2',\n",
       " '_18': 4,\n",
       " '_i19': '%timeit 2 + 2',\n",
       " '_i20': '%timeit 9 / 2',\n",
       " '_i21': '%timeit 9 ** 5 / (3 * 2) + 1',\n",
       " '_i22': 'month = 4',\n",
       " 'month': 'april',\n",
       " '_i23': 'type(month)',\n",
       " '_23': int,\n",
       " '_i24': 'month = 4.0',\n",
       " '_i25': 'type(month)',\n",
       " '_25': float,\n",
       " '_i26': 'month = \"4\"',\n",
       " '_i27': 'type(month)',\n",
       " '_27': str,\n",
       " '_i28': 'month = 0',\n",
       " '_i29': 'type(month)',\n",
       " '_29': int,\n",
       " '_i30': 'month = 4',\n",
       " '_i31': 'month = \"april\"',\n",
       " '_i32': 'def f():\\n    x = 1',\n",
       " 'f': 1.0,\n",
       " '_i33': 'def f():\\nx = 1',\n",
       " '_i34': 'def f():\\n    x = 1',\n",
       " '_i35': 'x',\n",
       " '_i36': 'import sys',\n",
       " 'sys': <module 'sys' (built-in)>,\n",
       " '_i37': 'type(sys)',\n",
       " '_37': module,\n",
       " '_i38': 'sys.version',\n",
       " '_38': '3.8.10 (default, Jul 19 2023, 22:20:26) \\n[GCC 11.3.0]',\n",
       " '_i39': 'import pandas',\n",
       " 'pandas': <module 'pandas' from '/home/tir/code/miku/pythonpath/.venv/lib/python3.8/site-packages/pandas/__init__.py'>,\n",
       " '_i40': 'pandas.version',\n",
       " '_i41': 'pandas.__version__',\n",
       " '_41': '2.0.3',\n",
       " '_i42': 'type(sys)',\n",
       " '_42': module,\n",
       " '_i43': 'from sys import version',\n",
       " 'version': '3.8.10 (default, Jul 19 2023, 22:20:26) \\n[GCC 11.3.0]',\n",
       " '_i44': 'version',\n",
       " '_44': '3.8.10 (default, Jul 19 2023, 22:20:26) \\n[GCC 11.3.0]',\n",
       " '_i45': 'import fantasy_module',\n",
       " '_i46': 'sys.path',\n",
       " '_46': ['/home/tir/code/miku/pythonpath/Live',\n",
       "  '/home/tir/.pyenv/versions/3.8.10/lib/python38.zip',\n",
       "  '/home/tir/.pyenv/versions/3.8.10/lib/python3.8',\n",
       "  '/home/tir/.pyenv/versions/3.8.10/lib/python3.8/lib-dynload',\n",
       "  '',\n",
       "  '/home/tir/code/miku/pythonpath/.venv/lib/python3.8/site-packages'],\n",
       " '_i47': '## Basic Syntax',\n",
       " '_i48': '1 + 1',\n",
       " '_48': 2,\n",
       " '_i49': '1 + 1 ',\n",
       " '_49': 2,\n",
       " '_i50': '1 + 1 \\n+ 3',\n",
       " '_50': 3,\n",
       " '_i51': '1 + 1 + 3',\n",
       " '_51': 5,\n",
       " '_i52': '# comment',\n",
       " '_i53': 'help()',\n",
       " '_i54': 'help(sys)',\n",
       " '_i55': 'help(sys)',\n",
       " '_i56': 'help(\"topics\")',\n",
       " '_i57': 'help(\"namespaces\")',\n",
       " '_i58': 'help(\"NAMESPACES\")',\n",
       " '_i59': 'x = 2\\ny = 5\\nz = \"hey\"',\n",
       " 'x': None,\n",
       " 'y': 5,\n",
       " 'z': 3,\n",
       " '_i60': 'x = 2\\ny = 5\\nz = \"hey\\'s\"',\n",
       " '_i61': \"x = 2\\ny = 5\\nz = 'hey'\",\n",
       " '_i62': 'text = \"\"\"',\n",
       " '_i63': 'text = \"\"\"\\na long\\ntext\\nhere\\n\"\"\"',\n",
       " 'text': '\\na long\\ntext\\nhere\\n',\n",
       " '_i64': '# text = \"\"\"\\na long\\ntext\\nhere\\n\"\"\"',\n",
       " '_i65': 'text = \"\"\"\\na long\\ntext\\nhere\\n\"\"\"',\n",
       " '_i66': 'z = \\'\"\\'',\n",
       " '_i67': 'x',\n",
       " '_67': 2,\n",
       " '_i68': 'print(x)',\n",
       " '_i69': 'print(x, y)',\n",
       " '_i70': 'z = 1',\n",
       " '_i71': 'f = 1.0',\n",
       " '_i72': 'z = 1e100',\n",
       " '_i73': 'z',\n",
       " '_73': 1e+100,\n",
       " '_i74': 'flag = True ',\n",
       " 'flag': False,\n",
       " '_i75': 'type(flag)',\n",
       " '_75': bool,\n",
       " '_i76': 'flag = False',\n",
       " '_i77': 'complex(1, 2i)',\n",
       " '_i78': 'complex(1, 2j)',\n",
       " '_78': (-1+0j),\n",
       " '_i79': '1 + 2.0',\n",
       " '_79': 3.0,\n",
       " '_i80': 'round(1 + 2.0)',\n",
       " '_80': 3,\n",
       " '_i81': 'type(round(1 + 2.0))',\n",
       " '_81': int,\n",
       " '_i82': '3 / 4',\n",
       " '_82': 0.75,\n",
       " '_i83': '3 // 4',\n",
       " '_83': 0,\n",
       " '_i84': '15 % 10',\n",
       " '_84': 5,\n",
       " '_i85': '11 ** 300',\n",
       " '_85': 2617010996188399907017032528972038342491649416953000260240805955827972056685382434497090341496787032585738884786745286700473999847280664191731008874811751310888591786111994678208920175143911761181424495660877950654145066969036252669735483098936884016471326487403792787648506879212630637101259246005701084327338001,\n",
       " '_i86': '11.0 ** 300',\n",
       " '_i87': 'z = 2',\n",
       " '_i88': 'z > 2',\n",
       " '_88': False,\n",
       " '_i89': 'z == 2',\n",
       " '_89': True,\n",
       " '_i90': 'z > 2',\n",
       " '_90': False,\n",
       " '_i91': '0.5 <= z <= 1',\n",
       " '_91': False,\n",
       " '_i92': '0.5 <= z <= 3',\n",
       " '_92': True,\n",
       " '_i93': '0.5 <= z and <= 3',\n",
       " '_i94': '0.5 <= z and z <= 3',\n",
       " '_94': True,\n",
       " '_i95': '# and, or, not',\n",
       " '_i96': 'a = 2\\nb = 3',\n",
       " 'a': 1,\n",
       " 'b': 2,\n",
       " '_i97': 'a & b',\n",
       " '_97': 2,\n",
       " '_i98': 'bin(a)',\n",
       " '_98': '0b10',\n",
       " '_i99': 'bin(a), bin(b)',\n",
       " '_99': ('0b10', '0b11'),\n",
       " '_i100': 'a | b',\n",
       " '_100': 3,\n",
       " '_i101': 'a ^ b # xor',\n",
       " '_101': 1,\n",
       " '_i102': 'a << 1',\n",
       " '_102': 4,\n",
       " '_i103': 'a << 2',\n",
       " '_103': 8,\n",
       " '_i104': 'Nona',\n",
       " '_i105': 'None',\n",
       " '_i106': 'x = None # null, nil',\n",
       " '_i107': 'type(x)',\n",
       " '_107': NoneType,\n",
       " '_i108': 'z = 10',\n",
       " '_i109': 'if z == 10:\\n    print(\"ok\")',\n",
       " '_i110': 'bool(0)',\n",
       " '_110': False,\n",
       " '_i111': 'bool(0), bool(1)',\n",
       " '_111': (False, True),\n",
       " '_i112': 'bool(\"\"), bool(\"abc\")',\n",
       " '_112': (False, True),\n",
       " '_i113': 'bool(0.0, 1.0)',\n",
       " '_i114': 'bool(0.0), bool(1.0)',\n",
       " '_114': (False, True),\n",
       " '_i115': 'z = \"hello\"',\n",
       " '_i116': 'if z:\\n    print(\"ok\")',\n",
       " '_i117': 'z = \"\"',\n",
       " '_i118': 'if z:\\n    print(\"ok\")\\nelse:\\n    print(\"empty string\")',\n",
       " '_i119': 'if len(z) == 0:\\n    print(\"ok\")\\nelse:\\n    print(\"empty string\")',\n",
       " '_i120': 'bool(None)',\n",
       " '_120': False,\n",
       " '_i121': 'bool(sys)',\n",
       " '_121': True,\n",
       " '_i122': 'bool(os)',\n",
       " '_i123': 'int(\"abc\")',\n",
       " '_i124': 'int(\"abc\")',\n",
       " '_i125': 'int(\"100\")',\n",
       " '_125': 100,\n",
       " '_i126': 'str(100)',\n",
       " '_126': '100',\n",
       " '_i127': 'str(True)',\n",
       " '_127': 'True',\n",
       " '_i128': 'str(1.0)',\n",
       " '_128': '1.0',\n",
       " '_i129': 'str(None)',\n",
       " '_129': 'None',\n",
       " '_i130': 'float(\"abc\")',\n",
       " '_i131': 'float(\"1e100\")',\n",
       " '_131': 1e+100,\n",
       " '_i132': 'hex(100)',\n",
       " '_132': '0x64',\n",
       " '_i133': 'oct(100)',\n",
       " '_133': '0o144',\n",
       " '_i134': 'import math',\n",
       " 'math': <module 'math' from '/home/tir/.pyenv/versions/3.8.10/lib/python3.8/lib-dynload/math.cpython-38-x86_64-linux-gnu.so'>,\n",
       " '_i135': 'math.log(math.e)',\n",
       " '_135': 1.0,\n",
       " '_i136': 'math.pi',\n",
       " '_136': 3.141592653589793,\n",
       " '_i137': 'round(3.5)',\n",
       " '_137': 4,\n",
       " '_i138': 'round(3.510001)',\n",
       " '_138': 4,\n",
       " '_i139': 'round(3.510001, 2)',\n",
       " '_139': 3.51,\n",
       " '_i140': 'divmod(9, 2)',\n",
       " '_140': (4, 1),\n",
       " '_i141': 'z = divmod(9, 2)',\n",
       " '_i142': 'type(z)',\n",
       " '_142': tuple,\n",
       " '_i143': 'input(\"please enter a number\")',\n",
       " '_143': '100',\n",
       " '_i144': 'a = \"2\"\\nb = 3',\n",
       " '_i145': 'a + b',\n",
       " '_i146': 'Exception so farm',\n",
       " '_i147': 'a = 1\\nb = 2.0',\n",
       " '_i148': 'a + b',\n",
       " '_148': 3.0,\n",
       " '_i149': 's = \"hello\"',\n",
       " 's': 'hello',\n",
       " '_i150': 'print?',\n",
       " '_i151': 'help(print)',\n",
       " '_i152': 'print(s)',\n",
       " '_i153': 'print(s, s, s)',\n",
       " '_i154': 'print(\"hello\", s)',\n",
       " '_i155': 'print(\"hi: %s\" % z)',\n",
       " '_i156': 'print(\"hi: %s\" % s)',\n",
       " '_i157': '# %s string\\n# %f float\\n# %d int',\n",
       " '_i158': 'print(\"hi: %d\" % 1000)',\n",
       " '_i159': 'print(\"hi: %0.2f\" % 1.335566)',\n",
       " '_i160': 'print(\"%s %s\" % s, s)',\n",
       " '_i161': 'print(\"%s %s\" % (s, s) )',\n",
       " '_i162': \"'{0}, {1}, {2}'.format('a', 'b', 'c')\",\n",
       " '_162': 'a, b, c',\n",
       " '_i163': \"'{1}, {0}, {2}'.format('a', 'b', 'c')\",\n",
       " '_163': 'b, a, c',\n",
       " '_i164': \"'{}, {}, {}'.format('a', 'b', 'c')\",\n",
       " '_164': 'a, b, c',\n",
       " '_i165': \"'{0}, {0}, {0}'.format('a', 'b', 'c')\",\n",
       " '_165': 'a, a, a',\n",
       " '_i166': 'a = 1\\nb = 2\\nc = \"hello\"',\n",
       " 'c': 'hello',\n",
       " '_i167': 'print(f\"{a} {b} {c}\")',\n",
       " '_i168': 'print(f\"{a} {b} {c}\") # python 3.6, f-string',\n",
       " '_i169': 'print(\"{a} {b} {c}\") # python 3.6, f-string',\n",
       " '_i170': 'print(f\"{a} {b} {c}\") # python 3.6, f-string',\n",
       " '_i171': 's = \"hello\"',\n",
       " '_i172': 's.__dict__',\n",
       " '_i173': 's.__dict__',\n",
       " '_i174': 's.__doc__',\n",
       " '_174': \"str(object='') -> str\\nstr(bytes_or_buffer[, encoding[, errors]]) -> str\\n\\nCreate a new string object from the given object. If encoding or\\nerrors is specified, then the object must expose a data buffer\\nthat will be decoded using the given encoding and error handler.\\nOtherwise, returns the result of object.__str__() (if defined)\\nor repr(object).\\nencoding defaults to sys.getdefaultencoding().\\nerrors defaults to 'strict'.\",\n",
       " '_i175': 's.__doc__',\n",
       " '_175': \"str(object='') -> str\\nstr(bytes_or_buffer[, encoding[, errors]]) -> str\\n\\nCreate a new string object from the given object. If encoding or\\nerrors is specified, then the object must expose a data buffer\\nthat will be decoded using the given encoding and error handler.\\nOtherwise, returns the result of object.__str__() (if defined)\\nor repr(object).\\nencoding defaults to sys.getdefaultencoding().\\nerrors defaults to 'strict'.\",\n",
       " '_i176': 'print(s.__doc__)',\n",
       " '_i177': 's.upper()',\n",
       " '_177': 'HELLO',\n",
       " '_i178': 's.lower()',\n",
       " '_178': 'hello',\n",
       " '_i179': 'len(s)',\n",
       " '_179': 5,\n",
       " '_i180': 's.isdigit()',\n",
       " '_180': False,\n",
       " '_i181': 's',\n",
       " '_181': 'hello',\n",
       " '_i182': 's.replace(\"ll\", \"lllll\")',\n",
       " '_182': 'helllllo',\n",
       " '_i183': 's = s.replace(\"ll\", \"lllll\")',\n",
       " '_i184': 's',\n",
       " '_184': 'helllllo',\n",
       " '_i185': 's.startswith(\"h\")',\n",
       " '_185': True,\n",
       " '_i186': 's.endswith(\"o\")',\n",
       " '_186': True,\n",
       " '_i187': 's',\n",
       " '_187': 'helllllo',\n",
       " '_i188': 'z = 3',\n",
       " '_i189': \"s.encode('ascii')\",\n",
       " '_189': b'helllllo',\n",
       " '_i190': '\"Ähnlich\".encode(\"ascii\")',\n",
       " '_i191': '\"Ähnlich\".encode(\"utf-8\")',\n",
       " '_191': b'\\xc3\\x84hnlich',\n",
       " '_i192': 'encoded = \"Ähnlich\".encode(\"utf-8\")',\n",
       " 'encoded': b'\\xc3\\x84hnlich',\n",
       " '_i193': 'type(encoded)',\n",
       " '_193': bytes,\n",
       " '_i194': 'encoded',\n",
       " '_194': b'\\xc3\\x84hnlich',\n",
       " '_i195': 'encoded.decode(\"utf-t\")',\n",
       " '_i196': 'encoded.decode(\"utf-8\")',\n",
       " '_196': 'Ähnlich',\n",
       " '_i197': 'encoded.decode(\"ascii\")',\n",
       " '_i198': 'encoded.decode(\"ascii\")',\n",
       " '_i199': 'encoded.decode(\"utf-8\")',\n",
       " '_199': 'Ähnlich',\n",
       " '_i200': 'encoded.decode(\"utf-8\").encode(\"iso-8859-1\")',\n",
       " '_200': b'\\xc4hnlich',\n",
       " '_i201': 's = \"hello\"',\n",
       " '_i202': 'len(s)',\n",
       " '_202': 5,\n",
       " '_i203': 's ',\n",
       " '_203': 'hello',\n",
       " '_i204': 's[1]',\n",
       " '_204': 'e',\n",
       " '_i205': 's[0:3]',\n",
       " '_205': 'hel',\n",
       " '_i206': 's[2:4]',\n",
       " '_206': 'll',\n",
       " '_i207': 's[10:12]',\n",
       " '_207': '',\n",
       " '_i208': 'len(s)',\n",
       " '_208': 5,\n",
       " '_i209': 's[10]',\n",
       " '_i210': 's',\n",
       " '_210': 'hello',\n",
       " '_i211': '__main__',\n",
       " '_i212': 'locals()'}"
      ]
     },
     "execution_count": 212,
     "metadata": {},
     "output_type": "execute_result"
    }
   ],
   "source": [
    "locals()"
   ]
  },
  {
   "cell_type": "code",
   "execution_count": 213,
   "metadata": {},
   "outputs": [],
   "source": [
    "# zzz"
   ]
  },
  {
   "cell_type": "code",
   "execution_count": 216,
   "metadata": {},
   "outputs": [
    {
     "name": "stdout",
     "output_type": "stream",
     "text": [
      "s gibts\n"
     ]
    }
   ],
   "source": [
    "if \"s\" in locals():\n",
    "    print(\"s gibts\")\n",
    "else:\n",
    "    print(\"gibts nicht\")"
   ]
  },
  {
   "cell_type": "code",
   "execution_count": 217,
   "metadata": {},
   "outputs": [],
   "source": [
    "locals()[\"xxx\"] = 123"
   ]
  },
  {
   "cell_type": "code",
   "execution_count": 218,
   "metadata": {},
   "outputs": [
    {
     "data": {
      "text/plain": [
       "123"
      ]
     },
     "execution_count": 218,
     "metadata": {},
     "output_type": "execute_result"
    }
   ],
   "source": [
    "xxx"
   ]
  },
  {
   "cell_type": "code",
   "execution_count": 219,
   "metadata": {},
   "outputs": [
    {
     "ename": "IndexError",
     "evalue": "string index out of range",
     "output_type": "error",
     "traceback": [
      "\u001b[0;31m---------------------------------------------------------------------------\u001b[0m",
      "\u001b[0;31mIndexError\u001b[0m                                Traceback (most recent call last)",
      "Cell \u001b[0;32mIn[219], line 1\u001b[0m\n\u001b[0;32m----> 1\u001b[0m \u001b[43ms\u001b[49m\u001b[43m[\u001b[49m\u001b[38;5;241;43m10\u001b[39;49m\u001b[43m]\u001b[49m\n",
      "\u001b[0;31mIndexError\u001b[0m: string index out of range"
     ]
    }
   ],
   "source": [
    "s[10]"
   ]
  },
  {
   "cell_type": "markdown",
   "metadata": {},
   "source": [
    "Exception so far\n",
    "\n",
    "* NameError\n",
    "* ValueError\n",
    "* TypeError\n",
    "* SyntaxError\n",
    "* IndentationError\n",
    "* ModuleNotFoundError\n",
    "* IndexError"
   ]
  },
  {
   "cell_type": "code",
   "execution_count": 221,
   "metadata": {},
   "outputs": [
    {
     "data": {
      "text/plain": [
       "'hello'"
      ]
     },
     "execution_count": 221,
     "metadata": {},
     "output_type": "execute_result"
    }
   ],
   "source": [
    "s"
   ]
  },
  {
   "cell_type": "code",
   "execution_count": 223,
   "metadata": {},
   "outputs": [
    {
     "data": {
      "text/plain": [
       "''"
      ]
     },
     "execution_count": 223,
     "metadata": {},
     "output_type": "execute_result"
    }
   ],
   "source": [
    "s[10:12]"
   ]
  },
  {
   "cell_type": "code",
   "execution_count": 225,
   "metadata": {},
   "outputs": [
    {
     "data": {
      "text/plain": [
       "'o'"
      ]
     },
     "execution_count": 225,
     "metadata": {},
     "output_type": "execute_result"
    }
   ],
   "source": [
    "s[4:8]"
   ]
  },
  {
   "cell_type": "code",
   "execution_count": 227,
   "metadata": {},
   "outputs": [
    {
     "data": {
      "text/plain": [
       "'l'"
      ]
     },
     "execution_count": 227,
     "metadata": {},
     "output_type": "execute_result"
    }
   ],
   "source": [
    "s[-2]"
   ]
  },
  {
   "cell_type": "code",
   "execution_count": 228,
   "metadata": {},
   "outputs": [
    {
     "data": {
      "text/plain": [
       "'ll'"
      ]
     },
     "execution_count": 228,
     "metadata": {},
     "output_type": "execute_result"
    }
   ],
   "source": [
    "s[-3:-1]"
   ]
  },
  {
   "cell_type": "code",
   "execution_count": 230,
   "metadata": {},
   "outputs": [
    {
     "data": {
      "text/plain": [
       "'hl'"
      ]
     },
     "execution_count": 230,
     "metadata": {},
     "output_type": "execute_result"
    }
   ],
   "source": [
    "s[0:4:2]"
   ]
  },
  {
   "cell_type": "code",
   "execution_count": 238,
   "metadata": {},
   "outputs": [],
   "source": [
    "import operator"
   ]
  },
  {
   "cell_type": "code",
   "execution_count": 240,
   "metadata": {},
   "outputs": [],
   "source": [
    "g = operator.itemgetter(1, 3, 5, 9, 100)"
   ]
  },
  {
   "cell_type": "code",
   "execution_count": 242,
   "metadata": {},
   "outputs": [
    {
     "data": {
      "text/plain": [
       "'hellohellohellohellohellohellohellohellohellohellohellohellohellohellohellohellohellohellohellohellohello'"
      ]
     },
     "execution_count": 242,
     "metadata": {},
     "output_type": "execute_result"
    }
   ],
   "source": [
    "s * 21"
   ]
  },
  {
   "cell_type": "code",
   "execution_count": 245,
   "metadata": {},
   "outputs": [],
   "source": [
    "t = s * 21"
   ]
  },
  {
   "cell_type": "code",
   "execution_count": 246,
   "metadata": {},
   "outputs": [
    {
     "data": {
      "text/plain": [
       "105"
      ]
     },
     "execution_count": 246,
     "metadata": {},
     "output_type": "execute_result"
    }
   ],
   "source": [
    "len(t)"
   ]
  },
  {
   "cell_type": "code",
   "execution_count": 247,
   "metadata": {},
   "outputs": [
    {
     "data": {
      "text/plain": [
       "('e', 'l', 'h', 'o', 'h')"
      ]
     },
     "execution_count": 247,
     "metadata": {},
     "output_type": "execute_result"
    }
   ],
   "source": [
    "g(t)"
   ]
  },
  {
   "cell_type": "code",
   "execution_count": 248,
   "metadata": {},
   "outputs": [],
   "source": [
    "s = \"hello\""
   ]
  },
  {
   "cell_type": "code",
   "execution_count": 249,
   "metadata": {},
   "outputs": [],
   "source": [
    "ix = slice(0, 3)"
   ]
  },
  {
   "cell_type": "code",
   "execution_count": 250,
   "metadata": {},
   "outputs": [
    {
     "data": {
      "text/plain": [
       "slice"
      ]
     },
     "execution_count": 250,
     "metadata": {},
     "output_type": "execute_result"
    }
   ],
   "source": [
    "type(ix)"
   ]
  },
  {
   "cell_type": "code",
   "execution_count": 254,
   "metadata": {},
   "outputs": [
    {
     "data": {
      "text/plain": [
       "'hel'"
      ]
     },
     "execution_count": 254,
     "metadata": {},
     "output_type": "execute_result"
    }
   ],
   "source": [
    "s[ix]"
   ]
  },
  {
   "cell_type": "code",
   "execution_count": 258,
   "metadata": {},
   "outputs": [],
   "source": [
    "parts = \"hello world\".split()"
   ]
  },
  {
   "cell_type": "code",
   "execution_count": 259,
   "metadata": {},
   "outputs": [
    {
     "data": {
      "text/plain": [
       "list"
      ]
     },
     "execution_count": 259,
     "metadata": {},
     "output_type": "execute_result"
    }
   ],
   "source": [
    "type(parts)"
   ]
  },
  {
   "cell_type": "code",
   "execution_count": 261,
   "metadata": {},
   "outputs": [
    {
     "data": {
      "text/plain": [
       "'hello@@@world'"
      ]
     },
     "execution_count": 261,
     "metadata": {},
     "output_type": "execute_result"
    }
   ],
   "source": [
    "\"@@@\".join(parts)"
   ]
  },
  {
   "cell_type": "code",
   "execution_count": 262,
   "metadata": {},
   "outputs": [
    {
     "data": {
      "text/plain": [
       "'hello'"
      ]
     },
     "execution_count": 262,
     "metadata": {},
     "output_type": "execute_result"
    }
   ],
   "source": [
    "s"
   ]
  },
  {
   "cell_type": "code",
   "execution_count": 263,
   "metadata": {},
   "outputs": [
    {
     "ename": "TypeError",
     "evalue": "'str' object does not support item assignment",
     "output_type": "error",
     "traceback": [
      "\u001b[0;31m---------------------------------------------------------------------------\u001b[0m",
      "\u001b[0;31mTypeError\u001b[0m                                 Traceback (most recent call last)",
      "Cell \u001b[0;32mIn[263], line 1\u001b[0m\n\u001b[0;32m----> 1\u001b[0m \u001b[43ms\u001b[49m\u001b[43m[\u001b[49m\u001b[38;5;241;43m0\u001b[39;49m\u001b[43m]\u001b[49m \u001b[38;5;241m=\u001b[39m \u001b[38;5;124m\"\u001b[39m\u001b[38;5;124mH\u001b[39m\u001b[38;5;124m\"\u001b[39m\n",
      "\u001b[0;31mTypeError\u001b[0m: 'str' object does not support item assignment"
     ]
    }
   ],
   "source": [
    "s[0] = \"H\""
   ]
  },
  {
   "cell_type": "code",
   "execution_count": 265,
   "metadata": {},
   "outputs": [
    {
     "data": {
      "text/plain": [
       "'hello'"
      ]
     },
     "execution_count": 265,
     "metadata": {},
     "output_type": "execute_result"
    }
   ],
   "source": [
    "s"
   ]
  },
  {
   "cell_type": "code",
   "execution_count": 266,
   "metadata": {},
   "outputs": [],
   "source": [
    "t = \"world\""
   ]
  },
  {
   "cell_type": "code",
   "execution_count": 267,
   "metadata": {},
   "outputs": [
    {
     "data": {
      "text/plain": [
       "'helloworld'"
      ]
     },
     "execution_count": 267,
     "metadata": {},
     "output_type": "execute_result"
    }
   ],
   "source": [
    "s + t"
   ]
  },
  {
   "cell_type": "code",
   "execution_count": 269,
   "metadata": {},
   "outputs": [
    {
     "data": {
      "text/plain": [
       "'hello world!!!!!!!!!!!!!!!!!!!!!!'"
      ]
     },
     "execution_count": 269,
     "metadata": {},
     "output_type": "execute_result"
    }
   ],
   "source": [
    "s + \" \" + t + \"!\" * 22"
   ]
  },
  {
   "cell_type": "code",
   "execution_count": 270,
   "metadata": {},
   "outputs": [
    {
     "name": "stdout",
     "output_type": "stream",
     "text": [
      "\u001b[0;31mDocstring:\u001b[0m\n",
      "print(value, ..., sep=' ', end='\\n', file=sys.stdout, flush=False)\n",
      "\n",
      "Prints the values to a stream, or to sys.stdout by default.\n",
      "Optional keyword arguments:\n",
      "file:  a file-like object (stream); defaults to the current sys.stdout.\n",
      "sep:   string inserted between values, default a space.\n",
      "end:   string appended after the last value, default a newline.\n",
      "flush: whether to forcibly flush the stream.\n",
      "\u001b[0;31mType:\u001b[0m      builtin_function_or_method"
     ]
    }
   ],
   "source": [
    "print?"
   ]
  },
  {
   "cell_type": "code",
   "execution_count": 271,
   "metadata": {},
   "outputs": [],
   "source": [
    "import io"
   ]
  },
  {
   "cell_type": "code",
   "execution_count": 272,
   "metadata": {},
   "outputs": [],
   "source": [
    "sio = io.StringIO()"
   ]
  },
  {
   "cell_type": "code",
   "execution_count": 275,
   "metadata": {},
   "outputs": [
    {
     "ename": "AttributeError",
     "evalue": "module 'sys' has no attribute 'write'",
     "output_type": "error",
     "traceback": [
      "\u001b[0;31m---------------------------------------------------------------------------\u001b[0m",
      "\u001b[0;31mAttributeError\u001b[0m                            Traceback (most recent call last)",
      "Cell \u001b[0;32mIn[275], line 1\u001b[0m\n\u001b[0;32m----> 1\u001b[0m \u001b[38;5;28;43mprint\u001b[39;49m\u001b[43m(\u001b[49m\u001b[38;5;124;43m\"\u001b[39;49m\u001b[38;5;124;43mhello \u001b[39;49m\u001b[38;5;124;43m\"\u001b[39;49m\u001b[43m \u001b[49m\u001b[38;5;241;43m+\u001b[39;49m\u001b[43m \u001b[49m\u001b[43mt\u001b[49m\u001b[43m,\u001b[49m\u001b[43m \u001b[49m\u001b[43mfile\u001b[49m\u001b[38;5;241;43m=\u001b[39;49m\u001b[43msys\u001b[49m\u001b[43m)\u001b[49m\n",
      "\u001b[0;31mAttributeError\u001b[0m: module 'sys' has no attribute 'write'"
     ]
    }
   ],
   "source": [
    "print(\"hello \" + t, file=sys)"
   ]
  },
  {
   "cell_type": "code",
   "execution_count": 274,
   "metadata": {},
   "outputs": [
    {
     "data": {
      "text/plain": [
       "'hello world\\n'"
      ]
     },
     "execution_count": 274,
     "metadata": {},
     "output_type": "execute_result"
    }
   ],
   "source": [
    "sio.getvalue()"
   ]
  },
  {
   "cell_type": "code",
   "execution_count": 276,
   "metadata": {},
   "outputs": [
    {
     "name": "stderr",
     "output_type": "stream",
     "text": [
      "something failed\n"
     ]
    }
   ],
   "source": [
    "print(\"something failed\", file=sys.stderr)"
   ]
  },
  {
   "cell_type": "markdown",
   "metadata": {},
   "source": [
    "### Container types\n",
    "\n",
    "* list\n",
    "* dict\n",
    "* tuple\n",
    "* set"
   ]
  },
  {
   "cell_type": "code",
   "execution_count": 277,
   "metadata": {},
   "outputs": [],
   "source": [
    "a = []"
   ]
  },
  {
   "cell_type": "code",
   "execution_count": 278,
   "metadata": {},
   "outputs": [
    {
     "data": {
      "text/plain": [
       "list"
      ]
     },
     "execution_count": 278,
     "metadata": {},
     "output_type": "execute_result"
    }
   ],
   "source": [
    "type(a)"
   ]
  },
  {
   "cell_type": "code",
   "execution_count": 279,
   "metadata": {},
   "outputs": [],
   "source": [
    "a = [1, 2, 3]"
   ]
  },
  {
   "cell_type": "code",
   "execution_count": 280,
   "metadata": {},
   "outputs": [
    {
     "data": {
      "text/plain": [
       "3"
      ]
     },
     "execution_count": 280,
     "metadata": {},
     "output_type": "execute_result"
    }
   ],
   "source": [
    "len(a)"
   ]
  },
  {
   "cell_type": "code",
   "execution_count": 282,
   "metadata": {},
   "outputs": [],
   "source": [
    "a = list() # []"
   ]
  },
  {
   "cell_type": "code",
   "execution_count": 283,
   "metadata": {},
   "outputs": [],
   "source": [
    "a = [1, 2, 3, 4, 5, 6, 7, 8]"
   ]
  },
  {
   "cell_type": "code",
   "execution_count": 292,
   "metadata": {},
   "outputs": [],
   "source": [
    "x = a[2:4] # allocates!"
   ]
  },
  {
   "cell_type": "code",
   "execution_count": 289,
   "metadata": {},
   "outputs": [],
   "source": [
    "x[0] = 1"
   ]
  },
  {
   "cell_type": "code",
   "execution_count": 290,
   "metadata": {},
   "outputs": [
    {
     "data": {
      "text/plain": [
       "[1, 4]"
      ]
     },
     "execution_count": 290,
     "metadata": {},
     "output_type": "execute_result"
    }
   ],
   "source": [
    "x"
   ]
  },
  {
   "cell_type": "code",
   "execution_count": 291,
   "metadata": {},
   "outputs": [
    {
     "data": {
      "text/plain": [
       "[1, 2, 3, 4, 5, 6, 7, 8]"
      ]
     },
     "execution_count": 291,
     "metadata": {},
     "output_type": "execute_result"
    }
   ],
   "source": [
    "a"
   ]
  },
  {
   "cell_type": "code",
   "execution_count": 293,
   "metadata": {},
   "outputs": [
    {
     "data": {
      "text/plain": [
       "8"
      ]
     },
     "execution_count": 293,
     "metadata": {},
     "output_type": "execute_result"
    }
   ],
   "source": [
    "max(a)"
   ]
  },
  {
   "cell_type": "code",
   "execution_count": 294,
   "metadata": {},
   "outputs": [
    {
     "data": {
      "text/plain": [
       "1"
      ]
     },
     "execution_count": 294,
     "metadata": {},
     "output_type": "execute_result"
    }
   ],
   "source": [
    "min(a)"
   ]
  },
  {
   "cell_type": "code",
   "execution_count": 295,
   "metadata": {},
   "outputs": [
    {
     "data": {
      "text/plain": [
       "36"
      ]
     },
     "execution_count": 295,
     "metadata": {},
     "output_type": "execute_result"
    }
   ],
   "source": [
    "sum(a)"
   ]
  },
  {
   "cell_type": "code",
   "execution_count": 297,
   "metadata": {},
   "outputs": [],
   "source": [
    "a[0] = 10"
   ]
  },
  {
   "cell_type": "code",
   "execution_count": 298,
   "metadata": {},
   "outputs": [
    {
     "data": {
      "text/plain": [
       "[10, 2, 3, 4, 5, 6, 7, 8]"
      ]
     },
     "execution_count": 298,
     "metadata": {},
     "output_type": "execute_result"
    }
   ],
   "source": [
    "a"
   ]
  },
  {
   "cell_type": "code",
   "execution_count": 299,
   "metadata": {},
   "outputs": [
    {
     "data": {
      "text/plain": [
       "[2, 3, 4, 5, 6, 7, 8, 10]"
      ]
     },
     "execution_count": 299,
     "metadata": {},
     "output_type": "execute_result"
    }
   ],
   "source": [
    "sorted(a)"
   ]
  },
  {
   "cell_type": "code",
   "execution_count": 304,
   "metadata": {},
   "outputs": [],
   "source": [
    "strs = [\"x\", \"a\", \"b\", \"c\", \"d\", \"e\", \"f\"] # lexicographic"
   ]
  },
  {
   "cell_type": "code",
   "execution_count": 305,
   "metadata": {},
   "outputs": [
    {
     "data": {
      "text/plain": [
       "['a', 'b', 'c', 'd', 'e', 'f', 'x']"
      ]
     },
     "execution_count": 305,
     "metadata": {},
     "output_type": "execute_result"
    }
   ],
   "source": [
    "sorted(strs)"
   ]
  },
  {
   "cell_type": "code",
   "execution_count": 309,
   "metadata": {},
   "outputs": [],
   "source": [
    "pets = [\n",
    "    \"dog\",\n",
    "    \"dino\",\n",
    "    \"cat\",\n",
    "    \"snake\",\n",
    "    \"chinchilla\",\n",
    "    \"goats\",\n",
    "]"
   ]
  },
  {
   "cell_type": "code",
   "execution_count": 310,
   "metadata": {},
   "outputs": [
    {
     "data": {
      "text/plain": [
       "['dog', 'dino', 'cat', 'snake', 'chinchilla', 'goats']"
      ]
     },
     "execution_count": 310,
     "metadata": {},
     "output_type": "execute_result"
    }
   ],
   "source": [
    "pets"
   ]
  },
  {
   "cell_type": "code",
   "execution_count": 311,
   "metadata": {},
   "outputs": [
    {
     "data": {
      "text/plain": [
       "['cat', 'chinchilla', 'dino', 'dog', 'goats', 'snake']"
      ]
     },
     "execution_count": 311,
     "metadata": {},
     "output_type": "execute_result"
    }
   ],
   "source": [
    "sorted(pets)"
   ]
  },
  {
   "cell_type": "code",
   "execution_count": 313,
   "metadata": {},
   "outputs": [
    {
     "data": {
      "text/plain": [
       "['snake', 'goats', 'dog', 'dino', 'chinchilla', 'cat']"
      ]
     },
     "execution_count": 313,
     "metadata": {},
     "output_type": "execute_result"
    }
   ],
   "source": [
    "sorted(pets, reverse=True)"
   ]
  },
  {
   "cell_type": "code",
   "execution_count": 314,
   "metadata": {},
   "outputs": [
    {
     "data": {
      "text/plain": [
       "<list_reverseiterator at 0x73519f8846a0>"
      ]
     },
     "execution_count": 314,
     "metadata": {},
     "output_type": "execute_result"
    }
   ],
   "source": [
    "reversed(pets)"
   ]
  },
  {
   "cell_type": "code",
   "execution_count": 315,
   "metadata": {},
   "outputs": [
    {
     "data": {
      "text/plain": [
       "['goats', 'chinchilla', 'snake', 'cat', 'dino', 'dog']"
      ]
     },
     "execution_count": 315,
     "metadata": {},
     "output_type": "execute_result"
    }
   ],
   "source": [
    "list(reversed(pets))"
   ]
  },
  {
   "cell_type": "code",
   "execution_count": 318,
   "metadata": {},
   "outputs": [
    {
     "data": {
      "text/plain": [
       "['dog', 'dino', 'cat', 'snake', 'chinchilla', 'goats']"
      ]
     },
     "execution_count": 318,
     "metadata": {},
     "output_type": "execute_result"
    }
   ],
   "source": [
    "pets"
   ]
  },
  {
   "cell_type": "code",
   "execution_count": 321,
   "metadata": {},
   "outputs": [],
   "source": [
    "z = sorted(pets, key=len)"
   ]
  },
  {
   "cell_type": "code",
   "execution_count": 323,
   "metadata": {},
   "outputs": [],
   "source": [
    "import itertools"
   ]
  },
  {
   "cell_type": "code",
   "execution_count": 332,
   "metadata": {},
   "outputs": [
    {
     "data": {
      "text/plain": [
       "['cat', 'dog', 'dino', 'goats', 'snake', 'chinchilla']"
      ]
     },
     "execution_count": 332,
     "metadata": {},
     "output_type": "execute_result"
    }
   ],
   "source": [
    "list(itertools.chain(*(sorted(g) for _, g in itertools.groupby(sorted(pets, key=len), key=len))))\n"
   ]
  },
  {
   "cell_type": "code",
   "execution_count": 333,
   "metadata": {},
   "outputs": [
    {
     "data": {
      "text/plain": [
       "['dog', 'cat', 'dino', 'snake', 'goats', 'chinchilla']"
      ]
     },
     "execution_count": 333,
     "metadata": {},
     "output_type": "execute_result"
    }
   ],
   "source": [
    "z"
   ]
  },
  {
   "cell_type": "code",
   "execution_count": 345,
   "metadata": {},
   "outputs": [],
   "source": [
    "f = lambda x: 2 * x"
   ]
  },
  {
   "cell_type": "code",
   "execution_count": 344,
   "metadata": {},
   "outputs": [
    {
     "data": {
      "text/plain": [
       "['dog', 'dino', 'cat', 'snake', 'goats', 'chinchilla']"
      ]
     },
     "execution_count": 344,
     "metadata": {},
     "output_type": "execute_result"
    }
   ],
   "source": [
    "sorted(z, key=lambda w: w.count(\"a\"))"
   ]
  },
  {
   "cell_type": "code",
   "execution_count": 346,
   "metadata": {},
   "outputs": [],
   "source": [
    "f = lambda x, y: x + y"
   ]
  },
  {
   "cell_type": "code",
   "execution_count": 348,
   "metadata": {},
   "outputs": [
    {
     "ename": "TypeError",
     "evalue": "<lambda>() missing 1 required positional argument: 'y'",
     "output_type": "error",
     "traceback": [
      "\u001b[0;31m---------------------------------------------------------------------------\u001b[0m",
      "\u001b[0;31mTypeError\u001b[0m                                 Traceback (most recent call last)",
      "Cell \u001b[0;32mIn[348], line 1\u001b[0m\n\u001b[0;32m----> 1\u001b[0m \u001b[43mf\u001b[49m\u001b[43m(\u001b[49m\u001b[38;5;241;43m1\u001b[39;49m\u001b[43m)\u001b[49m\n",
      "\u001b[0;31mTypeError\u001b[0m: <lambda>() missing 1 required positional argument: 'y'"
     ]
    }
   ],
   "source": [
    "f(1)"
   ]
  },
  {
   "cell_type": "code",
   "execution_count": 350,
   "metadata": {},
   "outputs": [
    {
     "ename": "TypeError",
     "evalue": "<lambda>() takes 2 positional arguments but 3 were given",
     "output_type": "error",
     "traceback": [
      "\u001b[0;31m---------------------------------------------------------------------------\u001b[0m",
      "\u001b[0;31mTypeError\u001b[0m                                 Traceback (most recent call last)",
      "Cell \u001b[0;32mIn[350], line 1\u001b[0m\n\u001b[0;32m----> 1\u001b[0m \u001b[43mf\u001b[49m\u001b[43m(\u001b[49m\u001b[38;5;241;43m1\u001b[39;49m\u001b[43m,\u001b[49m\u001b[43m \u001b[49m\u001b[38;5;241;43m2\u001b[39;49m\u001b[43m,\u001b[49m\u001b[43m \u001b[49m\u001b[38;5;241;43m3\u001b[39;49m\u001b[43m)\u001b[49m\n",
      "\u001b[0;31mTypeError\u001b[0m: <lambda>() takes 2 positional arguments but 3 were given"
     ]
    }
   ],
   "source": [
    "f(1, 2, 3)"
   ]
  },
  {
   "cell_type": "code",
   "execution_count": 351,
   "metadata": {},
   "outputs": [],
   "source": [
    "def key_function(x):\n",
    "    if x == \"cat\":\n",
    "        return 0\n",
    "    else:\n",
    "        return 1"
   ]
  },
  {
   "cell_type": "code",
   "execution_count": 352,
   "metadata": {},
   "outputs": [
    {
     "data": {
      "text/plain": [
       "['dog', 'cat', 'dino', 'snake', 'goats', 'chinchilla']"
      ]
     },
     "execution_count": 352,
     "metadata": {},
     "output_type": "execute_result"
    }
   ],
   "source": [
    "z"
   ]
  },
  {
   "cell_type": "code",
   "execution_count": 353,
   "metadata": {},
   "outputs": [
    {
     "data": {
      "text/plain": [
       "['cat', 'dog', 'dino', 'snake', 'goats', 'chinchilla']"
      ]
     },
     "execution_count": 353,
     "metadata": {},
     "output_type": "execute_result"
    }
   ],
   "source": [
    "sorted(z, key=key_function)"
   ]
  },
  {
   "cell_type": "markdown",
   "metadata": {},
   "source": [
    "Builtin functions that take a another function as paramater:\n",
    "\n",
    "* sorted\n",
    "* min\n",
    "* max\n",
    "* map"
   ]
  },
  {
   "cell_type": "markdown",
   "metadata": {},
   "source": [
    "More on lists\n",
    "\n",
    "* append\n",
    "* pop\n",
    "* insert"
   ]
  },
  {
   "cell_type": "code",
   "execution_count": 355,
   "metadata": {},
   "outputs": [
    {
     "data": {
      "text/plain": [
       "['dog', 'cat', 'dino', 'snake', 'goats', 'chinchilla']"
      ]
     },
     "execution_count": 355,
     "metadata": {},
     "output_type": "execute_result"
    }
   ],
   "source": [
    "z"
   ]
  },
  {
   "cell_type": "code",
   "execution_count": 356,
   "metadata": {},
   "outputs": [],
   "source": [
    "z.append(\"bird\")"
   ]
  },
  {
   "cell_type": "code",
   "execution_count": 357,
   "metadata": {},
   "outputs": [
    {
     "data": {
      "text/plain": [
       "['dog', 'cat', 'dino', 'snake', 'goats', 'chinchilla', 'bird']"
      ]
     },
     "execution_count": 357,
     "metadata": {},
     "output_type": "execute_result"
    }
   ],
   "source": [
    "z"
   ]
  },
  {
   "cell_type": "code",
   "execution_count": 358,
   "metadata": {},
   "outputs": [],
   "source": [
    "z.insert(0, \"mouse\")"
   ]
  },
  {
   "cell_type": "code",
   "execution_count": 359,
   "metadata": {},
   "outputs": [
    {
     "data": {
      "text/plain": [
       "['mouse', 'dog', 'cat', 'dino', 'snake', 'goats', 'chinchilla', 'bird']"
      ]
     },
     "execution_count": 359,
     "metadata": {},
     "output_type": "execute_result"
    }
   ],
   "source": [
    "z"
   ]
  },
  {
   "cell_type": "code",
   "execution_count": 380,
   "metadata": {},
   "outputs": [],
   "source": [
    "def test_append():\n",
    "    z = []\n",
    "    for i in range(1000000000):\n",
    "        z.append(i)\n",
    "\n",
    "def test_insert():\n",
    "    z = []\n",
    "    for i in range(1000000000):\n",
    "        z.insert(2, i)"
   ]
  },
  {
   "cell_type": "code",
   "execution_count": 381,
   "metadata": {},
   "outputs": [
    {
     "name": "stdout",
     "output_type": "stream",
     "text": [
      "24.7 ns ± 2.55 ns per loop (mean ± std. dev. of 7 runs, 10,000,000 loops each)\n"
     ]
    }
   ],
   "source": [
    "%timeit test_append"
   ]
  },
  {
   "cell_type": "code",
   "execution_count": 382,
   "metadata": {},
   "outputs": [
    {
     "name": "stdout",
     "output_type": "stream",
     "text": [
      "26.6 ns ± 0.586 ns per loop (mean ± std. dev. of 7 runs, 10,000,000 loops each)\n"
     ]
    }
   ],
   "source": [
    "%timeit test_insert"
   ]
  },
  {
   "cell_type": "code",
   "execution_count": 383,
   "metadata": {},
   "outputs": [
    {
     "data": {
      "text/plain": [
       "['mouse', 'dog', 'cat', 'dino', 'snake', 'goats', 'chinchilla', 'bird']"
      ]
     },
     "execution_count": 383,
     "metadata": {},
     "output_type": "execute_result"
    }
   ],
   "source": [
    "z "
   ]
  },
  {
   "cell_type": "code",
   "execution_count": 384,
   "metadata": {},
   "outputs": [
    {
     "data": {
      "text/plain": [
       "'bird'"
      ]
     },
     "execution_count": 384,
     "metadata": {},
     "output_type": "execute_result"
    }
   ],
   "source": [
    "z.pop()"
   ]
  },
  {
   "cell_type": "code",
   "execution_count": 385,
   "metadata": {},
   "outputs": [
    {
     "data": {
      "text/plain": [
       "['mouse', 'dog', 'cat', 'dino', 'snake', 'goats', 'chinchilla']"
      ]
     },
     "execution_count": 385,
     "metadata": {},
     "output_type": "execute_result"
    }
   ],
   "source": [
    "z"
   ]
  },
  {
   "cell_type": "code",
   "execution_count": 386,
   "metadata": {},
   "outputs": [],
   "source": [
    "z.remove(\"dog\")"
   ]
  },
  {
   "cell_type": "code",
   "execution_count": 387,
   "metadata": {},
   "outputs": [],
   "source": [
    "z.append(\"dog\")"
   ]
  },
  {
   "cell_type": "code",
   "execution_count": 388,
   "metadata": {},
   "outputs": [],
   "source": [
    "z.append(\"dog\")"
   ]
  },
  {
   "cell_type": "code",
   "execution_count": 389,
   "metadata": {},
   "outputs": [
    {
     "data": {
      "text/plain": [
       "['mouse', 'cat', 'dino', 'snake', 'goats', 'chinchilla', 'dog', 'dog']"
      ]
     },
     "execution_count": 389,
     "metadata": {},
     "output_type": "execute_result"
    }
   ],
   "source": [
    "z"
   ]
  },
  {
   "cell_type": "code",
   "execution_count": 390,
   "metadata": {},
   "outputs": [],
   "source": [
    "z.remove(\"dog\")"
   ]
  },
  {
   "cell_type": "code",
   "execution_count": 391,
   "metadata": {},
   "outputs": [
    {
     "data": {
      "text/plain": [
       "['mouse', 'cat', 'dino', 'snake', 'goats', 'chinchilla', 'dog']"
      ]
     },
     "execution_count": 391,
     "metadata": {},
     "output_type": "execute_result"
    }
   ],
   "source": [
    "z"
   ]
  },
  {
   "cell_type": "code",
   "execution_count": 392,
   "metadata": {},
   "outputs": [
    {
     "name": "stdout",
     "output_type": "stream",
     "text": [
      "\u001b[0;31mSignature:\u001b[0m \u001b[0mz\u001b[0m\u001b[0;34m.\u001b[0m\u001b[0mremove\u001b[0m\u001b[0;34m(\u001b[0m\u001b[0mvalue\u001b[0m\u001b[0;34m,\u001b[0m \u001b[0;34m/\u001b[0m\u001b[0;34m)\u001b[0m\u001b[0;34m\u001b[0m\u001b[0;34m\u001b[0m\u001b[0m\n",
      "\u001b[0;31mDocstring:\u001b[0m\n",
      "Remove first occurrence of value.\n",
      "\n",
      "Raises ValueError if the value is not present.\n",
      "\u001b[0;31mType:\u001b[0m      builtin_function_or_method"
     ]
    }
   ],
   "source": [
    "z.remove?"
   ]
  },
  {
   "cell_type": "code",
   "execution_count": 393,
   "metadata": {},
   "outputs": [
    {
     "data": {
      "text/plain": [
       "'dog'"
      ]
     },
     "execution_count": 393,
     "metadata": {},
     "output_type": "execute_result"
    }
   ],
   "source": [
    "z[-1]"
   ]
  },
  {
   "cell_type": "code",
   "execution_count": 394,
   "metadata": {},
   "outputs": [
    {
     "data": {
      "text/plain": [
       "'dino'"
      ]
     },
     "execution_count": 394,
     "metadata": {},
     "output_type": "execute_result"
    }
   ],
   "source": [
    "z[2]"
   ]
  },
  {
   "cell_type": "code",
   "execution_count": 395,
   "metadata": {},
   "outputs": [],
   "source": [
    "del z[2]"
   ]
  },
  {
   "cell_type": "code",
   "execution_count": 396,
   "metadata": {},
   "outputs": [
    {
     "data": {
      "text/plain": [
       "['mouse', 'cat', 'snake', 'goats', 'chinchilla', 'dog']"
      ]
     },
     "execution_count": 396,
     "metadata": {},
     "output_type": "execute_result"
    }
   ],
   "source": [
    "z"
   ]
  },
  {
   "cell_type": "code",
   "execution_count": 400,
   "metadata": {},
   "outputs": [
    {
     "data": {
      "text/plain": [
       "['mouse', 'cat', 'chinchilla']"
      ]
     },
     "execution_count": 400,
     "metadata": {},
     "output_type": "execute_result"
    }
   ],
   "source": [
    "z[:2] + z[4:5]"
   ]
  },
  {
   "cell_type": "code",
   "execution_count": 407,
   "metadata": {},
   "outputs": [],
   "source": [
    "z = [[\".\", \".\", \".\"], [\".\", \".\", \".\"], [\".\", \".\", \".\"]]"
   ]
  },
  {
   "cell_type": "code",
   "execution_count": 408,
   "metadata": {},
   "outputs": [
    {
     "data": {
      "text/plain": [
       "[['.', '.', '.'], ['.', '.', '.'], ['.', '.', '.']]"
      ]
     },
     "execution_count": 408,
     "metadata": {},
     "output_type": "execute_result"
    }
   ],
   "source": [
    "z"
   ]
  },
  {
   "cell_type": "code",
   "execution_count": 409,
   "metadata": {},
   "outputs": [],
   "source": [
    "z[0][0] = \"x\""
   ]
  },
  {
   "cell_type": "code",
   "execution_count": 410,
   "metadata": {},
   "outputs": [
    {
     "data": {
      "text/plain": [
       "[['x', '.', '.'], ['.', '.', '.'], ['.', '.', '.']]"
      ]
     },
     "execution_count": 410,
     "metadata": {},
     "output_type": "execute_result"
    }
   ],
   "source": [
    "z"
   ]
  },
  {
   "cell_type": "code",
   "execution_count": 411,
   "metadata": {},
   "outputs": [
    {
     "name": "stdout",
     "output_type": "stream",
     "text": [
      "x..\n",
      "...\n",
      "...\n"
     ]
    }
   ],
   "source": [
    "for row in z:\n",
    "    print(\"\".join(row))"
   ]
  },
  {
   "cell_type": "code",
   "execution_count": 412,
   "metadata": {},
   "outputs": [],
   "source": [
    "z[1][2] = \"o\""
   ]
  },
  {
   "cell_type": "code",
   "execution_count": 414,
   "metadata": {},
   "outputs": [
    {
     "name": "stdout",
     "output_type": "stream",
     "text": [
      "x..\n",
      "..o\n",
      "...\n"
     ]
    }
   ],
   "source": [
    "for row in z:\n",
    "    print(\"\".join(row))"
   ]
  },
  {
   "cell_type": "code",
   "execution_count": 416,
   "metadata": {},
   "outputs": [],
   "source": [
    "mixed = [\"a\", 1, 2, 3, [1, 2, 3]]"
   ]
  },
  {
   "cell_type": "code",
   "execution_count": 424,
   "metadata": {},
   "outputs": [
    {
     "data": {
      "text/plain": [
       "2"
      ]
     },
     "execution_count": 424,
     "metadata": {},
     "output_type": "execute_result"
    }
   ],
   "source": [
    "mixed[4][1]"
   ]
  },
  {
   "cell_type": "code",
   "execution_count": 425,
   "metadata": {},
   "outputs": [
    {
     "data": {
      "text/plain": [
       "[['x', '.', '.'], ['.', '.', 'o'], ['.', '.', '.']]"
      ]
     },
     "execution_count": 425,
     "metadata": {},
     "output_type": "execute_result"
    }
   ],
   "source": [
    "z"
   ]
  },
  {
   "cell_type": "code",
   "execution_count": 426,
   "metadata": {},
   "outputs": [],
   "source": [
    "a = [1, 2, 3]"
   ]
  },
  {
   "cell_type": "code",
   "execution_count": 427,
   "metadata": {},
   "outputs": [
    {
     "data": {
      "text/plain": [
       "[1, 2, 3]"
      ]
     },
     "execution_count": 427,
     "metadata": {},
     "output_type": "execute_result"
    }
   ],
   "source": [
    "a"
   ]
  },
  {
   "cell_type": "code",
   "execution_count": 429,
   "metadata": {},
   "outputs": [],
   "source": [
    "a.append(4)"
   ]
  },
  {
   "cell_type": "code",
   "execution_count": 430,
   "metadata": {},
   "outputs": [],
   "source": [
    "a.extend([7, 8, 9])"
   ]
  },
  {
   "cell_type": "code",
   "execution_count": 431,
   "metadata": {},
   "outputs": [
    {
     "data": {
      "text/plain": [
       "[1, 2, 3, 4, 7, 8, 9]"
      ]
     },
     "execution_count": 431,
     "metadata": {},
     "output_type": "execute_result"
    }
   ],
   "source": [
    "a"
   ]
  },
  {
   "cell_type": "code",
   "execution_count": 432,
   "metadata": {},
   "outputs": [
    {
     "data": {
      "text/plain": [
       "[1, 2, 3, 4, 7, 8, 9]"
      ]
     },
     "execution_count": 432,
     "metadata": {},
     "output_type": "execute_result"
    }
   ],
   "source": [
    "a"
   ]
  },
  {
   "cell_type": "code",
   "execution_count": 433,
   "metadata": {},
   "outputs": [
    {
     "data": {
      "text/plain": [
       "[1, 2, 3, 4, 7, 8, 9]"
      ]
     },
     "execution_count": 433,
     "metadata": {},
     "output_type": "execute_result"
    }
   ],
   "source": [
    "a.copy()"
   ]
  },
  {
   "cell_type": "code",
   "execution_count": 434,
   "metadata": {},
   "outputs": [],
   "source": [
    "b = a[:]"
   ]
  },
  {
   "cell_type": "code",
   "execution_count": 435,
   "metadata": {},
   "outputs": [
    {
     "data": {
      "text/plain": [
       "[1, 2, 3, 4, 7, 8, 9]"
      ]
     },
     "execution_count": 435,
     "metadata": {},
     "output_type": "execute_result"
    }
   ],
   "source": [
    "b"
   ]
  },
  {
   "cell_type": "code",
   "execution_count": 436,
   "metadata": {},
   "outputs": [],
   "source": [
    "x = [1, 2, 3]\n",
    "result = []\n",
    "for v in x:\n",
    "    result.append(2 * x)"
   ]
  },
  {
   "cell_type": "code",
   "execution_count": 441,
   "metadata": {},
   "outputs": [
    {
     "name": "stdout",
     "output_type": "stream",
     "text": [
      "4\n",
      "6\n",
      "8\n",
      "10\n",
      "12\n",
      "14\n",
      "16\n"
     ]
    }
   ],
   "source": [
    "for i in range(4, 17, 2):\n",
    "    print(i)"
   ]
  },
  {
   "cell_type": "code",
   "execution_count": 442,
   "metadata": {},
   "outputs": [],
   "source": [
    "s = \"hello\""
   ]
  },
  {
   "cell_type": "code",
   "execution_count": 443,
   "metadata": {},
   "outputs": [
    {
     "name": "stdout",
     "output_type": "stream",
     "text": [
      "h\n",
      "e\n",
      "l\n",
      "l\n",
      "o\n"
     ]
    }
   ],
   "source": [
    "for c in s:\n",
    "    print(c)"
   ]
  },
  {
   "cell_type": "code",
   "execution_count": 446,
   "metadata": {},
   "outputs": [
    {
     "data": {
      "text/plain": [
       "['dog', 'dino', 'cat', 'snake', 'chinchilla', 'goats']"
      ]
     },
     "execution_count": 446,
     "metadata": {},
     "output_type": "execute_result"
    }
   ],
   "source": [
    "pets"
   ]
  },
  {
   "cell_type": "code",
   "execution_count": 447,
   "metadata": {},
   "outputs": [
    {
     "name": "stdout",
     "output_type": "stream",
     "text": [
      "dog\n",
      "dino\n",
      "cat\n",
      "snake\n",
      "chinchilla\n",
      "goats\n"
     ]
    }
   ],
   "source": [
    "for pet in pets:\n",
    "    print(pet)"
   ]
  },
  {
   "cell_type": "code",
   "execution_count": 448,
   "metadata": {},
   "outputs": [
    {
     "name": "stdout",
     "output_type": "stream",
     "text": [
      "(0, 'dog')\n",
      "(1, 'dino')\n",
      "(2, 'cat')\n",
      "(3, 'snake')\n",
      "(4, 'chinchilla')\n",
      "(5, 'goats')\n"
     ]
    }
   ],
   "source": [
    "for pet in enumerate(pets):\n",
    "    print(pet)"
   ]
  },
  {
   "cell_type": "code",
   "execution_count": 449,
   "metadata": {},
   "outputs": [],
   "source": [
    "u, v = 4, 5"
   ]
  },
  {
   "cell_type": "code",
   "execution_count": 458,
   "metadata": {},
   "outputs": [
    {
     "name": "stdout",
     "output_type": "stream",
     "text": [
      "pet no #0: dog\n",
      "pet no #1: dino\n",
      "pet no #2: cat\n",
      "pet no #3: snake\n",
      "pet no #4: chinchilla\n",
      "pet no #5: goats\n"
     ]
    }
   ],
   "source": [
    "for i, pet in enumerate(pets):\n",
    "    print(f\"pet no #{i}: {pet}\")"
   ]
  },
  {
   "cell_type": "code",
   "execution_count": 456,
   "metadata": {},
   "outputs": [],
   "source": [
    "# for VAR in ITERATOR: ..."
   ]
  },
  {
   "cell_type": "code",
   "execution_count": null,
   "metadata": {},
   "outputs": [],
   "source": [
    "https://tinyurl.com/t154py"
   ]
  },
  {
   "cell_type": "code",
   "execution_count": 460,
   "metadata": {},
   "outputs": [],
   "source": [
    "x = [1, 2, 3]\n",
    "result = [] # result should be: 2, 4, 6\n"
   ]
  },
  {
   "cell_type": "code",
   "execution_count": 461,
   "metadata": {},
   "outputs": [
    {
     "name": "stdout",
     "output_type": "stream",
     "text": [
      "[2, 4, 6]\n"
     ]
    }
   ],
   "source": [
    "x = [1,2,3]\n",
    "result = []\n",
    "for i in x:\n",
    "    result.append(i*2)\n",
    "print(result)"
   ]
  },
  {
   "cell_type": "code",
   "execution_count": 465,
   "metadata": {},
   "outputs": [
    {
     "name": "stdout",
     "output_type": "stream",
     "text": [
      "[2, 4, 6]\n"
     ]
    }
   ],
   "source": [
    "x = [1, 2, 3]\n",
    "result = [i * 2 for i in x] # list comprehension\n",
    "print(result)"
   ]
  },
  {
   "cell_type": "code",
   "execution_count": 469,
   "metadata": {},
   "outputs": [
    {
     "data": {
      "text/plain": [
       "[2, 4, 6]"
      ]
     },
     "execution_count": 469,
     "metadata": {},
     "output_type": "execute_result"
    }
   ],
   "source": [
    "list(map(lambda i: i * 2, x))"
   ]
  },
  {
   "cell_type": "code",
   "execution_count": 471,
   "metadata": {},
   "outputs": [
    {
     "name": "stdout",
     "output_type": "stream",
     "text": [
      "[4, 8, 12, 16]\n"
     ]
    }
   ],
   "source": [
    "x = [1,2,3, 4, 5, 6, 7, 8, 9]\n",
    "result = []\n",
    "for i in x:\n",
    "    if i % 2 == 0:\n",
    "        result.append(i*2)\n",
    "print(result)"
   ]
  },
  {
   "cell_type": "code",
   "execution_count": 472,
   "metadata": {},
   "outputs": [],
   "source": [
    "result = [i * 2 for i in x if i % 2 == 0] # list comprehension\n"
   ]
  },
  {
   "cell_type": "code",
   "execution_count": 473,
   "metadata": {},
   "outputs": [
    {
     "data": {
      "text/plain": [
       "[4, 8, 12, 16]"
      ]
     },
     "execution_count": 473,
     "metadata": {},
     "output_type": "execute_result"
    }
   ],
   "source": [
    "result"
   ]
  },
  {
   "cell_type": "code",
   "execution_count": 475,
   "metadata": {},
   "outputs": [
    {
     "name": "stdout",
     "output_type": "stream",
     "text": [
      "95\n",
      "96\n",
      "97\n",
      "98\n",
      "99\n"
     ]
    }
   ],
   "source": [
    "for i in range(100):\n",
    "    if i < 95:\n",
    "        continue\n",
    "    print(i)"
   ]
  },
  {
   "cell_type": "code",
   "execution_count": 476,
   "metadata": {},
   "outputs": [
    {
     "name": "stdout",
     "output_type": "stream",
     "text": [
      "0\n",
      "1\n",
      "2\n",
      "3\n",
      "4\n",
      "5\n"
     ]
    }
   ],
   "source": [
    "for i in range(100):\n",
    "    if i > 5:\n",
    "        break\n",
    "    print(i)"
   ]
  },
  {
   "cell_type": "code",
   "execution_count": 504,
   "metadata": {},
   "outputs": [
    {
     "data": {
      "text/plain": [
       "[(0, 'a'), (1, 'b'), (2, 'c')]"
      ]
     },
     "execution_count": 504,
     "metadata": {},
     "output_type": "execute_result"
    }
   ],
   "source": [
    "list(enumerate([\"a\", \"b\", \"c\"]))"
   ]
  },
  {
   "cell_type": "code",
   "execution_count": 487,
   "metadata": {},
   "outputs": [
    {
     "name": "stdout",
     "output_type": "stream",
     "text": [
      "1\n",
      "100000001\n",
      "200000001\n",
      "300000001\n",
      "400000001\n",
      "500000001\n",
      "600000001\n",
      "700000001\n",
      "800000001\n",
      "900000001\n"
     ]
    }
   ],
   "source": [
    "for i in range(1, 1000000000, 100000000):\n",
    "    print(i)\n"
   ]
  },
  {
   "cell_type": "code",
   "execution_count": 488,
   "metadata": {},
   "outputs": [],
   "source": [
    " t = (1, 2, 3)"
   ]
  },
  {
   "cell_type": "code",
   "execution_count": 489,
   "metadata": {},
   "outputs": [
    {
     "data": {
      "text/plain": [
       "tuple"
      ]
     },
     "execution_count": 489,
     "metadata": {},
     "output_type": "execute_result"
    }
   ],
   "source": [
    "type(t)"
   ]
  },
  {
   "cell_type": "code",
   "execution_count": 490,
   "metadata": {},
   "outputs": [
    {
     "ename": "TypeError",
     "evalue": "'tuple' object does not support item assignment",
     "output_type": "error",
     "traceback": [
      "\u001b[0;31m---------------------------------------------------------------------------\u001b[0m",
      "\u001b[0;31mTypeError\u001b[0m                                 Traceback (most recent call last)",
      "Cell \u001b[0;32mIn[490], line 1\u001b[0m\n\u001b[0;32m----> 1\u001b[0m \u001b[43mt\u001b[49m\u001b[43m[\u001b[49m\u001b[38;5;241;43m0\u001b[39;49m\u001b[43m]\u001b[49m \u001b[38;5;241m=\u001b[39m \u001b[38;5;241m100\u001b[39m\n",
      "\u001b[0;31mTypeError\u001b[0m: 'tuple' object does not support item assignment"
     ]
    }
   ],
   "source": [
    "t[0] = 100"
   ]
  },
  {
   "cell_type": "code",
   "execution_count": 491,
   "metadata": {},
   "outputs": [],
   "source": [
    "t = (5, 6, 8, 0, 10)"
   ]
  },
  {
   "cell_type": "code",
   "execution_count": 495,
   "metadata": {},
   "outputs": [],
   "source": [
    "z = ((1, 2, 3), (4, 5, 6), (7, 8, 9))"
   ]
  },
  {
   "cell_type": "code",
   "execution_count": 496,
   "metadata": {},
   "outputs": [
    {
     "data": {
      "text/plain": [
       "((1, 2, 3), (4, 5, 6), (7, 8, 9))"
      ]
     },
     "execution_count": 496,
     "metadata": {},
     "output_type": "execute_result"
    }
   ],
   "source": [
    "z"
   ]
  },
  {
   "cell_type": "code",
   "execution_count": 499,
   "metadata": {},
   "outputs": [
    {
     "data": {
      "text/plain": [
       "tuple"
      ]
     },
     "execution_count": 499,
     "metadata": {},
     "output_type": "execute_result"
    }
   ],
   "source": [
    "type(z[0])"
   ]
  },
  {
   "cell_type": "code",
   "execution_count": 500,
   "metadata": {},
   "outputs": [
    {
     "data": {
      "text/plain": [
       "[(1, 2, 3), (4, 5, 6), (7, 8, 9)]"
      ]
     },
     "execution_count": 500,
     "metadata": {},
     "output_type": "execute_result"
    }
   ],
   "source": [
    "[(1, 2, 3), (4, 5, 6), (7, 8, 9)]"
   ]
  },
  {
   "cell_type": "code",
   "execution_count": 505,
   "metadata": {},
   "outputs": [],
   "source": [
    "tol = ([1, 2, 3], [4, 5, 6])"
   ]
  },
  {
   "cell_type": "code",
   "execution_count": 506,
   "metadata": {},
   "outputs": [
    {
     "ename": "TypeError",
     "evalue": "'tuple' object does not support item assignment",
     "output_type": "error",
     "traceback": [
      "\u001b[0;31m---------------------------------------------------------------------------\u001b[0m",
      "\u001b[0;31mTypeError\u001b[0m                                 Traceback (most recent call last)",
      "Cell \u001b[0;32mIn[506], line 1\u001b[0m\n\u001b[0;32m----> 1\u001b[0m \u001b[43mt\u001b[49m\u001b[43m[\u001b[49m\u001b[38;5;241;43m0\u001b[39;49m\u001b[43m]\u001b[49m \u001b[38;5;241m=\u001b[39m \u001b[38;5;241m123\u001b[39m\n",
      "\u001b[0;31mTypeError\u001b[0m: 'tuple' object does not support item assignment"
     ]
    }
   ],
   "source": [
    "t[0] = 123"
   ]
  },
  {
   "cell_type": "code",
   "execution_count": 509,
   "metadata": {},
   "outputs": [
    {
     "ename": "TypeError",
     "evalue": "'tuple' object does not support item assignment",
     "output_type": "error",
     "traceback": [
      "\u001b[0;31m---------------------------------------------------------------------------\u001b[0m",
      "\u001b[0;31mTypeError\u001b[0m                                 Traceback (most recent call last)",
      "Cell \u001b[0;32mIn[509], line 1\u001b[0m\n\u001b[0;32m----> 1\u001b[0m \u001b[43mtol\u001b[49m\u001b[43m[\u001b[49m\u001b[38;5;241;43m0\u001b[39;49m\u001b[43m]\u001b[49m \u001b[38;5;241m=\u001b[39m \u001b[38;5;241m0\u001b[39m\n",
      "\u001b[0;31mTypeError\u001b[0m: 'tuple' object does not support item assignment"
     ]
    }
   ],
   "source": [
    "tol[0] = 0"
   ]
  },
  {
   "cell_type": "code",
   "execution_count": 513,
   "metadata": {},
   "outputs": [
    {
     "data": {
      "text/plain": [
       "[1, 100, 3]"
      ]
     },
     "execution_count": 513,
     "metadata": {},
     "output_type": "execute_result"
    }
   ],
   "source": [
    "tol[0]"
   ]
  },
  {
   "cell_type": "code",
   "execution_count": 512,
   "metadata": {},
   "outputs": [
    {
     "data": {
      "text/plain": [
       "([1, 100, 3], [4, 5, 6])"
      ]
     },
     "execution_count": 512,
     "metadata": {},
     "output_type": "execute_result"
    }
   ],
   "source": [
    "tol"
   ]
  },
  {
   "cell_type": "code",
   "execution_count": 514,
   "metadata": {},
   "outputs": [],
   "source": [
    "import collections"
   ]
  },
  {
   "cell_type": "code",
   "execution_count": 516,
   "metadata": {},
   "outputs": [],
   "source": [
    "# collections.namedtuple() # ergonomischeres tuple"
   ]
  },
  {
   "cell_type": "code",
   "execution_count": 517,
   "metadata": {},
   "outputs": [],
   "source": [
    "t = (1, 2, \"abc\", \"def\")"
   ]
  },
  {
   "cell_type": "code",
   "execution_count": 518,
   "metadata": {},
   "outputs": [
    {
     "data": {
      "text/plain": [
       "1"
      ]
     },
     "execution_count": 518,
     "metadata": {},
     "output_type": "execute_result"
    }
   ],
   "source": [
    "t[0]"
   ]
  },
  {
   "cell_type": "code",
   "execution_count": 519,
   "metadata": {},
   "outputs": [
    {
     "data": {
      "text/plain": [
       "2"
      ]
     },
     "execution_count": 519,
     "metadata": {},
     "output_type": "execute_result"
    }
   ],
   "source": [
    "t[1]"
   ]
  },
  {
   "cell_type": "markdown",
   "metadata": {},
   "source": [
    "## Dict\n",
    "\n",
    "* dictionary"
   ]
  },
  {
   "cell_type": "code",
   "execution_count": 521,
   "metadata": {},
   "outputs": [],
   "source": [
    "d = dict()"
   ]
  },
  {
   "cell_type": "code",
   "execution_count": 522,
   "metadata": {},
   "outputs": [
    {
     "data": {
      "text/plain": [
       "dict"
      ]
     },
     "execution_count": 522,
     "metadata": {},
     "output_type": "execute_result"
    }
   ],
   "source": [
    "type(d)"
   ]
  },
  {
   "cell_type": "code",
   "execution_count": 523,
   "metadata": {},
   "outputs": [],
   "source": [
    "d = {}"
   ]
  },
  {
   "cell_type": "code",
   "execution_count": 524,
   "metadata": {},
   "outputs": [
    {
     "data": {
      "text/plain": [
       "dict"
      ]
     },
     "execution_count": 524,
     "metadata": {},
     "output_type": "execute_result"
    }
   ],
   "source": [
    "type(d)"
   ]
  },
  {
   "cell_type": "code",
   "execution_count": 526,
   "metadata": {},
   "outputs": [],
   "source": [
    "d = {\n",
    "    \"name\": \"martin\",\n",
    "    \"city\": \"dresden\",\n",
    "    \"year\": 2024,\n",
    "}"
   ]
  },
  {
   "cell_type": "code",
   "execution_count": 533,
   "metadata": {},
   "outputs": [],
   "source": [
    "d[\"name\"] = \"thomas\""
   ]
  },
  {
   "cell_type": "code",
   "execution_count": 532,
   "metadata": {},
   "outputs": [],
   "source": [
    "# d[\"xyz\"]"
   ]
  },
  {
   "cell_type": "code",
   "execution_count": null,
   "metadata": {},
   "outputs": [],
   "source": []
  },
  {
   "cell_type": "markdown",
   "metadata": {},
   "source": [
    "Exception so far\n",
    "\n",
    "* NameError\n",
    "* ValueError\n",
    "* TypeError\n",
    "* SyntaxError\n",
    "* IndentationError\n",
    "* ModuleNotFoundError\n",
    "* IndexError\n",
    "* KeyError"
   ]
  },
  {
   "cell_type": "code",
   "execution_count": 534,
   "metadata": {},
   "outputs": [
    {
     "data": {
      "text/plain": [
       "{'name': 'thomas', 'city': 'dresden', 'year': 2024}"
      ]
     },
     "execution_count": 534,
     "metadata": {},
     "output_type": "execute_result"
    }
   ],
   "source": [
    "d"
   ]
  },
  {
   "cell_type": "code",
   "execution_count": 535,
   "metadata": {},
   "outputs": [
    {
     "data": {
      "text/plain": [
       "'thomas'"
      ]
     },
     "execution_count": 535,
     "metadata": {},
     "output_type": "execute_result"
    }
   ],
   "source": [
    "d[\"name\"]"
   ]
  },
  {
   "cell_type": "code",
   "execution_count": 536,
   "metadata": {},
   "outputs": [
    {
     "data": {
      "text/plain": [
       "'thomas'"
      ]
     },
     "execution_count": 536,
     "metadata": {},
     "output_type": "execute_result"
    }
   ],
   "source": [
    "d.get(\"name\")"
   ]
  },
  {
   "cell_type": "code",
   "execution_count": 540,
   "metadata": {},
   "outputs": [
    {
     "name": "stdout",
     "output_type": "stream",
     "text": [
      "\u001b[0;31mSignature:\u001b[0m \u001b[0md\u001b[0m\u001b[0;34m.\u001b[0m\u001b[0mget\u001b[0m\u001b[0;34m(\u001b[0m\u001b[0mkey\u001b[0m\u001b[0;34m,\u001b[0m \u001b[0mdefault\u001b[0m\u001b[0;34m=\u001b[0m\u001b[0;32mNone\u001b[0m\u001b[0;34m,\u001b[0m \u001b[0;34m/\u001b[0m\u001b[0;34m)\u001b[0m\u001b[0;34m\u001b[0m\u001b[0;34m\u001b[0m\u001b[0m\n",
      "\u001b[0;31mDocstring:\u001b[0m Return the value for key if key is in the dictionary, else default.\n",
      "\u001b[0;31mType:\u001b[0m      builtin_function_or_method"
     ]
    }
   ],
   "source": [
    "d.get?"
   ]
  },
  {
   "cell_type": "code",
   "execution_count": 541,
   "metadata": {},
   "outputs": [
    {
     "data": {
      "text/plain": [
       "True"
      ]
     },
     "execution_count": 541,
     "metadata": {},
     "output_type": "execute_result"
    }
   ],
   "source": [
    "d.get(\"xyz\", True)"
   ]
  },
  {
   "cell_type": "code",
   "execution_count": 542,
   "metadata": {},
   "outputs": [
    {
     "data": {
      "text/plain": [
       "'thomas'"
      ]
     },
     "execution_count": 542,
     "metadata": {},
     "output_type": "execute_result"
    }
   ],
   "source": [
    "d.get(\"name\", \"johnny\")"
   ]
  },
  {
   "cell_type": "code",
   "execution_count": 545,
   "metadata": {},
   "outputs": [
    {
     "data": {
      "text/plain": [
       "dict_items([('name', 'thomas'), ('city', 'dresden'), ('year', 2024)])"
      ]
     },
     "execution_count": 545,
     "metadata": {},
     "output_type": "execute_result"
    }
   ],
   "source": [
    "d.items()"
   ]
  },
  {
   "cell_type": "code",
   "execution_count": 544,
   "metadata": {},
   "outputs": [
    {
     "name": "stdout",
     "output_type": "stream",
     "text": [
      "name thomas\n",
      "city dresden\n",
      "year 2024\n"
     ]
    }
   ],
   "source": [
    "for k, v in d.items():\n",
    "    print(k, v)"
   ]
  },
  {
   "cell_type": "code",
   "execution_count": 549,
   "metadata": {},
   "outputs": [
    {
     "data": {
      "text/plain": [
       "dict_items([('name', 'thomas'), ('city', 'dresden'), ('year', 2024)])"
      ]
     },
     "execution_count": 549,
     "metadata": {},
     "output_type": "execute_result"
    }
   ],
   "source": [
    "d.items() # .keys(), .values()"
   ]
  },
  {
   "cell_type": "code",
   "execution_count": 551,
   "metadata": {},
   "outputs": [
    {
     "data": {
      "text/plain": [
       "{'name': 'thomas', 'city': 'dresden', 'year': 2024}"
      ]
     },
     "execution_count": 551,
     "metadata": {},
     "output_type": "execute_result"
    }
   ],
   "source": [
    "d"
   ]
  },
  {
   "cell_type": "code",
   "execution_count": 552,
   "metadata": {},
   "outputs": [],
   "source": [
    "d.update({\"name\": \"martin\", \"city\": \"dresden-pieschen\"})"
   ]
  },
  {
   "cell_type": "code",
   "execution_count": 553,
   "metadata": {},
   "outputs": [
    {
     "data": {
      "text/plain": [
       "{'name': 'martin', 'city': 'dresden-pieschen', 'year': 2024}"
      ]
     },
     "execution_count": 553,
     "metadata": {},
     "output_type": "execute_result"
    }
   ],
   "source": [
    "d"
   ]
  },
  {
   "cell_type": "code",
   "execution_count": 554,
   "metadata": {},
   "outputs": [],
   "source": [
    "d[\"xyz\"] = 123"
   ]
  },
  {
   "cell_type": "code",
   "execution_count": 555,
   "metadata": {},
   "outputs": [
    {
     "data": {
      "text/plain": [
       "{'name': 'martin', 'city': 'dresden-pieschen', 'year': 2024, 'xyz': 123}"
      ]
     },
     "execution_count": 555,
     "metadata": {},
     "output_type": "execute_result"
    }
   ],
   "source": [
    "d"
   ]
  },
  {
   "cell_type": "code",
   "execution_count": 556,
   "metadata": {},
   "outputs": [
    {
     "name": "stdout",
     "output_type": "stream",
     "text": [
      "name martin\n",
      "city dresden-pieschen\n",
      "year 2024\n",
      "xyz 123\n"
     ]
    }
   ],
   "source": [
    "for k, v in d.items():\n",
    "    print(k, v)"
   ]
  },
  {
   "cell_type": "code",
   "execution_count": 557,
   "metadata": {},
   "outputs": [],
   "source": [
    "d[\"end\"] = \"hello\""
   ]
  },
  {
   "cell_type": "code",
   "execution_count": 558,
   "metadata": {},
   "outputs": [
    {
     "data": {
      "text/plain": [
       "{'name': 'martin',\n",
       " 'city': 'dresden-pieschen',\n",
       " 'year': 2024,\n",
       " 'xyz': 123,\n",
       " 'end': 'hello'}"
      ]
     },
     "execution_count": 558,
     "metadata": {},
     "output_type": "execute_result"
    }
   ],
   "source": [
    "d"
   ]
  },
  {
   "cell_type": "code",
   "execution_count": 562,
   "metadata": {},
   "outputs": [],
   "source": [
    "data = {\n",
    "    \"name\": \"martin\",\n",
    "    \"langs\": [\n",
    "        {\"name\": \"python\", \"year\": 1991},{\"name\": \"go\", \"year\": 2009},\n",
    "    ],\n",
    "    \"deleted\": False,\n",
    "}"
   ]
  },
  {
   "cell_type": "code",
   "execution_count": 563,
   "metadata": {},
   "outputs": [
    {
     "data": {
      "text/plain": [
       "{'name': 'martin',\n",
       " 'langs': [{'name': 'python', 'year': 1991}, {'name': 'go', 'year': 2009}],\n",
       " 'deleted': False}"
      ]
     },
     "execution_count": 563,
     "metadata": {},
     "output_type": "execute_result"
    }
   ],
   "source": [
    "data"
   ]
  },
  {
   "cell_type": "code",
   "execution_count": 566,
   "metadata": {},
   "outputs": [
    {
     "data": {
      "text/plain": [
       "1991"
      ]
     },
     "execution_count": 566,
     "metadata": {},
     "output_type": "execute_result"
    }
   ],
   "source": [
    "data[\"langs\"][0][\"year\"]"
   ]
  },
  {
   "cell_type": "code",
   "execution_count": 567,
   "metadata": {},
   "outputs": [],
   "source": [
    "data = {\n",
    "  \"abstracts\": [],\n",
    "  \"refs\": [\n",
    "    {\n",
    "      \"index\": 0,\n",
    "      \"extra\": {\n",
    "        \"authors\": [\n",
    "          \"Charnov\"\n",
    "        ],\n",
    "        \"doi\": \"10.1016/0040-5809(76)90040-x\"\n",
    "      },\n",
    "      \"key\": \"2_4010163\",\n",
    "      \"year\": 1976,\n",
    "      \"container_name\": \"Theoretical population biology\",\n",
    "      \"locator\": \"129\"\n",
    "    },\n",
    "    {\n",
    "      \"index\": 1,\n",
    "      \"extra\": {\n",
    "        \"volume\": \"32\"\n",
    "      },\n",
    "      \"key\": \"3_24558846\",\n",
    "      \"year\": 1993,\n",
    "      \"locator\": \"17\"\n",
    "    },\n",
    "    {\n",
    "      \"index\": 2,\n",
    "      \"extra\": {\n",
    "        \"doi\": \"10.1111/j.1365-3032.1983.tb00340.x\"\n",
    "      },\n",
    "      \"key\": \"4_33578570\",\n",
    "      \"year\": 1983,\n",
    "      \"locator\": \"109\"\n",
    "    },\n",
    "    {\n",
    "      \"index\": 3,\n",
    "      \"extra\": {\n",
    "        \"authors\": [\n",
    "          \"Porter\"\n",
    "        ],\n",
    "        \"doi\": \"10.1038/nn1819\",\n",
    "        \"volume\": \"10\"\n",
    "      },\n",
    "      \"key\": \"5_23451996\",\n",
    "      \"year\": 2007,\n",
    "      \"container_name\": \"Nature neuroscience\",\n",
    "      \"locator\": \"27\"\n",
    "    },\n",
    "    {\n",
    "      \"index\": 4,\n",
    "      \"extra\": {\n",
    "        \"authors\": [\n",
    "          \"Thesen\"\n",
    "        ],\n",
    "        \"volume\": \"180\"\n",
    "      },\n",
    "      \"key\": \"6_14443564\",\n",
    "      \"year\": 1993,\n",
    "      \"container_name\": \"Journal of Experimental Biology\",\n",
    "      \"locator\": \"247\"\n",
    "    },\n",
    "    {\n",
    "      \"index\": 5,\n",
    "      \"extra\": {\n",
    "        \"authors\": [\n",
    "          \"Kolling\"\n",
    "        ],\n",
    "        \"doi\": \"10.1126/science.1216930\",\n",
    "        \"issue\": \"6077\",\n",
    "        \"volume\": \"336\"\n",
    "      },\n",
    "      \"key\": \"7_42327098\",\n",
    "      \"year\": 2012,\n",
    "      \"container_name\": \"Science\",\n",
    "      \"locator\": \"95\"\n",
    "    },\n",
    "    {\n",
    "      \"index\": 6,\n",
    "      \"extra\": {\n",
    "        \"authors\": [\n",
    "          \"Hayden\"\n",
    "        ],\n",
    "        \"doi\": \"10.1038/nn.2856\",\n",
    "        \"volume\": \"14\"\n",
    "      },\n",
    "      \"key\": \"8_40081057\",\n",
    "      \"year\": 2011,\n",
    "      \"container_name\": \"Nature neuroscience\",\n",
    "      \"locator\": \"933\"\n",
    "    },\n",
    "    {\n",
    "      \"index\": 7,\n",
    "      \"extra\": {\n",
    "        \"doi\": \"10.1038/nature12176\",\n",
    "        \"volume\": \"498\"\n",
    "      },\n",
    "      \"key\": \"9_46958362\",\n",
    "      \"year\": 2013,\n",
    "      \"container_name\": \"Nature\",\n",
    "      \"locator\": \"363\"\n",
    "    },\n",
    "    {\n",
    "      \"index\": 8,\n",
    "      \"extra\": {\n",
    "        \"authors\": [\n",
    "          \"Bao\"\n",
    "        ],\n",
    "        \"doi\": \"10.1038/nn1293\"\n",
    "      },\n",
    "      \"key\": \"10_18302730\",\n",
    "      \"year\": 2004,\n",
    "      \"container_name\": \"Nature neuroscience\",\n",
    "      \"locator\": \"974\"\n",
    "    },\n",
    "    {\n",
    "      \"index\": 9,\n",
    "      \"extra\": {\n",
    "        \"doi\": \"10.1073/pnas.0407586101\",\n",
    "        \"issue\": \"46\",\n",
    "        \"volume\": \"101\"\n",
    "      },\n",
    "      \"key\": \"11_19687940\",\n",
    "      \"year\": 2004,\n",
    "      \"container_name\": \"PNAS\",\n",
    "      \"locator\": \"16351\"\n",
    "    },\n",
    "    {\n",
    "      \"index\": 10,\n",
    "      \"extra\": {\n",
    "        \"authors\": [\n",
    "          \"Bergan\"\n",
    "        ],\n",
    "        \"doi\": \"10.1523/jneurosci.2533-05.2005\",\n",
    "        \"issue\": \"42\",\n",
    "        \"volume\": \"25\"\n",
    "      },\n",
    "      \"key\": \"12_19488621\",\n",
    "      \"year\": 2005,\n",
    "      \"container_name\": \"Journal of Neuroscience\",\n",
    "      \"locator\": \"9816\"\n",
    "    },\n",
    "    {\n",
    "      \"index\": 11,\n",
    "      \"extra\": {\n",
    "        \"authors\": [\n",
    "          \"Seitz\"\n",
    "        ],\n",
    "        \"doi\": \"10.1016/j.tics.2005.05.010\"\n",
    "      },\n",
    "      \"key\": \"13_19029270\",\n",
    "      \"year\": 2005,\n",
    "      \"container_name\": \"Trends in cognitive sciences\",\n",
    "      \"locator\": \"329\"\n",
    "    },\n",
    "    {\n",
    "      \"index\": 12,\n",
    "      \"extra\": {\n",
    "        \"authors\": [\n",
    "          \"Parikh\"\n",
    "        ],\n",
    "        \"doi\": \"10.1016/j.neuron.2007.08.025\",\n",
    "        \"volume\": \"56\"\n",
    "      },\n",
    "      \"key\": \"14_29589929\",\n",
    "      \"year\": 2007,\n",
    "      \"container_name\": \"Neuron\",\n",
    "      \"locator\": \"141\"\n",
    "    },\n",
    "    {\n",
    "      \"index\": 13,\n",
    "      \"extra\": {\n",
    "        \"volume\": \"16\"\n",
    "      },\n",
    "      \"key\": \"15_46874353\",\n",
    "      \"year\": 2013,\n",
    "      \"container_name\": \"Nature neuroscience\",\n",
    "      \"locator\": \"79\"\n",
    "    },\n",
    "    {\n",
    "      \"index\": 14,\n",
    "      \"extra\": {\n",
    "        \"authors\": [\n",
    "          \"Schultz\"\n",
    "        ],\n",
    "        \"doi\": \"10.1126/science.275.5306.1593\",\n",
    "        \"issue\": \"5306\",\n",
    "        \"volume\": \"275\"\n",
    "      },\n",
    "      \"key\": \"16_16706240\",\n",
    "      \"year\": 1997,\n",
    "      \"container_name\": \"Science\",\n",
    "      \"locator\": \"1593\"\n",
    "    },\n",
    "    {\n",
    "      \"index\": 15,\n",
    "      \"extra\": {\n",
    "        \"authors\": [\n",
    "          \"Leach\"\n",
    "        ],\n",
    "        \"doi\": \"10.1523/jneurosci.5039-12.2013\",\n",
    "        \"issue\": \"15\",\n",
    "        \"volume\": \"33\"\n",
    "      },\n",
    "      \"key\": \"17_45591748\",\n",
    "      \"year\": 2013,\n",
    "      \"container_name\": \"Journal of Neuroscience\",\n",
    "      \"locator\": \"6659\"\n",
    "    },\n",
    "    {\n",
    "      \"index\": 16,\n",
    "      \"extra\": {\n",
    "        \"authors\": [\n",
    "          \"Parbery-Clark\"\n",
    "        ],\n",
    "        \"doi\": \"10.1097/aud.0b013e3181b412e9\",\n",
    "        \"volume\": \"30\"\n",
    "      },\n",
    "      \"key\": \"18_35560093\",\n",
    "      \"year\": 2009,\n",
    "      \"container_name\": \"Ear and hearing\",\n",
    "      \"locator\": \"653\"\n",
    "    },\n",
    "    {\n",
    "      \"index\": 17,\n",
    "      \"extra\": {\n",
    "        \"authors\": [\n",
    "          \"Kraus\"\n",
    "        ],\n",
    "        \"doi\": \"10.1038/nrn2882\",\n",
    "        \"volume\": \"11\"\n",
    "      },\n",
    "      \"key\": \"19_37680696\",\n",
    "      \"year\": 2010,\n",
    "      \"container_name\": \"Nature reviews. Neuroscience\",\n",
    "      \"locator\": \"599\"\n",
    "    },\n",
    "    {\n",
    "      \"index\": 18,\n",
    "      \"extra\": {\n",
    "        \"authors\": [\n",
    "          \"Green\"\n",
    "        ],\n",
    "        \"doi\": \"10.1038/nature01647\",\n",
    "        \"issue\": \"6939\",\n",
    "        \"volume\": \"423\"\n",
    "      },\n",
    "      \"key\": \"20_17649477\",\n",
    "      \"year\": 2003,\n",
    "      \"container_name\": \"Nature\",\n",
    "      \"locator\": \"534\"\n",
    "    },\n",
    "    {\n",
    "      \"index\": 19,\n",
    "      \"extra\": {\n",
    "        \"authors\": [\n",
    "          \"Li\"\n",
    "        ],\n",
    "        \"doi\": \"10.1038/nn.2296\",\n",
    "        \"volume\": \"12\"\n",
    "      },\n",
    "      \"key\": \"21_34486838\",\n",
    "      \"year\": 2009,\n",
    "      \"container_name\": \"Nature neuroscience\",\n",
    "      \"locator\": \"549\"\n",
    "    },\n",
    "    {\n",
    "      \"index\": 20,\n",
    "      \"extra\": {\n",
    "        \"doi\": \"10.1038/nature12486\",\n",
    "        \"volume\": \"501\"\n",
    "      },\n",
    "      \"key\": \"22_46560497\",\n",
    "      \"year\": 2013,\n",
    "      \"container_name\": \"Nature\",\n",
    "      \"locator\": \"97\"\n",
    "    },\n",
    "    {\n",
    "      \"index\": 21,\n",
    "      \"extra\": {\n",
    "        \"doi\": \"10.1016/j.cub.2013.01.059\",\n",
    "        \"volume\": \"23\"\n",
    "      },\n",
    "      \"key\": \"23_46753105\",\n",
    "      \"year\": 2013,\n",
    "      \"container_name\": \"Current biology : CB\",\n",
    "      \"locator\": \"R308\"\n",
    "    },\n",
    "    {\n",
    "      \"index\": 22,\n",
    "      \"extra\": {\n",
    "        \"authors\": [\n",
    "          \"Li\"\n",
    "        ],\n",
    "        \"doi\": \"10.1371/journal.pbio.1001135\"\n",
    "      },\n",
    "      \"key\": \"24_40764722\",\n",
    "      \"year\": 2011,\n",
    "      \"container_name\": \"PLoS biology\",\n",
    "      \"locator\": \"e1001135\"\n",
    "    },\n",
    "    {\n",
    "      \"index\": 23,\n",
    "      \"extra\": {\n",
    "        \"authors\": [\n",
    "          \"Sperling\"\n",
    "        ],\n",
    "        \"doi\": \"10.1038/nn1474\"\n",
    "      },\n",
    "      \"key\": \"25_19382782\",\n",
    "      \"year\": 2005,\n",
    "      \"container_name\": \"Nature neuroscience\",\n",
    "      \"locator\": \"862\"\n",
    "    },\n",
    "    {\n",
    "      \"index\": 24,\n",
    "      \"extra\": {\n",
    "        \"doi\": \"10.1073/pnas.0504446102\",\n",
    "        \"issue\": \"39\",\n",
    "        \"volume\": \"102\"\n",
    "      },\n",
    "      \"key\": \"26_19690857\",\n",
    "      \"year\": 2005,\n",
    "      \"container_name\": \"PNAS\",\n",
    "      \"locator\": \"14110\"\n",
    "    },\n",
    "    {\n",
    "      \"index\": 25,\n",
    "      \"extra\": {\n",
    "        \"doi\": \"10.1016/j.specom.2005.09.004\",\n",
    "        \"volume\": \"48\"\n",
    "      },\n",
    "      \"key\": \"27_40431047\",\n",
    "      \"year\": 2006,\n",
    "      \"locator\": \"591\"\n",
    "    },\n",
    "    {\n",
    "      \"index\": 26,\n",
    "      \"extra\": {\n",
    "        \"authors\": [\n",
    "          \"Ruggles\"\n",
    "        ],\n",
    "        \"doi\": \"10.1016/j.cub.2012.05.025\",\n",
    "        \"issue\": \"15\",\n",
    "        \"volume\": \"22\"\n",
    "      },\n",
    "      \"key\": \"28_42924756\",\n",
    "      \"year\": 2012,\n",
    "      \"container_name\": \"Current biology : CB\",\n",
    "      \"locator\": \"1417\"\n",
    "    },\n",
    "    {\n",
    "      \"index\": 27,\n",
    "      \"extra\": {\n",
    "        \"authors\": [\n",
    "          \"Kidd\"\n",
    "        ],\n",
    "        \"doi\": \"10.1007/s101620010095\"\n",
    "      },\n",
    "      \"key\": \"29_17179894\",\n",
    "      \"year\": 2002,\n",
    "      \"container_name\": \"Journal of the Association for Research in Otolaryngology : JARO\",\n",
    "      \"locator\": \"107\"\n",
    "    },\n",
    "    {\n",
    "      \"index\": 28,\n",
    "      \"extra\": {\n",
    "        \"authors\": [\n",
    "          \"Marrone\"\n",
    "        ],\n",
    "        \"doi\": \"10.1121/1.2980441\",\n",
    "        \"volume\": \"124\"\n",
    "      },\n",
    "      \"key\": \"30_32771146\",\n",
    "      \"year\": 2008,\n",
    "      \"container_name\": \"Journal of the Acoustical Society of America\",\n",
    "      \"locator\": \"3064\"\n",
    "    },\n",
    "    {\n",
    "      \"index\": 29,\n",
    "      \"extra\": {\n",
    "        \"authors\": [\n",
    "          \"Khan\"\n",
    "        ],\n",
    "        \"doi\": \"10.1038/ncomms1712\"\n",
    "      },\n",
    "      \"key\": \"31_42187179\",\n",
    "      \"year\": 2012,\n",
    "      \"locator\": \"703\"\n",
    "    },\n",
    "    {\n",
    "      \"index\": 30,\n",
    "      \"extra\": {\n",
    "        \"authors\": [\n",
    "          \"Hill\"\n",
    "        ],\n",
    "        \"doi\": \"10.1006/jtbi.1997.0421\",\n",
    "        \"volume\": \"186\"\n",
    "      },\n",
    "      \"key\": \"32_6195531\",\n",
    "      \"year\": 1997,\n",
    "      \"container_name\": \"Journal of Theoretical Biology\",\n",
    "      \"locator\": \"503\"\n",
    "    },\n",
    "    {\n",
    "      \"index\": 31,\n",
    "      \"extra\": {\n",
    "        \"authors\": [\n",
    "          \"Sabin\"\n",
    "        ],\n",
    "        \"doi\": \"10.1523/jneurosci.5732-11.2012\",\n",
    "        \"issue\": \"19\",\n",
    "        \"volume\": \"32\"\n",
    "      },\n",
    "      \"key\": \"33_42510263\",\n",
    "      \"year\": 2012,\n",
    "      \"container_name\": \"Journal of Neuroscience\",\n",
    "      \"locator\": \"6542\"\n",
    "    },\n",
    "    {\n",
    "      \"index\": 32,\n",
    "      \"extra\": {\n",
    "        \"authors\": [\n",
    "          \"Fitzgerald\"\n",
    "        ],\n",
    "        \"doi\": \"10.1121/1.2074687\",\n",
    "        \"volume\": \"118\"\n",
    "      },\n",
    "      \"key\": \"34_21461858\",\n",
    "      \"year\": 2005,\n",
    "      \"container_name\": \"Journal of the Acoustical Society of America\",\n",
    "      \"locator\": \"3794\"\n",
    "    },\n",
    "    {\n",
    "      \"index\": 33,\n",
    "      \"extra\": {\n",
    "        \"doi\": \"10.1093/cercor/bhr196\",\n",
    "        \"volume\": \"22\"\n",
    "      },\n",
    "      \"key\": \"35_40431043\",\n",
    "      \"year\": 2012,\n",
    "      \"container_name\": \"Cerebral Cortex\",\n",
    "      \"locator\": \"1180\"\n",
    "    },\n",
    "    {\n",
    "      \"index\": 34,\n",
    "      \"extra\": {\n",
    "        \"authors\": [\n",
    "          \"Sabes\"\n",
    "        ],\n",
    "        \"doi\": \"10.1080/14992020701297565\",\n",
    "        \"volume\": \"46\"\n",
    "      },\n",
    "      \"key\": \"36_29202643\",\n",
    "      \"year\": 2007,\n",
    "      \"container_name\": \"International journal of audiology\",\n",
    "      \"locator\": \"374\"\n",
    "    },\n",
    "    {\n",
    "      \"index\": 35,\n",
    "      \"extra\": {\n",
    "        \"doi\": \"10.3766/jaaa.24.3.7\",\n",
    "        \"volume\": \"24\"\n",
    "      },\n",
    "      \"key\": \"37_48085084\",\n",
    "      \"year\": 2013,\n",
    "      \"container_name\": \"Journal of the American Academy of Audiology\",\n",
    "      \"locator\": \"214\"\n",
    "    },\n",
    "    {\n",
    "      \"index\": 36,\n",
    "      \"extra\": {\n",
    "        \"doi\": \"10.1152/jn.01298.2006\",\n",
    "        \"volume\": \"97\"\n",
    "      },\n",
    "      \"key\": \"38_27950371\",\n",
    "      \"year\": 2007,\n",
    "      \"container_name\": \"Journal of Neurophysiology\",\n",
    "      \"locator\": \"3621\"\n",
    "    },\n",
    "    {\n",
    "      \"index\": 37,\n",
    "      \"extra\": {\n",
    "        \"authors\": [\n",
    "          \"Dean\"\n",
    "        ],\n",
    "        \"doi\": \"10.1038/nn1541\",\n",
    "        \"issue\": \"12\"\n",
    "      },\n",
    "      \"key\": \"39_19708337\",\n",
    "      \"year\": 2005,\n",
    "      \"container_name\": \"Nature neuroscience\",\n",
    "      \"locator\": \"1684\"\n",
    "    },\n",
    "    {\n",
    "      \"index\": 38,\n",
    "      \"extra\": {\n",
    "        \"authors\": [\n",
    "          \"Foffani\"\n",
    "        ],\n",
    "        \"doi\": \"10.1016/j.jneumeth.2003.12.011\",\n",
    "        \"issue\": \"1-2\",\n",
    "        \"volume\": \"135\"\n",
    "      },\n",
    "      \"key\": \"40_18087581\",\n",
    "      \"year\": 2004,\n",
    "      \"container_name\": \"Journal of neuroscience methods\",\n",
    "      \"locator\": \"107\"\n",
    "    },\n",
    "    {\n",
    "      \"index\": 39,\n",
    "      \"extra\": {\n",
    "        \"authors\": [\n",
    "          \"Yovel\"\n",
    "        ],\n",
    "        \"doi\": \"10.1126/science.1183310\",\n",
    "        \"issue\": \"5966\",\n",
    "        \"volume\": \"327\"\n",
    "      },\n",
    "      \"key\": \"41_36546624\",\n",
    "      \"year\": 2010,\n",
    "      \"container_name\": \"Science\",\n",
    "      \"locator\": \"701\"\n",
    "    },\n",
    "    {\n",
    "      \"index\": 40,\n",
    "      \"extra\": {\n",
    "        \"authors\": [\n",
    "          \"Fiorentini\"\n",
    "        ],\n",
    "        \"doi\": \"10.1038/287043a0\",\n",
    "        \"issue\": \"5777\",\n",
    "        \"volume\": \"287\"\n",
    "      },\n",
    "      \"key\": \"42_8195610\",\n",
    "      \"year\": 1980,\n",
    "      \"container_name\": \"Nature\",\n",
    "      \"locator\": \"43\"\n",
    "    },\n",
    "    {\n",
    "      \"index\": 41,\n",
    "      \"extra\": {\n",
    "        \"authors\": [\n",
    "          \"Jeter\"\n",
    "        ],\n",
    "        \"doi\": \"10.1016/j.visres.2010.06.016\",\n",
    "        \"issue\": \"19\",\n",
    "        \"volume\": \"50\"\n",
    "      },\n",
    "      \"key\": \"43_37631889\",\n",
    "      \"year\": 2010,\n",
    "      \"container_name\": \"Vision research\",\n",
    "      \"locator\": \"1928\"\n",
    "    },\n",
    "    {\n",
    "      \"index\": 42,\n",
    "      \"extra\": {\n",
    "        \"authors\": [\n",
    "          \"Ahissar\"\n",
    "        ],\n",
    "        \"doi\": \"10.1038/387401a0\",\n",
    "        \"issue\": \"6631\",\n",
    "        \"volume\": \"387\"\n",
    "      },\n",
    "      \"key\": \"44_16790433\",\n",
    "      \"year\": 1997,\n",
    "      \"container_name\": \"Nature\",\n",
    "      \"locator\": \"401\"\n",
    "    },\n",
    "    {\n",
    "      \"index\": 43,\n",
    "      \"extra\": {\n",
    "        \"authors\": [\n",
    "          \"Xiao\"\n",
    "        ],\n",
    "        \"doi\": \"10.1016/j.cub.2008.10.030\",\n",
    "        \"issue\": \"24\",\n",
    "        \"volume\": \"18\"\n",
    "      },\n",
    "      \"key\": \"45_32844717\",\n",
    "      \"year\": 2008,\n",
    "      \"container_name\": \"Current biology : CB\",\n",
    "      \"locator\": \"1922\"\n",
    "    },\n",
    "    {\n",
    "      \"index\": 44,\n",
    "      \"extra\": {\n",
    "        \"authors\": [\n",
    "          \"Harris\"\n",
    "        ],\n",
    "        \"doi\": \"10.1016/j.cub.2012.07.059\",\n",
    "        \"issue\": \"19\",\n",
    "        \"volume\": \"22\"\n",
    "      },\n",
    "      \"key\": \"46_43492750\",\n",
    "      \"year\": 2012,\n",
    "      \"container_name\": \"Current biology : CB\",\n",
    "      \"locator\": \"1813\"\n",
    "    },\n",
    "    {\n",
    "      \"index\": 45,\n",
    "      \"extra\": {\n",
    "        \"authors\": [\n",
    "          \"Zhang\"\n",
    "        ],\n",
    "        \"doi\": \"10.1523/jneurosci.0704-10.2010\",\n",
    "        \"issue\": \"37\",\n",
    "        \"volume\": \"30\"\n",
    "      },\n",
    "      \"key\": \"47_38115220\",\n",
    "      \"year\": 2010,\n",
    "      \"container_name\": \"Journal of Neuroscience\",\n",
    "      \"locator\": \"12323\"\n",
    "    },\n",
    "    {\n",
    "      \"index\": 46,\n",
    "      \"extra\": {\n",
    "        \"authors\": [\n",
    "          \"Resnik\"\n",
    "        ],\n",
    "        \"doi\": \"10.1038/nn.2802\",\n",
    "        \"volume\": \"14\"\n",
    "      },\n",
    "      \"key\": \"48_39887772\",\n",
    "      \"year\": 2011,\n",
    "      \"container_name\": \"Nature neuroscience\",\n",
    "      \"locator\": \"791\"\n",
    "    },\n",
    "    {\n",
    "      \"index\": 47,\n",
    "      \"extra\": {\n",
    "        \"authors\": [\n",
    "          \"Lim\"\n",
    "        ],\n",
    "        \"doi\": \"10.1111/j.1551-6709.2011.01192.x\",\n",
    "        \"volume\": \"35\"\n",
    "      },\n",
    "      \"key\": \"49_40546670\",\n",
    "      \"year\": 2011,\n",
    "      \"locator\": \"1390\"\n",
    "    },\n",
    "    {\n",
    "      \"index\": 48,\n",
    "      \"extra\": {\n",
    "        \"authors\": [\n",
    "          \"Green\"\n",
    "        ],\n",
    "        \"doi\": \"10.1016/j.cub.2012.02.012\",\n",
    "        \"volume\": \"22\"\n",
    "      },\n",
    "      \"key\": \"50_42223644\",\n",
    "      \"year\": 2012,\n",
    "      \"container_name\": \"Current biology : CB\",\n",
    "      \"locator\": \"R197\"\n",
    "    },\n",
    "    {\n",
    "      \"index\": 49,\n",
    "      \"extra\": {\n",
    "        \"authors\": [\n",
    "          \"Wong\"\n",
    "        ],\n",
    "        \"doi\": \"10.1038/nn1872\",\n",
    "        \"volume\": \"10\"\n",
    "      },\n",
    "      \"key\": \"51_28568765\",\n",
    "      \"year\": 2007,\n",
    "      \"container_name\": \"Nature neuroscience\",\n",
    "      \"locator\": \"420\"\n",
    "    },\n",
    "    {\n",
    "      \"index\": 50,\n",
    "      \"extra\": {\n",
    "        \"doi\": \"10.1371/journal.pone.0086980\"\n",
    "      },\n",
    "      \"key\": \"52_48085085\",\n",
    "      \"year\": 2014,\n",
    "      \"locator\": \"e86980\"\n",
    "    },\n",
    "    {\n",
    "      \"index\": 51,\n",
    "      \"extra\": {\n",
    "        \"authors\": [\n",
    "          \"Chang\"\n",
    "        ],\n",
    "        \"doi\": \"10.1523/jneurosci.0101-13.2013\",\n",
    "        \"issue\": \"27\",\n",
    "        \"volume\": \"33\"\n",
    "      },\n",
    "      \"key\": \"53_46075990\",\n",
    "      \"year\": 2013,\n",
    "      \"container_name\": \"Journal of Neuroscience\",\n",
    "      \"locator\": \"10962\"\n",
    "    },\n",
    "    {\n",
    "      \"index\": 52,\n",
    "      \"extra\": {\n",
    "        \"authors\": [\n",
    "          \"Dosher\"\n",
    "        ],\n",
    "        \"doi\": \"10.1073/pnas.95.23.13988\",\n",
    "        \"issue\": \"23\",\n",
    "        \"volume\": \"95\"\n",
    "      },\n",
    "      \"key\": \"54_6226944\",\n",
    "      \"year\": 1998,\n",
    "      \"container_name\": \"PNAS\",\n",
    "      \"locator\": \"13988\"\n",
    "    },\n",
    "    {\n",
    "      \"index\": 53,\n",
    "      \"extra\": {\n",
    "        \"authors\": [\n",
    "          \"Dosher\"\n",
    "        ],\n",
    "        \"doi\": \"10.1016/s0042-6989(99)00059-0\",\n",
    "        \"issue\": \"19\",\n",
    "        \"volume\": \"39\"\n",
    "      },\n",
    "      \"key\": \"55_6417204\",\n",
    "      \"year\": 1999,\n",
    "      \"container_name\": \"Vision research\",\n",
    "      \"locator\": \"3197\"\n",
    "    },\n",
    "    {\n",
    "      \"index\": 54,\n",
    "      \"extra\": {\n",
    "        \"authors\": [\n",
    "          \"Levi\"\n",
    "        ],\n",
    "        \"doi\": \"10.1002/dev.20050\",\n",
    "        \"volume\": \"46\"\n",
    "      },\n",
    "      \"key\": \"56_18749490\",\n",
    "      \"year\": 2005,\n",
    "      \"container_name\": \"Developmental psychobiology\",\n",
    "      \"locator\": \"222\"\n",
    "    },\n",
    "    {\n",
    "      \"index\": 55,\n",
    "      \"extra\": {\n",
    "        \"authors\": [\n",
    "          \"Green\"\n",
    "        ],\n",
    "        \"doi\": \"10.1016/j.cub.2010.07.040\",\n",
    "        \"issue\": \"17\",\n",
    "        \"volume\": \"20\"\n",
    "      },\n",
    "      \"key\": \"57_38118881\",\n",
    "      \"year\": 2010,\n",
    "      \"container_name\": \"Current biology : CB\",\n",
    "      \"locator\": \"1573\"\n",
    "    },\n",
    "    {\n",
    "      \"index\": 56,\n",
    "      \"extra\": {\n",
    "        \"authors\": [\n",
    "          \"Bavelier\"\n",
    "        ],\n",
    "        \"doi\": \"10.1146/annurev-neuro-060909-152832\",\n",
    "        \"volume\": \"35\"\n",
    "      },\n",
    "      \"key\": \"58_42898269\",\n",
    "      \"year\": 2012,\n",
    "      \"container_name\": \"Annual review of neuroscience\",\n",
    "      \"locator\": \"391\"\n",
    "    },\n",
    "    {\n",
    "      \"index\": 57,\n",
    "      \"extra\": {\n",
    "        \"authors\": [\n",
    "          \"Bejjanki\"\n",
    "        ],\n",
    "        \"doi\": \"10.1038/nn.2796\",\n",
    "        \"volume\": \"14\"\n",
    "      },\n",
    "      \"key\": \"59_39651537\",\n",
    "      \"year\": 2011,\n",
    "      \"container_name\": \"Nature neuroscience\",\n",
    "      \"locator\": \"642\"\n",
    "    },\n",
    "    {\n",
    "      \"index\": 58,\n",
    "      \"extra\": {\n",
    "        \"authors\": [\n",
    "          \"Recanzone\"\n",
    "        ],\n",
    "        \"volume\": \"13\"\n",
    "      },\n",
    "      \"key\": \"60_10113666\",\n",
    "      \"year\": 1993,\n",
    "      \"container_name\": \"Journal of Neuroscience\",\n",
    "      \"locator\": \"87\"\n",
    "    },\n",
    "    {\n",
    "      \"index\": 59,\n",
    "      \"extra\": {\n",
    "        \"authors\": [\n",
    "          \"Polley\"\n",
    "        ],\n",
    "        \"doi\": \"10.1523/jneurosci.3771-05.2006\",\n",
    "        \"issue\": \"18\",\n",
    "        \"volume\": \"26\"\n",
    "      },\n",
    "      \"key\": \"61_22054695\",\n",
    "      \"year\": 2006,\n",
    "      \"container_name\": \"Journal of Neuroscience\",\n",
    "      \"locator\": \"4970\"\n",
    "    },\n",
    "    {\n",
    "      \"index\": 60,\n",
    "      \"extra\": {\n",
    "        \"authors\": [\n",
    "          \"Blake\"\n",
    "        ],\n",
    "        \"doi\": \"10.1016/j.neuron.2006.08.009\",\n",
    "        \"volume\": \"52\"\n",
    "      },\n",
    "      \"key\": \"62_22828898\",\n",
    "      \"year\": 2006,\n",
    "      \"container_name\": \"Neuron\",\n",
    "      \"locator\": \"371\"\n",
    "    },\n",
    "    {\n",
    "      \"index\": 61,\n",
    "      \"extra\": {\n",
    "        \"doi\": \"10.1016/j.bbr.2013.10.021\",\n",
    "        \"volume\": \"258\"\n",
    "      },\n",
    "      \"key\": \"63_48085086\",\n",
    "      \"year\": 2014,\n",
    "      \"container_name\": \"Behavioural brain research\",\n",
    "      \"locator\": \"166\"\n",
    "    },\n",
    "    {\n",
    "      \"index\": 62,\n",
    "      \"extra\": {\n",
    "        \"authors\": [\n",
    "          \"Edeline\"\n",
    "        ],\n",
    "        \"doi\": \"10.1037/0735-7044.107.4.539\",\n",
    "        \"volume\": \"107\"\n",
    "      },\n",
    "      \"key\": \"64_14457746\",\n",
    "      \"year\": 1993,\n",
    "      \"container_name\": \"Behavioral neuroscience\",\n",
    "      \"locator\": \"539\"\n",
    "    },\n",
    "    {\n",
    "      \"index\": 63,\n",
    "      \"extra\": {\n",
    "        \"doi\": \"10.1073/pnas.1117717109\",\n",
    "        \"volume\": \"109\"\n",
    "      },\n",
    "      \"key\": \"65_41562493\",\n",
    "      \"year\": 2012,\n",
    "      \"container_name\": \"PNAS\",\n",
    "      \"locator\": \"2144\"\n",
    "    },\n",
    "    {\n",
    "      \"index\": 64,\n",
    "      \"extra\": {\n",
    "        \"doi\": \"10.1016/j.neuron.2008.12.027\",\n",
    "        \"volume\": \"61\"\n",
    "      },\n",
    "      \"key\": \"66_45580689\",\n",
    "      \"year\": 2009,\n",
    "      \"container_name\": \"Neuron\",\n",
    "      \"locator\": \"467\"\n",
    "    },\n",
    "    {\n",
    "      \"index\": 65,\n",
    "      \"extra\": {\n",
    "        \"doi\": \"10.1073/pnas.092278099\",\n",
    "        \"issue\": \"15\",\n",
    "        \"volume\": \"99\"\n",
    "      },\n",
    "      \"key\": \"67_19673322\",\n",
    "      \"year\": 2002,\n",
    "      \"container_name\": \"PNAS\",\n",
    "      \"locator\": \"10114\"\n",
    "    },\n",
    "    {\n",
    "      \"index\": 66,\n",
    "      \"extra\": {\n",
    "        \"doi\": \"10.1073/pnas.1334187100\",\n",
    "        \"issue\": \"19\",\n",
    "        \"volume\": \"100\"\n",
    "      },\n",
    "      \"key\": \"68_19683308\",\n",
    "      \"year\": 2003,\n",
    "      \"container_name\": \"PNAS\",\n",
    "      \"locator\": \"11070\"\n",
    "    },\n",
    "    {\n",
    "      \"index\": 67,\n",
    "      \"extra\": {\n",
    "        \"authors\": [\n",
    "          \"Chen\"\n",
    "        ],\n",
    "        \"doi\": \"10.1038/nn.2147\",\n",
    "        \"volume\": \"11\"\n",
    "      },\n",
    "      \"key\": \"69_31438747\",\n",
    "      \"year\": 2008,\n",
    "      \"container_name\": \"Nature neuroscience\",\n",
    "      \"locator\": \"974\"\n",
    "    },\n",
    "    {\n",
    "      \"index\": 68,\n",
    "      \"extra\": {\n",
    "        \"doi\": \"10.1152/jn.01072.2005\",\n",
    "        \"volume\": \"96\"\n",
    "      },\n",
    "      \"key\": \"70_22396575\",\n",
    "      \"year\": 2006,\n",
    "      \"container_name\": \"Journal of Neurophysiology\",\n",
    "      \"locator\": \"2377\"\n",
    "    },\n",
    "    {\n",
    "      \"index\": 69,\n",
    "      \"extra\": {\n",
    "        \"authors\": [\n",
    "          \"Spingath\"\n",
    "        ],\n",
    "        \"doi\": \"10.1371/journal.pone.0015342\"\n",
    "      },\n",
    "      \"key\": \"71_39174006\",\n",
    "      \"year\": 2011,\n",
    "      \"locator\": \"e15342\"\n",
    "    },\n",
    "    {\n",
    "      \"index\": 70,\n",
    "      \"extra\": {\n",
    "        \"doi\": \"10.1038/nature12077\",\n",
    "        \"volume\": \"497\"\n",
    "      },\n",
    "      \"key\": \"72_47428500\",\n",
    "      \"year\": 2013,\n",
    "      \"container_name\": \"Nature\",\n",
    "      \"locator\": \"482\"\n",
    "    },\n",
    "    {\n",
    "      \"index\": 71,\n",
    "      \"extra\": {\n",
    "        \"authors\": [\n",
    "          \"Law\"\n",
    "        ],\n",
    "        \"doi\": \"10.1038/nn2070\",\n",
    "        \"volume\": \"11\"\n",
    "      },\n",
    "      \"key\": \"73_30721163\",\n",
    "      \"year\": 2008,\n",
    "      \"container_name\": \"Nature neuroscience\",\n",
    "      \"locator\": \"505\"\n",
    "    },\n",
    "    {\n",
    "      \"index\": 72,\n",
    "      \"extra\": {\n",
    "        \"authors\": [\n",
    "          \"Zanto\"\n",
    "        ],\n",
    "        \"doi\": \"10.1038/nn.2773\",\n",
    "        \"volume\": \"14\"\n",
    "      },\n",
    "      \"key\": \"74_39581657\",\n",
    "      \"year\": 2011,\n",
    "      \"container_name\": \"Nature neuroscience\",\n",
    "      \"locator\": \"656\"\n",
    "    },\n",
    "    {\n",
    "      \"index\": 73,\n",
    "      \"extra\": {\n",
    "        \"authors\": [\n",
    "          \"Bavelier\"\n",
    "        ],\n",
    "        \"doi\": \"10.1016/j.visres.2011.08.007\",\n",
    "        \"volume\": \"61\"\n",
    "      },\n",
    "      \"key\": \"75_40642308\",\n",
    "      \"year\": 2012,\n",
    "      \"container_name\": \"Vision research\",\n",
    "      \"locator\": \"132\"\n",
    "    },\n",
    "    {\n",
    "      \"index\": 74,\n",
    "      \"extra\": {\n",
    "        \"authors\": [\n",
    "          \"Mishra\"\n",
    "        ],\n",
    "        \"doi\": \"10.1523/jneurosci.4834-10.2011\",\n",
    "        \"volume\": \"31\"\n",
    "      },\n",
    "      \"key\": \"76_39004999\",\n",
    "      \"year\": 2011,\n",
    "      \"container_name\": \"Journal of Neuroscience\",\n",
    "      \"locator\": \"992\"\n",
    "    },\n",
    "    {\n",
    "      \"index\": 75,\n",
    "      \"extra\": {\n",
    "        \"authors\": [\n",
    "          \"Lin\"\n",
    "        ],\n",
    "        \"doi\": \"10.1001/archinternmed.2011.506\",\n",
    "        \"issue\": \"20\",\n",
    "        \"volume\": \"171\"\n",
    "      },\n",
    "      \"key\": \"77_41157434\",\n",
    "      \"year\": 2011,\n",
    "      \"container_name\": \"Archives of Internal Medicine\",\n",
    "      \"locator\": \"1851\"\n",
    "    },\n",
    "    {\n",
    "      \"index\": 76,\n",
    "      \"extra\": {\n",
    "        \"authors\": [\n",
    "          \"Florentine\"\n",
    "        ],\n",
    "        \"doi\": \"10.1044/jshr.2303.646\",\n",
    "        \"volume\": \"23\"\n",
    "      },\n",
    "      \"key\": \"78_8212579\",\n",
    "      \"year\": 1980,\n",
    "      \"container_name\": \"Journal of Speech, Language, and Hearing Research\",\n",
    "      \"locator\": \"646\"\n",
    "    },\n",
    "    {\n",
    "      \"index\": 77,\n",
    "      \"extra\": {\n",
    "        \"authors\": [\n",
    "          \"Doherty\"\n",
    "        ],\n",
    "        \"doi\": \"10.1121/1.426742\",\n",
    "        \"volume\": \"105\"\n",
    "      },\n",
    "      \"key\": \"79_10761279\",\n",
    "      \"year\": 1999,\n",
    "      \"container_name\": \"Journal of the Acoustical Society of America\",\n",
    "      \"locator\": \"1831\"\n",
    "    },\n",
    "    {\n",
    "      \"index\": 78,\n",
    "      \"extra\": {\n",
    "        \"authors\": [\n",
    "          \"Buran\"\n",
    "        ],\n",
    "        \"doi\": \"10.1523/jneurosci.0647-13.2014\",\n",
    "        \"volume\": \"34\"\n",
    "      },\n",
    "      \"key\": \"80_47374824\",\n",
    "      \"year\": 2014,\n",
    "      \"container_name\": \"Journal of Neuroscience\",\n",
    "      \"locator\": \"2276\"\n",
    "    },\n",
    "    {\n",
    "      \"index\": 79,\n",
    "      \"extra\": {\n",
    "        \"doi\": \"10.1073/pnas.1007885107\",\n",
    "        \"issue\": \"31\",\n",
    "        \"volume\": \"107\"\n",
    "      },\n",
    "      \"key\": \"81_37639936\",\n",
    "      \"year\": 2010,\n",
    "      \"container_name\": \"PNAS\",\n",
    "      \"locator\": \"13900\"\n",
    "    },\n",
    "    {\n",
    "      \"index\": 80,\n",
    "      \"extra\": {\n",
    "        \"authors\": [\n",
    "          \"Killion\"\n",
    "        ],\n",
    "        \"doi\": \"10.1121/1.1784440\",\n",
    "        \"issue\": \"4 Pt 1\",\n",
    "        \"volume\": \"116\"\n",
    "      },\n",
    "      \"key\": \"84_18512574\",\n",
    "      \"year\": 2004,\n",
    "      \"container_name\": \"Journal of the Acoustical Society of America\",\n",
    "      \"locator\": \"2395\"\n",
    "    },\n",
    "    {\n",
    "      \"index\": 81,\n",
    "      \"extra\": {\n",
    "        \"authors\": [\n",
    "          \"Guo\"\n",
    "        ],\n",
    "        \"doi\": \"10.1523/jneurosci.0065-12.2012\",\n",
    "        \"issue\": \"27\",\n",
    "        \"volume\": \"32\"\n",
    "      },\n",
    "      \"key\": \"85_42961305\",\n",
    "      \"year\": 2012,\n",
    "      \"container_name\": \"Journal of Neuroscience\",\n",
    "      \"locator\": \"9159\"\n",
    "    }\n",
    "  ],\n",
    "  \"contribs\": [\n",
    "    {\n",
    "      \"index\": 0,\n",
    "      \"raw_name\": \"J. P. Whitton\",\n",
    "      \"role\": \"author\",\n",
    "      \"extra\": {\n",
    "        \"seq\": \"first\"\n",
    "      }\n",
    "    },\n",
    "    {\n",
    "      \"index\": 1,\n",
    "      \"raw_name\": \"K. E. Hancock\",\n",
    "      \"role\": \"author\"\n",
    "    },\n",
    "    {\n",
    "      \"index\": 2,\n",
    "      \"raw_name\": \"D. B. Polley\",\n",
    "      \"role\": \"author\"\n",
    "    }\n",
    "  ],\n",
    "  \"language\": \"en\",\n",
    "  \"publisher\": \"Proceedings of the National Academy of Sciences\",\n",
    "  \"pages\": \"E2606-E2615\",\n",
    "  \"issue\": \"25\",\n",
    "  \"volume\": \"111\",\n",
    "  \"ext_ids\": {\n",
    "    \"doi\": \"10.1073/pnas.1322184111\",\n",
    "    \"wikidata_qid\": \"Q30422503\",\n",
    "    \"pmid\": \"24927596\",\n",
    "    \"pmcid\": \"PMC4078866\",\n",
    "    \"core\": \"78057893\"\n",
    "  },\n",
    "  \"release_year\": 2014,\n",
    "  \"release_date\": \"2014-06-09\",\n",
    "  \"release_stage\": \"published\",\n",
    "  \"release_type\": \"article-journal\",\n",
    "  \"container_id\": \"nvtuoas5pbdsllkntnhizy4f4q\",\n",
    "  \"work_id\": \"w3zxmygvv5c4to5psvgkpox5hq\",\n",
    "  \"title\": \"Immersive audiomotor game play enhances neural and perceptual salience of weak signals in noise\",\n",
    "  \"state\": \"active\",\n",
    "  \"ident\": \"jmnddhbt6jgxhe2fm2eb5lwcd4\",\n",
    "  \"revision\": \"8ec5f4b3-3d24-4440-8197-756dc9e99a82\",\n",
    "  \"extra\": {\n",
    "    \"crossref\": {\n",
    "      \"type\": \"journal-article\"\n",
    "    }\n",
    "  }\n",
    "}"
   ]
  },
  {
   "cell_type": "code",
   "execution_count": 568,
   "metadata": {},
   "outputs": [
    {
     "data": {
      "text/plain": [
       "dict"
      ]
     },
     "execution_count": 568,
     "metadata": {},
     "output_type": "execute_result"
    }
   ],
   "source": [
    "type(data)"
   ]
  },
  {
   "cell_type": "code",
   "execution_count": 574,
   "metadata": {},
   "outputs": [
    {
     "data": {
      "text/plain": [
       "'journal-article'"
      ]
     },
     "execution_count": 574,
     "metadata": {},
     "output_type": "execute_result"
    }
   ],
   "source": [
    "data[\"extra\"][\"crossref\"][\"type\"]"
   ]
  },
  {
   "cell_type": "code",
   "execution_count": 581,
   "metadata": {},
   "outputs": [
    {
     "data": {
      "text/plain": [
       "['J. P. Whitton', 'K. E. Hancock', 'D. B. Polley']"
      ]
     },
     "execution_count": 581,
     "metadata": {},
     "output_type": "execute_result"
    }
   ],
   "source": [
    "[c[\"raw_name\"] for c in data[\"contribs\"]]"
   ]
  },
  {
   "cell_type": "code",
   "execution_count": 582,
   "metadata": {},
   "outputs": [],
   "source": [
    "import datetime"
   ]
  },
  {
   "cell_type": "code",
   "execution_count": 583,
   "metadata": {},
   "outputs": [
    {
     "data": {
      "text/plain": [
       "{'abstracts': [],\n",
       " 'refs': [{'index': 0,\n",
       "   'extra': {'authors': ['Charnov'], 'doi': '10.1016/0040-5809(76)90040-x'},\n",
       "   'key': '2_4010163',\n",
       "   'year': 1976,\n",
       "   'container_name': 'Theoretical population biology',\n",
       "   'locator': '129'},\n",
       "  {'index': 1,\n",
       "   'extra': {'volume': '32'},\n",
       "   'key': '3_24558846',\n",
       "   'year': 1993,\n",
       "   'locator': '17'},\n",
       "  {'index': 2,\n",
       "   'extra': {'doi': '10.1111/j.1365-3032.1983.tb00340.x'},\n",
       "   'key': '4_33578570',\n",
       "   'year': 1983,\n",
       "   'locator': '109'},\n",
       "  {'index': 3,\n",
       "   'extra': {'authors': ['Porter'], 'doi': '10.1038/nn1819', 'volume': '10'},\n",
       "   'key': '5_23451996',\n",
       "   'year': 2007,\n",
       "   'container_name': 'Nature neuroscience',\n",
       "   'locator': '27'},\n",
       "  {'index': 4,\n",
       "   'extra': {'authors': ['Thesen'], 'volume': '180'},\n",
       "   'key': '6_14443564',\n",
       "   'year': 1993,\n",
       "   'container_name': 'Journal of Experimental Biology',\n",
       "   'locator': '247'},\n",
       "  {'index': 5,\n",
       "   'extra': {'authors': ['Kolling'],\n",
       "    'doi': '10.1126/science.1216930',\n",
       "    'issue': '6077',\n",
       "    'volume': '336'},\n",
       "   'key': '7_42327098',\n",
       "   'year': 2012,\n",
       "   'container_name': 'Science',\n",
       "   'locator': '95'},\n",
       "  {'index': 6,\n",
       "   'extra': {'authors': ['Hayden'], 'doi': '10.1038/nn.2856', 'volume': '14'},\n",
       "   'key': '8_40081057',\n",
       "   'year': 2011,\n",
       "   'container_name': 'Nature neuroscience',\n",
       "   'locator': '933'},\n",
       "  {'index': 7,\n",
       "   'extra': {'doi': '10.1038/nature12176', 'volume': '498'},\n",
       "   'key': '9_46958362',\n",
       "   'year': 2013,\n",
       "   'container_name': 'Nature',\n",
       "   'locator': '363'},\n",
       "  {'index': 8,\n",
       "   'extra': {'authors': ['Bao'], 'doi': '10.1038/nn1293'},\n",
       "   'key': '10_18302730',\n",
       "   'year': 2004,\n",
       "   'container_name': 'Nature neuroscience',\n",
       "   'locator': '974'},\n",
       "  {'index': 9,\n",
       "   'extra': {'doi': '10.1073/pnas.0407586101', 'issue': '46', 'volume': '101'},\n",
       "   'key': '11_19687940',\n",
       "   'year': 2004,\n",
       "   'container_name': 'PNAS',\n",
       "   'locator': '16351'},\n",
       "  {'index': 10,\n",
       "   'extra': {'authors': ['Bergan'],\n",
       "    'doi': '10.1523/jneurosci.2533-05.2005',\n",
       "    'issue': '42',\n",
       "    'volume': '25'},\n",
       "   'key': '12_19488621',\n",
       "   'year': 2005,\n",
       "   'container_name': 'Journal of Neuroscience',\n",
       "   'locator': '9816'},\n",
       "  {'index': 11,\n",
       "   'extra': {'authors': ['Seitz'], 'doi': '10.1016/j.tics.2005.05.010'},\n",
       "   'key': '13_19029270',\n",
       "   'year': 2005,\n",
       "   'container_name': 'Trends in cognitive sciences',\n",
       "   'locator': '329'},\n",
       "  {'index': 12,\n",
       "   'extra': {'authors': ['Parikh'],\n",
       "    'doi': '10.1016/j.neuron.2007.08.025',\n",
       "    'volume': '56'},\n",
       "   'key': '14_29589929',\n",
       "   'year': 2007,\n",
       "   'container_name': 'Neuron',\n",
       "   'locator': '141'},\n",
       "  {'index': 13,\n",
       "   'extra': {'volume': '16'},\n",
       "   'key': '15_46874353',\n",
       "   'year': 2013,\n",
       "   'container_name': 'Nature neuroscience',\n",
       "   'locator': '79'},\n",
       "  {'index': 14,\n",
       "   'extra': {'authors': ['Schultz'],\n",
       "    'doi': '10.1126/science.275.5306.1593',\n",
       "    'issue': '5306',\n",
       "    'volume': '275'},\n",
       "   'key': '16_16706240',\n",
       "   'year': 1997,\n",
       "   'container_name': 'Science',\n",
       "   'locator': '1593'},\n",
       "  {'index': 15,\n",
       "   'extra': {'authors': ['Leach'],\n",
       "    'doi': '10.1523/jneurosci.5039-12.2013',\n",
       "    'issue': '15',\n",
       "    'volume': '33'},\n",
       "   'key': '17_45591748',\n",
       "   'year': 2013,\n",
       "   'container_name': 'Journal of Neuroscience',\n",
       "   'locator': '6659'},\n",
       "  {'index': 16,\n",
       "   'extra': {'authors': ['Parbery-Clark'],\n",
       "    'doi': '10.1097/aud.0b013e3181b412e9',\n",
       "    'volume': '30'},\n",
       "   'key': '18_35560093',\n",
       "   'year': 2009,\n",
       "   'container_name': 'Ear and hearing',\n",
       "   'locator': '653'},\n",
       "  {'index': 17,\n",
       "   'extra': {'authors': ['Kraus'], 'doi': '10.1038/nrn2882', 'volume': '11'},\n",
       "   'key': '19_37680696',\n",
       "   'year': 2010,\n",
       "   'container_name': 'Nature reviews. Neuroscience',\n",
       "   'locator': '599'},\n",
       "  {'index': 18,\n",
       "   'extra': {'authors': ['Green'],\n",
       "    'doi': '10.1038/nature01647',\n",
       "    'issue': '6939',\n",
       "    'volume': '423'},\n",
       "   'key': '20_17649477',\n",
       "   'year': 2003,\n",
       "   'container_name': 'Nature',\n",
       "   'locator': '534'},\n",
       "  {'index': 19,\n",
       "   'extra': {'authors': ['Li'], 'doi': '10.1038/nn.2296', 'volume': '12'},\n",
       "   'key': '21_34486838',\n",
       "   'year': 2009,\n",
       "   'container_name': 'Nature neuroscience',\n",
       "   'locator': '549'},\n",
       "  {'index': 20,\n",
       "   'extra': {'doi': '10.1038/nature12486', 'volume': '501'},\n",
       "   'key': '22_46560497',\n",
       "   'year': 2013,\n",
       "   'container_name': 'Nature',\n",
       "   'locator': '97'},\n",
       "  {'index': 21,\n",
       "   'extra': {'doi': '10.1016/j.cub.2013.01.059', 'volume': '23'},\n",
       "   'key': '23_46753105',\n",
       "   'year': 2013,\n",
       "   'container_name': 'Current biology : CB',\n",
       "   'locator': 'R308'},\n",
       "  {'index': 22,\n",
       "   'extra': {'authors': ['Li'], 'doi': '10.1371/journal.pbio.1001135'},\n",
       "   'key': '24_40764722',\n",
       "   'year': 2011,\n",
       "   'container_name': 'PLoS biology',\n",
       "   'locator': 'e1001135'},\n",
       "  {'index': 23,\n",
       "   'extra': {'authors': ['Sperling'], 'doi': '10.1038/nn1474'},\n",
       "   'key': '25_19382782',\n",
       "   'year': 2005,\n",
       "   'container_name': 'Nature neuroscience',\n",
       "   'locator': '862'},\n",
       "  {'index': 24,\n",
       "   'extra': {'doi': '10.1073/pnas.0504446102', 'issue': '39', 'volume': '102'},\n",
       "   'key': '26_19690857',\n",
       "   'year': 2005,\n",
       "   'container_name': 'PNAS',\n",
       "   'locator': '14110'},\n",
       "  {'index': 25,\n",
       "   'extra': {'doi': '10.1016/j.specom.2005.09.004', 'volume': '48'},\n",
       "   'key': '27_40431047',\n",
       "   'year': 2006,\n",
       "   'locator': '591'},\n",
       "  {'index': 26,\n",
       "   'extra': {'authors': ['Ruggles'],\n",
       "    'doi': '10.1016/j.cub.2012.05.025',\n",
       "    'issue': '15',\n",
       "    'volume': '22'},\n",
       "   'key': '28_42924756',\n",
       "   'year': 2012,\n",
       "   'container_name': 'Current biology : CB',\n",
       "   'locator': '1417'},\n",
       "  {'index': 27,\n",
       "   'extra': {'authors': ['Kidd'], 'doi': '10.1007/s101620010095'},\n",
       "   'key': '29_17179894',\n",
       "   'year': 2002,\n",
       "   'container_name': 'Journal of the Association for Research in Otolaryngology : JARO',\n",
       "   'locator': '107'},\n",
       "  {'index': 28,\n",
       "   'extra': {'authors': ['Marrone'],\n",
       "    'doi': '10.1121/1.2980441',\n",
       "    'volume': '124'},\n",
       "   'key': '30_32771146',\n",
       "   'year': 2008,\n",
       "   'container_name': 'Journal of the Acoustical Society of America',\n",
       "   'locator': '3064'},\n",
       "  {'index': 29,\n",
       "   'extra': {'authors': ['Khan'], 'doi': '10.1038/ncomms1712'},\n",
       "   'key': '31_42187179',\n",
       "   'year': 2012,\n",
       "   'locator': '703'},\n",
       "  {'index': 30,\n",
       "   'extra': {'authors': ['Hill'],\n",
       "    'doi': '10.1006/jtbi.1997.0421',\n",
       "    'volume': '186'},\n",
       "   'key': '32_6195531',\n",
       "   'year': 1997,\n",
       "   'container_name': 'Journal of Theoretical Biology',\n",
       "   'locator': '503'},\n",
       "  {'index': 31,\n",
       "   'extra': {'authors': ['Sabin'],\n",
       "    'doi': '10.1523/jneurosci.5732-11.2012',\n",
       "    'issue': '19',\n",
       "    'volume': '32'},\n",
       "   'key': '33_42510263',\n",
       "   'year': 2012,\n",
       "   'container_name': 'Journal of Neuroscience',\n",
       "   'locator': '6542'},\n",
       "  {'index': 32,\n",
       "   'extra': {'authors': ['Fitzgerald'],\n",
       "    'doi': '10.1121/1.2074687',\n",
       "    'volume': '118'},\n",
       "   'key': '34_21461858',\n",
       "   'year': 2005,\n",
       "   'container_name': 'Journal of the Acoustical Society of America',\n",
       "   'locator': '3794'},\n",
       "  {'index': 33,\n",
       "   'extra': {'doi': '10.1093/cercor/bhr196', 'volume': '22'},\n",
       "   'key': '35_40431043',\n",
       "   'year': 2012,\n",
       "   'container_name': 'Cerebral Cortex',\n",
       "   'locator': '1180'},\n",
       "  {'index': 34,\n",
       "   'extra': {'authors': ['Sabes'],\n",
       "    'doi': '10.1080/14992020701297565',\n",
       "    'volume': '46'},\n",
       "   'key': '36_29202643',\n",
       "   'year': 2007,\n",
       "   'container_name': 'International journal of audiology',\n",
       "   'locator': '374'},\n",
       "  {'index': 35,\n",
       "   'extra': {'doi': '10.3766/jaaa.24.3.7', 'volume': '24'},\n",
       "   'key': '37_48085084',\n",
       "   'year': 2013,\n",
       "   'container_name': 'Journal of the American Academy of Audiology',\n",
       "   'locator': '214'},\n",
       "  {'index': 36,\n",
       "   'extra': {'doi': '10.1152/jn.01298.2006', 'volume': '97'},\n",
       "   'key': '38_27950371',\n",
       "   'year': 2007,\n",
       "   'container_name': 'Journal of Neurophysiology',\n",
       "   'locator': '3621'},\n",
       "  {'index': 37,\n",
       "   'extra': {'authors': ['Dean'], 'doi': '10.1038/nn1541', 'issue': '12'},\n",
       "   'key': '39_19708337',\n",
       "   'year': 2005,\n",
       "   'container_name': 'Nature neuroscience',\n",
       "   'locator': '1684'},\n",
       "  {'index': 38,\n",
       "   'extra': {'authors': ['Foffani'],\n",
       "    'doi': '10.1016/j.jneumeth.2003.12.011',\n",
       "    'issue': '1-2',\n",
       "    'volume': '135'},\n",
       "   'key': '40_18087581',\n",
       "   'year': 2004,\n",
       "   'container_name': 'Journal of neuroscience methods',\n",
       "   'locator': '107'},\n",
       "  {'index': 39,\n",
       "   'extra': {'authors': ['Yovel'],\n",
       "    'doi': '10.1126/science.1183310',\n",
       "    'issue': '5966',\n",
       "    'volume': '327'},\n",
       "   'key': '41_36546624',\n",
       "   'year': 2010,\n",
       "   'container_name': 'Science',\n",
       "   'locator': '701'},\n",
       "  {'index': 40,\n",
       "   'extra': {'authors': ['Fiorentini'],\n",
       "    'doi': '10.1038/287043a0',\n",
       "    'issue': '5777',\n",
       "    'volume': '287'},\n",
       "   'key': '42_8195610',\n",
       "   'year': 1980,\n",
       "   'container_name': 'Nature',\n",
       "   'locator': '43'},\n",
       "  {'index': 41,\n",
       "   'extra': {'authors': ['Jeter'],\n",
       "    'doi': '10.1016/j.visres.2010.06.016',\n",
       "    'issue': '19',\n",
       "    'volume': '50'},\n",
       "   'key': '43_37631889',\n",
       "   'year': 2010,\n",
       "   'container_name': 'Vision research',\n",
       "   'locator': '1928'},\n",
       "  {'index': 42,\n",
       "   'extra': {'authors': ['Ahissar'],\n",
       "    'doi': '10.1038/387401a0',\n",
       "    'issue': '6631',\n",
       "    'volume': '387'},\n",
       "   'key': '44_16790433',\n",
       "   'year': 1997,\n",
       "   'container_name': 'Nature',\n",
       "   'locator': '401'},\n",
       "  {'index': 43,\n",
       "   'extra': {'authors': ['Xiao'],\n",
       "    'doi': '10.1016/j.cub.2008.10.030',\n",
       "    'issue': '24',\n",
       "    'volume': '18'},\n",
       "   'key': '45_32844717',\n",
       "   'year': 2008,\n",
       "   'container_name': 'Current biology : CB',\n",
       "   'locator': '1922'},\n",
       "  {'index': 44,\n",
       "   'extra': {'authors': ['Harris'],\n",
       "    'doi': '10.1016/j.cub.2012.07.059',\n",
       "    'issue': '19',\n",
       "    'volume': '22'},\n",
       "   'key': '46_43492750',\n",
       "   'year': 2012,\n",
       "   'container_name': 'Current biology : CB',\n",
       "   'locator': '1813'},\n",
       "  {'index': 45,\n",
       "   'extra': {'authors': ['Zhang'],\n",
       "    'doi': '10.1523/jneurosci.0704-10.2010',\n",
       "    'issue': '37',\n",
       "    'volume': '30'},\n",
       "   'key': '47_38115220',\n",
       "   'year': 2010,\n",
       "   'container_name': 'Journal of Neuroscience',\n",
       "   'locator': '12323'},\n",
       "  {'index': 46,\n",
       "   'extra': {'authors': ['Resnik'], 'doi': '10.1038/nn.2802', 'volume': '14'},\n",
       "   'key': '48_39887772',\n",
       "   'year': 2011,\n",
       "   'container_name': 'Nature neuroscience',\n",
       "   'locator': '791'},\n",
       "  {'index': 47,\n",
       "   'extra': {'authors': ['Lim'],\n",
       "    'doi': '10.1111/j.1551-6709.2011.01192.x',\n",
       "    'volume': '35'},\n",
       "   'key': '49_40546670',\n",
       "   'year': 2011,\n",
       "   'locator': '1390'},\n",
       "  {'index': 48,\n",
       "   'extra': {'authors': ['Green'],\n",
       "    'doi': '10.1016/j.cub.2012.02.012',\n",
       "    'volume': '22'},\n",
       "   'key': '50_42223644',\n",
       "   'year': 2012,\n",
       "   'container_name': 'Current biology : CB',\n",
       "   'locator': 'R197'},\n",
       "  {'index': 49,\n",
       "   'extra': {'authors': ['Wong'], 'doi': '10.1038/nn1872', 'volume': '10'},\n",
       "   'key': '51_28568765',\n",
       "   'year': 2007,\n",
       "   'container_name': 'Nature neuroscience',\n",
       "   'locator': '420'},\n",
       "  {'index': 50,\n",
       "   'extra': {'doi': '10.1371/journal.pone.0086980'},\n",
       "   'key': '52_48085085',\n",
       "   'year': 2014,\n",
       "   'locator': 'e86980'},\n",
       "  {'index': 51,\n",
       "   'extra': {'authors': ['Chang'],\n",
       "    'doi': '10.1523/jneurosci.0101-13.2013',\n",
       "    'issue': '27',\n",
       "    'volume': '33'},\n",
       "   'key': '53_46075990',\n",
       "   'year': 2013,\n",
       "   'container_name': 'Journal of Neuroscience',\n",
       "   'locator': '10962'},\n",
       "  {'index': 52,\n",
       "   'extra': {'authors': ['Dosher'],\n",
       "    'doi': '10.1073/pnas.95.23.13988',\n",
       "    'issue': '23',\n",
       "    'volume': '95'},\n",
       "   'key': '54_6226944',\n",
       "   'year': 1998,\n",
       "   'container_name': 'PNAS',\n",
       "   'locator': '13988'},\n",
       "  {'index': 53,\n",
       "   'extra': {'authors': ['Dosher'],\n",
       "    'doi': '10.1016/s0042-6989(99)00059-0',\n",
       "    'issue': '19',\n",
       "    'volume': '39'},\n",
       "   'key': '55_6417204',\n",
       "   'year': 1999,\n",
       "   'container_name': 'Vision research',\n",
       "   'locator': '3197'},\n",
       "  {'index': 54,\n",
       "   'extra': {'authors': ['Levi'], 'doi': '10.1002/dev.20050', 'volume': '46'},\n",
       "   'key': '56_18749490',\n",
       "   'year': 2005,\n",
       "   'container_name': 'Developmental psychobiology',\n",
       "   'locator': '222'},\n",
       "  {'index': 55,\n",
       "   'extra': {'authors': ['Green'],\n",
       "    'doi': '10.1016/j.cub.2010.07.040',\n",
       "    'issue': '17',\n",
       "    'volume': '20'},\n",
       "   'key': '57_38118881',\n",
       "   'year': 2010,\n",
       "   'container_name': 'Current biology : CB',\n",
       "   'locator': '1573'},\n",
       "  {'index': 56,\n",
       "   'extra': {'authors': ['Bavelier'],\n",
       "    'doi': '10.1146/annurev-neuro-060909-152832',\n",
       "    'volume': '35'},\n",
       "   'key': '58_42898269',\n",
       "   'year': 2012,\n",
       "   'container_name': 'Annual review of neuroscience',\n",
       "   'locator': '391'},\n",
       "  {'index': 57,\n",
       "   'extra': {'authors': ['Bejjanki'],\n",
       "    'doi': '10.1038/nn.2796',\n",
       "    'volume': '14'},\n",
       "   'key': '59_39651537',\n",
       "   'year': 2011,\n",
       "   'container_name': 'Nature neuroscience',\n",
       "   'locator': '642'},\n",
       "  {'index': 58,\n",
       "   'extra': {'authors': ['Recanzone'], 'volume': '13'},\n",
       "   'key': '60_10113666',\n",
       "   'year': 1993,\n",
       "   'container_name': 'Journal of Neuroscience',\n",
       "   'locator': '87'},\n",
       "  {'index': 59,\n",
       "   'extra': {'authors': ['Polley'],\n",
       "    'doi': '10.1523/jneurosci.3771-05.2006',\n",
       "    'issue': '18',\n",
       "    'volume': '26'},\n",
       "   'key': '61_22054695',\n",
       "   'year': 2006,\n",
       "   'container_name': 'Journal of Neuroscience',\n",
       "   'locator': '4970'},\n",
       "  {'index': 60,\n",
       "   'extra': {'authors': ['Blake'],\n",
       "    'doi': '10.1016/j.neuron.2006.08.009',\n",
       "    'volume': '52'},\n",
       "   'key': '62_22828898',\n",
       "   'year': 2006,\n",
       "   'container_name': 'Neuron',\n",
       "   'locator': '371'},\n",
       "  {'index': 61,\n",
       "   'extra': {'doi': '10.1016/j.bbr.2013.10.021', 'volume': '258'},\n",
       "   'key': '63_48085086',\n",
       "   'year': 2014,\n",
       "   'container_name': 'Behavioural brain research',\n",
       "   'locator': '166'},\n",
       "  {'index': 62,\n",
       "   'extra': {'authors': ['Edeline'],\n",
       "    'doi': '10.1037/0735-7044.107.4.539',\n",
       "    'volume': '107'},\n",
       "   'key': '64_14457746',\n",
       "   'year': 1993,\n",
       "   'container_name': 'Behavioral neuroscience',\n",
       "   'locator': '539'},\n",
       "  {'index': 63,\n",
       "   'extra': {'doi': '10.1073/pnas.1117717109', 'volume': '109'},\n",
       "   'key': '65_41562493',\n",
       "   'year': 2012,\n",
       "   'container_name': 'PNAS',\n",
       "   'locator': '2144'},\n",
       "  {'index': 64,\n",
       "   'extra': {'doi': '10.1016/j.neuron.2008.12.027', 'volume': '61'},\n",
       "   'key': '66_45580689',\n",
       "   'year': 2009,\n",
       "   'container_name': 'Neuron',\n",
       "   'locator': '467'},\n",
       "  {'index': 65,\n",
       "   'extra': {'doi': '10.1073/pnas.092278099', 'issue': '15', 'volume': '99'},\n",
       "   'key': '67_19673322',\n",
       "   'year': 2002,\n",
       "   'container_name': 'PNAS',\n",
       "   'locator': '10114'},\n",
       "  {'index': 66,\n",
       "   'extra': {'doi': '10.1073/pnas.1334187100', 'issue': '19', 'volume': '100'},\n",
       "   'key': '68_19683308',\n",
       "   'year': 2003,\n",
       "   'container_name': 'PNAS',\n",
       "   'locator': '11070'},\n",
       "  {'index': 67,\n",
       "   'extra': {'authors': ['Chen'], 'doi': '10.1038/nn.2147', 'volume': '11'},\n",
       "   'key': '69_31438747',\n",
       "   'year': 2008,\n",
       "   'container_name': 'Nature neuroscience',\n",
       "   'locator': '974'},\n",
       "  {'index': 68,\n",
       "   'extra': {'doi': '10.1152/jn.01072.2005', 'volume': '96'},\n",
       "   'key': '70_22396575',\n",
       "   'year': 2006,\n",
       "   'container_name': 'Journal of Neurophysiology',\n",
       "   'locator': '2377'},\n",
       "  {'index': 69,\n",
       "   'extra': {'authors': ['Spingath'], 'doi': '10.1371/journal.pone.0015342'},\n",
       "   'key': '71_39174006',\n",
       "   'year': 2011,\n",
       "   'locator': 'e15342'},\n",
       "  {'index': 70,\n",
       "   'extra': {'doi': '10.1038/nature12077', 'volume': '497'},\n",
       "   'key': '72_47428500',\n",
       "   'year': 2013,\n",
       "   'container_name': 'Nature',\n",
       "   'locator': '482'},\n",
       "  {'index': 71,\n",
       "   'extra': {'authors': ['Law'], 'doi': '10.1038/nn2070', 'volume': '11'},\n",
       "   'key': '73_30721163',\n",
       "   'year': 2008,\n",
       "   'container_name': 'Nature neuroscience',\n",
       "   'locator': '505'},\n",
       "  {'index': 72,\n",
       "   'extra': {'authors': ['Zanto'], 'doi': '10.1038/nn.2773', 'volume': '14'},\n",
       "   'key': '74_39581657',\n",
       "   'year': 2011,\n",
       "   'container_name': 'Nature neuroscience',\n",
       "   'locator': '656'},\n",
       "  {'index': 73,\n",
       "   'extra': {'authors': ['Bavelier'],\n",
       "    'doi': '10.1016/j.visres.2011.08.007',\n",
       "    'volume': '61'},\n",
       "   'key': '75_40642308',\n",
       "   'year': 2012,\n",
       "   'container_name': 'Vision research',\n",
       "   'locator': '132'},\n",
       "  {'index': 74,\n",
       "   'extra': {'authors': ['Mishra'],\n",
       "    'doi': '10.1523/jneurosci.4834-10.2011',\n",
       "    'volume': '31'},\n",
       "   'key': '76_39004999',\n",
       "   'year': 2011,\n",
       "   'container_name': 'Journal of Neuroscience',\n",
       "   'locator': '992'},\n",
       "  {'index': 75,\n",
       "   'extra': {'authors': ['Lin'],\n",
       "    'doi': '10.1001/archinternmed.2011.506',\n",
       "    'issue': '20',\n",
       "    'volume': '171'},\n",
       "   'key': '77_41157434',\n",
       "   'year': 2011,\n",
       "   'container_name': 'Archives of Internal Medicine',\n",
       "   'locator': '1851'},\n",
       "  {'index': 76,\n",
       "   'extra': {'authors': ['Florentine'],\n",
       "    'doi': '10.1044/jshr.2303.646',\n",
       "    'volume': '23'},\n",
       "   'key': '78_8212579',\n",
       "   'year': 1980,\n",
       "   'container_name': 'Journal of Speech, Language, and Hearing Research',\n",
       "   'locator': '646'},\n",
       "  {'index': 77,\n",
       "   'extra': {'authors': ['Doherty'],\n",
       "    'doi': '10.1121/1.426742',\n",
       "    'volume': '105'},\n",
       "   'key': '79_10761279',\n",
       "   'year': 1999,\n",
       "   'container_name': 'Journal of the Acoustical Society of America',\n",
       "   'locator': '1831'},\n",
       "  {'index': 78,\n",
       "   'extra': {'authors': ['Buran'],\n",
       "    'doi': '10.1523/jneurosci.0647-13.2014',\n",
       "    'volume': '34'},\n",
       "   'key': '80_47374824',\n",
       "   'year': 2014,\n",
       "   'container_name': 'Journal of Neuroscience',\n",
       "   'locator': '2276'},\n",
       "  {'index': 79,\n",
       "   'extra': {'doi': '10.1073/pnas.1007885107', 'issue': '31', 'volume': '107'},\n",
       "   'key': '81_37639936',\n",
       "   'year': 2010,\n",
       "   'container_name': 'PNAS',\n",
       "   'locator': '13900'},\n",
       "  {'index': 80,\n",
       "   'extra': {'authors': ['Killion'],\n",
       "    'doi': '10.1121/1.1784440',\n",
       "    'issue': '4 Pt 1',\n",
       "    'volume': '116'},\n",
       "   'key': '84_18512574',\n",
       "   'year': 2004,\n",
       "   'container_name': 'Journal of the Acoustical Society of America',\n",
       "   'locator': '2395'},\n",
       "  {'index': 81,\n",
       "   'extra': {'authors': ['Guo'],\n",
       "    'doi': '10.1523/jneurosci.0065-12.2012',\n",
       "    'issue': '27',\n",
       "    'volume': '32'},\n",
       "   'key': '85_42961305',\n",
       "   'year': 2012,\n",
       "   'container_name': 'Journal of Neuroscience',\n",
       "   'locator': '9159'}],\n",
       " 'contribs': [{'index': 0,\n",
       "   'raw_name': 'J. P. Whitton',\n",
       "   'role': 'author',\n",
       "   'extra': {'seq': 'first'}},\n",
       "  {'index': 1, 'raw_name': 'K. E. Hancock', 'role': 'author'},\n",
       "  {'index': 2, 'raw_name': 'D. B. Polley', 'role': 'author'}],\n",
       " 'language': 'en',\n",
       " 'publisher': 'Proceedings of the National Academy of Sciences',\n",
       " 'pages': 'E2606-E2615',\n",
       " 'issue': '25',\n",
       " 'volume': '111',\n",
       " 'ext_ids': {'doi': '10.1073/pnas.1322184111',\n",
       "  'wikidata_qid': 'Q30422503',\n",
       "  'pmid': '24927596',\n",
       "  'pmcid': 'PMC4078866',\n",
       "  'core': '78057893'},\n",
       " 'release_year': 2014,\n",
       " 'release_date': '2014-06-09',\n",
       " 'release_stage': 'published',\n",
       " 'release_type': 'article-journal',\n",
       " 'container_id': 'nvtuoas5pbdsllkntnhizy4f4q',\n",
       " 'work_id': 'w3zxmygvv5c4to5psvgkpox5hq',\n",
       " 'title': 'Immersive audiomotor game play enhances neural and perceptual salience of weak signals in noise',\n",
       " 'state': 'active',\n",
       " 'ident': 'jmnddhbt6jgxhe2fm2eb5lwcd4',\n",
       " 'revision': '8ec5f4b3-3d24-4440-8197-756dc9e99a82',\n",
       " 'extra': {'crossref': {'type': 'journal-article'}}}"
      ]
     },
     "execution_count": 583,
     "metadata": {},
     "output_type": "execute_result"
    }
   ],
   "source": [
    "data "
   ]
  },
  {
   "cell_type": "code",
   "execution_count": 584,
   "metadata": {},
   "outputs": [
    {
     "data": {
      "text/plain": [
       "[1, 2, 3, 4, 7, 8, 9]"
      ]
     },
     "execution_count": 584,
     "metadata": {},
     "output_type": "execute_result"
    }
   ],
   "source": [
    "a "
   ]
  },
  {
   "cell_type": "code",
   "execution_count": 585,
   "metadata": {},
   "outputs": [
    {
     "data": {
      "text/plain": [
       "{'name': 'martin',\n",
       " 'city': 'dresden-pieschen',\n",
       " 'year': 2024,\n",
       " 'xyz': 123,\n",
       " 'end': 'hello'}"
      ]
     },
     "execution_count": 585,
     "metadata": {},
     "output_type": "execute_result"
    }
   ],
   "source": [
    "d"
   ]
  },
  {
   "cell_type": "code",
   "execution_count": 586,
   "metadata": {},
   "outputs": [],
   "source": [
    "d[\"date\"] = datetime.datetime.today()import time"
   ]
  },
  {
   "cell_type": "code",
   "execution_count": 587,
   "metadata": {},
   "outputs": [
    {
     "data": {
      "text/plain": [
       "{'name': 'martin',\n",
       " 'city': 'dresden-pieschen',\n",
       " 'year': 2024,\n",
       " 'xyz': 123,\n",
       " 'end': 'hello',\n",
       " 'date': datetime.datetime(2024, 4, 15, 15, 57, 6, 957561)}"
      ]
     },
     "execution_count": 587,
     "metadata": {},
     "output_type": "execute_result"
    }
   ],
   "source": [
    "d"
   ]
  },
  {
   "cell_type": "code",
   "execution_count": 596,
   "metadata": {},
   "outputs": [],
   "source": [
    "dt = datetime.datetime.today()"
   ]
  },
  {
   "cell_type": "code",
   "execution_count": 597,
   "metadata": {},
   "outputs": [
    {
     "data": {
      "text/plain": [
       "'2024-04-15'"
      ]
     },
     "execution_count": 597,
     "metadata": {},
     "output_type": "execute_result"
    }
   ],
   "source": [
    "dt.strftime(\"%Y-%m-%d\")"
   ]
  },
  {
   "cell_type": "code",
   "execution_count": 598,
   "metadata": {},
   "outputs": [
    {
     "data": {
      "text/plain": [
       "'2024-04-15T15:59:08.186528'"
      ]
     },
     "execution_count": 598,
     "metadata": {},
     "output_type": "execute_result"
    }
   ],
   "source": [
    "dt.isoformat()"
   ]
  },
  {
   "cell_type": "code",
   "execution_count": 603,
   "metadata": {},
   "outputs": [
    {
     "data": {
      "text/plain": [
       "dict"
      ]
     },
     "execution_count": 603,
     "metadata": {},
     "output_type": "execute_result"
    }
   ],
   "source": [
    "type(locals())"
   ]
  },
  {
   "cell_type": "code",
   "execution_count": 606,
   "metadata": {},
   "outputs": [],
   "source": [
    "dd = {(1, 2): 1}"
   ]
  },
  {
   "cell_type": "code",
   "execution_count": 607,
   "metadata": {},
   "outputs": [
    {
     "data": {
      "text/plain": [
       "1"
      ]
     },
     "execution_count": 607,
     "metadata": {},
     "output_type": "execute_result"
    }
   ],
   "source": [
    "dd[(1, 2)]"
   ]
  },
  {
   "cell_type": "markdown",
   "metadata": {},
   "source": [
    "## Set"
   ]
  },
  {
   "cell_type": "code",
   "execution_count": 610,
   "metadata": {},
   "outputs": [],
   "source": [
    "s = set()"
   ]
  },
  {
   "cell_type": "code",
   "execution_count": 612,
   "metadata": {},
   "outputs": [],
   "source": [
    "s = set([1, 2, 3, 3, 4, 4, 5, 5])"
   ]
  },
  {
   "cell_type": "code",
   "execution_count": 613,
   "metadata": {},
   "outputs": [
    {
     "data": {
      "text/plain": [
       "{1, 2, 3, 4, 5}"
      ]
     },
     "execution_count": 613,
     "metadata": {},
     "output_type": "execute_result"
    }
   ],
   "source": [
    "s"
   ]
  },
  {
   "cell_type": "code",
   "execution_count": 614,
   "metadata": {},
   "outputs": [
    {
     "data": {
      "text/plain": [
       "True"
      ]
     },
     "execution_count": 614,
     "metadata": {},
     "output_type": "execute_result"
    }
   ],
   "source": [
    "1 in s"
   ]
  },
  {
   "cell_type": "code",
   "execution_count": 620,
   "metadata": {},
   "outputs": [],
   "source": [
    "t = (1, 2, 3, 1, 1)"
   ]
  },
  {
   "cell_type": "code",
   "execution_count": 621,
   "metadata": {},
   "outputs": [
    {
     "data": {
      "text/plain": [
       "False"
      ]
     },
     "execution_count": 621,
     "metadata": {},
     "output_type": "execute_result"
    }
   ],
   "source": [
    "100 in t"
   ]
  },
  {
   "cell_type": "code",
   "execution_count": 622,
   "metadata": {},
   "outputs": [
    {
     "data": {
      "text/plain": [
       "3"
      ]
     },
     "execution_count": 622,
     "metadata": {},
     "output_type": "execute_result"
    }
   ],
   "source": [
    "t.count(1)"
   ]
  },
  {
   "cell_type": "code",
   "execution_count": 623,
   "metadata": {},
   "outputs": [],
   "source": [
    "l = [1, 2, 3, 1, 1, 1]"
   ]
  },
  {
   "cell_type": "code",
   "execution_count": 625,
   "metadata": {},
   "outputs": [
    {
     "data": {
      "text/plain": [
       "4"
      ]
     },
     "execution_count": 625,
     "metadata": {},
     "output_type": "execute_result"
    }
   ],
   "source": [
    "l.count(1)"
   ]
  },
  {
   "cell_type": "code",
   "execution_count": 627,
   "metadata": {},
   "outputs": [],
   "source": [
    "l = list(range(100000))"
   ]
  },
  {
   "cell_type": "code",
   "execution_count": 629,
   "metadata": {},
   "outputs": [
    {
     "data": {
      "text/plain": [
       "100000"
      ]
     },
     "execution_count": 629,
     "metadata": {},
     "output_type": "execute_result"
    }
   ],
   "source": [
    "len(l)"
   ]
  },
  {
   "cell_type": "code",
   "execution_count": 630,
   "metadata": {},
   "outputs": [],
   "source": [
    "s = set(l)"
   ]
  },
  {
   "cell_type": "code",
   "execution_count": 631,
   "metadata": {},
   "outputs": [
    {
     "data": {
      "text/plain": [
       "100000"
      ]
     },
     "execution_count": 631,
     "metadata": {},
     "output_type": "execute_result"
    }
   ],
   "source": [
    "len(s)"
   ]
  },
  {
   "cell_type": "code",
   "execution_count": 632,
   "metadata": {},
   "outputs": [
    {
     "name": "stdout",
     "output_type": "stream",
     "text": [
      "1.49 ms ± 93.5 µs per loop (mean ± std. dev. of 7 runs, 100 loops each)\n"
     ]
    }
   ],
   "source": [
    "%timeit 99999 in l"
   ]
  },
  {
   "cell_type": "code",
   "execution_count": 633,
   "metadata": {},
   "outputs": [
    {
     "name": "stdout",
     "output_type": "stream",
     "text": [
      "53.4 ns ± 1.66 ns per loop (mean ± std. dev. of 7 runs, 10,000,000 loops each)\n"
     ]
    }
   ],
   "source": [
    "%timeit 99999 in s"
   ]
  },
  {
   "cell_type": "code",
   "execution_count": 634,
   "metadata": {},
   "outputs": [],
   "source": [
    "s1 = set([1, 2, 3])\n",
    "s2 = set([3, 4, 5])"
   ]
  },
  {
   "cell_type": "code",
   "execution_count": 635,
   "metadata": {},
   "outputs": [
    {
     "data": {
      "text/plain": [
       "{1, 2, 3, 4, 5}"
      ]
     },
     "execution_count": 635,
     "metadata": {},
     "output_type": "execute_result"
    }
   ],
   "source": [
    "s1.union(s2)"
   ]
  },
  {
   "cell_type": "code",
   "execution_count": 636,
   "metadata": {},
   "outputs": [
    {
     "data": {
      "text/plain": [
       "{3}"
      ]
     },
     "execution_count": 636,
     "metadata": {},
     "output_type": "execute_result"
    }
   ],
   "source": [
    "s1.intersection(s2)"
   ]
  },
  {
   "cell_type": "code",
   "execution_count": 637,
   "metadata": {},
   "outputs": [
    {
     "data": {
      "text/plain": [
       "{1, 2}"
      ]
     },
     "execution_count": 637,
     "metadata": {},
     "output_type": "execute_result"
    }
   ],
   "source": [
    "s1.difference(s2)"
   ]
  },
  {
   "cell_type": "code",
   "execution_count": 638,
   "metadata": {},
   "outputs": [
    {
     "data": {
      "text/plain": [
       "{1, 2, 4, 5}"
      ]
     },
     "execution_count": 638,
     "metadata": {},
     "output_type": "execute_result"
    }
   ],
   "source": [
    "s1.symmetric_difference(s2)"
   ]
  },
  {
   "cell_type": "code",
   "execution_count": 639,
   "metadata": {},
   "outputs": [
    {
     "data": {
      "text/plain": [
       "{3}"
      ]
     },
     "execution_count": 639,
     "metadata": {},
     "output_type": "execute_result"
    }
   ],
   "source": [
    "s1 & s2"
   ]
  },
  {
   "cell_type": "code",
   "execution_count": 640,
   "metadata": {},
   "outputs": [
    {
     "data": {
      "text/plain": [
       "{1, 2, 3, 4, 5}"
      ]
     },
     "execution_count": 640,
     "metadata": {},
     "output_type": "execute_result"
    }
   ],
   "source": [
    "s1 | s2"
   ]
  },
  {
   "cell_type": "code",
   "execution_count": 641,
   "metadata": {},
   "outputs": [],
   "source": [
    "## \"in\" operation"
   ]
  },
  {
   "cell_type": "code",
   "execution_count": 642,
   "metadata": {},
   "outputs": [
    {
     "data": {
      "text/plain": [
       "{'name': 'martin',\n",
       " 'city': 'dresden-pieschen',\n",
       " 'year': 2024,\n",
       " 'xyz': 123,\n",
       " 'end': 'hello',\n",
       " 'date': datetime.datetime(2024, 4, 15, 15, 57, 6, 957561)}"
      ]
     },
     "execution_count": 642,
     "metadata": {},
     "output_type": "execute_result"
    }
   ],
   "source": [
    "d"
   ]
  },
  {
   "cell_type": "code",
   "execution_count": 643,
   "metadata": {},
   "outputs": [
    {
     "data": {
      "text/plain": [
       "True"
      ]
     },
     "execution_count": 643,
     "metadata": {},
     "output_type": "execute_result"
    }
   ],
   "source": [
    "\"name\" in d"
   ]
  },
  {
   "cell_type": "code",
   "execution_count": 644,
   "metadata": {},
   "outputs": [
    {
     "data": {
      "text/plain": [
       "False"
      ]
     },
     "execution_count": 644,
     "metadata": {},
     "output_type": "execute_result"
    }
   ],
   "source": [
    "\"blabla\" in d"
   ]
  },
  {
   "cell_type": "code",
   "execution_count": 646,
   "metadata": {},
   "outputs": [
    {
     "data": {
      "text/plain": [
       "True"
      ]
     },
     "execution_count": 646,
     "metadata": {},
     "output_type": "execute_result"
    }
   ],
   "source": [
    "2 in t"
   ]
  },
  {
   "cell_type": "code",
   "execution_count": 647,
   "metadata": {},
   "outputs": [
    {
     "data": {
      "text/plain": [
       "False"
      ]
     },
     "execution_count": 647,
     "metadata": {},
     "output_type": "execute_result"
    }
   ],
   "source": [
    "bool([])"
   ]
  },
  {
   "cell_type": "code",
   "execution_count": 648,
   "metadata": {},
   "outputs": [
    {
     "data": {
      "text/plain": [
       "True"
      ]
     },
     "execution_count": 648,
     "metadata": {},
     "output_type": "execute_result"
    }
   ],
   "source": [
    "bool([1])"
   ]
  },
  {
   "cell_type": "code",
   "execution_count": 649,
   "metadata": {},
   "outputs": [
    {
     "data": {
      "text/plain": [
       "False"
      ]
     },
     "execution_count": 649,
     "metadata": {},
     "output_type": "execute_result"
    }
   ],
   "source": [
    "bool({})"
   ]
  },
  {
   "cell_type": "code",
   "execution_count": 650,
   "metadata": {},
   "outputs": [
    {
     "data": {
      "text/plain": [
       "False"
      ]
     },
     "execution_count": 650,
     "metadata": {},
     "output_type": "execute_result"
    }
   ],
   "source": [
    "bool(set())"
   ]
  },
  {
   "cell_type": "code",
   "execution_count": 651,
   "metadata": {},
   "outputs": [],
   "source": [
    "deps = []"
   ]
  },
  {
   "cell_type": "code",
   "execution_count": 655,
   "metadata": {},
   "outputs": [
    {
     "name": "stdout",
     "output_type": "stream",
     "text": [
      "no deps\n"
     ]
    }
   ],
   "source": [
    "if deps: # \n",
    "    print(\"found deps\")\n",
    "else:\n",
    "    print(\"no deps\")"
   ]
  },
  {
   "cell_type": "code",
   "execution_count": 657,
   "metadata": {},
   "outputs": [
    {
     "name": "stdout",
     "output_type": "stream",
     "text": [
      "0\n",
      "1\n",
      "2\n",
      "3\n",
      "4\n",
      "5\n",
      "6\n",
      "7\n",
      "8\n",
      "9\n"
     ]
    }
   ],
   "source": [
    "i = 0\n",
    "while i < 10:\n",
    "    print(i)\n",
    "    i = i + 1\n",
    "    "
   ]
  },
  {
   "cell_type": "markdown",
   "metadata": {},
   "source": [
    "\n",
    "\n",
    "Number guess game.\n",
    "\n",
    "* Computer chooses random integer between 0 and 100\n",
    "* User has to guess the number (`input`) `while True` --- `break`\n",
    "* Computer should return \"too low\" if the guess is lower than the number, and \"too high\" if the guess is higher than the number\n",
    "* If user guesses correct, program terminates\n",
    "\n",
    "```python\n",
    "if CONDITION:\n",
    "   # do something\n",
    "else:\n",
    "   # something else\n",
    "\n",
    "if CONDITION:\n",
    "    ...\n",
    "elif CONDITION:\n",
    "    ...\n",
    "else:\n",
    "    ..."
   ]
  },
  {
   "cell_type": "code",
   "execution_count": null,
   "metadata": {},
   "outputs": [],
   "source": []
  },
  {
   "cell_type": "code",
   "execution_count": 661,
   "metadata": {},
   "outputs": [],
   "source": [
    "import random"
   ]
  },
  {
   "cell_type": "code",
   "execution_count": 664,
   "metadata": {},
   "outputs": [
    {
     "name": "stdout",
     "output_type": "stream",
     "text": [
      "\u001b[0;31mSignature:\u001b[0m \u001b[0mrandom\u001b[0m\u001b[0;34m.\u001b[0m\u001b[0mrandint\u001b[0m\u001b[0;34m(\u001b[0m\u001b[0ma\u001b[0m\u001b[0;34m,\u001b[0m \u001b[0mb\u001b[0m\u001b[0;34m)\u001b[0m\u001b[0;34m\u001b[0m\u001b[0;34m\u001b[0m\u001b[0m\n",
      "\u001b[0;31mDocstring:\u001b[0m\n",
      "Return random integer in range [a, b], including both end points.\n",
      "        \n",
      "\u001b[0;31mFile:\u001b[0m      ~/.pyenv/versions/3.8.10/lib/python3.8/random.py\n",
      "\u001b[0;31mType:\u001b[0m      method"
     ]
    }
   ],
   "source": [
    "random.randint?"
   ]
  },
  {
   "cell_type": "code",
   "execution_count": 666,
   "metadata": {},
   "outputs": [
    {
     "name": "stdout",
     "output_type": "stream",
     "text": [
      "too high\n",
      "too high\n",
      "too high\n",
      "too high\n",
      "too low\n",
      "too low\n",
      "too low\n",
      "You got it\n"
     ]
    }
   ],
   "source": [
    "mynumber = random.randint(0,100)\n",
    "while True:\n",
    "    user_input = input(\"Guess my number! \")\n",
    "    if int(user_input) < mynumber:\n",
    "        print (\"too low\")\n",
    "    if int(user_input) > mynumber:\n",
    "        print (\"too high\")\n",
    "    if int(user_input) == mynumber:\n",
    "        print (\"You got it\")\n",
    "        break\n",
    "        \n",
    "        "
   ]
  },
  {
   "cell_type": "code",
   "execution_count": 669,
   "metadata": {},
   "outputs": [
    {
     "name": "stdout",
     "output_type": "stream",
     "text": [
      "You got it\n"
     ]
    }
   ],
   "source": [
    "mynumber = random.randint(0,0)\n",
    "while True:\n",
    "    user_input = int(input(\"Guess my number! \"))\n",
    "    if user_input < mynumber:\n",
    "        print (\"too low\")\n",
    "    if user_input > mynumber:\n",
    "        print (\"too high\")\n",
    "    if user_input == mynumber:\n",
    "        print (\"You got it\")\n",
    "        break\n",
    "        \n",
    "        "
   ]
  },
  {
   "cell_type": "code",
   "execution_count": null,
   "metadata": {},
   "outputs": [],
   "source": [
    "random_number = random.randint(1, 100)\n",
    "\n",
    "while True:\n",
    "    user_input = input('Enter a number: ')\n",
    "    try:\n",
    "        user_input = int(user_input)\n",
    "    except ValueError:  \n",
    "        print('Please enter a valid number')\n",
    "        continue"
   ]
  },
  {
   "cell_type": "code",
   "execution_count": null,
   "metadata": {},
   "outputs": [],
   "source": [
    "mynumber = random.randint(0,0)\n",
    "while True:\n",
    "    user_input = int(input(\"Guess my number! \"))\n",
    "    if user_input < mynumber:\n",
    "        print (\"too low\")\n",
    "    if user_input > mynumber:\n",
    "        print (\"too high\")\n",
    "    if user_input == mynumber:\n",
    "        print (\"You got it\")\n",
    "        break"
   ]
  }
 ],
 "metadata": {
  "kernelspec": {
   "display_name": ".venv",
   "language": "python",
   "name": "python3"
  },
  "language_info": {
   "codemirror_mode": {
    "name": "ipython",
    "version": 3
   },
   "file_extension": ".py",
   "mimetype": "text/x-python",
   "name": "python",
   "nbconvert_exporter": "python",
   "pygments_lexer": "ipython3",
   "version": "3.8.10"
  }
 },
 "nbformat": 4,
 "nbformat_minor": 2
}
