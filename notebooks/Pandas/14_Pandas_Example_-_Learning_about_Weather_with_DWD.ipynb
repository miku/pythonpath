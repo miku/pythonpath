{
 "cells": [
  {
   "cell_type": "markdown",
   "metadata": {},
   "source": [
    "## 14 Pandas Example - Learning about Weather with DWD\n",
    "\n",
    "The German weather service (DWD) provides access to raw data through an FTP server:\n",
    "    \n",
    "* https://www.dwd.de/DE/leistungen/opendata/opendata.html, previously: ftp://ftp-cdc.dwd.de/pub/CDC/\n",
    "\n",
    "* Two files are merged in the process: one for weather data (March 2003 worldwide data on temperature, precipitation) and another about information on the station (name, country, ...).\n",
    "* Simple outlier detection is applied for data cleaning.\n",
    "* Find and rank the most snowy places for this time frame.\n",
    "* Plot temperature and rain distributions."
   ]
  },
  {
   "cell_type": "code",
   "execution_count": 1,
   "metadata": {},
   "outputs": [],
   "source": [
    "import matplotlib\n",
    "matplotlib.use('Agg')\n",
    "import matplotlib.pyplot as plt\n",
    "%matplotlib inline"
   ]
  },
  {
   "cell_type": "code",
   "execution_count": 2,
   "metadata": {},
   "outputs": [],
   "source": [
    "import pandas as pd\n",
    "import numpy as np"
   ]
  },
  {
   "cell_type": "code",
   "execution_count": 4,
   "metadata": {},
   "outputs": [],
   "source": [
    "# example = \"ftp://ftp-cdc.dwd.de/pub/CDC/observations_global/CLIMAT/monthly/raw/CLIMAT_RAW_200303.txt\"\n",
    "example = \"https://opendata.dwd.de/climate_environment/CDC/observations_global/CLIMAT/monthly/raw/CLIMAT_RAW_200303.txt\"\n",
    "dfr = pd.read_csv(example, sep=\";\")"
   ]
  },
  {
   "cell_type": "markdown",
   "metadata": {},
   "source": [
    "Trying to convert float column to int fails, if there are null values:\n",
    "    \n",
    "> ValueError: Cannot convert non-finite values (NA or inf) to integer\n",
    "\n",
    "* https://stackoverflow.com/questions/41985063/cannot-convert-nan-to-int-but-there-are-no-nans\n",
    "\n",
    "Several options:\n",
    "\n",
    "* Convert float column to int, with a fillna(0.0) before astype\n",
    "* Drop columns with a NA value beforehand: https://stackoverflow.com/questions/13413590/how-to-drop-rows-of-pandas-dataframe-whose-value-in-certain-columns-is-nan\n"
   ]
  },
  {
   "cell_type": "code",
   "execution_count": 5,
   "metadata": {},
   "outputs": [
    {
     "data": {
      "text/plain": [
       "1966"
      ]
     },
     "execution_count": 5,
     "metadata": {},
     "output_type": "execute_result"
    }
   ],
   "source": [
    "len(dfr)"
   ]
  },
  {
   "cell_type": "code",
   "execution_count": 6,
   "metadata": {},
   "outputs": [
    {
     "data": {
      "text/plain": [
       "(1966, 127)"
      ]
     },
     "execution_count": 6,
     "metadata": {},
     "output_type": "execute_result"
    }
   ],
   "source": [
    "dfr.shape"
   ]
  },
  {
   "cell_type": "code",
   "execution_count": 7,
   "metadata": {},
   "outputs": [
    {
     "data": {
      "text/html": [
       "<div>\n",
       "<style scoped>\n",
       "    .dataframe tbody tr th:only-of-type {\n",
       "        vertical-align: middle;\n",
       "    }\n",
       "\n",
       "    .dataframe tbody tr th {\n",
       "        vertical-align: top;\n",
       "    }\n",
       "\n",
       "    .dataframe thead th {\n",
       "        text-align: right;\n",
       "    }\n",
       "</style>\n",
       "<table border=\"1\" class=\"dataframe\">\n",
       "  <thead>\n",
       "    <tr style=\"text-align: right;\">\n",
       "      <th></th>\n",
       "      <th>year</th>\n",
       "      <th>month</th>\n",
       "      <th>IIiii</th>\n",
       "      <th>G1</th>\n",
       "      <th>Po</th>\n",
       "      <th>G1.1</th>\n",
       "      <th>P</th>\n",
       "      <th>G1.2</th>\n",
       "      <th>sn</th>\n",
       "      <th>T</th>\n",
       "      <th>...</th>\n",
       "      <th>iw</th>\n",
       "      <th>fx</th>\n",
       "      <th>yfx</th>\n",
       "      <th>G4.6</th>\n",
       "      <th>Dts</th>\n",
       "      <th>Dgr</th>\n",
       "      <th>G4.7</th>\n",
       "      <th>iy</th>\n",
       "      <th>Gx</th>\n",
       "      <th>Gn</th>\n",
       "    </tr>\n",
       "  </thead>\n",
       "  <tbody>\n",
       "    <tr>\n",
       "      <th>0</th>\n",
       "      <td>2003</td>\n",
       "      <td>3.0</td>\n",
       "      <td>1001.0</td>\n",
       "      <td>1.0</td>\n",
       "      <td>10047.0</td>\n",
       "      <td>2.0</td>\n",
       "      <td>10059.0</td>\n",
       "      <td>3.0</td>\n",
       "      <td>1.0</td>\n",
       "      <td>27.0</td>\n",
       "      <td>...</td>\n",
       "      <td>NaN</td>\n",
       "      <td>NaN</td>\n",
       "      <td>NaN</td>\n",
       "      <td>NaN</td>\n",
       "      <td>NaN</td>\n",
       "      <td>NaN</td>\n",
       "      <td>NaN</td>\n",
       "      <td>NaN</td>\n",
       "      <td>NaN</td>\n",
       "      <td>NaN</td>\n",
       "    </tr>\n",
       "    <tr>\n",
       "      <th>1</th>\n",
       "      <td>2003</td>\n",
       "      <td>3.0</td>\n",
       "      <td>1008.0</td>\n",
       "      <td>1.0</td>\n",
       "      <td>9995.0</td>\n",
       "      <td>2.0</td>\n",
       "      <td>10031.0</td>\n",
       "      <td>3.0</td>\n",
       "      <td>1.0</td>\n",
       "      <td>173.0</td>\n",
       "      <td>...</td>\n",
       "      <td>NaN</td>\n",
       "      <td>NaN</td>\n",
       "      <td>NaN</td>\n",
       "      <td>NaN</td>\n",
       "      <td>NaN</td>\n",
       "      <td>NaN</td>\n",
       "      <td>NaN</td>\n",
       "      <td>NaN</td>\n",
       "      <td>NaN</td>\n",
       "      <td>NaN</td>\n",
       "    </tr>\n",
       "    <tr>\n",
       "      <th>2</th>\n",
       "      <td>2003</td>\n",
       "      <td>3.0</td>\n",
       "      <td>1025.0</td>\n",
       "      <td>1.0</td>\n",
       "      <td>10058.0</td>\n",
       "      <td>2.0</td>\n",
       "      <td>10068.0</td>\n",
       "      <td>3.0</td>\n",
       "      <td>1.0</td>\n",
       "      <td>2.0</td>\n",
       "      <td>...</td>\n",
       "      <td>NaN</td>\n",
       "      <td>NaN</td>\n",
       "      <td>NaN</td>\n",
       "      <td>NaN</td>\n",
       "      <td>NaN</td>\n",
       "      <td>NaN</td>\n",
       "      <td>NaN</td>\n",
       "      <td>NaN</td>\n",
       "      <td>NaN</td>\n",
       "      <td>NaN</td>\n",
       "    </tr>\n",
       "    <tr>\n",
       "      <th>3</th>\n",
       "      <td>2003</td>\n",
       "      <td>3.0</td>\n",
       "      <td>1026.0</td>\n",
       "      <td>1.0</td>\n",
       "      <td>9924.0</td>\n",
       "      <td>2.0</td>\n",
       "      <td>10067.0</td>\n",
       "      <td>3.0</td>\n",
       "      <td>1.0</td>\n",
       "      <td>6.0</td>\n",
       "      <td>...</td>\n",
       "      <td>NaN</td>\n",
       "      <td>NaN</td>\n",
       "      <td>NaN</td>\n",
       "      <td>NaN</td>\n",
       "      <td>NaN</td>\n",
       "      <td>NaN</td>\n",
       "      <td>NaN</td>\n",
       "      <td>NaN</td>\n",
       "      <td>NaN</td>\n",
       "      <td>NaN</td>\n",
       "    </tr>\n",
       "    <tr>\n",
       "      <th>4</th>\n",
       "      <td>2003</td>\n",
       "      <td>3.0</td>\n",
       "      <td>1028.0</td>\n",
       "      <td>1.0</td>\n",
       "      <td>9991.0</td>\n",
       "      <td>2.0</td>\n",
       "      <td>10011.0</td>\n",
       "      <td>3.0</td>\n",
       "      <td>1.0</td>\n",
       "      <td>84.0</td>\n",
       "      <td>...</td>\n",
       "      <td>NaN</td>\n",
       "      <td>NaN</td>\n",
       "      <td>NaN</td>\n",
       "      <td>NaN</td>\n",
       "      <td>NaN</td>\n",
       "      <td>NaN</td>\n",
       "      <td>NaN</td>\n",
       "      <td>NaN</td>\n",
       "      <td>NaN</td>\n",
       "      <td>NaN</td>\n",
       "    </tr>\n",
       "  </tbody>\n",
       "</table>\n",
       "<p>5 rows × 127 columns</p>\n",
       "</div>"
      ],
      "text/plain": [
       "   year  month   IIiii   G1       Po  G1.1        P  G1.2   sn      T  ...  \\\n",
       "0  2003    3.0  1001.0  1.0  10047.0   2.0  10059.0   3.0  1.0   27.0  ...   \n",
       "1  2003    3.0  1008.0  1.0   9995.0   2.0  10031.0   3.0  1.0  173.0  ...   \n",
       "2  2003    3.0  1025.0  1.0  10058.0   2.0  10068.0   3.0  1.0    2.0  ...   \n",
       "3  2003    3.0  1026.0  1.0   9924.0   2.0  10067.0   3.0  1.0    6.0  ...   \n",
       "4  2003    3.0  1028.0  1.0   9991.0   2.0  10011.0   3.0  1.0   84.0  ...   \n",
       "\n",
       "   iw  fx  yfx  G4.6  Dts  Dgr  G4.7  iy  Gx  Gn  \n",
       "0 NaN NaN  NaN   NaN  NaN  NaN   NaN NaN NaN NaN  \n",
       "1 NaN NaN  NaN   NaN  NaN  NaN   NaN NaN NaN NaN  \n",
       "2 NaN NaN  NaN   NaN  NaN  NaN   NaN NaN NaN NaN  \n",
       "3 NaN NaN  NaN   NaN  NaN  NaN   NaN NaN NaN NaN  \n",
       "4 NaN NaN  NaN   NaN  NaN  NaN   NaN NaN NaN NaN  \n",
       "\n",
       "[5 rows x 127 columns]"
      ]
     },
     "execution_count": 7,
     "metadata": {},
     "output_type": "execute_result"
    }
   ],
   "source": [
    "dfr.head()"
   ]
  },
  {
   "cell_type": "code",
   "execution_count": 8,
   "metadata": {},
   "outputs": [
    {
     "data": {
      "text/plain": [
       "(1966, 127)"
      ]
     },
     "execution_count": 8,
     "metadata": {},
     "output_type": "execute_result"
    }
   ],
   "source": [
    "dfr.shape"
   ]
  },
  {
   "cell_type": "code",
   "execution_count": 9,
   "metadata": {},
   "outputs": [
    {
     "data": {
      "text/plain": [
       "dtype('float64')"
      ]
     },
     "execution_count": 9,
     "metadata": {},
     "output_type": "execute_result"
    }
   ],
   "source": [
    "dfr[\"IIiii\"].dtype"
   ]
  },
  {
   "cell_type": "markdown",
   "metadata": {},
   "source": [
    "How many rows, where the column \"IIiii\" isundefined?"
   ]
  },
  {
   "cell_type": "code",
   "execution_count": 10,
   "metadata": {},
   "outputs": [
    {
     "data": {
      "text/html": [
       "<div>\n",
       "<style scoped>\n",
       "    .dataframe tbody tr th:only-of-type {\n",
       "        vertical-align: middle;\n",
       "    }\n",
       "\n",
       "    .dataframe tbody tr th {\n",
       "        vertical-align: top;\n",
       "    }\n",
       "\n",
       "    .dataframe thead th {\n",
       "        text-align: right;\n",
       "    }\n",
       "</style>\n",
       "<table border=\"1\" class=\"dataframe\">\n",
       "  <thead>\n",
       "    <tr style=\"text-align: right;\">\n",
       "      <th></th>\n",
       "      <th>year</th>\n",
       "      <th>month</th>\n",
       "      <th>IIiii</th>\n",
       "      <th>G1</th>\n",
       "      <th>Po</th>\n",
       "      <th>G1.1</th>\n",
       "      <th>P</th>\n",
       "      <th>G1.2</th>\n",
       "      <th>sn</th>\n",
       "      <th>T</th>\n",
       "      <th>...</th>\n",
       "      <th>iw</th>\n",
       "      <th>fx</th>\n",
       "      <th>yfx</th>\n",
       "      <th>G4.6</th>\n",
       "      <th>Dts</th>\n",
       "      <th>Dgr</th>\n",
       "      <th>G4.7</th>\n",
       "      <th>iy</th>\n",
       "      <th>Gx</th>\n",
       "      <th>Gn</th>\n",
       "    </tr>\n",
       "  </thead>\n",
       "  <tbody>\n",
       "    <tr>\n",
       "      <th>1965</th>\n",
       "      <td>\u001a</td>\n",
       "      <td>NaN</td>\n",
       "      <td>NaN</td>\n",
       "      <td>NaN</td>\n",
       "      <td>NaN</td>\n",
       "      <td>NaN</td>\n",
       "      <td>NaN</td>\n",
       "      <td>NaN</td>\n",
       "      <td>NaN</td>\n",
       "      <td>NaN</td>\n",
       "      <td>...</td>\n",
       "      <td>NaN</td>\n",
       "      <td>NaN</td>\n",
       "      <td>NaN</td>\n",
       "      <td>NaN</td>\n",
       "      <td>NaN</td>\n",
       "      <td>NaN</td>\n",
       "      <td>NaN</td>\n",
       "      <td>NaN</td>\n",
       "      <td>NaN</td>\n",
       "      <td>NaN</td>\n",
       "    </tr>\n",
       "  </tbody>\n",
       "</table>\n",
       "<p>1 rows × 127 columns</p>\n",
       "</div>"
      ],
      "text/plain": [
       "     year  month  IIiii  G1  Po  G1.1   P  G1.2  sn   T  ...  iw  fx  yfx  \\\n",
       "1965    \u001a    NaN    NaN NaN NaN   NaN NaN   NaN NaN NaN  ... NaN NaN  NaN   \n",
       "\n",
       "      G4.6  Dts  Dgr  G4.7  iy  Gx  Gn  \n",
       "1965   NaN  NaN  NaN   NaN NaN NaN NaN  \n",
       "\n",
       "[1 rows x 127 columns]"
      ]
     },
     "execution_count": 10,
     "metadata": {},
     "output_type": "execute_result"
    }
   ],
   "source": [
    "dfr[dfr[\"IIiii\"].isnull()]"
   ]
  },
  {
   "cell_type": "markdown",
   "metadata": {},
   "source": [
    "We can drop this column."
   ]
  },
  {
   "cell_type": "code",
   "execution_count": 11,
   "metadata": {},
   "outputs": [],
   "source": [
    "df = dfr.dropna(subset=[\"IIiii\"])\n",
    "df = df.copy()"
   ]
  },
  {
   "cell_type": "code",
   "execution_count": 12,
   "metadata": {},
   "outputs": [
    {
     "data": {
      "text/html": [
       "<div>\n",
       "<style scoped>\n",
       "    .dataframe tbody tr th:only-of-type {\n",
       "        vertical-align: middle;\n",
       "    }\n",
       "\n",
       "    .dataframe tbody tr th {\n",
       "        vertical-align: top;\n",
       "    }\n",
       "\n",
       "    .dataframe thead th {\n",
       "        text-align: right;\n",
       "    }\n",
       "</style>\n",
       "<table border=\"1\" class=\"dataframe\">\n",
       "  <thead>\n",
       "    <tr style=\"text-align: right;\">\n",
       "      <th></th>\n",
       "      <th>year</th>\n",
       "      <th>month</th>\n",
       "      <th>IIiii</th>\n",
       "      <th>G1</th>\n",
       "      <th>Po</th>\n",
       "      <th>G1.1</th>\n",
       "      <th>P</th>\n",
       "      <th>G1.2</th>\n",
       "      <th>sn</th>\n",
       "      <th>T</th>\n",
       "      <th>...</th>\n",
       "      <th>iw</th>\n",
       "      <th>fx</th>\n",
       "      <th>yfx</th>\n",
       "      <th>G4.6</th>\n",
       "      <th>Dts</th>\n",
       "      <th>Dgr</th>\n",
       "      <th>G4.7</th>\n",
       "      <th>iy</th>\n",
       "      <th>Gx</th>\n",
       "      <th>Gn</th>\n",
       "    </tr>\n",
       "  </thead>\n",
       "  <tbody>\n",
       "    <tr>\n",
       "      <th>0</th>\n",
       "      <td>2003</td>\n",
       "      <td>3.0</td>\n",
       "      <td>1001.0</td>\n",
       "      <td>1.0</td>\n",
       "      <td>10047.0</td>\n",
       "      <td>2.0</td>\n",
       "      <td>10059.0</td>\n",
       "      <td>3.0</td>\n",
       "      <td>1.0</td>\n",
       "      <td>27.0</td>\n",
       "      <td>...</td>\n",
       "      <td>NaN</td>\n",
       "      <td>NaN</td>\n",
       "      <td>NaN</td>\n",
       "      <td>NaN</td>\n",
       "      <td>NaN</td>\n",
       "      <td>NaN</td>\n",
       "      <td>NaN</td>\n",
       "      <td>NaN</td>\n",
       "      <td>NaN</td>\n",
       "      <td>NaN</td>\n",
       "    </tr>\n",
       "    <tr>\n",
       "      <th>1</th>\n",
       "      <td>2003</td>\n",
       "      <td>3.0</td>\n",
       "      <td>1008.0</td>\n",
       "      <td>1.0</td>\n",
       "      <td>9995.0</td>\n",
       "      <td>2.0</td>\n",
       "      <td>10031.0</td>\n",
       "      <td>3.0</td>\n",
       "      <td>1.0</td>\n",
       "      <td>173.0</td>\n",
       "      <td>...</td>\n",
       "      <td>NaN</td>\n",
       "      <td>NaN</td>\n",
       "      <td>NaN</td>\n",
       "      <td>NaN</td>\n",
       "      <td>NaN</td>\n",
       "      <td>NaN</td>\n",
       "      <td>NaN</td>\n",
       "      <td>NaN</td>\n",
       "      <td>NaN</td>\n",
       "      <td>NaN</td>\n",
       "    </tr>\n",
       "    <tr>\n",
       "      <th>2</th>\n",
       "      <td>2003</td>\n",
       "      <td>3.0</td>\n",
       "      <td>1025.0</td>\n",
       "      <td>1.0</td>\n",
       "      <td>10058.0</td>\n",
       "      <td>2.0</td>\n",
       "      <td>10068.0</td>\n",
       "      <td>3.0</td>\n",
       "      <td>1.0</td>\n",
       "      <td>2.0</td>\n",
       "      <td>...</td>\n",
       "      <td>NaN</td>\n",
       "      <td>NaN</td>\n",
       "      <td>NaN</td>\n",
       "      <td>NaN</td>\n",
       "      <td>NaN</td>\n",
       "      <td>NaN</td>\n",
       "      <td>NaN</td>\n",
       "      <td>NaN</td>\n",
       "      <td>NaN</td>\n",
       "      <td>NaN</td>\n",
       "    </tr>\n",
       "    <tr>\n",
       "      <th>3</th>\n",
       "      <td>2003</td>\n",
       "      <td>3.0</td>\n",
       "      <td>1026.0</td>\n",
       "      <td>1.0</td>\n",
       "      <td>9924.0</td>\n",
       "      <td>2.0</td>\n",
       "      <td>10067.0</td>\n",
       "      <td>3.0</td>\n",
       "      <td>1.0</td>\n",
       "      <td>6.0</td>\n",
       "      <td>...</td>\n",
       "      <td>NaN</td>\n",
       "      <td>NaN</td>\n",
       "      <td>NaN</td>\n",
       "      <td>NaN</td>\n",
       "      <td>NaN</td>\n",
       "      <td>NaN</td>\n",
       "      <td>NaN</td>\n",
       "      <td>NaN</td>\n",
       "      <td>NaN</td>\n",
       "      <td>NaN</td>\n",
       "    </tr>\n",
       "    <tr>\n",
       "      <th>4</th>\n",
       "      <td>2003</td>\n",
       "      <td>3.0</td>\n",
       "      <td>1028.0</td>\n",
       "      <td>1.0</td>\n",
       "      <td>9991.0</td>\n",
       "      <td>2.0</td>\n",
       "      <td>10011.0</td>\n",
       "      <td>3.0</td>\n",
       "      <td>1.0</td>\n",
       "      <td>84.0</td>\n",
       "      <td>...</td>\n",
       "      <td>NaN</td>\n",
       "      <td>NaN</td>\n",
       "      <td>NaN</td>\n",
       "      <td>NaN</td>\n",
       "      <td>NaN</td>\n",
       "      <td>NaN</td>\n",
       "      <td>NaN</td>\n",
       "      <td>NaN</td>\n",
       "      <td>NaN</td>\n",
       "      <td>NaN</td>\n",
       "    </tr>\n",
       "  </tbody>\n",
       "</table>\n",
       "<p>5 rows × 127 columns</p>\n",
       "</div>"
      ],
      "text/plain": [
       "   year  month   IIiii   G1       Po  G1.1        P  G1.2   sn      T  ...  \\\n",
       "0  2003    3.0  1001.0  1.0  10047.0   2.0  10059.0   3.0  1.0   27.0  ...   \n",
       "1  2003    3.0  1008.0  1.0   9995.0   2.0  10031.0   3.0  1.0  173.0  ...   \n",
       "2  2003    3.0  1025.0  1.0  10058.0   2.0  10068.0   3.0  1.0    2.0  ...   \n",
       "3  2003    3.0  1026.0  1.0   9924.0   2.0  10067.0   3.0  1.0    6.0  ...   \n",
       "4  2003    3.0  1028.0  1.0   9991.0   2.0  10011.0   3.0  1.0   84.0  ...   \n",
       "\n",
       "   iw  fx  yfx  G4.6  Dts  Dgr  G4.7  iy  Gx  Gn  \n",
       "0 NaN NaN  NaN   NaN  NaN  NaN   NaN NaN NaN NaN  \n",
       "1 NaN NaN  NaN   NaN  NaN  NaN   NaN NaN NaN NaN  \n",
       "2 NaN NaN  NaN   NaN  NaN  NaN   NaN NaN NaN NaN  \n",
       "3 NaN NaN  NaN   NaN  NaN  NaN   NaN NaN NaN NaN  \n",
       "4 NaN NaN  NaN   NaN  NaN  NaN   NaN NaN NaN NaN  \n",
       "\n",
       "[5 rows x 127 columns]"
      ]
     },
     "execution_count": 12,
     "metadata": {},
     "output_type": "execute_result"
    }
   ],
   "source": [
    "df.head()"
   ]
  },
  {
   "cell_type": "code",
   "execution_count": 13,
   "metadata": {},
   "outputs": [
    {
     "data": {
      "text/html": [
       "<div>\n",
       "<style scoped>\n",
       "    .dataframe tbody tr th:only-of-type {\n",
       "        vertical-align: middle;\n",
       "    }\n",
       "\n",
       "    .dataframe tbody tr th {\n",
       "        vertical-align: top;\n",
       "    }\n",
       "\n",
       "    .dataframe thead th {\n",
       "        text-align: right;\n",
       "    }\n",
       "</style>\n",
       "<table border=\"1\" class=\"dataframe\">\n",
       "  <thead>\n",
       "    <tr style=\"text-align: right;\">\n",
       "      <th></th>\n",
       "      <th>year</th>\n",
       "      <th>month</th>\n",
       "      <th>IIiii</th>\n",
       "      <th>G1</th>\n",
       "      <th>Po</th>\n",
       "      <th>G1.1</th>\n",
       "      <th>P</th>\n",
       "      <th>G1.2</th>\n",
       "      <th>sn</th>\n",
       "      <th>T</th>\n",
       "      <th>...</th>\n",
       "      <th>iw</th>\n",
       "      <th>fx</th>\n",
       "      <th>yfx</th>\n",
       "      <th>G4.6</th>\n",
       "      <th>Dts</th>\n",
       "      <th>Dgr</th>\n",
       "      <th>G4.7</th>\n",
       "      <th>iy</th>\n",
       "      <th>Gx</th>\n",
       "      <th>Gn</th>\n",
       "    </tr>\n",
       "  </thead>\n",
       "  <tbody>\n",
       "    <tr>\n",
       "      <th>1960</th>\n",
       "      <td>2003</td>\n",
       "      <td>3.0</td>\n",
       "      <td>98550.0</td>\n",
       "      <td>1.0</td>\n",
       "      <td>10109.0</td>\n",
       "      <td>2.0</td>\n",
       "      <td>10112.0</td>\n",
       "      <td>3.0</td>\n",
       "      <td>0.0</td>\n",
       "      <td>271.0</td>\n",
       "      <td>...</td>\n",
       "      <td>NaN</td>\n",
       "      <td>NaN</td>\n",
       "      <td>NaN</td>\n",
       "      <td>NaN</td>\n",
       "      <td>NaN</td>\n",
       "      <td>NaN</td>\n",
       "      <td>NaN</td>\n",
       "      <td>NaN</td>\n",
       "      <td>NaN</td>\n",
       "      <td>NaN</td>\n",
       "    </tr>\n",
       "    <tr>\n",
       "      <th>1961</th>\n",
       "      <td>2003</td>\n",
       "      <td>3.0</td>\n",
       "      <td>98637.0</td>\n",
       "      <td>1.0</td>\n",
       "      <td>10111.0</td>\n",
       "      <td>2.0</td>\n",
       "      <td>10118.0</td>\n",
       "      <td>3.0</td>\n",
       "      <td>0.0</td>\n",
       "      <td>283.0</td>\n",
       "      <td>...</td>\n",
       "      <td>NaN</td>\n",
       "      <td>NaN</td>\n",
       "      <td>NaN</td>\n",
       "      <td>NaN</td>\n",
       "      <td>NaN</td>\n",
       "      <td>NaN</td>\n",
       "      <td>NaN</td>\n",
       "      <td>NaN</td>\n",
       "      <td>NaN</td>\n",
       "      <td>NaN</td>\n",
       "    </tr>\n",
       "    <tr>\n",
       "      <th>1962</th>\n",
       "      <td>2003</td>\n",
       "      <td>3.0</td>\n",
       "      <td>98644.0</td>\n",
       "      <td>1.0</td>\n",
       "      <td>10109.0</td>\n",
       "      <td>2.0</td>\n",
       "      <td>10118.0</td>\n",
       "      <td>3.0</td>\n",
       "      <td>0.0</td>\n",
       "      <td>278.0</td>\n",
       "      <td>...</td>\n",
       "      <td>NaN</td>\n",
       "      <td>NaN</td>\n",
       "      <td>NaN</td>\n",
       "      <td>NaN</td>\n",
       "      <td>NaN</td>\n",
       "      <td>NaN</td>\n",
       "      <td>NaN</td>\n",
       "      <td>NaN</td>\n",
       "      <td>NaN</td>\n",
       "      <td>NaN</td>\n",
       "    </tr>\n",
       "    <tr>\n",
       "      <th>1963</th>\n",
       "      <td>2003</td>\n",
       "      <td>3.0</td>\n",
       "      <td>98646.0</td>\n",
       "      <td>1.0</td>\n",
       "      <td>10100.0</td>\n",
       "      <td>2.0</td>\n",
       "      <td>10114.0</td>\n",
       "      <td>3.0</td>\n",
       "      <td>0.0</td>\n",
       "      <td>278.0</td>\n",
       "      <td>...</td>\n",
       "      <td>NaN</td>\n",
       "      <td>NaN</td>\n",
       "      <td>NaN</td>\n",
       "      <td>NaN</td>\n",
       "      <td>NaN</td>\n",
       "      <td>NaN</td>\n",
       "      <td>NaN</td>\n",
       "      <td>NaN</td>\n",
       "      <td>NaN</td>\n",
       "      <td>NaN</td>\n",
       "    </tr>\n",
       "    <tr>\n",
       "      <th>1964</th>\n",
       "      <td>2003</td>\n",
       "      <td>3.0</td>\n",
       "      <td>98653.0</td>\n",
       "      <td>1.0</td>\n",
       "      <td>10078.0</td>\n",
       "      <td>2.0</td>\n",
       "      <td>10113.0</td>\n",
       "      <td>3.0</td>\n",
       "      <td>0.0</td>\n",
       "      <td>279.0</td>\n",
       "      <td>...</td>\n",
       "      <td>NaN</td>\n",
       "      <td>NaN</td>\n",
       "      <td>NaN</td>\n",
       "      <td>NaN</td>\n",
       "      <td>NaN</td>\n",
       "      <td>NaN</td>\n",
       "      <td>NaN</td>\n",
       "      <td>NaN</td>\n",
       "      <td>NaN</td>\n",
       "      <td>NaN</td>\n",
       "    </tr>\n",
       "  </tbody>\n",
       "</table>\n",
       "<p>5 rows × 127 columns</p>\n",
       "</div>"
      ],
      "text/plain": [
       "      year  month    IIiii   G1       Po  G1.1        P  G1.2   sn      T  \\\n",
       "1960  2003    3.0  98550.0  1.0  10109.0   2.0  10112.0   3.0  0.0  271.0   \n",
       "1961  2003    3.0  98637.0  1.0  10111.0   2.0  10118.0   3.0  0.0  283.0   \n",
       "1962  2003    3.0  98644.0  1.0  10109.0   2.0  10118.0   3.0  0.0  278.0   \n",
       "1963  2003    3.0  98646.0  1.0  10100.0   2.0  10114.0   3.0  0.0  278.0   \n",
       "1964  2003    3.0  98653.0  1.0  10078.0   2.0  10113.0   3.0  0.0  279.0   \n",
       "\n",
       "      ...  iw  fx  yfx  G4.6  Dts  Dgr  G4.7  iy  Gx  Gn  \n",
       "1960  ... NaN NaN  NaN   NaN  NaN  NaN   NaN NaN NaN NaN  \n",
       "1961  ... NaN NaN  NaN   NaN  NaN  NaN   NaN NaN NaN NaN  \n",
       "1962  ... NaN NaN  NaN   NaN  NaN  NaN   NaN NaN NaN NaN  \n",
       "1963  ... NaN NaN  NaN   NaN  NaN  NaN   NaN NaN NaN NaN  \n",
       "1964  ... NaN NaN  NaN   NaN  NaN  NaN   NaN NaN NaN NaN  \n",
       "\n",
       "[5 rows x 127 columns]"
      ]
     },
     "execution_count": 13,
     "metadata": {},
     "output_type": "execute_result"
    }
   ],
   "source": [
    "df.tail()"
   ]
  },
  {
   "cell_type": "code",
   "execution_count": 14,
   "metadata": {},
   "outputs": [
    {
     "data": {
      "text/plain": [
       "dtype('float64')"
      ]
     },
     "execution_count": 14,
     "metadata": {},
     "output_type": "execute_result"
    }
   ],
   "source": [
    "df[\"IIiii\"].dtype # The na dropping revisited this column? No."
   ]
  },
  {
   "cell_type": "code",
   "execution_count": 15,
   "metadata": {},
   "outputs": [],
   "source": [
    "df.loc[:, \"IIiii\"] = df.loc[:, \"IIiii\"].astype(int)"
   ]
  },
  {
   "cell_type": "code",
   "execution_count": 17,
   "metadata": {},
   "outputs": [],
   "source": [
    "# bool(df.is_copy) # has been deprecated and removed"
   ]
  },
  {
   "cell_type": "markdown",
   "metadata": {},
   "source": [
    "* https://www.dataquest.io/blog/settingwithcopywarning/\n",
    "    \n",
    "> SettingWithCopyWarning is one of the most common hurdles people run into when learning pandas. A quick web search will reveal scores of Stack Overflow questions, GitHub issues and forum posts from programmers trying to wrap their heads around what this warning means in their particular situation. It's no surprise that many struggle with this; there are so many ways to index pandas data structures, each with its own particular nuance, and even pandas itself does not guarantee one single outcome for two lines of code that may look identical.\n",
    "\n",
    "```\n",
    "pd.set_option('mode.chained_assignment', None)\n",
    "```"
   ]
  },
  {
   "cell_type": "markdown",
   "metadata": {},
   "source": [
    "Or we can only keep the finite values with `df = dfr[np.isfinite(dfr['IIiii'])]`"
   ]
  },
  {
   "cell_type": "code",
   "execution_count": 18,
   "metadata": {},
   "outputs": [
    {
     "data": {
      "text/plain": [
       "(1965, 127)"
      ]
     },
     "execution_count": 18,
     "metadata": {},
     "output_type": "execute_result"
    }
   ],
   "source": [
    "df.shape"
   ]
  },
  {
   "cell_type": "markdown",
   "metadata": {},
   "source": [
    "Let focus on the first three columns."
   ]
  },
  {
   "cell_type": "code",
   "execution_count": 19,
   "metadata": {},
   "outputs": [
    {
     "data": {
      "text/html": [
       "<div>\n",
       "<style scoped>\n",
       "    .dataframe tbody tr th:only-of-type {\n",
       "        vertical-align: middle;\n",
       "    }\n",
       "\n",
       "    .dataframe tbody tr th {\n",
       "        vertical-align: top;\n",
       "    }\n",
       "\n",
       "    .dataframe thead th {\n",
       "        text-align: right;\n",
       "    }\n",
       "</style>\n",
       "<table border=\"1\" class=\"dataframe\">\n",
       "  <thead>\n",
       "    <tr style=\"text-align: right;\">\n",
       "      <th></th>\n",
       "      <th>year</th>\n",
       "      <th>month</th>\n",
       "      <th>IIiii</th>\n",
       "    </tr>\n",
       "  </thead>\n",
       "  <tbody>\n",
       "    <tr>\n",
       "      <th>0</th>\n",
       "      <td>2003</td>\n",
       "      <td>3.0</td>\n",
       "      <td>1001.0</td>\n",
       "    </tr>\n",
       "    <tr>\n",
       "      <th>1</th>\n",
       "      <td>2003</td>\n",
       "      <td>3.0</td>\n",
       "      <td>1008.0</td>\n",
       "    </tr>\n",
       "    <tr>\n",
       "      <th>2</th>\n",
       "      <td>2003</td>\n",
       "      <td>3.0</td>\n",
       "      <td>1025.0</td>\n",
       "    </tr>\n",
       "    <tr>\n",
       "      <th>3</th>\n",
       "      <td>2003</td>\n",
       "      <td>3.0</td>\n",
       "      <td>1026.0</td>\n",
       "    </tr>\n",
       "    <tr>\n",
       "      <th>4</th>\n",
       "      <td>2003</td>\n",
       "      <td>3.0</td>\n",
       "      <td>1028.0</td>\n",
       "    </tr>\n",
       "  </tbody>\n",
       "</table>\n",
       "</div>"
      ],
      "text/plain": [
       "   year  month   IIiii\n",
       "0  2003    3.0  1001.0\n",
       "1  2003    3.0  1008.0\n",
       "2  2003    3.0  1025.0\n",
       "3  2003    3.0  1026.0\n",
       "4  2003    3.0  1028.0"
      ]
     },
     "execution_count": 19,
     "metadata": {},
     "output_type": "execute_result"
    }
   ],
   "source": [
    "df.iloc[:, 0:3].head()"
   ]
  },
  {
   "cell_type": "markdown",
   "metadata": {},
   "source": [
    "Note: If we would need to convert the weather station id to an int.\n",
    "\n",
    "The stanza:\n",
    "\n",
    "```\n",
    "df[\"IIiii\"] = df[\"IIiii\"].astype(int)\n",
    "```\n",
    "\n",
    "would yield a SettingsWithCopy warning.\n",
    "\n",
    "* http://pandas-docs.github.io/pandas-docs-travis/indexing.html#why-does-assignment-fail-when-using-chained-indexing\n",
    "\n",
    "There is a global setting to turn of the warning, or a local, per object setting via `df.is_copy`."
   ]
  },
  {
   "cell_type": "code",
   "execution_count": 20,
   "metadata": {},
   "outputs": [
    {
     "data": {
      "text/html": [
       "<div>\n",
       "<style scoped>\n",
       "    .dataframe tbody tr th:only-of-type {\n",
       "        vertical-align: middle;\n",
       "    }\n",
       "\n",
       "    .dataframe tbody tr th {\n",
       "        vertical-align: top;\n",
       "    }\n",
       "\n",
       "    .dataframe thead th {\n",
       "        text-align: right;\n",
       "    }\n",
       "</style>\n",
       "<table border=\"1\" class=\"dataframe\">\n",
       "  <thead>\n",
       "    <tr style=\"text-align: right;\">\n",
       "      <th></th>\n",
       "      <th>year</th>\n",
       "      <th>month</th>\n",
       "      <th>IIiii</th>\n",
       "      <th>G1</th>\n",
       "      <th>Po</th>\n",
       "      <th>G1.1</th>\n",
       "      <th>P</th>\n",
       "      <th>G1.2</th>\n",
       "      <th>sn</th>\n",
       "      <th>T</th>\n",
       "      <th>...</th>\n",
       "      <th>iw</th>\n",
       "      <th>fx</th>\n",
       "      <th>yfx</th>\n",
       "      <th>G4.6</th>\n",
       "      <th>Dts</th>\n",
       "      <th>Dgr</th>\n",
       "      <th>G4.7</th>\n",
       "      <th>iy</th>\n",
       "      <th>Gx</th>\n",
       "      <th>Gn</th>\n",
       "    </tr>\n",
       "  </thead>\n",
       "  <tbody>\n",
       "    <tr>\n",
       "      <th>0</th>\n",
       "      <td>2003</td>\n",
       "      <td>3.0</td>\n",
       "      <td>1001.0</td>\n",
       "      <td>1.0</td>\n",
       "      <td>10047.0</td>\n",
       "      <td>2.0</td>\n",
       "      <td>10059.0</td>\n",
       "      <td>3.0</td>\n",
       "      <td>1.0</td>\n",
       "      <td>27.0</td>\n",
       "      <td>...</td>\n",
       "      <td>NaN</td>\n",
       "      <td>NaN</td>\n",
       "      <td>NaN</td>\n",
       "      <td>NaN</td>\n",
       "      <td>NaN</td>\n",
       "      <td>NaN</td>\n",
       "      <td>NaN</td>\n",
       "      <td>NaN</td>\n",
       "      <td>NaN</td>\n",
       "      <td>NaN</td>\n",
       "    </tr>\n",
       "    <tr>\n",
       "      <th>1</th>\n",
       "      <td>2003</td>\n",
       "      <td>3.0</td>\n",
       "      <td>1008.0</td>\n",
       "      <td>1.0</td>\n",
       "      <td>9995.0</td>\n",
       "      <td>2.0</td>\n",
       "      <td>10031.0</td>\n",
       "      <td>3.0</td>\n",
       "      <td>1.0</td>\n",
       "      <td>173.0</td>\n",
       "      <td>...</td>\n",
       "      <td>NaN</td>\n",
       "      <td>NaN</td>\n",
       "      <td>NaN</td>\n",
       "      <td>NaN</td>\n",
       "      <td>NaN</td>\n",
       "      <td>NaN</td>\n",
       "      <td>NaN</td>\n",
       "      <td>NaN</td>\n",
       "      <td>NaN</td>\n",
       "      <td>NaN</td>\n",
       "    </tr>\n",
       "    <tr>\n",
       "      <th>2</th>\n",
       "      <td>2003</td>\n",
       "      <td>3.0</td>\n",
       "      <td>1025.0</td>\n",
       "      <td>1.0</td>\n",
       "      <td>10058.0</td>\n",
       "      <td>2.0</td>\n",
       "      <td>10068.0</td>\n",
       "      <td>3.0</td>\n",
       "      <td>1.0</td>\n",
       "      <td>2.0</td>\n",
       "      <td>...</td>\n",
       "      <td>NaN</td>\n",
       "      <td>NaN</td>\n",
       "      <td>NaN</td>\n",
       "      <td>NaN</td>\n",
       "      <td>NaN</td>\n",
       "      <td>NaN</td>\n",
       "      <td>NaN</td>\n",
       "      <td>NaN</td>\n",
       "      <td>NaN</td>\n",
       "      <td>NaN</td>\n",
       "    </tr>\n",
       "    <tr>\n",
       "      <th>3</th>\n",
       "      <td>2003</td>\n",
       "      <td>3.0</td>\n",
       "      <td>1026.0</td>\n",
       "      <td>1.0</td>\n",
       "      <td>9924.0</td>\n",
       "      <td>2.0</td>\n",
       "      <td>10067.0</td>\n",
       "      <td>3.0</td>\n",
       "      <td>1.0</td>\n",
       "      <td>6.0</td>\n",
       "      <td>...</td>\n",
       "      <td>NaN</td>\n",
       "      <td>NaN</td>\n",
       "      <td>NaN</td>\n",
       "      <td>NaN</td>\n",
       "      <td>NaN</td>\n",
       "      <td>NaN</td>\n",
       "      <td>NaN</td>\n",
       "      <td>NaN</td>\n",
       "      <td>NaN</td>\n",
       "      <td>NaN</td>\n",
       "    </tr>\n",
       "    <tr>\n",
       "      <th>4</th>\n",
       "      <td>2003</td>\n",
       "      <td>3.0</td>\n",
       "      <td>1028.0</td>\n",
       "      <td>1.0</td>\n",
       "      <td>9991.0</td>\n",
       "      <td>2.0</td>\n",
       "      <td>10011.0</td>\n",
       "      <td>3.0</td>\n",
       "      <td>1.0</td>\n",
       "      <td>84.0</td>\n",
       "      <td>...</td>\n",
       "      <td>NaN</td>\n",
       "      <td>NaN</td>\n",
       "      <td>NaN</td>\n",
       "      <td>NaN</td>\n",
       "      <td>NaN</td>\n",
       "      <td>NaN</td>\n",
       "      <td>NaN</td>\n",
       "      <td>NaN</td>\n",
       "      <td>NaN</td>\n",
       "      <td>NaN</td>\n",
       "    </tr>\n",
       "  </tbody>\n",
       "</table>\n",
       "<p>5 rows × 127 columns</p>\n",
       "</div>"
      ],
      "text/plain": [
       "   year  month   IIiii   G1       Po  G1.1        P  G1.2   sn      T  ...  \\\n",
       "0  2003    3.0  1001.0  1.0  10047.0   2.0  10059.0   3.0  1.0   27.0  ...   \n",
       "1  2003    3.0  1008.0  1.0   9995.0   2.0  10031.0   3.0  1.0  173.0  ...   \n",
       "2  2003    3.0  1025.0  1.0  10058.0   2.0  10068.0   3.0  1.0    2.0  ...   \n",
       "3  2003    3.0  1026.0  1.0   9924.0   2.0  10067.0   3.0  1.0    6.0  ...   \n",
       "4  2003    3.0  1028.0  1.0   9991.0   2.0  10011.0   3.0  1.0   84.0  ...   \n",
       "\n",
       "   iw  fx  yfx  G4.6  Dts  Dgr  G4.7  iy  Gx  Gn  \n",
       "0 NaN NaN  NaN   NaN  NaN  NaN   NaN NaN NaN NaN  \n",
       "1 NaN NaN  NaN   NaN  NaN  NaN   NaN NaN NaN NaN  \n",
       "2 NaN NaN  NaN   NaN  NaN  NaN   NaN NaN NaN NaN  \n",
       "3 NaN NaN  NaN   NaN  NaN  NaN   NaN NaN NaN NaN  \n",
       "4 NaN NaN  NaN   NaN  NaN  NaN   NaN NaN NaN NaN  \n",
       "\n",
       "[5 rows x 127 columns]"
      ]
     },
     "execution_count": 20,
     "metadata": {},
     "output_type": "execute_result"
    }
   ],
   "source": [
    "df.head()"
   ]
  },
  {
   "cell_type": "markdown",
   "metadata": {},
   "source": [
    "Column documentation can be found here:\n",
    "    \n",
    "* https://opendata.dwd.de/climate_environment/CDC/observations_global/CLIMAT/monthly/raw/BESCHREIBUNG_obsglobal_monthly_raw_de.pdf\n",
    "\n",
    "We will trim down the set of columns for our investigation to:\n",
    "\n",
    "* year (year)\n",
    "* month (month)\n",
    "* station id (IIiii)\n",
    "* average daily max of the month (Tx)\n",
    "* average number of hours of sunshine (S1)\n",
    "* number of rainy days (nr)\n",
    "* maximum temperatur of the month (Tax), 1/10 °C\n",
    "* days with thunderstorm (Dts)\n",
    "* Snow (above 1, 10, 50, ... mm) (s00, s01, s10, s50)"
   ]
  },
  {
   "cell_type": "markdown",
   "metadata": {},
   "source": [
    "The month column is still float, which seems to indicate some missing values."
   ]
  },
  {
   "cell_type": "code",
   "execution_count": 21,
   "metadata": {},
   "outputs": [],
   "source": [
    "df = df.iloc[:-1]"
   ]
  },
  {
   "cell_type": "code",
   "execution_count": 22,
   "metadata": {},
   "outputs": [
    {
     "data": {
      "text/plain": [
       "dtype('float64')"
      ]
     },
     "execution_count": 22,
     "metadata": {},
     "output_type": "execute_result"
    }
   ],
   "source": [
    "df[\"month\"].dtype"
   ]
  },
  {
   "cell_type": "code",
   "execution_count": 23,
   "metadata": {},
   "outputs": [],
   "source": [
    "df.loc[:, \"month\"] = df.loc[:, \"month\"].astype(int)"
   ]
  },
  {
   "cell_type": "code",
   "execution_count": 24,
   "metadata": {},
   "outputs": [
    {
     "data": {
      "text/plain": [
       "dtype('float64')"
      ]
     },
     "execution_count": 24,
     "metadata": {},
     "output_type": "execute_result"
    }
   ],
   "source": [
    "df[\"month\"].dtype"
   ]
  },
  {
   "cell_type": "markdown",
   "metadata": {},
   "source": [
    "First, load station data, so we can map ids to locations."
   ]
  },
  {
   "cell_type": "code",
   "execution_count": 25,
   "metadata": {},
   "outputs": [],
   "source": [
    "stations_url = \"https://opendata.dwd.de/climate_environment/CDC/help/stations_list_CLIMAT_data.txt\"\n",
    "stations = pd.read_csv(stations_url, sep=\";\", encoding='latin-1')"
   ]
  },
  {
   "cell_type": "code",
   "execution_count": 26,
   "metadata": {},
   "outputs": [
    {
     "data": {
      "text/html": [
       "<div>\n",
       "<style scoped>\n",
       "    .dataframe tbody tr th:only-of-type {\n",
       "        vertical-align: middle;\n",
       "    }\n",
       "\n",
       "    .dataframe tbody tr th {\n",
       "        vertical-align: top;\n",
       "    }\n",
       "\n",
       "    .dataframe thead th {\n",
       "        text-align: right;\n",
       "    }\n",
       "</style>\n",
       "<table border=\"1\" class=\"dataframe\">\n",
       "  <thead>\n",
       "    <tr style=\"text-align: right;\">\n",
       "      <th></th>\n",
       "      <th>WMO-Station ID</th>\n",
       "      <th>StationName</th>\n",
       "      <th>Latitude</th>\n",
       "      <th>Longitude</th>\n",
       "      <th>Height</th>\n",
       "      <th>Country</th>\n",
       "    </tr>\n",
       "  </thead>\n",
       "  <tbody>\n",
       "    <tr>\n",
       "      <th>0</th>\n",
       "      <td>01001</td>\n",
       "      <td>Jan Mayen</td>\n",
       "      <td>70.94</td>\n",
       "      <td>-08.67</td>\n",
       "      <td>9</td>\n",
       "      <td>Norway</td>\n",
       "    </tr>\n",
       "    <tr>\n",
       "      <th>1</th>\n",
       "      <td>01005</td>\n",
       "      <td>Isfjord Radio</td>\n",
       "      <td>78.06</td>\n",
       "      <td>13.63</td>\n",
       "      <td>9</td>\n",
       "      <td>Norway</td>\n",
       "    </tr>\n",
       "    <tr>\n",
       "      <th>2</th>\n",
       "      <td>01007</td>\n",
       "      <td>Ny-Alesund</td>\n",
       "      <td>78.92</td>\n",
       "      <td>11.93</td>\n",
       "      <td>8</td>\n",
       "      <td>Norway</td>\n",
       "    </tr>\n",
       "    <tr>\n",
       "      <th>3</th>\n",
       "      <td>01008</td>\n",
       "      <td>Svalbard</td>\n",
       "      <td>78.25</td>\n",
       "      <td>15.50</td>\n",
       "      <td>27</td>\n",
       "      <td>Norway</td>\n",
       "    </tr>\n",
       "    <tr>\n",
       "      <th>4</th>\n",
       "      <td>01025</td>\n",
       "      <td>Tromso</td>\n",
       "      <td>69.68</td>\n",
       "      <td>18.91</td>\n",
       "      <td>9</td>\n",
       "      <td>Norway</td>\n",
       "    </tr>\n",
       "  </tbody>\n",
       "</table>\n",
       "</div>"
      ],
      "text/plain": [
       "  WMO-Station ID              StationName  \\\n",
       "0          01001                Jan Mayen   \n",
       "1          01005            Isfjord Radio   \n",
       "2          01007               Ny-Alesund   \n",
       "3          01008                 Svalbard   \n",
       "4          01025                   Tromso   \n",
       "\n",
       "                                        Latitude   Longitude   Height  \\\n",
       "0                                          70.94      -08.67        9   \n",
       "1                                          78.06       13.63        9   \n",
       "2                                          78.92       11.93        8   \n",
       "3                                          78.25       15.50       27   \n",
       "4                                          69.68       18.91        9   \n",
       "\n",
       "                                            Country  \n",
       "0   Norway                                           \n",
       "1   Norway                                           \n",
       "2   Norway                                           \n",
       "3   Norway                                           \n",
       "4   Norway                                           "
      ]
     },
     "execution_count": 26,
     "metadata": {},
     "output_type": "execute_result"
    }
   ],
   "source": [
    "stations.head()"
   ]
  },
  {
   "cell_type": "code",
   "execution_count": 27,
   "metadata": {},
   "outputs": [],
   "source": [
    "small = df[[\"year\", \"month\", \"IIiii\", \"Tx\", \"Tax\", \"nr\", \"S1\", \"Dts\", \"s00\", \"s01\", \"s10\", \"s50\"]]"
   ]
  },
  {
   "cell_type": "code",
   "execution_count": 28,
   "metadata": {},
   "outputs": [
    {
     "data": {
      "text/plain": [
       "(1964, 12)"
      ]
     },
     "execution_count": 28,
     "metadata": {},
     "output_type": "execute_result"
    }
   ],
   "source": [
    "small.shape"
   ]
  },
  {
   "cell_type": "code",
   "execution_count": 29,
   "metadata": {},
   "outputs": [
    {
     "data": {
      "text/html": [
       "<div>\n",
       "<style scoped>\n",
       "    .dataframe tbody tr th:only-of-type {\n",
       "        vertical-align: middle;\n",
       "    }\n",
       "\n",
       "    .dataframe tbody tr th {\n",
       "        vertical-align: top;\n",
       "    }\n",
       "\n",
       "    .dataframe thead th {\n",
       "        text-align: right;\n",
       "    }\n",
       "</style>\n",
       "<table border=\"1\" class=\"dataframe\">\n",
       "  <thead>\n",
       "    <tr style=\"text-align: right;\">\n",
       "      <th></th>\n",
       "      <th>year</th>\n",
       "      <th>month</th>\n",
       "      <th>IIiii</th>\n",
       "      <th>Tx</th>\n",
       "      <th>Tax</th>\n",
       "      <th>nr</th>\n",
       "      <th>S1</th>\n",
       "      <th>Dts</th>\n",
       "      <th>s00</th>\n",
       "      <th>s01</th>\n",
       "      <th>s10</th>\n",
       "      <th>s50</th>\n",
       "    </tr>\n",
       "  </thead>\n",
       "  <tbody>\n",
       "    <tr>\n",
       "      <th>0</th>\n",
       "      <td>2003</td>\n",
       "      <td>3.0</td>\n",
       "      <td>1001.0</td>\n",
       "      <td>1.0</td>\n",
       "      <td>NaN</td>\n",
       "      <td>13.0</td>\n",
       "      <td>NaN</td>\n",
       "      <td>NaN</td>\n",
       "      <td>NaN</td>\n",
       "      <td>NaN</td>\n",
       "      <td>NaN</td>\n",
       "      <td>NaN</td>\n",
       "    </tr>\n",
       "    <tr>\n",
       "      <th>1</th>\n",
       "      <td>2003</td>\n",
       "      <td>3.0</td>\n",
       "      <td>1008.0</td>\n",
       "      <td>142.0</td>\n",
       "      <td>NaN</td>\n",
       "      <td>7.0</td>\n",
       "      <td>NaN</td>\n",
       "      <td>NaN</td>\n",
       "      <td>NaN</td>\n",
       "      <td>NaN</td>\n",
       "      <td>NaN</td>\n",
       "      <td>NaN</td>\n",
       "    </tr>\n",
       "    <tr>\n",
       "      <th>2</th>\n",
       "      <td>2003</td>\n",
       "      <td>3.0</td>\n",
       "      <td>1025.0</td>\n",
       "      <td>22.0</td>\n",
       "      <td>NaN</td>\n",
       "      <td>21.0</td>\n",
       "      <td>NaN</td>\n",
       "      <td>NaN</td>\n",
       "      <td>NaN</td>\n",
       "      <td>NaN</td>\n",
       "      <td>NaN</td>\n",
       "      <td>NaN</td>\n",
       "    </tr>\n",
       "    <tr>\n",
       "      <th>3</th>\n",
       "      <td>2003</td>\n",
       "      <td>3.0</td>\n",
       "      <td>1026.0</td>\n",
       "      <td>18.0</td>\n",
       "      <td>NaN</td>\n",
       "      <td>22.0</td>\n",
       "      <td>53.0</td>\n",
       "      <td>NaN</td>\n",
       "      <td>NaN</td>\n",
       "      <td>NaN</td>\n",
       "      <td>NaN</td>\n",
       "      <td>NaN</td>\n",
       "    </tr>\n",
       "    <tr>\n",
       "      <th>4</th>\n",
       "      <td>2003</td>\n",
       "      <td>3.0</td>\n",
       "      <td>1028.0</td>\n",
       "      <td>36.0</td>\n",
       "      <td>NaN</td>\n",
       "      <td>15.0</td>\n",
       "      <td>NaN</td>\n",
       "      <td>NaN</td>\n",
       "      <td>NaN</td>\n",
       "      <td>NaN</td>\n",
       "      <td>NaN</td>\n",
       "      <td>NaN</td>\n",
       "    </tr>\n",
       "  </tbody>\n",
       "</table>\n",
       "</div>"
      ],
      "text/plain": [
       "   year  month   IIiii     Tx  Tax    nr    S1  Dts  s00  s01  s10  s50\n",
       "0  2003    3.0  1001.0    1.0  NaN  13.0   NaN  NaN  NaN  NaN  NaN  NaN\n",
       "1  2003    3.0  1008.0  142.0  NaN   7.0   NaN  NaN  NaN  NaN  NaN  NaN\n",
       "2  2003    3.0  1025.0   22.0  NaN  21.0   NaN  NaN  NaN  NaN  NaN  NaN\n",
       "3  2003    3.0  1026.0   18.0  NaN  22.0  53.0  NaN  NaN  NaN  NaN  NaN\n",
       "4  2003    3.0  1028.0   36.0  NaN  15.0   NaN  NaN  NaN  NaN  NaN  NaN"
      ]
     },
     "execution_count": 29,
     "metadata": {},
     "output_type": "execute_result"
    }
   ],
   "source": [
    "small.head()"
   ]
  },
  {
   "cell_type": "markdown",
   "metadata": {},
   "source": [
    "Let's rename the station column on both frames, so we can join them on it easily. Usually we would have to specify all column names, but there is a shortcut."
   ]
  },
  {
   "cell_type": "code",
   "execution_count": 30,
   "metadata": {},
   "outputs": [],
   "source": [
    "small = small.rename(columns={'IIiii':'station'})"
   ]
  },
  {
   "cell_type": "code",
   "execution_count": 31,
   "metadata": {},
   "outputs": [
    {
     "data": {
      "text/html": [
       "<div>\n",
       "<style scoped>\n",
       "    .dataframe tbody tr th:only-of-type {\n",
       "        vertical-align: middle;\n",
       "    }\n",
       "\n",
       "    .dataframe tbody tr th {\n",
       "        vertical-align: top;\n",
       "    }\n",
       "\n",
       "    .dataframe thead th {\n",
       "        text-align: right;\n",
       "    }\n",
       "</style>\n",
       "<table border=\"1\" class=\"dataframe\">\n",
       "  <thead>\n",
       "    <tr style=\"text-align: right;\">\n",
       "      <th></th>\n",
       "      <th>year</th>\n",
       "      <th>month</th>\n",
       "      <th>station</th>\n",
       "      <th>Tx</th>\n",
       "      <th>Tax</th>\n",
       "      <th>nr</th>\n",
       "      <th>S1</th>\n",
       "      <th>Dts</th>\n",
       "      <th>s00</th>\n",
       "      <th>s01</th>\n",
       "      <th>s10</th>\n",
       "      <th>s50</th>\n",
       "    </tr>\n",
       "  </thead>\n",
       "  <tbody>\n",
       "    <tr>\n",
       "      <th>0</th>\n",
       "      <td>2003</td>\n",
       "      <td>3.0</td>\n",
       "      <td>1001.0</td>\n",
       "      <td>1.0</td>\n",
       "      <td>NaN</td>\n",
       "      <td>13.0</td>\n",
       "      <td>NaN</td>\n",
       "      <td>NaN</td>\n",
       "      <td>NaN</td>\n",
       "      <td>NaN</td>\n",
       "      <td>NaN</td>\n",
       "      <td>NaN</td>\n",
       "    </tr>\n",
       "    <tr>\n",
       "      <th>1</th>\n",
       "      <td>2003</td>\n",
       "      <td>3.0</td>\n",
       "      <td>1008.0</td>\n",
       "      <td>142.0</td>\n",
       "      <td>NaN</td>\n",
       "      <td>7.0</td>\n",
       "      <td>NaN</td>\n",
       "      <td>NaN</td>\n",
       "      <td>NaN</td>\n",
       "      <td>NaN</td>\n",
       "      <td>NaN</td>\n",
       "      <td>NaN</td>\n",
       "    </tr>\n",
       "    <tr>\n",
       "      <th>2</th>\n",
       "      <td>2003</td>\n",
       "      <td>3.0</td>\n",
       "      <td>1025.0</td>\n",
       "      <td>22.0</td>\n",
       "      <td>NaN</td>\n",
       "      <td>21.0</td>\n",
       "      <td>NaN</td>\n",
       "      <td>NaN</td>\n",
       "      <td>NaN</td>\n",
       "      <td>NaN</td>\n",
       "      <td>NaN</td>\n",
       "      <td>NaN</td>\n",
       "    </tr>\n",
       "    <tr>\n",
       "      <th>3</th>\n",
       "      <td>2003</td>\n",
       "      <td>3.0</td>\n",
       "      <td>1026.0</td>\n",
       "      <td>18.0</td>\n",
       "      <td>NaN</td>\n",
       "      <td>22.0</td>\n",
       "      <td>53.0</td>\n",
       "      <td>NaN</td>\n",
       "      <td>NaN</td>\n",
       "      <td>NaN</td>\n",
       "      <td>NaN</td>\n",
       "      <td>NaN</td>\n",
       "    </tr>\n",
       "    <tr>\n",
       "      <th>4</th>\n",
       "      <td>2003</td>\n",
       "      <td>3.0</td>\n",
       "      <td>1028.0</td>\n",
       "      <td>36.0</td>\n",
       "      <td>NaN</td>\n",
       "      <td>15.0</td>\n",
       "      <td>NaN</td>\n",
       "      <td>NaN</td>\n",
       "      <td>NaN</td>\n",
       "      <td>NaN</td>\n",
       "      <td>NaN</td>\n",
       "      <td>NaN</td>\n",
       "    </tr>\n",
       "  </tbody>\n",
       "</table>\n",
       "</div>"
      ],
      "text/plain": [
       "   year  month  station     Tx  Tax    nr    S1  Dts  s00  s01  s10  s50\n",
       "0  2003    3.0   1001.0    1.0  NaN  13.0   NaN  NaN  NaN  NaN  NaN  NaN\n",
       "1  2003    3.0   1008.0  142.0  NaN   7.0   NaN  NaN  NaN  NaN  NaN  NaN\n",
       "2  2003    3.0   1025.0   22.0  NaN  21.0   NaN  NaN  NaN  NaN  NaN  NaN\n",
       "3  2003    3.0   1026.0   18.0  NaN  22.0  53.0  NaN  NaN  NaN  NaN  NaN\n",
       "4  2003    3.0   1028.0   36.0  NaN  15.0   NaN  NaN  NaN  NaN  NaN  NaN"
      ]
     },
     "execution_count": 31,
     "metadata": {},
     "output_type": "execute_result"
    }
   ],
   "source": [
    "small.head()"
   ]
  },
  {
   "cell_type": "code",
   "execution_count": 32,
   "metadata": {},
   "outputs": [],
   "source": [
    "stations = stations.rename(columns={\"WMO-Station ID\": \"station\"})"
   ]
  },
  {
   "cell_type": "code",
   "execution_count": 33,
   "metadata": {},
   "outputs": [
    {
     "data": {
      "text/html": [
       "<div>\n",
       "<style scoped>\n",
       "    .dataframe tbody tr th:only-of-type {\n",
       "        vertical-align: middle;\n",
       "    }\n",
       "\n",
       "    .dataframe tbody tr th {\n",
       "        vertical-align: top;\n",
       "    }\n",
       "\n",
       "    .dataframe thead th {\n",
       "        text-align: right;\n",
       "    }\n",
       "</style>\n",
       "<table border=\"1\" class=\"dataframe\">\n",
       "  <thead>\n",
       "    <tr style=\"text-align: right;\">\n",
       "      <th></th>\n",
       "      <th>station</th>\n",
       "      <th>StationName</th>\n",
       "      <th>Latitude</th>\n",
       "      <th>Longitude</th>\n",
       "      <th>Height</th>\n",
       "      <th>Country</th>\n",
       "    </tr>\n",
       "  </thead>\n",
       "  <tbody>\n",
       "    <tr>\n",
       "      <th>0</th>\n",
       "      <td>01001</td>\n",
       "      <td>Jan Mayen</td>\n",
       "      <td>70.94</td>\n",
       "      <td>-08.67</td>\n",
       "      <td>9</td>\n",
       "      <td>Norway</td>\n",
       "    </tr>\n",
       "    <tr>\n",
       "      <th>1</th>\n",
       "      <td>01005</td>\n",
       "      <td>Isfjord Radio</td>\n",
       "      <td>78.06</td>\n",
       "      <td>13.63</td>\n",
       "      <td>9</td>\n",
       "      <td>Norway</td>\n",
       "    </tr>\n",
       "    <tr>\n",
       "      <th>2</th>\n",
       "      <td>01007</td>\n",
       "      <td>Ny-Alesund</td>\n",
       "      <td>78.92</td>\n",
       "      <td>11.93</td>\n",
       "      <td>8</td>\n",
       "      <td>Norway</td>\n",
       "    </tr>\n",
       "    <tr>\n",
       "      <th>3</th>\n",
       "      <td>01008</td>\n",
       "      <td>Svalbard</td>\n",
       "      <td>78.25</td>\n",
       "      <td>15.50</td>\n",
       "      <td>27</td>\n",
       "      <td>Norway</td>\n",
       "    </tr>\n",
       "    <tr>\n",
       "      <th>4</th>\n",
       "      <td>01025</td>\n",
       "      <td>Tromso</td>\n",
       "      <td>69.68</td>\n",
       "      <td>18.91</td>\n",
       "      <td>9</td>\n",
       "      <td>Norway</td>\n",
       "    </tr>\n",
       "  </tbody>\n",
       "</table>\n",
       "</div>"
      ],
      "text/plain": [
       "  station              StationName  \\\n",
       "0   01001                Jan Mayen   \n",
       "1   01005            Isfjord Radio   \n",
       "2   01007               Ny-Alesund   \n",
       "3   01008                 Svalbard   \n",
       "4   01025                   Tromso   \n",
       "\n",
       "                                        Latitude   Longitude   Height  \\\n",
       "0                                          70.94      -08.67        9   \n",
       "1                                          78.06       13.63        9   \n",
       "2                                          78.92       11.93        8   \n",
       "3                                          78.25       15.50       27   \n",
       "4                                          69.68       18.91        9   \n",
       "\n",
       "                                            Country  \n",
       "0   Norway                                           \n",
       "1   Norway                                           \n",
       "2   Norway                                           \n",
       "3   Norway                                           \n",
       "4   Norway                                           "
      ]
     },
     "execution_count": 33,
     "metadata": {},
     "output_type": "execute_result"
    }
   ],
   "source": [
    "stations.head()"
   ]
  },
  {
   "cell_type": "code",
   "execution_count": 34,
   "metadata": {},
   "outputs": [
    {
     "data": {
      "text/plain": [
       "4683"
      ]
     },
     "execution_count": 34,
     "metadata": {},
     "output_type": "execute_result"
    }
   ],
   "source": [
    "len(stations)"
   ]
  },
  {
   "cell_type": "code",
   "execution_count": 40,
   "metadata": {},
   "outputs": [
    {
     "data": {
      "text/plain": [
       "21.981220657276996"
      ]
     },
     "execution_count": 40,
     "metadata": {},
     "output_type": "execute_result"
    }
   ],
   "source": [
    "# stations.groupby(' Country                  ').size().mean()\n",
    "stations.groupby(' Country').size().mean() # note the whitespace (changed a bit from last version)"
   ]
  },
  {
   "cell_type": "markdown",
   "metadata": {},
   "source": [
    "A simple join - `small.join(stations)` would yield:\n",
    "    \n",
    "> ValueError: columns overlap but no suffix specified: Index(['station'], dtype='object')\n",
    "    \n",
    "https://stackoverflow.com/questions/26645515/pandas-join-issue-columns-overlap-but-no-suffix-specified\n",
    "    \n",
    "This happens, because the one or both sets contains values, that are not within the other set."
   ]
  },
  {
   "cell_type": "code",
   "execution_count": 50,
   "metadata": {},
   "outputs": [],
   "source": [
    "stations = stations[:-1]"
   ]
  },
  {
   "cell_type": "code",
   "execution_count": 52,
   "metadata": {},
   "outputs": [],
   "source": [
    "stations[\"station\"] = stations[\"station\"].astype(float)"
   ]
  },
  {
   "cell_type": "code",
   "execution_count": 53,
   "metadata": {},
   "outputs": [],
   "source": [
    "merged = small.merge(stations, on='station', how='left')"
   ]
  },
  {
   "cell_type": "code",
   "execution_count": 54,
   "metadata": {},
   "outputs": [
    {
     "data": {
      "text/plain": [
       "(1964, 17)"
      ]
     },
     "execution_count": 54,
     "metadata": {},
     "output_type": "execute_result"
    }
   ],
   "source": [
    "merged.shape"
   ]
  },
  {
   "cell_type": "markdown",
   "metadata": {},
   "source": [
    "Some columes can be reformated, e.g. temperatures."
   ]
  },
  {
   "cell_type": "code",
   "execution_count": 55,
   "metadata": {},
   "outputs": [],
   "source": [
    "merged[\"Tx\"] /= 10"
   ]
  },
  {
   "cell_type": "code",
   "execution_count": 56,
   "metadata": {},
   "outputs": [],
   "source": [
    "merged[\"Tax\"] /= 10"
   ]
  },
  {
   "cell_type": "code",
   "execution_count": 57,
   "metadata": {},
   "outputs": [
    {
     "data": {
      "text/plain": [
       "count    1883.000000\n",
       "mean       18.933988\n",
       "std        10.944482\n",
       "min         0.000000\n",
       "25%         9.900000\n",
       "50%        18.200000\n",
       "75%        29.300000\n",
       "max        99.000000\n",
       "Name: Tx, dtype: float64"
      ]
     },
     "execution_count": 57,
     "metadata": {},
     "output_type": "execute_result"
    }
   ],
   "source": [
    "merged.Tx.describe()"
   ]
  },
  {
   "cell_type": "markdown",
   "metadata": {},
   "source": [
    "There seems to be an outlier: 99°C seems too hot."
   ]
  },
  {
   "cell_type": "code",
   "execution_count": 58,
   "metadata": {},
   "outputs": [
    {
     "data": {
      "text/html": [
       "<div>\n",
       "<style scoped>\n",
       "    .dataframe tbody tr th:only-of-type {\n",
       "        vertical-align: middle;\n",
       "    }\n",
       "\n",
       "    .dataframe tbody tr th {\n",
       "        vertical-align: top;\n",
       "    }\n",
       "\n",
       "    .dataframe thead th {\n",
       "        text-align: right;\n",
       "    }\n",
       "</style>\n",
       "<table border=\"1\" class=\"dataframe\">\n",
       "  <thead>\n",
       "    <tr style=\"text-align: right;\">\n",
       "      <th></th>\n",
       "      <th>year</th>\n",
       "      <th>month</th>\n",
       "      <th>station</th>\n",
       "      <th>Tx</th>\n",
       "      <th>Tax</th>\n",
       "      <th>nr</th>\n",
       "      <th>S1</th>\n",
       "      <th>Dts</th>\n",
       "      <th>s00</th>\n",
       "      <th>s01</th>\n",
       "      <th>s10</th>\n",
       "      <th>s50</th>\n",
       "      <th>StationName</th>\n",
       "      <th>Latitude</th>\n",
       "      <th>Longitude</th>\n",
       "      <th>Height</th>\n",
       "      <th>Country</th>\n",
       "    </tr>\n",
       "  </thead>\n",
       "  <tbody>\n",
       "    <tr>\n",
       "      <th>324</th>\n",
       "      <td>2003</td>\n",
       "      <td>3.0</td>\n",
       "      <td>10836.0</td>\n",
       "      <td>99.0</td>\n",
       "      <td>17.4</td>\n",
       "      <td>5.0</td>\n",
       "      <td>195.0</td>\n",
       "      <td>1.0</td>\n",
       "      <td>6.0</td>\n",
       "      <td>6.0</td>\n",
       "      <td>3.0</td>\n",
       "      <td>0.0</td>\n",
       "      <td>Stoetten</td>\n",
       "      <td>48.67</td>\n",
       "      <td>09.86</td>\n",
       "      <td>739</td>\n",
       "      <td>Germany</td>\n",
       "    </tr>\n",
       "  </tbody>\n",
       "</table>\n",
       "</div>"
      ],
      "text/plain": [
       "     year  month  station    Tx   Tax   nr     S1  Dts  s00  s01  s10  s50  \\\n",
       "324  2003    3.0  10836.0  99.0  17.4  5.0  195.0  1.0  6.0  6.0  3.0  0.0   \n",
       "\n",
       "            StationName                                     Latitude  \\\n",
       "324            Stoetten                                        48.67   \n",
       "\n",
       "      Longitude   Height                                           Country  \n",
       "324       09.86      739   Germany                                          "
      ]
     },
     "execution_count": 58,
     "metadata": {},
     "output_type": "execute_result"
    }
   ],
   "source": [
    "merged[merged.Tx > 50]"
   ]
  },
  {
   "cell_type": "markdown",
   "metadata": {},
   "source": [
    "Let's get rid of this column using a basic outlier detection technique.\n",
    "\n",
    "* https://docs.oracle.com/cd/E40248_01/epm.1112/cb_statistical/frameset.htm?ch07s02s10s01.html\n",
    "* https://stackoverflow.com/questions/23199796/detect-and-exclude-outliers-in-pandas-dataframe\n",
    "\n",
    "Options:\n",
    "\n",
    "* Mean and Standard Deviation Method\n",
    "* Median and Median Absolute Deviation Method (MAD)\n",
    "* Median and Interquartile Deviation Method (IQD)"
   ]
  },
  {
   "cell_type": "code",
   "execution_count": 59,
   "metadata": {},
   "outputs": [
    {
     "data": {
      "text/plain": [
       "(18.933988316516196, 10.944481787071332)"
      ]
     },
     "execution_count": 59,
     "metadata": {},
     "output_type": "execute_result"
    }
   ],
   "source": [
    "merged.Tx.mean(), merged.Tx.std()"
   ]
  },
  {
   "cell_type": "markdown",
   "metadata": {},
   "source": [
    "> For this outlier detection method, the mean and standard deviation of the residuals are calculated and compared. If a value is a certain number of standard deviations away from the mean, that data point is identified as an outlier. The specified number of standard deviations is called the threshold. The default value is 3.\n",
    "\n",
    "So start with 3 standard deviations from the mean."
   ]
  },
  {
   "cell_type": "code",
   "execution_count": 60,
   "metadata": {},
   "outputs": [
    {
     "data": {
      "text/plain": [
       "(1964, 17)"
      ]
     },
     "execution_count": 60,
     "metadata": {},
     "output_type": "execute_result"
    }
   ],
   "source": [
    "merged.shape"
   ]
  },
  {
   "cell_type": "code",
   "execution_count": 61,
   "metadata": {},
   "outputs": [
    {
     "data": {
      "text/html": [
       "<div>\n",
       "<style scoped>\n",
       "    .dataframe tbody tr th:only-of-type {\n",
       "        vertical-align: middle;\n",
       "    }\n",
       "\n",
       "    .dataframe tbody tr th {\n",
       "        vertical-align: top;\n",
       "    }\n",
       "\n",
       "    .dataframe thead th {\n",
       "        text-align: right;\n",
       "    }\n",
       "</style>\n",
       "<table border=\"1\" class=\"dataframe\">\n",
       "  <thead>\n",
       "    <tr style=\"text-align: right;\">\n",
       "      <th></th>\n",
       "      <th>year</th>\n",
       "      <th>month</th>\n",
       "      <th>station</th>\n",
       "      <th>Tx</th>\n",
       "      <th>Tax</th>\n",
       "      <th>nr</th>\n",
       "      <th>S1</th>\n",
       "      <th>Dts</th>\n",
       "      <th>s00</th>\n",
       "      <th>s01</th>\n",
       "      <th>s10</th>\n",
       "      <th>s50</th>\n",
       "      <th>StationName</th>\n",
       "      <th>Latitude</th>\n",
       "      <th>Longitude</th>\n",
       "      <th>Height</th>\n",
       "      <th>Country</th>\n",
       "    </tr>\n",
       "  </thead>\n",
       "  <tbody>\n",
       "    <tr>\n",
       "      <th>0</th>\n",
       "      <td>2003</td>\n",
       "      <td>3.0</td>\n",
       "      <td>1001.0</td>\n",
       "      <td>0.1</td>\n",
       "      <td>NaN</td>\n",
       "      <td>13.0</td>\n",
       "      <td>NaN</td>\n",
       "      <td>NaN</td>\n",
       "      <td>NaN</td>\n",
       "      <td>NaN</td>\n",
       "      <td>NaN</td>\n",
       "      <td>NaN</td>\n",
       "      <td>Jan Mayen</td>\n",
       "      <td>70.94</td>\n",
       "      <td>-08.67</td>\n",
       "      <td>9</td>\n",
       "      <td>Norway</td>\n",
       "    </tr>\n",
       "    <tr>\n",
       "      <th>1</th>\n",
       "      <td>2003</td>\n",
       "      <td>3.0</td>\n",
       "      <td>1008.0</td>\n",
       "      <td>14.2</td>\n",
       "      <td>NaN</td>\n",
       "      <td>7.0</td>\n",
       "      <td>NaN</td>\n",
       "      <td>NaN</td>\n",
       "      <td>NaN</td>\n",
       "      <td>NaN</td>\n",
       "      <td>NaN</td>\n",
       "      <td>NaN</td>\n",
       "      <td>Svalbard</td>\n",
       "      <td>78.25</td>\n",
       "      <td>15.50</td>\n",
       "      <td>27</td>\n",
       "      <td>Norway</td>\n",
       "    </tr>\n",
       "    <tr>\n",
       "      <th>2</th>\n",
       "      <td>2003</td>\n",
       "      <td>3.0</td>\n",
       "      <td>1025.0</td>\n",
       "      <td>2.2</td>\n",
       "      <td>NaN</td>\n",
       "      <td>21.0</td>\n",
       "      <td>NaN</td>\n",
       "      <td>NaN</td>\n",
       "      <td>NaN</td>\n",
       "      <td>NaN</td>\n",
       "      <td>NaN</td>\n",
       "      <td>NaN</td>\n",
       "      <td>Tromso</td>\n",
       "      <td>69.68</td>\n",
       "      <td>18.91</td>\n",
       "      <td>9</td>\n",
       "      <td>Norway</td>\n",
       "    </tr>\n",
       "    <tr>\n",
       "      <th>3</th>\n",
       "      <td>2003</td>\n",
       "      <td>3.0</td>\n",
       "      <td>1026.0</td>\n",
       "      <td>1.8</td>\n",
       "      <td>NaN</td>\n",
       "      <td>22.0</td>\n",
       "      <td>53.0</td>\n",
       "      <td>NaN</td>\n",
       "      <td>NaN</td>\n",
       "      <td>NaN</td>\n",
       "      <td>NaN</td>\n",
       "      <td>NaN</td>\n",
       "      <td>Tromso</td>\n",
       "      <td>69.65</td>\n",
       "      <td>18.94</td>\n",
       "      <td>114</td>\n",
       "      <td>Norway</td>\n",
       "    </tr>\n",
       "    <tr>\n",
       "      <th>4</th>\n",
       "      <td>2003</td>\n",
       "      <td>3.0</td>\n",
       "      <td>1028.0</td>\n",
       "      <td>3.6</td>\n",
       "      <td>NaN</td>\n",
       "      <td>15.0</td>\n",
       "      <td>NaN</td>\n",
       "      <td>NaN</td>\n",
       "      <td>NaN</td>\n",
       "      <td>NaN</td>\n",
       "      <td>NaN</td>\n",
       "      <td>NaN</td>\n",
       "      <td>Bjornoya</td>\n",
       "      <td>74.50</td>\n",
       "      <td>19.00</td>\n",
       "      <td>16</td>\n",
       "      <td>Norway</td>\n",
       "    </tr>\n",
       "    <tr>\n",
       "      <th>...</th>\n",
       "      <td>...</td>\n",
       "      <td>...</td>\n",
       "      <td>...</td>\n",
       "      <td>...</td>\n",
       "      <td>...</td>\n",
       "      <td>...</td>\n",
       "      <td>...</td>\n",
       "      <td>...</td>\n",
       "      <td>...</td>\n",
       "      <td>...</td>\n",
       "      <td>...</td>\n",
       "      <td>...</td>\n",
       "      <td>...</td>\n",
       "      <td>...</td>\n",
       "      <td>...</td>\n",
       "      <td>...</td>\n",
       "      <td>...</td>\n",
       "    </tr>\n",
       "    <tr>\n",
       "      <th>1947</th>\n",
       "      <td>2003</td>\n",
       "      <td>3.0</td>\n",
       "      <td>96749.0</td>\n",
       "      <td>31.6</td>\n",
       "      <td>33.3</td>\n",
       "      <td>9.0</td>\n",
       "      <td>NaN</td>\n",
       "      <td>9.0</td>\n",
       "      <td>NaN</td>\n",
       "      <td>NaN</td>\n",
       "      <td>NaN</td>\n",
       "      <td>NaN</td>\n",
       "      <td>Jakarta Airport/Java</td>\n",
       "      <td>-06.12</td>\n",
       "      <td>106.65</td>\n",
       "      <td>8</td>\n",
       "      <td>Indonesia</td>\n",
       "    </tr>\n",
       "    <tr>\n",
       "      <th>1948</th>\n",
       "      <td>2003</td>\n",
       "      <td>3.0</td>\n",
       "      <td>96839.0</td>\n",
       "      <td>31.8</td>\n",
       "      <td>34.3</td>\n",
       "      <td>11.0</td>\n",
       "      <td>205.0</td>\n",
       "      <td>20.0</td>\n",
       "      <td>0.0</td>\n",
       "      <td>0.0</td>\n",
       "      <td>0.0</td>\n",
       "      <td>0.0</td>\n",
       "      <td>Semarang Airport/Java</td>\n",
       "      <td>-06.98</td>\n",
       "      <td>110.38</td>\n",
       "      <td>3</td>\n",
       "      <td>Indonesia</td>\n",
       "    </tr>\n",
       "    <tr>\n",
       "      <th>1949</th>\n",
       "      <td>2003</td>\n",
       "      <td>3.0</td>\n",
       "      <td>96995.0</td>\n",
       "      <td>28.2</td>\n",
       "      <td>29.2</td>\n",
       "      <td>19.0</td>\n",
       "      <td>NaN</td>\n",
       "      <td>NaN</td>\n",
       "      <td>NaN</td>\n",
       "      <td>NaN</td>\n",
       "      <td>NaN</td>\n",
       "      <td>NaN</td>\n",
       "      <td>Christmas Island</td>\n",
       "      <td>-10.45</td>\n",
       "      <td>105.68</td>\n",
       "      <td>262</td>\n",
       "      <td>Australia</td>\n",
       "    </tr>\n",
       "    <tr>\n",
       "      <th>1950</th>\n",
       "      <td>2003</td>\n",
       "      <td>3.0</td>\n",
       "      <td>96996.0</td>\n",
       "      <td>30.3</td>\n",
       "      <td>NaN</td>\n",
       "      <td>5.0</td>\n",
       "      <td>NaN</td>\n",
       "      <td>NaN</td>\n",
       "      <td>NaN</td>\n",
       "      <td>NaN</td>\n",
       "      <td>NaN</td>\n",
       "      <td>NaN</td>\n",
       "      <td>Kokos Inseln</td>\n",
       "      <td>-12.19</td>\n",
       "      <td>96.83</td>\n",
       "      <td>4</td>\n",
       "      <td>Australia</td>\n",
       "    </tr>\n",
       "    <tr>\n",
       "      <th>1951</th>\n",
       "      <td>2003</td>\n",
       "      <td>3.0</td>\n",
       "      <td>97900.0</td>\n",
       "      <td>23.5</td>\n",
       "      <td>34.0</td>\n",
       "      <td>15.0</td>\n",
       "      <td>197.0</td>\n",
       "      <td>2.0</td>\n",
       "      <td>NaN</td>\n",
       "      <td>NaN</td>\n",
       "      <td>NaN</td>\n",
       "      <td>NaN</td>\n",
       "      <td>Saumlaki/Molukken</td>\n",
       "      <td>-07.98</td>\n",
       "      <td>131.30</td>\n",
       "      <td>24</td>\n",
       "      <td>Indonesia</td>\n",
       "    </tr>\n",
       "  </tbody>\n",
       "</table>\n",
       "<p>1882 rows × 17 columns</p>\n",
       "</div>"
      ],
      "text/plain": [
       "      year  month  station    Tx   Tax    nr     S1   Dts  s00  s01  s10  s50  \\\n",
       "0     2003    3.0   1001.0   0.1   NaN  13.0    NaN   NaN  NaN  NaN  NaN  NaN   \n",
       "1     2003    3.0   1008.0  14.2   NaN   7.0    NaN   NaN  NaN  NaN  NaN  NaN   \n",
       "2     2003    3.0   1025.0   2.2   NaN  21.0    NaN   NaN  NaN  NaN  NaN  NaN   \n",
       "3     2003    3.0   1026.0   1.8   NaN  22.0   53.0   NaN  NaN  NaN  NaN  NaN   \n",
       "4     2003    3.0   1028.0   3.6   NaN  15.0    NaN   NaN  NaN  NaN  NaN  NaN   \n",
       "...    ...    ...      ...   ...   ...   ...    ...   ...  ...  ...  ...  ...   \n",
       "1947  2003    3.0  96749.0  31.6  33.3   9.0    NaN   9.0  NaN  NaN  NaN  NaN   \n",
       "1948  2003    3.0  96839.0  31.8  34.3  11.0  205.0  20.0  0.0  0.0  0.0  0.0   \n",
       "1949  2003    3.0  96995.0  28.2  29.2  19.0    NaN   NaN  NaN  NaN  NaN  NaN   \n",
       "1950  2003    3.0  96996.0  30.3   NaN   5.0    NaN   NaN  NaN  NaN  NaN  NaN   \n",
       "1951  2003    3.0  97900.0  23.5  34.0  15.0  197.0   2.0  NaN  NaN  NaN  NaN   \n",
       "\n",
       "                          StationName  \\\n",
       "0                           Jan Mayen   \n",
       "1                            Svalbard   \n",
       "2                              Tromso   \n",
       "3                              Tromso   \n",
       "4                            Bjornoya   \n",
       "...                               ...   \n",
       "1947             Jakarta Airport/Java   \n",
       "1948            Semarang Airport/Java   \n",
       "1949                 Christmas Island   \n",
       "1950                     Kokos Inseln   \n",
       "1951                Saumlaki/Molukken   \n",
       "\n",
       "                                           Latitude   Longitude   Height  \\\n",
       "0                                             70.94      -08.67        9   \n",
       "1                                             78.25       15.50       27   \n",
       "2                                             69.68       18.91        9   \n",
       "3                                             69.65       18.94      114   \n",
       "4                                             74.50       19.00       16   \n",
       "...                                             ...         ...      ...   \n",
       "1947                                         -06.12      106.65        8   \n",
       "1948                                         -06.98      110.38        3   \n",
       "1949                                         -10.45      105.68      262   \n",
       "1950                                         -12.19       96.83        4   \n",
       "1951                                         -07.98      131.30       24   \n",
       "\n",
       "                                               Country  \n",
       "0      Norway                                           \n",
       "1      Norway                                           \n",
       "2      Norway                                           \n",
       "3      Norway                                           \n",
       "4      Norway                                           \n",
       "...                                                ...  \n",
       "1947   Indonesia                                        \n",
       "1948   Indonesia                                        \n",
       "1949   Australia                                        \n",
       "1950   Australia                                        \n",
       "1951   Indonesia                                        \n",
       "\n",
       "[1882 rows x 17 columns]"
      ]
     },
     "execution_count": 61,
     "metadata": {},
     "output_type": "execute_result"
    }
   ],
   "source": [
    "merged[np.abs(merged.Tx - merged.Tx.mean()) <= (3 * merged.Tx.std())]"
   ]
  },
  {
   "cell_type": "code",
   "execution_count": 62,
   "metadata": {},
   "outputs": [
    {
     "data": {
      "text/plain": [
       "(1882, 17)"
      ]
     },
     "execution_count": 62,
     "metadata": {},
     "output_type": "execute_result"
    }
   ],
   "source": [
    "merged[np.abs(merged.Tx - merged.Tx.mean()) <= (3 * merged.Tx.std())].shape"
   ]
  },
  {
   "cell_type": "markdown",
   "metadata": {},
   "source": [
    "Or we can just inspect the outliers, by inverting the criteria."
   ]
  },
  {
   "cell_type": "code",
   "execution_count": 63,
   "metadata": {},
   "outputs": [
    {
     "data": {
      "text/plain": [
       "(82, 17)"
      ]
     },
     "execution_count": 63,
     "metadata": {},
     "output_type": "execute_result"
    }
   ],
   "source": [
    "merged[~(np.abs(merged.Tx - merged.Tx.mean()) <= (3 * merged.Tx.std()))].shape"
   ]
  },
  {
   "cell_type": "code",
   "execution_count": 64,
   "metadata": {},
   "outputs": [
    {
     "data": {
      "text/html": [
       "<div>\n",
       "<style scoped>\n",
       "    .dataframe tbody tr th:only-of-type {\n",
       "        vertical-align: middle;\n",
       "    }\n",
       "\n",
       "    .dataframe tbody tr th {\n",
       "        vertical-align: top;\n",
       "    }\n",
       "\n",
       "    .dataframe thead th {\n",
       "        text-align: right;\n",
       "    }\n",
       "</style>\n",
       "<table border=\"1\" class=\"dataframe\">\n",
       "  <thead>\n",
       "    <tr style=\"text-align: right;\">\n",
       "      <th></th>\n",
       "      <th>year</th>\n",
       "      <th>month</th>\n",
       "      <th>station</th>\n",
       "      <th>Tx</th>\n",
       "      <th>Tax</th>\n",
       "      <th>nr</th>\n",
       "      <th>S1</th>\n",
       "      <th>Dts</th>\n",
       "      <th>s00</th>\n",
       "      <th>s01</th>\n",
       "      <th>s10</th>\n",
       "      <th>s50</th>\n",
       "      <th>StationName</th>\n",
       "      <th>Latitude</th>\n",
       "      <th>Longitude</th>\n",
       "      <th>Height</th>\n",
       "      <th>Country</th>\n",
       "    </tr>\n",
       "  </thead>\n",
       "  <tbody>\n",
       "    <tr>\n",
       "      <th>80</th>\n",
       "      <td>2003</td>\n",
       "      <td>3.0</td>\n",
       "      <td>4210.0</td>\n",
       "      <td>NaN</td>\n",
       "      <td>NaN</td>\n",
       "      <td>NaN</td>\n",
       "      <td>NaN</td>\n",
       "      <td>NaN</td>\n",
       "      <td>NaN</td>\n",
       "      <td>NaN</td>\n",
       "      <td>NaN</td>\n",
       "      <td>NaN</td>\n",
       "      <td>Upernavik</td>\n",
       "      <td>72.79</td>\n",
       "      <td>-56.14</td>\n",
       "      <td>63</td>\n",
       "      <td>Greenland</td>\n",
       "    </tr>\n",
       "    <tr>\n",
       "      <th>81</th>\n",
       "      <td>2003</td>\n",
       "      <td>3.0</td>\n",
       "      <td>4220.0</td>\n",
       "      <td>NaN</td>\n",
       "      <td>NaN</td>\n",
       "      <td>7.0</td>\n",
       "      <td>NaN</td>\n",
       "      <td>NaN</td>\n",
       "      <td>NaN</td>\n",
       "      <td>NaN</td>\n",
       "      <td>NaN</td>\n",
       "      <td>NaN</td>\n",
       "      <td>Aasiaat (Egedesminde)</td>\n",
       "      <td>68.71</td>\n",
       "      <td>-52.85</td>\n",
       "      <td>41</td>\n",
       "      <td>Greenland</td>\n",
       "    </tr>\n",
       "    <tr>\n",
       "      <th>82</th>\n",
       "      <td>2003</td>\n",
       "      <td>3.0</td>\n",
       "      <td>4312.0</td>\n",
       "      <td>NaN</td>\n",
       "      <td>NaN</td>\n",
       "      <td>1.0</td>\n",
       "      <td>NaN</td>\n",
       "      <td>NaN</td>\n",
       "      <td>NaN</td>\n",
       "      <td>NaN</td>\n",
       "      <td>NaN</td>\n",
       "      <td>NaN</td>\n",
       "      <td>Station Nord</td>\n",
       "      <td>81.60</td>\n",
       "      <td>-16.65</td>\n",
       "      <td>36</td>\n",
       "      <td>Greenland</td>\n",
       "    </tr>\n",
       "    <tr>\n",
       "      <th>83</th>\n",
       "      <td>2003</td>\n",
       "      <td>3.0</td>\n",
       "      <td>4320.0</td>\n",
       "      <td>NaN</td>\n",
       "      <td>NaN</td>\n",
       "      <td>3.0</td>\n",
       "      <td>NaN</td>\n",
       "      <td>NaN</td>\n",
       "      <td>NaN</td>\n",
       "      <td>NaN</td>\n",
       "      <td>NaN</td>\n",
       "      <td>NaN</td>\n",
       "      <td>Danmarkshavn</td>\n",
       "      <td>76.77</td>\n",
       "      <td>-18.67</td>\n",
       "      <td>12</td>\n",
       "      <td>Greenland</td>\n",
       "    </tr>\n",
       "    <tr>\n",
       "      <th>84</th>\n",
       "      <td>2003</td>\n",
       "      <td>3.0</td>\n",
       "      <td>4339.0</td>\n",
       "      <td>NaN</td>\n",
       "      <td>NaN</td>\n",
       "      <td>9.0</td>\n",
       "      <td>NaN</td>\n",
       "      <td>NaN</td>\n",
       "      <td>NaN</td>\n",
       "      <td>NaN</td>\n",
       "      <td>NaN</td>\n",
       "      <td>NaN</td>\n",
       "      <td>Ittoqqortoormiit (Scoresbysund)</td>\n",
       "      <td>70.49</td>\n",
       "      <td>-21.95</td>\n",
       "      <td>72</td>\n",
       "      <td>Greenland</td>\n",
       "    </tr>\n",
       "  </tbody>\n",
       "</table>\n",
       "</div>"
      ],
      "text/plain": [
       "    year  month  station  Tx  Tax   nr  S1  Dts  s00  s01  s10  s50  \\\n",
       "80  2003    3.0   4210.0 NaN  NaN  NaN NaN  NaN  NaN  NaN  NaN  NaN   \n",
       "81  2003    3.0   4220.0 NaN  NaN  7.0 NaN  NaN  NaN  NaN  NaN  NaN   \n",
       "82  2003    3.0   4312.0 NaN  NaN  1.0 NaN  NaN  NaN  NaN  NaN  NaN   \n",
       "83  2003    3.0   4320.0 NaN  NaN  3.0 NaN  NaN  NaN  NaN  NaN  NaN   \n",
       "84  2003    3.0   4339.0 NaN  NaN  9.0 NaN  NaN  NaN  NaN  NaN  NaN   \n",
       "\n",
       "                                  StationName  \\\n",
       "80                                  Upernavik   \n",
       "81                      Aasiaat (Egedesminde)   \n",
       "82                               Station Nord   \n",
       "83                               Danmarkshavn   \n",
       "84            Ittoqqortoormiit (Scoresbysund)   \n",
       "\n",
       "                                      Latitude   Longitude   Height  \\\n",
       "80                                       72.79      -56.14       63   \n",
       "81                                       68.71      -52.85       41   \n",
       "82                                       81.60      -16.65       36   \n",
       "83                                       76.77      -18.67       12   \n",
       "84                                       70.49      -21.95       72   \n",
       "\n",
       "                                             Country  \n",
       "80   Greenland                                        \n",
       "81   Greenland                                        \n",
       "82   Greenland                                        \n",
       "83   Greenland                                        \n",
       "84   Greenland                                        "
      ]
     },
     "execution_count": 64,
     "metadata": {},
     "output_type": "execute_result"
    }
   ],
   "source": [
    "merged[~(np.abs(merged.Tx - merged.Tx.mean()) <= (3 * merged.Tx.std()))].head()"
   ]
  },
  {
   "cell_type": "markdown",
   "metadata": {},
   "source": [
    "Ok, this contains all NaN as well. Filter those for the moment."
   ]
  },
  {
   "cell_type": "code",
   "execution_count": 65,
   "metadata": {},
   "outputs": [],
   "source": [
    "withtx = merged[~merged.Tx.isnull()]"
   ]
  },
  {
   "cell_type": "code",
   "execution_count": 66,
   "metadata": {},
   "outputs": [
    {
     "data": {
      "text/html": [
       "<div>\n",
       "<style scoped>\n",
       "    .dataframe tbody tr th:only-of-type {\n",
       "        vertical-align: middle;\n",
       "    }\n",
       "\n",
       "    .dataframe tbody tr th {\n",
       "        vertical-align: top;\n",
       "    }\n",
       "\n",
       "    .dataframe thead th {\n",
       "        text-align: right;\n",
       "    }\n",
       "</style>\n",
       "<table border=\"1\" class=\"dataframe\">\n",
       "  <thead>\n",
       "    <tr style=\"text-align: right;\">\n",
       "      <th></th>\n",
       "      <th>year</th>\n",
       "      <th>month</th>\n",
       "      <th>station</th>\n",
       "      <th>Tx</th>\n",
       "      <th>Tax</th>\n",
       "      <th>nr</th>\n",
       "      <th>S1</th>\n",
       "      <th>Dts</th>\n",
       "      <th>s00</th>\n",
       "      <th>s01</th>\n",
       "      <th>s10</th>\n",
       "      <th>s50</th>\n",
       "      <th>StationName</th>\n",
       "      <th>Latitude</th>\n",
       "      <th>Longitude</th>\n",
       "      <th>Height</th>\n",
       "      <th>Country</th>\n",
       "    </tr>\n",
       "  </thead>\n",
       "  <tbody>\n",
       "    <tr>\n",
       "      <th>324</th>\n",
       "      <td>2003</td>\n",
       "      <td>3.0</td>\n",
       "      <td>10836.0</td>\n",
       "      <td>99.0</td>\n",
       "      <td>17.4</td>\n",
       "      <td>5.0</td>\n",
       "      <td>195.0</td>\n",
       "      <td>1.0</td>\n",
       "      <td>6.0</td>\n",
       "      <td>6.0</td>\n",
       "      <td>3.0</td>\n",
       "      <td>0.0</td>\n",
       "      <td>Stoetten</td>\n",
       "      <td>48.67</td>\n",
       "      <td>09.86</td>\n",
       "      <td>739</td>\n",
       "      <td>Germany</td>\n",
       "    </tr>\n",
       "  </tbody>\n",
       "</table>\n",
       "</div>"
      ],
      "text/plain": [
       "     year  month  station    Tx   Tax   nr     S1  Dts  s00  s01  s10  s50  \\\n",
       "324  2003    3.0  10836.0  99.0  17.4  5.0  195.0  1.0  6.0  6.0  3.0  0.0   \n",
       "\n",
       "            StationName                                     Latitude  \\\n",
       "324            Stoetten                                        48.67   \n",
       "\n",
       "      Longitude   Height                                           Country  \n",
       "324       09.86      739   Germany                                          "
      ]
     },
     "execution_count": 66,
     "metadata": {},
     "output_type": "execute_result"
    }
   ],
   "source": [
    "withtx[~(np.abs(withtx.Tx - withtx.Tx.mean()) <= (3 * withtx.Tx.std()))]"
   ]
  },
  {
   "cell_type": "markdown",
   "metadata": {},
   "source": [
    "Sure enough, this measurement error."
   ]
  },
  {
   "cell_type": "code",
   "execution_count": 67,
   "metadata": {},
   "outputs": [],
   "source": [
    "cleantx = withtx[(np.abs(withtx.Tx - withtx.Tx.mean()) <= (3 * withtx.Tx.std()))]"
   ]
  },
  {
   "cell_type": "markdown",
   "metadata": {},
   "source": [
    "We can show the coldest and hottest places in March 2003."
   ]
  },
  {
   "cell_type": "code",
   "execution_count": 68,
   "metadata": {},
   "outputs": [
    {
     "data": {
      "text/html": [
       "<div>\n",
       "<style scoped>\n",
       "    .dataframe tbody tr th:only-of-type {\n",
       "        vertical-align: middle;\n",
       "    }\n",
       "\n",
       "    .dataframe tbody tr th {\n",
       "        vertical-align: top;\n",
       "    }\n",
       "\n",
       "    .dataframe thead th {\n",
       "        text-align: right;\n",
       "    }\n",
       "</style>\n",
       "<table border=\"1\" class=\"dataframe\">\n",
       "  <thead>\n",
       "    <tr style=\"text-align: right;\">\n",
       "      <th></th>\n",
       "      <th>year</th>\n",
       "      <th>month</th>\n",
       "      <th>station</th>\n",
       "      <th>Tx</th>\n",
       "      <th>Tax</th>\n",
       "      <th>nr</th>\n",
       "      <th>S1</th>\n",
       "      <th>Dts</th>\n",
       "      <th>s00</th>\n",
       "      <th>s01</th>\n",
       "      <th>s10</th>\n",
       "      <th>s50</th>\n",
       "      <th>StationName</th>\n",
       "      <th>Latitude</th>\n",
       "      <th>Longitude</th>\n",
       "      <th>Height</th>\n",
       "      <th>Country</th>\n",
       "    </tr>\n",
       "  </thead>\n",
       "  <tbody>\n",
       "    <tr>\n",
       "      <th>1014</th>\n",
       "      <td>2003</td>\n",
       "      <td>3.0</td>\n",
       "      <td>61240.0</td>\n",
       "      <td>41.6</td>\n",
       "      <td>41.6</td>\n",
       "      <td>NaN</td>\n",
       "      <td>265.0</td>\n",
       "      <td>2.0</td>\n",
       "      <td>NaN</td>\n",
       "      <td>NaN</td>\n",
       "      <td>NaN</td>\n",
       "      <td>NaN</td>\n",
       "      <td>Hombori</td>\n",
       "      <td>15.29</td>\n",
       "      <td>-01.70</td>\n",
       "      <td>288</td>\n",
       "      <td>Mali</td>\n",
       "    </tr>\n",
       "  </tbody>\n",
       "</table>\n",
       "</div>"
      ],
      "text/plain": [
       "      year  month  station    Tx   Tax  nr     S1  Dts  s00  s01  s10  s50  \\\n",
       "1014  2003    3.0  61240.0  41.6  41.6 NaN  265.0  2.0  NaN  NaN  NaN  NaN   \n",
       "\n",
       "            StationName                                      Latitude  \\\n",
       "1014            Hombori                                         15.29   \n",
       "\n",
       "       Longitude   Height                                           Country  \n",
       "1014      -01.70      288   Mali                                             "
      ]
     },
     "execution_count": 68,
     "metadata": {},
     "output_type": "execute_result"
    }
   ],
   "source": [
    "cleantx[cleantx.Tx == cleantx.Tx.max()]"
   ]
  },
  {
   "cell_type": "code",
   "execution_count": 69,
   "metadata": {},
   "outputs": [
    {
     "data": {
      "text/html": [
       "<div>\n",
       "<style scoped>\n",
       "    .dataframe tbody tr th:only-of-type {\n",
       "        vertical-align: middle;\n",
       "    }\n",
       "\n",
       "    .dataframe tbody tr th {\n",
       "        vertical-align: top;\n",
       "    }\n",
       "\n",
       "    .dataframe thead th {\n",
       "        text-align: right;\n",
       "    }\n",
       "</style>\n",
       "<table border=\"1\" class=\"dataframe\">\n",
       "  <thead>\n",
       "    <tr style=\"text-align: right;\">\n",
       "      <th></th>\n",
       "      <th>year</th>\n",
       "      <th>month</th>\n",
       "      <th>station</th>\n",
       "      <th>Tx</th>\n",
       "      <th>Tax</th>\n",
       "      <th>nr</th>\n",
       "      <th>S1</th>\n",
       "      <th>Dts</th>\n",
       "      <th>s00</th>\n",
       "      <th>s01</th>\n",
       "      <th>s10</th>\n",
       "      <th>s50</th>\n",
       "      <th>StationName</th>\n",
       "      <th>Latitude</th>\n",
       "      <th>Longitude</th>\n",
       "      <th>Height</th>\n",
       "      <th>Country</th>\n",
       "    </tr>\n",
       "  </thead>\n",
       "  <tbody>\n",
       "    <tr>\n",
       "      <th>562</th>\n",
       "      <td>2003</td>\n",
       "      <td>3.0</td>\n",
       "      <td>32150.0</td>\n",
       "      <td>0.0</td>\n",
       "      <td>NaN</td>\n",
       "      <td>3.0</td>\n",
       "      <td>221.0</td>\n",
       "      <td>NaN</td>\n",
       "      <td>NaN</td>\n",
       "      <td>NaN</td>\n",
       "      <td>NaN</td>\n",
       "      <td>NaN</td>\n",
       "      <td>Juzhno-Sahalinsk</td>\n",
       "      <td>46.95</td>\n",
       "      <td>142.71</td>\n",
       "      <td>24</td>\n",
       "      <td>Russian Federation</td>\n",
       "    </tr>\n",
       "  </tbody>\n",
       "</table>\n",
       "</div>"
      ],
      "text/plain": [
       "     year  month  station   Tx  Tax   nr     S1  Dts  s00  s01  s10  s50  \\\n",
       "562  2003    3.0  32150.0  0.0  NaN  3.0  221.0  NaN  NaN  NaN  NaN  NaN   \n",
       "\n",
       "                    StationName                                 Latitude  \\\n",
       "562            Juzhno-Sahalinsk                                    46.95   \n",
       "\n",
       "      Longitude   Height                                           Country  \n",
       "562      142.71       24   Russian Federation                               "
      ]
     },
     "execution_count": 69,
     "metadata": {},
     "output_type": "execute_result"
    }
   ],
   "source": [
    "cleantx[cleantx.Tx == cleantx.Tx.min()]"
   ]
  },
  {
   "cell_type": "markdown",
   "metadata": {},
   "source": [
    "We can combine the above, show coldest and hottest as one liner."
   ]
  },
  {
   "cell_type": "code",
   "execution_count": 70,
   "metadata": {},
   "outputs": [
    {
     "data": {
      "text/html": [
       "<div>\n",
       "<style scoped>\n",
       "    .dataframe tbody tr th:only-of-type {\n",
       "        vertical-align: middle;\n",
       "    }\n",
       "\n",
       "    .dataframe tbody tr th {\n",
       "        vertical-align: top;\n",
       "    }\n",
       "\n",
       "    .dataframe thead th {\n",
       "        text-align: right;\n",
       "    }\n",
       "</style>\n",
       "<table border=\"1\" class=\"dataframe\">\n",
       "  <thead>\n",
       "    <tr style=\"text-align: right;\">\n",
       "      <th></th>\n",
       "      <th>year</th>\n",
       "      <th>month</th>\n",
       "      <th>station</th>\n",
       "      <th>Tx</th>\n",
       "      <th>Tax</th>\n",
       "      <th>nr</th>\n",
       "      <th>S1</th>\n",
       "      <th>Dts</th>\n",
       "      <th>s00</th>\n",
       "      <th>s01</th>\n",
       "      <th>s10</th>\n",
       "      <th>s50</th>\n",
       "      <th>StationName</th>\n",
       "      <th>Latitude</th>\n",
       "      <th>Longitude</th>\n",
       "      <th>Height</th>\n",
       "      <th>Country</th>\n",
       "    </tr>\n",
       "  </thead>\n",
       "  <tbody>\n",
       "    <tr>\n",
       "      <th>562</th>\n",
       "      <td>2003</td>\n",
       "      <td>3.0</td>\n",
       "      <td>32150.0</td>\n",
       "      <td>0.0</td>\n",
       "      <td>NaN</td>\n",
       "      <td>3.0</td>\n",
       "      <td>221.0</td>\n",
       "      <td>NaN</td>\n",
       "      <td>NaN</td>\n",
       "      <td>NaN</td>\n",
       "      <td>NaN</td>\n",
       "      <td>NaN</td>\n",
       "      <td>Juzhno-Sahalinsk</td>\n",
       "      <td>46.95</td>\n",
       "      <td>142.71</td>\n",
       "      <td>24</td>\n",
       "      <td>Russian Federation</td>\n",
       "    </tr>\n",
       "    <tr>\n",
       "      <th>1014</th>\n",
       "      <td>2003</td>\n",
       "      <td>3.0</td>\n",
       "      <td>61240.0</td>\n",
       "      <td>41.6</td>\n",
       "      <td>41.6</td>\n",
       "      <td>NaN</td>\n",
       "      <td>265.0</td>\n",
       "      <td>2.0</td>\n",
       "      <td>NaN</td>\n",
       "      <td>NaN</td>\n",
       "      <td>NaN</td>\n",
       "      <td>NaN</td>\n",
       "      <td>Hombori</td>\n",
       "      <td>15.29</td>\n",
       "      <td>-01.70</td>\n",
       "      <td>288</td>\n",
       "      <td>Mali</td>\n",
       "    </tr>\n",
       "  </tbody>\n",
       "</table>\n",
       "</div>"
      ],
      "text/plain": [
       "      year  month  station    Tx   Tax   nr     S1  Dts  s00  s01  s10  s50  \\\n",
       "562   2003    3.0  32150.0   0.0   NaN  3.0  221.0  NaN  NaN  NaN  NaN  NaN   \n",
       "1014  2003    3.0  61240.0  41.6  41.6  NaN  265.0  2.0  NaN  NaN  NaN  NaN   \n",
       "\n",
       "                     StationName  \\\n",
       "562             Juzhno-Sahalinsk   \n",
       "1014                     Hombori   \n",
       "\n",
       "                                          Latitude   Longitude   Height  \\\n",
       "562                                          46.95      142.71       24   \n",
       "1014                                         15.29      -01.70      288   \n",
       "\n",
       "                                               Country  \n",
       "562    Russian Federation                               \n",
       "1014   Mali                                             "
      ]
     },
     "execution_count": 70,
     "metadata": {},
     "output_type": "execute_result"
    }
   ],
   "source": [
    "cleantx[cleantx.Tx.isin([cleantx.Tx.min(), cleantx.Tx.max()])]"
   ]
  },
  {
   "cell_type": "markdown",
   "metadata": {},
   "source": [
    "Were there places with 50cm or more snow in March? This means, that merged.s50 is a number and this number (the number of days) was greater than 0)."
   ]
  },
  {
   "cell_type": "code",
   "execution_count": 71,
   "metadata": {},
   "outputs": [
    {
     "data": {
      "text/plain": [
       "2.4439918533604885"
      ]
     },
     "execution_count": 71,
     "metadata": {},
     "output_type": "execute_result"
    }
   ],
   "source": [
    "snowy = merged[~merged.s50.isnull() & merged.s50 > 0]\n",
    "snowy.size / merged.size * 100"
   ]
  },
  {
   "cell_type": "markdown",
   "metadata": {},
   "source": [
    "2.44% of places actually had snow. Can we group by continent?"
   ]
  },
  {
   "cell_type": "code",
   "execution_count": 72,
   "metadata": {},
   "outputs": [],
   "source": [
    "# snowy.groupby('Country') # Would yield a KeyError"
   ]
  },
  {
   "cell_type": "code",
   "execution_count": 73,
   "metadata": {},
   "outputs": [
    {
     "data": {
      "text/plain": [
       "Index(['year', 'month', 'station', 'Tx', 'Tax', 'nr', 'S1', 'Dts', 's00',\n",
       "       's01', 's10', 's50', ' StationName',\n",
       "       '                                Latitude', ' Longitude', ' Height',\n",
       "       ' Country'],\n",
       "      dtype='object')"
      ]
     },
     "execution_count": 73,
     "metadata": {},
     "output_type": "execute_result"
    }
   ],
   "source": [
    "snowy.columns"
   ]
  },
  {
   "cell_type": "markdown",
   "metadata": {},
   "source": [
    "Here, we see how unclean data can even hide in places we do not expect. The column names, while printed properly, actually contain spaces, which does not allow us to index into them properly.\n",
    "\n",
    "```\n",
    "snowy.Country\n",
    "```\n",
    "\n",
    "> AttributeError: 'DataFrame' object has no attribute 'Country'"
   ]
  },
  {
   "cell_type": "code",
   "execution_count": 74,
   "metadata": {},
   "outputs": [
    {
     "data": {
      "text/plain": [
       "Index(['year', 'month', 'station', 'Tx', 'Tax', 'nr', 'S1', 'Dts', 's00',\n",
       "       's01', 's10', 's50', 'StationName', 'Latitude', 'Longitude', 'Height',\n",
       "       'Country'],\n",
       "      dtype='object')"
      ]
     },
     "execution_count": 74,
     "metadata": {},
     "output_type": "execute_result"
    }
   ],
   "source": [
    "snowy.columns = map(str.strip, snowy.columns)\n",
    "snowy.columns"
   ]
  },
  {
   "cell_type": "code",
   "execution_count": 75,
   "metadata": {},
   "outputs": [
    {
     "data": {
      "text/plain": [
       "Country\n",
       " Canada                                             11\n",
       " Finland                                            10\n",
       " Germany                                             7\n",
       " Japan                                               5\n",
       " Sweden                                              3\n",
       " Italy                                               2\n",
       " Argentina                                           1\n",
       " Bosnia and Herzegovina                              1\n",
       " China                                               1\n",
       " Czech Republic                                      1\n",
       " France                                              1\n",
       " Romania                                             1\n",
       " Slovenia                                            1\n",
       " Spain                                               1\n",
       " Turkey                                              1\n",
       "dtype: int64"
      ]
     },
     "execution_count": 75,
     "metadata": {},
     "output_type": "execute_result"
    }
   ],
   "source": [
    "snowy.groupby(snowy.Country).size().sort_values(ascending=False)"
   ]
  },
  {
   "cell_type": "markdown",
   "metadata": {},
   "source": [
    "In 2003, Canada, Finland and Germany have been the most snowy countries with 50cm or more snow for a week or more."
   ]
  },
  {
   "cell_type": "markdown",
   "metadata": {},
   "source": [
    "## Temperature plots\n",
    "\n",
    "Let revisit temperature. Can we bin the temperatures and plot a histogram?"
   ]
  },
  {
   "cell_type": "code",
   "execution_count": 76,
   "metadata": {},
   "outputs": [
    {
     "data": {
      "text/html": [
       "<div>\n",
       "<style scoped>\n",
       "    .dataframe tbody tr th:only-of-type {\n",
       "        vertical-align: middle;\n",
       "    }\n",
       "\n",
       "    .dataframe tbody tr th {\n",
       "        vertical-align: top;\n",
       "    }\n",
       "\n",
       "    .dataframe thead th {\n",
       "        text-align: right;\n",
       "    }\n",
       "</style>\n",
       "<table border=\"1\" class=\"dataframe\">\n",
       "  <thead>\n",
       "    <tr style=\"text-align: right;\">\n",
       "      <th></th>\n",
       "      <th>year</th>\n",
       "      <th>month</th>\n",
       "      <th>station</th>\n",
       "      <th>Tx</th>\n",
       "      <th>Tax</th>\n",
       "      <th>nr</th>\n",
       "      <th>S1</th>\n",
       "      <th>Dts</th>\n",
       "      <th>s00</th>\n",
       "      <th>s01</th>\n",
       "      <th>s10</th>\n",
       "      <th>s50</th>\n",
       "      <th>StationName</th>\n",
       "      <th>Latitude</th>\n",
       "      <th>Longitude</th>\n",
       "      <th>Height</th>\n",
       "      <th>Country</th>\n",
       "    </tr>\n",
       "  </thead>\n",
       "  <tbody>\n",
       "    <tr>\n",
       "      <th>0</th>\n",
       "      <td>2003</td>\n",
       "      <td>3.0</td>\n",
       "      <td>1001.0</td>\n",
       "      <td>0.1</td>\n",
       "      <td>NaN</td>\n",
       "      <td>13.0</td>\n",
       "      <td>NaN</td>\n",
       "      <td>NaN</td>\n",
       "      <td>NaN</td>\n",
       "      <td>NaN</td>\n",
       "      <td>NaN</td>\n",
       "      <td>NaN</td>\n",
       "      <td>Jan Mayen</td>\n",
       "      <td>70.94</td>\n",
       "      <td>-08.67</td>\n",
       "      <td>9</td>\n",
       "      <td>Norway</td>\n",
       "    </tr>\n",
       "    <tr>\n",
       "      <th>1</th>\n",
       "      <td>2003</td>\n",
       "      <td>3.0</td>\n",
       "      <td>1008.0</td>\n",
       "      <td>14.2</td>\n",
       "      <td>NaN</td>\n",
       "      <td>7.0</td>\n",
       "      <td>NaN</td>\n",
       "      <td>NaN</td>\n",
       "      <td>NaN</td>\n",
       "      <td>NaN</td>\n",
       "      <td>NaN</td>\n",
       "      <td>NaN</td>\n",
       "      <td>Svalbard</td>\n",
       "      <td>78.25</td>\n",
       "      <td>15.50</td>\n",
       "      <td>27</td>\n",
       "      <td>Norway</td>\n",
       "    </tr>\n",
       "    <tr>\n",
       "      <th>2</th>\n",
       "      <td>2003</td>\n",
       "      <td>3.0</td>\n",
       "      <td>1025.0</td>\n",
       "      <td>2.2</td>\n",
       "      <td>NaN</td>\n",
       "      <td>21.0</td>\n",
       "      <td>NaN</td>\n",
       "      <td>NaN</td>\n",
       "      <td>NaN</td>\n",
       "      <td>NaN</td>\n",
       "      <td>NaN</td>\n",
       "      <td>NaN</td>\n",
       "      <td>Tromso</td>\n",
       "      <td>69.68</td>\n",
       "      <td>18.91</td>\n",
       "      <td>9</td>\n",
       "      <td>Norway</td>\n",
       "    </tr>\n",
       "    <tr>\n",
       "      <th>3</th>\n",
       "      <td>2003</td>\n",
       "      <td>3.0</td>\n",
       "      <td>1026.0</td>\n",
       "      <td>1.8</td>\n",
       "      <td>NaN</td>\n",
       "      <td>22.0</td>\n",
       "      <td>53.0</td>\n",
       "      <td>NaN</td>\n",
       "      <td>NaN</td>\n",
       "      <td>NaN</td>\n",
       "      <td>NaN</td>\n",
       "      <td>NaN</td>\n",
       "      <td>Tromso</td>\n",
       "      <td>69.65</td>\n",
       "      <td>18.94</td>\n",
       "      <td>114</td>\n",
       "      <td>Norway</td>\n",
       "    </tr>\n",
       "    <tr>\n",
       "      <th>4</th>\n",
       "      <td>2003</td>\n",
       "      <td>3.0</td>\n",
       "      <td>1028.0</td>\n",
       "      <td>3.6</td>\n",
       "      <td>NaN</td>\n",
       "      <td>15.0</td>\n",
       "      <td>NaN</td>\n",
       "      <td>NaN</td>\n",
       "      <td>NaN</td>\n",
       "      <td>NaN</td>\n",
       "      <td>NaN</td>\n",
       "      <td>NaN</td>\n",
       "      <td>Bjornoya</td>\n",
       "      <td>74.50</td>\n",
       "      <td>19.00</td>\n",
       "      <td>16</td>\n",
       "      <td>Norway</td>\n",
       "    </tr>\n",
       "  </tbody>\n",
       "</table>\n",
       "</div>"
      ],
      "text/plain": [
       "   year  month  station    Tx  Tax    nr    S1  Dts  s00  s01  s10  s50  \\\n",
       "0  2003    3.0   1001.0   0.1  NaN  13.0   NaN  NaN  NaN  NaN  NaN  NaN   \n",
       "1  2003    3.0   1008.0  14.2  NaN   7.0   NaN  NaN  NaN  NaN  NaN  NaN   \n",
       "2  2003    3.0   1025.0   2.2  NaN  21.0   NaN  NaN  NaN  NaN  NaN  NaN   \n",
       "3  2003    3.0   1026.0   1.8  NaN  22.0  53.0  NaN  NaN  NaN  NaN  NaN   \n",
       "4  2003    3.0   1028.0   3.6  NaN  15.0   NaN  NaN  NaN  NaN  NaN  NaN   \n",
       "\n",
       "           StationName                                       Latitude  \\\n",
       "0            Jan Mayen                                          70.94   \n",
       "1             Svalbard                                          78.25   \n",
       "2               Tromso                                          69.68   \n",
       "3               Tromso                                          69.65   \n",
       "4             Bjornoya                                          74.50   \n",
       "\n",
       "    Longitude   Height                                           Country  \n",
       "0      -08.67        9   Norway                                           \n",
       "1       15.50       27   Norway                                           \n",
       "2       18.91        9   Norway                                           \n",
       "3       18.94      114   Norway                                           \n",
       "4       19.00       16   Norway                                           "
      ]
     },
     "execution_count": 76,
     "metadata": {},
     "output_type": "execute_result"
    }
   ],
   "source": [
    "merged.head()"
   ]
  },
  {
   "cell_type": "code",
   "execution_count": 77,
   "metadata": {},
   "outputs": [
    {
     "data": {
      "text/html": [
       "<div>\n",
       "<style scoped>\n",
       "    .dataframe tbody tr th:only-of-type {\n",
       "        vertical-align: middle;\n",
       "    }\n",
       "\n",
       "    .dataframe tbody tr th {\n",
       "        vertical-align: top;\n",
       "    }\n",
       "\n",
       "    .dataframe thead th {\n",
       "        text-align: right;\n",
       "    }\n",
       "</style>\n",
       "<table border=\"1\" class=\"dataframe\">\n",
       "  <thead>\n",
       "    <tr style=\"text-align: right;\">\n",
       "      <th></th>\n",
       "      <th>year</th>\n",
       "      <th>month</th>\n",
       "      <th>station</th>\n",
       "      <th>Tx</th>\n",
       "      <th>Tax</th>\n",
       "      <th>nr</th>\n",
       "      <th>S1</th>\n",
       "      <th>Dts</th>\n",
       "      <th>s00</th>\n",
       "      <th>s01</th>\n",
       "      <th>s10</th>\n",
       "      <th>s50</th>\n",
       "      <th>StationName</th>\n",
       "      <th>Latitude</th>\n",
       "      <th>Longitude</th>\n",
       "      <th>Height</th>\n",
       "      <th>Country</th>\n",
       "    </tr>\n",
       "  </thead>\n",
       "  <tbody>\n",
       "    <tr>\n",
       "      <th>0</th>\n",
       "      <td>2003</td>\n",
       "      <td>3.0</td>\n",
       "      <td>1001.0</td>\n",
       "      <td>0.1</td>\n",
       "      <td>NaN</td>\n",
       "      <td>13.0</td>\n",
       "      <td>NaN</td>\n",
       "      <td>NaN</td>\n",
       "      <td>NaN</td>\n",
       "      <td>NaN</td>\n",
       "      <td>NaN</td>\n",
       "      <td>NaN</td>\n",
       "      <td>Jan Mayen</td>\n",
       "      <td>70.94</td>\n",
       "      <td>-08.67</td>\n",
       "      <td>9</td>\n",
       "      <td>Norway</td>\n",
       "    </tr>\n",
       "    <tr>\n",
       "      <th>1</th>\n",
       "      <td>2003</td>\n",
       "      <td>3.0</td>\n",
       "      <td>1008.0</td>\n",
       "      <td>14.2</td>\n",
       "      <td>NaN</td>\n",
       "      <td>7.0</td>\n",
       "      <td>NaN</td>\n",
       "      <td>NaN</td>\n",
       "      <td>NaN</td>\n",
       "      <td>NaN</td>\n",
       "      <td>NaN</td>\n",
       "      <td>NaN</td>\n",
       "      <td>Svalbard</td>\n",
       "      <td>78.25</td>\n",
       "      <td>15.50</td>\n",
       "      <td>27</td>\n",
       "      <td>Norway</td>\n",
       "    </tr>\n",
       "    <tr>\n",
       "      <th>2</th>\n",
       "      <td>2003</td>\n",
       "      <td>3.0</td>\n",
       "      <td>1025.0</td>\n",
       "      <td>2.2</td>\n",
       "      <td>NaN</td>\n",
       "      <td>21.0</td>\n",
       "      <td>NaN</td>\n",
       "      <td>NaN</td>\n",
       "      <td>NaN</td>\n",
       "      <td>NaN</td>\n",
       "      <td>NaN</td>\n",
       "      <td>NaN</td>\n",
       "      <td>Tromso</td>\n",
       "      <td>69.68</td>\n",
       "      <td>18.91</td>\n",
       "      <td>9</td>\n",
       "      <td>Norway</td>\n",
       "    </tr>\n",
       "    <tr>\n",
       "      <th>3</th>\n",
       "      <td>2003</td>\n",
       "      <td>3.0</td>\n",
       "      <td>1026.0</td>\n",
       "      <td>1.8</td>\n",
       "      <td>NaN</td>\n",
       "      <td>22.0</td>\n",
       "      <td>53.0</td>\n",
       "      <td>NaN</td>\n",
       "      <td>NaN</td>\n",
       "      <td>NaN</td>\n",
       "      <td>NaN</td>\n",
       "      <td>NaN</td>\n",
       "      <td>Tromso</td>\n",
       "      <td>69.65</td>\n",
       "      <td>18.94</td>\n",
       "      <td>114</td>\n",
       "      <td>Norway</td>\n",
       "    </tr>\n",
       "    <tr>\n",
       "      <th>4</th>\n",
       "      <td>2003</td>\n",
       "      <td>3.0</td>\n",
       "      <td>1028.0</td>\n",
       "      <td>3.6</td>\n",
       "      <td>NaN</td>\n",
       "      <td>15.0</td>\n",
       "      <td>NaN</td>\n",
       "      <td>NaN</td>\n",
       "      <td>NaN</td>\n",
       "      <td>NaN</td>\n",
       "      <td>NaN</td>\n",
       "      <td>NaN</td>\n",
       "      <td>Bjornoya</td>\n",
       "      <td>74.50</td>\n",
       "      <td>19.00</td>\n",
       "      <td>16</td>\n",
       "      <td>Norway</td>\n",
       "    </tr>\n",
       "  </tbody>\n",
       "</table>\n",
       "</div>"
      ],
      "text/plain": [
       "   year  month  station    Tx  Tax    nr    S1  Dts  s00  s01  s10  s50  \\\n",
       "0  2003    3.0   1001.0   0.1  NaN  13.0   NaN  NaN  NaN  NaN  NaN  NaN   \n",
       "1  2003    3.0   1008.0  14.2  NaN   7.0   NaN  NaN  NaN  NaN  NaN  NaN   \n",
       "2  2003    3.0   1025.0   2.2  NaN  21.0   NaN  NaN  NaN  NaN  NaN  NaN   \n",
       "3  2003    3.0   1026.0   1.8  NaN  22.0  53.0  NaN  NaN  NaN  NaN  NaN   \n",
       "4  2003    3.0   1028.0   3.6  NaN  15.0   NaN  NaN  NaN  NaN  NaN  NaN   \n",
       "\n",
       "           StationName                                       Latitude  \\\n",
       "0            Jan Mayen                                          70.94   \n",
       "1             Svalbard                                          78.25   \n",
       "2               Tromso                                          69.68   \n",
       "3               Tromso                                          69.65   \n",
       "4             Bjornoya                                          74.50   \n",
       "\n",
       "    Longitude   Height                                           Country  \n",
       "0      -08.67        9   Norway                                           \n",
       "1       15.50       27   Norway                                           \n",
       "2       18.91        9   Norway                                           \n",
       "3       18.94      114   Norway                                           \n",
       "4       19.00       16   Norway                                           "
      ]
     },
     "execution_count": 77,
     "metadata": {},
     "output_type": "execute_result"
    }
   ],
   "source": [
    "cleantx.head()"
   ]
  },
  {
   "cell_type": "code",
   "execution_count": 78,
   "metadata": {},
   "outputs": [
    {
     "data": {
      "text/plain": [
       "<Axes: ylabel='Frequency'>"
      ]
     },
     "execution_count": 78,
     "metadata": {},
     "output_type": "execute_result"
    },
    {
     "data": {
      "image/png": "[encoded data removed]",
      "text/plain": [
       "<Figure size 640x480 with 1 Axes>"
      ]
     },
     "metadata": {},
     "output_type": "display_data"
    }
   ],
   "source": [
    "cleantx.Tx.plot.hist(alpha=0.5, grid=True, bins=30)"
   ]
  },
  {
   "cell_type": "markdown",
   "metadata": {},
   "source": [
    "Let's do the same for the number of rainy day."
   ]
  },
  {
   "cell_type": "code",
   "execution_count": 79,
   "metadata": {},
   "outputs": [
    {
     "data": {
      "text/plain": [
       "<Axes: title={'center': 'Rainy days (World, March 2003)'}, ylabel='Frequency'>"
      ]
     },
     "execution_count": 79,
     "metadata": {},
     "output_type": "execute_result"
    },
    {
     "data": {
      "image/png": "[encoded data removed]",
      "text/plain": [
       "<Figure size 640x480 with 1 Axes>"
      ]
     },
     "metadata": {},
     "output_type": "display_data"
    }
   ],
   "source": [
    "merged[~merged.nr.isnull()].nr.plot.hist(alpha=0.5, grid=True, bins=10,\n",
    "                                         legend=True, title='Rainy days (World, March 2003)')"
   ]
  },
  {
   "cell_type": "markdown",
   "metadata": {},
   "source": [
    "And finally sunshine hours."
   ]
  },
  {
   "cell_type": "code",
   "execution_count": 80,
   "metadata": {},
   "outputs": [
    {
     "data": {
      "text/plain": [
       "<Axes: title={'center': 'Monthly sunshine hours'}, ylabel='Frequency'>"
      ]
     },
     "execution_count": 80,
     "metadata": {},
     "output_type": "execute_result"
    },
    {
     "data": {
      "image/png": "[encoded data removed]",
      "text/plain": [
       "<Figure size 640x480 with 1 Axes>"
      ]
     },
     "metadata": {},
     "output_type": "display_data"
    }
   ],
   "source": [
    "merged[~merged.S1.isnull()].S1.plot.hist(alpha=0.5, grid=True, bins=40, legend=True, title='Monthly sunshine hours')"
   ]
  },
  {
   "cell_type": "markdown",
   "metadata": {},
   "source": [
    "Can we see the box plots of sunshine hours and number of rainy days?"
   ]
  },
  {
   "cell_type": "code",
   "execution_count": 81,
   "metadata": {},
   "outputs": [
    {
     "data": {
      "text/plain": [
       "<Axes: >"
      ]
     },
     "execution_count": 81,
     "metadata": {},
     "output_type": "execute_result"
    },
    {
     "data": {
      "image/png": "[encoded data removed]",
      "text/plain": [
       "<Figure size 640x480 with 1 Axes>"
      ]
     },
     "metadata": {},
     "output_type": "display_data"
    }
   ],
   "source": [
    "merged[~merged.nr.isnull()].nr.plot.box()"
   ]
  },
  {
   "cell_type": "code",
   "execution_count": 82,
   "metadata": {},
   "outputs": [
    {
     "data": {
      "text/plain": [
       "<Axes: >"
      ]
     },
     "execution_count": 82,
     "metadata": {},
     "output_type": "execute_result"
    },
    {
     "data": {
      "image/png": "[encoded data removed]",
      "text/plain": [
       "<Figure size 640x480 with 1 Axes>"
      ]
     },
     "metadata": {},
     "output_type": "display_data"
    }
   ],
   "source": [
    "merged[~merged.nr.isnull()].S1.plot.box()"
   ]
  },
  {
   "cell_type": "markdown",
   "metadata": {},
   "source": [
    "Combine plots. Is the maximum temperature really higher?"
   ]
  },
  {
   "cell_type": "code",
   "execution_count": 83,
   "metadata": {},
   "outputs": [
    {
     "data": {
      "text/plain": [
       "<Axes: >"
      ]
     },
     "execution_count": 83,
     "metadata": {},
     "output_type": "execute_result"
    },
    {
     "data": {
      "image/png": "[encoded data removed]",
      "text/plain": [
       "<Figure size 640x480 with 1 Axes>"
      ]
     },
     "metadata": {},
     "output_type": "display_data"
    }
   ],
   "source": [
    "merged[[\"Tx\", \"Tax\"]].plot.box()"
   ]
  },
  {
   "cell_type": "markdown",
   "metadata": {},
   "source": [
    "And reusing the cleaned (without outlier) data frame:"
   ]
  },
  {
   "cell_type": "code",
   "execution_count": 84,
   "metadata": {},
   "outputs": [
    {
     "data": {
      "text/plain": [
       "<Axes: >"
      ]
     },
     "execution_count": 84,
     "metadata": {},
     "output_type": "execute_result"
    },
    {
     "data": {
      "image/png": "[encoded data removed]",
      "text/plain": [
       "<Figure size 640x480 with 1 Axes>"
      ]
     },
     "metadata": {},
     "output_type": "display_data"
    }
   ],
   "source": [
    "cleantx[[\"Tx\", \"Tax\"]].plot.box()"
   ]
  }
 ],
 "metadata": {
  "kernelspec": {
   "display_name": ".venv",
   "language": "python",
   "name": "python3"
  },
  "language_info": {
   "codemirror_mode": {
    "name": "ipython",
    "version": 3
   },
   "file_extension": ".py",
   "mimetype": "text/x-python",
   "name": "python",
   "nbconvert_exporter": "python",
   "pygments_lexer": "ipython3",
   "version": "3.8.10"
  }
 },
 "nbformat": 4,
 "nbformat_minor": 2
}
