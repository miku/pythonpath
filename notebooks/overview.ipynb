{
 "cells": [
  {
   "cell_type": "markdown",
   "id": "35b597a5-a923-4ada-9028-464fc8065171",
   "metadata": {},
   "source": [
    "# Overview"
   ]
  },
  {
   "cell_type": "markdown",
   "id": "126631ca-1363-4957-b507-1d48f0780ba7",
   "metadata": {},
   "source": [
    "* how python sees the world\n",
    "* language features\n",
    "* example programs and small tasks\n",
    "* working with data"
   ]
  },
  {
   "cell_type": "code",
   "execution_count": null,
   "id": "a6cc09eb-3fc0-42d1-a851-97d0137cddde",
   "metadata": {},
   "outputs": [],
   "source": []
  }
 ],
 "metadata": {
  "kernelspec": {
   "display_name": "Python 3 (ipykernel)",
   "language": "python",
   "name": "python3"
  },
  "language_info": {
   "codemirror_mode": {
    "name": "ipython",
    "version": 3
   },
   "file_extension": ".py",
   "mimetype": "text/x-python",
   "name": "python",
   "nbconvert_exporter": "python",
   "pygments_lexer": "ipython3",
   "version": "3.10.12"
  }
 },
 "nbformat": 4,
 "nbformat_minor": 5
}
