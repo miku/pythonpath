{
 "cells": [
  {
   "cell_type": "markdown",
   "metadata": {},
   "source": [
    "# 31 Keras VGG16 Object Recognition"
   ]
  },
  {
   "cell_type": "code",
   "execution_count": 1,
   "metadata": {},
   "outputs": [
    {
     "name": "stderr",
     "output_type": "stream",
     "text": [
      "Using TensorFlow backend.\n"
     ]
    }
   ],
   "source": [
    "from keras.applications.vgg16 import VGG16, preprocess_input, decode_predictions\n",
    "from keras.preprocessing import image\n",
    "import numpy as np\n",
    "\n",
    "import sys\n",
    "import time\n",
    "import requests\n",
    "import shutil\n",
    "\n",
    "from IPython.display import Image, display"
   ]
  },
  {
   "cell_type": "code",
   "execution_count": 2,
   "metadata": {},
   "outputs": [
    {
     "name": "stderr",
     "output_type": "stream",
     "text": [
      "0.0000 loading VGG16...\n"
     ]
    }
   ],
   "source": [
    "started = time.time()\n",
    "\n",
    "print(\"%0.4f loading VGG16...\" % (time.time() - started), file=sys.stderr)\n",
    "model = VGG16(weights='imagenet')"
   ]
  },
  {
   "cell_type": "code",
   "execution_count": 3,
   "metadata": {},
   "outputs": [
    {
     "name": "stdout",
     "output_type": "stream",
     "text": [
      "_________________________________________________________________\n",
      "Layer (type)                 Output Shape              Param #   \n",
      "=================================================================\n",
      "input_1 (InputLayer)         (None, 224, 224, 3)       0         \n",
      "_________________________________________________________________\n",
      "block1_conv1 (Conv2D)        (None, 224, 224, 64)      1792      \n",
      "_________________________________________________________________\n",
      "block1_conv2 (Conv2D)        (None, 224, 224, 64)      36928     \n",
      "_________________________________________________________________\n",
      "block1_pool (MaxPooling2D)   (None, 112, 112, 64)      0         \n",
      "_________________________________________________________________\n",
      "block2_conv1 (Conv2D)        (None, 112, 112, 128)     73856     \n",
      "_________________________________________________________________\n",
      "block2_conv2 (Conv2D)        (None, 112, 112, 128)     147584    \n",
      "_________________________________________________________________\n",
      "block2_pool (MaxPooling2D)   (None, 56, 56, 128)       0         \n",
      "_________________________________________________________________\n",
      "block3_conv1 (Conv2D)        (None, 56, 56, 256)       295168    \n",
      "_________________________________________________________________\n",
      "block3_conv2 (Conv2D)        (None, 56, 56, 256)       590080    \n",
      "_________________________________________________________________\n",
      "block3_conv3 (Conv2D)        (None, 56, 56, 256)       590080    \n",
      "_________________________________________________________________\n",
      "block3_pool (MaxPooling2D)   (None, 28, 28, 256)       0         \n",
      "_________________________________________________________________\n",
      "block4_conv1 (Conv2D)        (None, 28, 28, 512)       1180160   \n",
      "_________________________________________________________________\n",
      "block4_conv2 (Conv2D)        (None, 28, 28, 512)       2359808   \n",
      "_________________________________________________________________\n",
      "block4_conv3 (Conv2D)        (None, 28, 28, 512)       2359808   \n",
      "_________________________________________________________________\n",
      "block4_pool (MaxPooling2D)   (None, 14, 14, 512)       0         \n",
      "_________________________________________________________________\n",
      "block5_conv1 (Conv2D)        (None, 14, 14, 512)       2359808   \n",
      "_________________________________________________________________\n",
      "block5_conv2 (Conv2D)        (None, 14, 14, 512)       2359808   \n",
      "_________________________________________________________________\n",
      "block5_conv3 (Conv2D)        (None, 14, 14, 512)       2359808   \n",
      "_________________________________________________________________\n",
      "block5_pool (MaxPooling2D)   (None, 7, 7, 512)         0         \n",
      "_________________________________________________________________\n",
      "flatten (Flatten)            (None, 25088)             0         \n",
      "_________________________________________________________________\n",
      "fc1 (Dense)                  (None, 4096)              102764544 \n",
      "_________________________________________________________________\n",
      "fc2 (Dense)                  (None, 4096)              16781312  \n",
      "_________________________________________________________________\n",
      "predictions (Dense)          (None, 1000)              4097000   \n",
      "=================================================================\n",
      "Total params: 138,357,544\n",
      "Trainable params: 138,357,544\n",
      "Non-trainable params: 0\n",
      "_________________________________________________________________\n"
     ]
    }
   ],
   "source": [
    "model.summary()"
   ]
  },
  {
   "cell_type": "code",
   "execution_count": 4,
   "metadata": {},
   "outputs": [],
   "source": [
    "def predictions(filename_or_url=\"data/220px-MAN_M2000_Pritschenwagen.jpg\", ext=\"jpg\"):\n",
    "    \"\"\"\n",
    "    Takes a filename or URL and run it through the model,\n",
    "    ext only used for URL, which might not give away their format in the name.\n",
    "    \"\"\"\n",
    "    started = time.time()\n",
    "    if filename_or_url.startswith(\"http\"):\n",
    "        response = requests.get(filename_or_url, stream=True)\n",
    "        with open('img.%s' % (ext), 'wb') as out_file:\n",
    "            shutil.copyfileobj(response.raw, out_file)\n",
    "        del response\n",
    "        img_path = out_file.name\n",
    "        print(\"downloaded %s to %s\" % (filename_or_url, img_path))\n",
    "    else:\n",
    "        img_path = filename_or_url\n",
    "    \n",
    "    print(\"%0.4f loading and resizing image\" %\n",
    "          (time.time() - started), file=sys.stderr)\n",
    "    img = image.load_img(img_path, target_size=(224, 224))\n",
    "\n",
    "    print(\"%0.4f preprocessing input...\" %\n",
    "          (time.time() - started), file=sys.stderr)\n",
    "\n",
    "    x = image.img_to_array(img)\n",
    "    x = np.expand_dims(x, axis=0)\n",
    "    x = preprocess_input(x)\n",
    "\n",
    "    print(\"%0.4f predict...\" % (time.time() - started), file=sys.stderr)\n",
    "    return model.predict(x)"
   ]
  },
  {
   "cell_type": "code",
   "execution_count": 5,
   "metadata": {},
   "outputs": [],
   "source": [
    "def histo(p):\n",
    "    return \"|\" * int(75*p)"
   ]
  },
  {
   "cell_type": "code",
   "execution_count": 8,
   "metadata": {},
   "outputs": [],
   "source": [
    "def object_detection(filename_or_url=\"data/220px-MAN_M2000_Pritschenwagen.jpg\"):\n",
    "    if filename_or_url.startswith(\"http\"):\n",
    "        display(Image(url=filename_or_url))\n",
    "    else:\n",
    "        display(Image(filename=filename_or_url))\n",
    "\n",
    "    preds = predictions(filename_or_url)\n",
    "    \n",
    "    for (_, name, p) in decode_predictions(preds, top=5)[0]:\n",
    "        print(\"% 25s %0.4f %s\" % (name, p, histo(p)))"
   ]
  },
  {
   "cell_type": "code",
   "execution_count": 9,
   "metadata": {},
   "outputs": [
    {
     "data": {
      "image/jpeg": "[encoded data removed]",
      "text/plain": [
       "<IPython.core.display.Image object>"
      ]
     },
     "metadata": {},
     "output_type": "display_data"
    },
    {
     "name": "stderr",
     "output_type": "stream",
     "text": [
      "0.0000 loading and resizing image\n",
      "0.0555 preprocessing input...\n",
      "0.0585 predict...\n"
     ]
    },
    {
     "name": "stdout",
     "output_type": "stream",
     "text": [
      "               moving_van 0.6595 |||||||||||||||||||||||||||||||||||||||||||||||||\n",
      "            trailer_truck 0.3047 ||||||||||||||||||||||\n",
      "            garbage_truck 0.0341 ||\n",
      "              mobile_home 0.0005 \n",
      "     recreational_vehicle 0.0004 \n"
     ]
    }
   ],
   "source": [
    "object_detection()"
   ]
  },
  {
   "cell_type": "code",
   "execution_count": 10,
   "metadata": {},
   "outputs": [
    {
     "data": {
      "text/html": [
       "<img src=\"https://i.pinimg.com/originals/88/cf/46/88cf46d9c8952b2e50274dbf65996e5d.jpg\"/>"
      ],
      "text/plain": [
       "<IPython.core.display.Image object>"
      ]
     },
     "metadata": {},
     "output_type": "display_data"
    },
    {
     "name": "stdout",
     "output_type": "stream",
     "text": [
      "downloaded https://i.pinimg.com/originals/88/cf/46/88cf46d9c8952b2e50274dbf65996e5d.jpg to img.jpg\n"
     ]
    },
    {
     "name": "stderr",
     "output_type": "stream",
     "text": [
      "0.2967 loading and resizing image\n",
      "0.3387 preprocessing input...\n",
      "0.3405 predict...\n"
     ]
    },
    {
     "name": "stdout",
     "output_type": "stream",
     "text": [
      "               greenhouse 0.2631 |||||||||||||||||||\n",
      "                   cinema 0.0913 ||||||\n",
      "                    stage 0.0799 |||||\n",
      "            passenger_car 0.0756 |||||\n",
      "                     pier 0.0437 |||\n"
     ]
    }
   ],
   "source": [
    "object_detection(\"https://i.pinimg.com/originals/88/cf/46/88cf46d9c8952b2e50274dbf65996e5d.jpg\")"
   ]
  },
  {
   "cell_type": "code",
   "execution_count": 11,
   "metadata": {},
   "outputs": [
    {
     "data": {
      "text/html": [
       "<img src=\"http://www.zoo-wuppertal.de/typo3temp/pics/1ac0975569.jpg\"/>"
      ],
      "text/plain": [
       "<IPython.core.display.Image object>"
      ]
     },
     "metadata": {},
     "output_type": "display_data"
    },
    {
     "name": "stdout",
     "output_type": "stream",
     "text": [
      "downloaded http://www.zoo-wuppertal.de/typo3temp/pics/1ac0975569.jpg to img.jpg\n"
     ]
    },
    {
     "name": "stderr",
     "output_type": "stream",
     "text": [
      "0.1845 loading and resizing image\n",
      "0.1965 preprocessing input...\n",
      "0.1983 predict...\n"
     ]
    },
    {
     "name": "stdout",
     "output_type": "stream",
     "text": [
      "                     lion 0.5740 |||||||||||||||||||||||||||||||||||||||||||\n",
      "                   cougar 0.1513 |||||||||||\n",
      "                  macaque 0.0851 ||||||\n",
      "                    patas 0.0826 ||||||\n",
      "                   baboon 0.0494 |||\n"
     ]
    }
   ],
   "source": [
    "object_detection(\"http://www.zoo-wuppertal.de/typo3temp/pics/1ac0975569.jpg\")"
   ]
  },
  {
   "cell_type": "code",
   "execution_count": 12,
   "metadata": {},
   "outputs": [
    {
     "data": {
      "text/html": [
       "<img src=\"https://www.bergwelten.com/files/article/images/Regenbogen-Raffalt.jpg\"/>"
      ],
      "text/plain": [
       "<IPython.core.display.Image object>"
      ]
     },
     "metadata": {},
     "output_type": "display_data"
    },
    {
     "name": "stdout",
     "output_type": "stream",
     "text": [
      "downloaded https://www.bergwelten.com/files/article/images/Regenbogen-Raffalt.jpg to img.jpg\n"
     ]
    },
    {
     "name": "stderr",
     "output_type": "stream",
     "text": [
      "0.4908 loading and resizing image\n",
      "0.8752 preprocessing input...\n",
      "0.8789 predict...\n"
     ]
    },
    {
     "name": "stdout",
     "output_type": "stream",
     "text": [
      "            mountain_tent 0.5514 |||||||||||||||||||||||||||||||||||||||||\n",
      "                  volcano 0.1210 |||||||||\n",
      "                 fountain 0.0455 |||\n",
      "               car_mirror 0.0332 ||\n",
      "                   geyser 0.0227 |\n"
     ]
    }
   ],
   "source": [
    "object_detection(\"https://www.bergwelten.com/files/article/images/Regenbogen-Raffalt.jpg\")"
   ]
  },
  {
   "cell_type": "code",
   "execution_count": 13,
   "metadata": {},
   "outputs": [
    {
     "data": {
      "text/html": [
       "<img src=\"https://upload.wikimedia.org/wikipedia/commons/2/28/Wuppertal_-_Die_Sonnenbergbr%C3%BCcke_%C3%BCber_die_A46_-_panoramio.jpg\"/>"
      ],
      "text/plain": [
       "<IPython.core.display.Image object>"
      ]
     },
     "metadata": {},
     "output_type": "display_data"
    },
    {
     "name": "stdout",
     "output_type": "stream",
     "text": [
      "downloaded https://upload.wikimedia.org/wikipedia/commons/2/28/Wuppertal_-_Die_Sonnenbergbr%C3%BCcke_%C3%BCber_die_A46_-_panoramio.jpg to img.jpg\n"
     ]
    },
    {
     "name": "stderr",
     "output_type": "stream",
     "text": [
      "1.1967 loading and resizing image\n",
      "1.4123 preprocessing input...\n",
      "1.4136 predict...\n"
     ]
    },
    {
     "name": "stdout",
     "output_type": "stream",
     "text": [
      "        steel_arch_bridge 0.6348 |||||||||||||||||||||||||||||||||||||||||||||||\n",
      "                     pier 0.0815 ||||||\n",
      "                  viaduct 0.0582 ||||\n",
      "                 lakeside 0.0453 |||\n",
      "        suspension_bridge 0.0442 |||\n"
     ]
    }
   ],
   "source": [
    "object_detection(\"https://upload.wikimedia.org/wikipedia/commons/2/28/Wuppertal_-_Die_Sonnenbergbr%C3%BCcke_%C3%BCber_die_A46_-_panoramio.jpg\")"
   ]
  },
  {
   "cell_type": "code",
   "execution_count": null,
   "metadata": {},
   "outputs": [],
   "source": []
  }
 ],
 "metadata": {
  "kernelspec": {
   "display_name": "Python (ke)",
   "language": "python",
   "name": "keras-examples"
  },
  "language_info": {
   "codemirror_mode": {
    "name": "ipython",
    "version": 3
   },
   "file_extension": ".py",
   "mimetype": "text/x-python",
   "name": "python",
   "nbconvert_exporter": "python",
   "pygments_lexer": "ipython3",
   "version": "3.6.4"
  }
 },
 "nbformat": 4,
 "nbformat_minor": 2
}
