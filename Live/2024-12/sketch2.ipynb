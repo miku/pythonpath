{
 "cells": [
  {
   "cell_type": "markdown",
   "metadata": {},
   "source": [
    "### Python Intro Day 2\n",
    "\n",
    "* dict\n",
    "* more control flow\n",
    "* exception handling\n",
    "* functions\n",
    "* classes and objects\n",
    "* data model\n",
    "* stdlib highlights, e.g. collections\n",
    "\n",
    "Examples:\n",
    "\n",
    "* uv project\n",
    "* ansible module\n",
    "* pandas notebook walkthrough\n",
    "* llm interaction\n",
    "\n",
    "Extra:\n",
    "\n",
    "* type hints overview\n"
   ]
  },
  {
   "cell_type": "code",
   "execution_count": 1,
   "metadata": {},
   "outputs": [],
   "source": [
    "f = open(\"hello.txt\")"
   ]
  },
  {
   "cell_type": "code",
   "execution_count": 3,
   "metadata": {},
   "outputs": [],
   "source": [
    "f.close()"
   ]
  },
  {
   "cell_type": "code",
   "execution_count": 6,
   "metadata": {},
   "outputs": [
    {
     "name": "stdout",
     "output_type": "stream",
     "text": [
      "hello\n",
      "world\n"
     ]
    }
   ],
   "source": [
    "with open(\"hello.txt\") as f:\n",
    "    print(f.read())"
   ]
  },
  {
   "cell_type": "markdown",
   "metadata": {},
   "source": [
    "### recap: builtin functions\n",
    "\n",
    "* abs, bin, cr, dir, divmod, enumerate, filte,r float, has, help, hex, id, input, int, len, list, map, max, min, oct, open, ord, print, range, set, sorted, str, sum, tuple, type, zip \n",
    "\n",
    "### data types and structures\n",
    "\n",
    "* int, float, str, bool\n",
    "* list\n",
    "* tuple\n",
    "* set"
   ]
  },
  {
   "cell_type": "markdown",
   "metadata": {},
   "source": [
    "### dictionaries\n",
    "\n",
    "* map\n",
    "* associate array"
   ]
  },
  {
   "cell_type": "code",
   "execution_count": 10,
   "metadata": {},
   "outputs": [],
   "source": [
    "d = dict()"
   ]
  },
  {
   "cell_type": "code",
   "execution_count": 11,
   "metadata": {},
   "outputs": [
    {
     "data": {
      "text/plain": [
       "{}"
      ]
     },
     "execution_count": 11,
     "metadata": {},
     "output_type": "execute_result"
    }
   ],
   "source": [
    "d"
   ]
  },
  {
   "cell_type": "code",
   "execution_count": 12,
   "metadata": {},
   "outputs": [
    {
     "data": {
      "text/plain": [
       "dict"
      ]
     },
     "execution_count": 12,
     "metadata": {},
     "output_type": "execute_result"
    }
   ],
   "source": [
    "type(d)"
   ]
  },
  {
   "cell_type": "code",
   "execution_count": 13,
   "metadata": {},
   "outputs": [],
   "source": [
    "d[\"a\"] = 1\n",
    "d[\"b\"] = \"hello\""
   ]
  },
  {
   "cell_type": "code",
   "execution_count": 14,
   "metadata": {},
   "outputs": [
    {
     "data": {
      "text/plain": [
       "{'a': 1, 'b': 'hello'}"
      ]
     },
     "execution_count": 14,
     "metadata": {},
     "output_type": "execute_result"
    }
   ],
   "source": [
    "d"
   ]
  },
  {
   "cell_type": "code",
   "execution_count": 15,
   "metadata": {},
   "outputs": [],
   "source": [
    "d = {\"a\": 1, \"b\": \"hello\"}"
   ]
  },
  {
   "cell_type": "code",
   "execution_count": 16,
   "metadata": {},
   "outputs": [
    {
     "data": {
      "text/plain": [
       "2"
      ]
     },
     "execution_count": 16,
     "metadata": {},
     "output_type": "execute_result"
    }
   ],
   "source": [
    "len(d)"
   ]
  },
  {
   "cell_type": "code",
   "execution_count": 17,
   "metadata": {},
   "outputs": [
    {
     "data": {
      "text/plain": [
       "1"
      ]
     },
     "execution_count": 17,
     "metadata": {},
     "output_type": "execute_result"
    }
   ],
   "source": [
    "d[\"a\"]"
   ]
  },
  {
   "cell_type": "code",
   "execution_count": 18,
   "metadata": {},
   "outputs": [
    {
     "ename": "KeyError",
     "evalue": "'c'",
     "output_type": "error",
     "traceback": [
      "\u001b[0;31m---------------------------------------------------------------------------\u001b[0m",
      "\u001b[0;31mKeyError\u001b[0m                                  Traceback (most recent call last)",
      "Cell \u001b[0;32mIn[18], line 1\u001b[0m\n\u001b[0;32m----> 1\u001b[0m \u001b[43md\u001b[49m\u001b[43m[\u001b[49m\u001b[38;5;124;43m\"\u001b[39;49m\u001b[38;5;124;43mc\u001b[39;49m\u001b[38;5;124;43m\"\u001b[39;49m\u001b[43m]\u001b[49m\n",
      "\u001b[0;31mKeyError\u001b[0m: 'c'"
     ]
    }
   ],
   "source": [
    "d[\"c\"]"
   ]
  },
  {
   "cell_type": "code",
   "execution_count": 19,
   "metadata": {},
   "outputs": [],
   "source": [
    "d = dict()"
   ]
  },
  {
   "cell_type": "code",
   "execution_count": 21,
   "metadata": {},
   "outputs": [
    {
     "data": {
      "text/plain": [
       "{'a': 1, 'b': 'hello'}"
      ]
     },
     "execution_count": 21,
     "metadata": {},
     "output_type": "execute_result"
    }
   ],
   "source": [
    "dict(a=1, b=\"hello\")"
   ]
  },
  {
   "cell_type": "code",
   "execution_count": 22,
   "metadata": {},
   "outputs": [
    {
     "data": {
      "text/plain": [
       "dict_items([])"
      ]
     },
     "execution_count": 22,
     "metadata": {},
     "output_type": "execute_result"
    }
   ],
   "source": [
    "d.items()"
   ]
  },
  {
   "cell_type": "code",
   "execution_count": 23,
   "metadata": {},
   "outputs": [],
   "source": [
    "d = dict(a=1, b=\"hello\")"
   ]
  },
  {
   "cell_type": "code",
   "execution_count": 24,
   "metadata": {},
   "outputs": [
    {
     "data": {
      "text/plain": [
       "dict_items([('a', 1), ('b', 'hello')])"
      ]
     },
     "execution_count": 24,
     "metadata": {},
     "output_type": "execute_result"
    }
   ],
   "source": [
    "d.items()"
   ]
  },
  {
   "cell_type": "code",
   "execution_count": 28,
   "metadata": {},
   "outputs": [
    {
     "name": "stdout",
     "output_type": "stream",
     "text": [
      "a => 1\n",
      "b => hello\n"
     ]
    }
   ],
   "source": [
    "for k, v in d.items():\n",
    "    print(k, \"=>\", v)"
   ]
  },
  {
   "cell_type": "code",
   "execution_count": 29,
   "metadata": {},
   "outputs": [
    {
     "data": {
      "text/plain": [
       "1"
      ]
     },
     "execution_count": 29,
     "metadata": {},
     "output_type": "execute_result"
    }
   ],
   "source": [
    "d.get(\"a\")"
   ]
  },
  {
   "cell_type": "code",
   "execution_count": 30,
   "metadata": {},
   "outputs": [
    {
     "data": {
      "text/plain": [
       "1"
      ]
     },
     "execution_count": 30,
     "metadata": {},
     "output_type": "execute_result"
    }
   ],
   "source": [
    "d[\"a\"]"
   ]
  },
  {
   "cell_type": "code",
   "execution_count": 35,
   "metadata": {},
   "outputs": [
    {
     "data": {
      "text/plain": [
       "'xyz'"
      ]
     },
     "execution_count": 35,
     "metadata": {},
     "output_type": "execute_result"
    }
   ],
   "source": [
    "d.get(\"c\", \"xyz\")"
   ]
  },
  {
   "cell_type": "code",
   "execution_count": 38,
   "metadata": {},
   "outputs": [
    {
     "name": "stdout",
     "output_type": "stream",
     "text": [
      "1\n",
      "hello\n"
     ]
    }
   ],
   "source": [
    "for v in d.values():\n",
    "    print(v)"
   ]
  },
  {
   "cell_type": "code",
   "execution_count": 39,
   "metadata": {},
   "outputs": [
    {
     "data": {
      "text/plain": [
       "dict_values([1, 'hello'])"
      ]
     },
     "execution_count": 39,
     "metadata": {},
     "output_type": "execute_result"
    }
   ],
   "source": [
    "d.values()"
   ]
  },
  {
   "cell_type": "code",
   "execution_count": 41,
   "metadata": {},
   "outputs": [
    {
     "data": {
      "text/plain": [
       "(1, 'hello')"
      ]
     },
     "execution_count": 41,
     "metadata": {},
     "output_type": "execute_result"
    }
   ],
   "source": [
    "tuple(d.values())"
   ]
  },
  {
   "cell_type": "code",
   "execution_count": 42,
   "metadata": {},
   "outputs": [
    {
     "data": {
      "text/plain": [
       "{1, 'hello'}"
      ]
     },
     "execution_count": 42,
     "metadata": {},
     "output_type": "execute_result"
    }
   ],
   "source": [
    "set(d.values())"
   ]
  },
  {
   "cell_type": "code",
   "execution_count": 43,
   "metadata": {},
   "outputs": [
    {
     "data": {
      "text/plain": [
       "dict_items([('a', 1), ('b', 'hello')])"
      ]
     },
     "execution_count": 43,
     "metadata": {},
     "output_type": "execute_result"
    }
   ],
   "source": [
    "d.items()"
   ]
  },
  {
   "cell_type": "code",
   "execution_count": 44,
   "metadata": {},
   "outputs": [
    {
     "data": {
      "text/plain": [
       "['a => 1', 'b => hello']"
      ]
     },
     "execution_count": 44,
     "metadata": {},
     "output_type": "execute_result"
    }
   ],
   "source": [
    "[f\"{k} => {v}\" for k, v in d.items()]"
   ]
  },
  {
   "cell_type": "code",
   "execution_count": 49,
   "metadata": {},
   "outputs": [
    {
     "data": {
      "text/plain": [
       "'a, b, c'"
      ]
     },
     "execution_count": 49,
     "metadata": {},
     "output_type": "execute_result"
    }
   ],
   "source": [
    "\", \".join([\"a\", \"b\", \"c\"])"
   ]
  },
  {
   "cell_type": "code",
   "execution_count": 50,
   "metadata": {},
   "outputs": [
    {
     "data": {
      "text/plain": [
       "'a => 1, b => hello'"
      ]
     },
     "execution_count": 50,
     "metadata": {},
     "output_type": "execute_result"
    }
   ],
   "source": [
    "\", \".join([f\"{k} => {v}\" for k, v in d.items()])"
   ]
  },
  {
   "cell_type": "code",
   "execution_count": 57,
   "metadata": {},
   "outputs": [],
   "source": [
    "import datetime"
   ]
  },
  {
   "cell_type": "code",
   "execution_count": 92,
   "metadata": {},
   "outputs": [],
   "source": [
    "d = {\n",
    "    \"city\": {\n",
    "        \"name\": \"Dresden\",\n",
    "        \"number_of_bridges\": 200,\n",
    "        \"list_of_xmas_markets\": [\"1..\", \"2..\", \"3..\"],\n",
    "    },\n",
    "    \"temp\": 7.5,\n",
    "    \"t\": datetime.date.today().strftime(\"%Y-%m-%d\"),\n",
    "}"
   ]
  },
  {
   "cell_type": "code",
   "execution_count": 93,
   "metadata": {},
   "outputs": [],
   "source": [
    "d[(1, 2)] = \"hello\""
   ]
  },
  {
   "cell_type": "code",
   "execution_count": 100,
   "metadata": {},
   "outputs": [],
   "source": [
    "d[\"city\"][\"list_of_xmas_markets\"].append(\"4..\")"
   ]
  },
  {
   "cell_type": "code",
   "execution_count": 101,
   "metadata": {},
   "outputs": [
    {
     "data": {
      "text/plain": [
       "{'city': {'name': 'Dresden',\n",
       "  'number_of_bridges': 200,\n",
       "  'list_of_xmas_markets': ['1..', '2..', '3..', '4..']},\n",
       " 'temp': 7.5,\n",
       " 't': '2024-12-05',\n",
       " (1, 2): 'hello'}"
      ]
     },
     "execution_count": 101,
     "metadata": {},
     "output_type": "execute_result"
    }
   ],
   "source": [
    "d"
   ]
  },
  {
   "cell_type": "code",
   "execution_count": 89,
   "metadata": {},
   "outputs": [],
   "source": [
    "d.update({\"population\": 600000})"
   ]
  },
  {
   "cell_type": "code",
   "execution_count": null,
   "metadata": {},
   "outputs": [
    {
     "data": {
      "text/plain": [
       "{'name': 'Dresden',\n",
       " 'number_of_bridges': 200,\n",
       " 'list_of_xmas_markets': ['...', '...', '...']}"
      ]
     },
     "execution_count": 91,
     "metadata": {},
     "output_type": "execute_result"
    }
   ],
   "source": [
    "d[\"city\"][]"
   ]
  },
  {
   "cell_type": "code",
   "execution_count": 90,
   "metadata": {},
   "outputs": [
    {
     "data": {
      "text/plain": [
       "{'city': {'name': 'Dresden',\n",
       "  'number_of_bridges': 200,\n",
       "  'list_of_xmas_markets': ['...', '...', '...']},\n",
       " 'temp': 7.5,\n",
       " 't': '2024-12-05',\n",
       " 'population': 600000}"
      ]
     },
     "execution_count": 90,
     "metadata": {},
     "output_type": "execute_result"
    }
   ],
   "source": [
    "d"
   ]
  },
  {
   "cell_type": "code",
   "execution_count": 79,
   "metadata": {},
   "outputs": [
    {
     "data": {
      "text/plain": [
       "dict_keys(['city', 'temp', 't', '1-2'])"
      ]
     },
     "execution_count": 79,
     "metadata": {},
     "output_type": "execute_result"
    }
   ],
   "source": [
    "d.keys()"
   ]
  },
  {
   "cell_type": "code",
   "execution_count": null,
   "metadata": {},
   "outputs": [],
   "source": []
  },
  {
   "cell_type": "code",
   "execution_count": 65,
   "metadata": {},
   "outputs": [
    {
     "data": {
      "text/plain": [
       "dict"
      ]
     },
     "execution_count": 65,
     "metadata": {},
     "output_type": "execute_result"
    }
   ],
   "source": [
    "type(d)"
   ]
  },
  {
   "cell_type": "code",
   "execution_count": 62,
   "metadata": {},
   "outputs": [],
   "source": [
    "import json"
   ]
  },
  {
   "cell_type": "code",
   "execution_count": 63,
   "metadata": {},
   "outputs": [
    {
     "data": {
      "text/plain": [
       "'{\"city\": {\"name\": \"Dresden\", \"number_of_bridges\": 200, \"list_of_xmas_markets\": [\"...\", \"...\", \"...\"]}, \"temp\": 7.5, \"t\": \"2024-12-05\"}'"
      ]
     },
     "execution_count": 63,
     "metadata": {},
     "output_type": "execute_result"
    }
   ],
   "source": [
    "json.dumps(d)"
   ]
  },
  {
   "cell_type": "code",
   "execution_count": 102,
   "metadata": {},
   "outputs": [
    {
     "data": {
      "text/plain": [
       "{'city': {'name': 'Dresden',\n",
       "  'number_of_bridges': 200,\n",
       "  'list_of_xmas_markets': ['1..', '2..', '3..', '4..']},\n",
       " 'temp': 7.5,\n",
       " 't': '2024-12-05',\n",
       " (1, 2): 'hello'}"
      ]
     },
     "execution_count": 102,
     "metadata": {},
     "output_type": "execute_result"
    }
   ],
   "source": [
    "d"
   ]
  },
  {
   "cell_type": "code",
   "execution_count": 108,
   "metadata": {},
   "outputs": [
    {
     "data": {
      "text/plain": [
       "{'city': {'name': 'Dresden',\n",
       "  'number_of_bridges': 200,\n",
       "  'list_of_xmas_markets': ['1..', '2..', '3..', '4..']},\n",
       " 'temp': 7.5,\n",
       " 't': '2024-12-05',\n",
       " (1, 2): 'hello'}"
      ]
     },
     "execution_count": 108,
     "metadata": {},
     "output_type": "execute_result"
    }
   ],
   "source": [
    "d"
   ]
  },
  {
   "cell_type": "markdown",
   "metadata": {},
   "source": [
    "### Dictionary task\n",
    "\n"
   ]
  },
  {
   "cell_type": "markdown",
   "metadata": {},
   "source": []
  },
  {
   "cell_type": "code",
   "execution_count": 109,
   "metadata": {},
   "outputs": [
    {
     "name": "stdout",
     "output_type": "stream",
     "text": [
      "The Zen of Python, by Tim Peters\n",
      "\n",
      "Beautiful is better than ugly.\n",
      "Explicit is better than implicit.\n",
      "Simple is better than complex.\n",
      "Complex is better than complicated.\n",
      "Flat is better than nested.\n",
      "Sparse is better than dense.\n",
      "Readability counts.\n",
      "Special cases aren't special enough to break the rules.\n",
      "Although practicality beats purity.\n",
      "Errors should never pass silently.\n",
      "Unless explicitly silenced.\n",
      "In the face of ambiguity, refuse the temptation to guess.\n",
      "There should be one-- and preferably only one --obvious way to do it.\n",
      "Although that way may not be obvious at first unless you're Dutch.\n",
      "Now is better than never.\n",
      "Although never is often better than *right* now.\n",
      "If the implementation is hard to explain, it's a bad idea.\n",
      "If the implementation is easy to explain, it may be a good idea.\n",
      "Namespaces are one honking great idea -- let's do more of those!\n"
     ]
    }
   ],
   "source": [
    "import this"
   ]
  },
  {
   "cell_type": "markdown",
   "metadata": {},
   "source": [
    "Task: Count how often each character (independent of case) appears in the zen of python? \n",
    "\n"
   ]
  },
  {
   "cell_type": "code",
   "execution_count": null,
   "metadata": {},
   "outputs": [],
   "source": [
    "if \"somekey\" in d: # is \"somekey\" a key in the dictionary => True, False\n",
    "    ...\n",
    "    # do something\n",
    "else:\n",
    "    ...\n",
    "    # do something else"
   ]
  },
  {
   "cell_type": "code",
   "execution_count": 18,
   "metadata": {},
   "outputs": [],
   "source": [
    "s = \"\"\"\n",
    "The Zen of Python, by Tim Peters\n",
    "\n",
    "Beautiful is better than ugly.\n",
    "Explicit is better than implicit.\n",
    "Simple is better than complex.\n",
    "Complex is better than complicated.\n",
    "Flat is better than nested.\n",
    "Sparse is better than dense.\n",
    "Readability counts.\n",
    "Special cases aren't special enough to break the rules.\n",
    "Although practicality beats purity.\n",
    "Errors should never pass silently.\n",
    "Unless explicitly silenced.\n",
    "In the face of ambiguity, refuse the temptation to guess.\n",
    "There should be one-- and preferably only one --obvious way to do it.\n",
    "Although that way may not be obvious at first unless you're Dutch.\n",
    "Now is better than never.\n",
    "Although never is often better than *right* now.\n",
    "If the implementation is hard to explain, it's a bad idea.\n",
    "If the implementation is easy to explain, it may be a good idea.\n",
    "Namespaces are one honking great idea -- let's do more of those!\n",
    "\"\"\""
   ]
  },
  {
   "cell_type": "code",
   "execution_count": 125,
   "metadata": {},
   "outputs": [
    {
     "name": "stdout",
     "output_type": "stream",
     "text": [
      "\n",
      " => 22\n",
      "T => 3\n",
      "h => 31\n",
      "e => 90\n",
      "  => 124\n",
      "Z => 1\n",
      "n => 40\n",
      "o => 43\n",
      "f => 11\n",
      "P => 2\n",
      "y => 17\n",
      "t => 76\n",
      ", => 4\n",
      "b => 20\n",
      "i => 50\n",
      "m => 16\n",
      "r => 32\n",
      "s => 43\n",
      "B => 1\n",
      "a => 50\n",
      "u => 20\n",
      "l => 33\n",
      "g => 11\n",
      ". => 18\n",
      "E => 2\n",
      "x => 6\n",
      "p => 20\n",
      "c => 16\n",
      "S => 3\n",
      "C => 1\n",
      "d => 16\n",
      "F => 1\n",
      "R => 1\n",
      "' => 4\n",
      "k => 2\n",
      "A => 3\n",
      "v => 5\n",
      "U => 1\n",
      "I => 3\n",
      "- => 6\n",
      "w => 4\n",
      "D => 1\n",
      "N => 2\n",
      "* => 2\n",
      "! => 1\n"
     ]
    }
   ],
   "source": [
    "freq = {}\n",
    "\n",
    "for c in s:\n",
    "    if c in freq:\n",
    "        # freq[c] = freq.get(c, 0) + 1\n",
    "        freq[c] = freq[c] + 1\n",
    "    else:\n",
    "        freq[c] = 1\n",
    "\n",
    "for k, v in freq.items():\n",
    "    print(f\"{k} => {v}\")"
   ]
  },
  {
   "cell_type": "code",
   "execution_count": 124,
   "metadata": {},
   "outputs": [
    {
     "data": {
      "text/plain": [
       "{'\\n': 22,\n",
       " 'T': 3,\n",
       " 'h': 31,\n",
       " 'e': 90,\n",
       " ' ': 124,\n",
       " 'Z': 1,\n",
       " 'n': 40,\n",
       " 'o': 43,\n",
       " 'f': 11,\n",
       " 'P': 2,\n",
       " 'y': 17,\n",
       " 't': 76,\n",
       " ',': 4,\n",
       " 'b': 20,\n",
       " 'i': 50,\n",
       " 'm': 16,\n",
       " 'r': 32,\n",
       " 's': 43,\n",
       " 'B': 1,\n",
       " 'a': 50,\n",
       " 'u': 20,\n",
       " 'l': 33,\n",
       " 'g': 11,\n",
       " '.': 18,\n",
       " 'E': 2,\n",
       " 'x': 6,\n",
       " 'p': 20,\n",
       " 'c': 16,\n",
       " 'S': 3,\n",
       " 'C': 1,\n",
       " 'd': 16,\n",
       " 'F': 1,\n",
       " 'R': 1,\n",
       " \"'\": 4,\n",
       " 'k': 2,\n",
       " 'A': 3,\n",
       " 'v': 5,\n",
       " 'U': 1,\n",
       " 'I': 3,\n",
       " '-': 6,\n",
       " 'w': 4,\n",
       " 'D': 1,\n",
       " 'N': 2,\n",
       " '*': 2,\n",
       " '!': 1}"
      ]
     },
     "execution_count": 124,
     "metadata": {},
     "output_type": "execute_result"
    }
   ],
   "source": [
    "freq"
   ]
  },
  {
   "cell_type": "code",
   "execution_count": 126,
   "metadata": {},
   "outputs": [],
   "source": [
    "import collections"
   ]
  },
  {
   "cell_type": "code",
   "execution_count": 127,
   "metadata": {},
   "outputs": [],
   "source": [
    "counter = collections.Counter()"
   ]
  },
  {
   "cell_type": "code",
   "execution_count": 130,
   "metadata": {},
   "outputs": [],
   "source": [
    "freq = collections.Counter()\n",
    "\n",
    "for c in s:\n",
    "    freq[c] += 1\n"
   ]
  },
  {
   "cell_type": "code",
   "execution_count": 132,
   "metadata": {},
   "outputs": [
    {
     "data": {
      "text/plain": [
       "[(' ', 124),\n",
       " ('e', 90),\n",
       " ('t', 76),\n",
       " ('i', 50),\n",
       " ('a', 50),\n",
       " ('o', 43),\n",
       " ('s', 43),\n",
       " ('n', 40),\n",
       " ('l', 33),\n",
       " ('r', 32),\n",
       " ('h', 31),\n",
       " ('\\n', 22),\n",
       " ('b', 20),\n",
       " ('u', 20),\n",
       " ('p', 20),\n",
       " ('.', 18),\n",
       " ('y', 17),\n",
       " ('m', 16),\n",
       " ('c', 16),\n",
       " ('d', 16),\n",
       " ('f', 11),\n",
       " ('g', 11),\n",
       " ('x', 6),\n",
       " ('-', 6),\n",
       " ('v', 5),\n",
       " (',', 4),\n",
       " (\"'\", 4),\n",
       " ('w', 4),\n",
       " ('T', 3),\n",
       " ('S', 3),\n",
       " ('A', 3),\n",
       " ('I', 3),\n",
       " ('P', 2),\n",
       " ('E', 2),\n",
       " ('k', 2),\n",
       " ('N', 2),\n",
       " ('*', 2),\n",
       " ('Z', 1),\n",
       " ('B', 1),\n",
       " ('C', 1),\n",
       " ('F', 1),\n",
       " ('R', 1),\n",
       " ('U', 1),\n",
       " ('D', 1),\n",
       " ('!', 1)]"
      ]
     },
     "execution_count": 132,
     "metadata": {},
     "output_type": "execute_result"
    }
   ],
   "source": [
    "freq.most_common()"
   ]
  },
  {
   "cell_type": "code",
   "execution_count": 133,
   "metadata": {},
   "outputs": [],
   "source": [
    "### natural language detectors"
   ]
  },
  {
   "cell_type": "code",
   "execution_count": 134,
   "metadata": {},
   "outputs": [],
   "source": [
    "langs = {\n",
    "    \"de\": [\n",
    "        \"ein\",\n",
    "        \"ich\",\n",
    "        \"nde\",\n",
    "        \"die\",\n",
    "        \"und\",\n",
    "        \"der\",\n",
    "        \"che\",\n",
    "        \"end\",\n",
    "        \"gen\",\n",
    "        \"sch\",\n",
    "        \"cht\",\n",
    "        \"den\",\n",
    "        \"ine\",\n",
    "        \"nge\",\n",
    "        \"nun\",\n",
    "        \"ung\",\n",
    "        \"das\",\n",
    "        \"hen\",\n",
    "        \"ind\",\n",
    "        \"enw\",\n",
    "        \"ens\",\n",
    "        \"ies\",\n",
    "        \"ste\",\n",
    "        \"ten\",\n",
    "        \"ere\",\n",
    "        \"lic\",\n",
    "        \"ach\",\n",
    "        \"ndi\",\n",
    "        \"sse\",\n",
    "        \"aus\",\n",
    "        \"ers\",\n",
    "        \"ebe\",\n",
    "        \"erd\",\n",
    "        \"enu\",\n",
    "        \"nen\",\n",
    "        \"rau\",\n",
    "    ],\n",
    "    \"en\": [\n",
    "        \"the\",\n",
    "        \"ing\",\n",
    "        \"and\",\n",
    "        \"her\",\n",
    "        \"ere\",\n",
    "        \"ent\",\n",
    "        \"hat\",\n",
    "        \"tha\",\n",
    "        \"nth\",\n",
    "        \"was\",\n",
    "        \"eth\",\n",
    "        \"for\",\n",
    "        \"dth\",\n",
    "        \"his\",\n",
    "        \"ion\",\n",
    "        \"ter\",\n",
    "        \"you\",\n",
    "        \"ith\",\n",
    "        \"ver\",\n",
    "        \"all\",\n",
    "        \"wit\",\n",
    "        \"thi\",\n",
    "        \"tio\",\n",
    "        \"eve\",\n",
    "        \"ate\",\n",
    "        \"con\",\n",
    "        \"nce\",\n",
    "        \"ted\",\n",
    "        \"ive\",\n",
    "        \"sta\",\n",
    "        \"cti\",\n",
    "        \"ess\",\n",
    "        \"not\",\n",
    "        \"iti\",\n",
    "        \"rat\",\n",
    "        \"one\",\n",
    "    ],\n",
    "    \"it\": [\n",
    "        \"ale\",\n",
    "        \"all\",\n",
    "        \"anc\",\n",
    "        \"and\",\n",
    "        \"ant\",\n",
    "        \"are\",\n",
    "        \"ato\",\n",
    "        \"att\",\n",
    "        \"che\",\n",
    "        \"chi\",\n",
    "        \"com\",\n",
    "        \"con\",\n",
    "        \"del\",\n",
    "        \"ell\",\n",
    "        \"ent\",\n",
    "        \"era\",\n",
    "        \"ere\",\n",
    "        \"ess\",\n",
    "        \"est\",\n",
    "        \"ett\",\n",
    "        \"gli\",\n",
    "        \"ion\",\n",
    "        \"lla\",\n",
    "        \"men\",\n",
    "        \"non\",\n",
    "        \"nte\",\n",
    "        \"nti\",\n",
    "        \"nto\",\n",
    "        \"olo\",\n",
    "        \"one\",\n",
    "        \"ono\",\n",
    "        \"per\",\n",
    "        \"que\",\n",
    "        \"son\",\n",
    "        \"sta\",\n",
    "        \"ver\",\n",
    "    ],\n",
    "}"
   ]
  },
  {
   "cell_type": "code",
   "execution_count": 141,
   "metadata": {},
   "outputs": [],
   "source": [
    "def guess(ngrams):\n",
    "    counter = collections.Counter()\n",
    "    for ngram in ngrams:\n",
    "        for k, v in langs.items():\n",
    "            if ngram in v:\n",
    "                counter[k] += 1\n",
    "\n",
    "    return counter.most_common()\n",
    "\n",
    "ngrams = []\n",
    "line = \"e per la sua architettura barocca con influenze mediterranee\".lower()\n",
    "for i in range(0, len(line) - 3):\n",
    "    ngrams.append(line[i:i+3])"
   ]
  },
  {
   "cell_type": "code",
   "execution_count": 142,
   "metadata": {},
   "outputs": [
    {
     "data": {
      "text/plain": [
       "['e p',\n",
       " ' pe',\n",
       " 'per',\n",
       " 'er ',\n",
       " 'r l',\n",
       " ' la',\n",
       " 'la ',\n",
       " 'a s',\n",
       " ' su',\n",
       " 'sua',\n",
       " 'ua ',\n",
       " 'a a',\n",
       " ' ar',\n",
       " 'arc',\n",
       " 'rch',\n",
       " 'chi',\n",
       " 'hit',\n",
       " 'ite',\n",
       " 'tet',\n",
       " 'ett',\n",
       " 'ttu',\n",
       " 'tur',\n",
       " 'ura',\n",
       " 'ra ',\n",
       " 'a b',\n",
       " ' ba',\n",
       " 'bar',\n",
       " 'aro',\n",
       " 'roc',\n",
       " 'occ',\n",
       " 'cca',\n",
       " 'ca ',\n",
       " 'a c',\n",
       " ' co',\n",
       " 'con',\n",
       " 'on ',\n",
       " 'n i',\n",
       " ' in',\n",
       " 'inf',\n",
       " 'nfl',\n",
       " 'flu',\n",
       " 'lue',\n",
       " 'uen',\n",
       " 'enz',\n",
       " 'nze',\n",
       " 'ze ',\n",
       " 'e m',\n",
       " ' me',\n",
       " 'med',\n",
       " 'edi',\n",
       " 'dit',\n",
       " 'ite',\n",
       " 'ter',\n",
       " 'err',\n",
       " 'rra',\n",
       " 'ran',\n",
       " 'ane']"
      ]
     },
     "execution_count": 142,
     "metadata": {},
     "output_type": "execute_result"
    }
   ],
   "source": [
    "ngrams"
   ]
  },
  {
   "cell_type": "code",
   "execution_count": 143,
   "metadata": {},
   "outputs": [
    {
     "name": "stdout",
     "output_type": "stream",
     "text": [
      "[('it', 4), ('en', 2)]\n"
     ]
    }
   ],
   "source": [
    "print(guess(ngrams=ngrams))"
   ]
  },
  {
   "cell_type": "code",
   "execution_count": 144,
   "metadata": {},
   "outputs": [],
   "source": [
    "### control flow"
   ]
  },
  {
   "cell_type": "code",
   "execution_count": 145,
   "metadata": {},
   "outputs": [],
   "source": [
    "li = [1, 2, 3]"
   ]
  },
  {
   "cell_type": "code",
   "execution_count": 146,
   "metadata": {},
   "outputs": [
    {
     "name": "stdout",
     "output_type": "stream",
     "text": [
      "1\n",
      "2\n",
      "3\n"
     ]
    }
   ],
   "source": [
    "for v in li:\n",
    "    print(v)"
   ]
  },
  {
   "cell_type": "code",
   "execution_count": 172,
   "metadata": {},
   "outputs": [],
   "source": [
    "x = 2\n",
    "li = [1, 2, ]"
   ]
  },
  {
   "cell_type": "code",
   "execution_count": 177,
   "metadata": {},
   "outputs": [
    {
     "name": "stdout",
     "output_type": "stream",
     "text": [
      "list is not empty and x > 0\n"
     ]
    }
   ],
   "source": [
    "if len(li) > 0 and x > 0: # li\n",
    "    print(\"list is not empty and x > 0\")\n",
    "elif x < 0:\n",
    "    print(\"neg\")\n",
    "else:\n",
    "    print(\"something else\")"
   ]
  },
  {
   "cell_type": "code",
   "execution_count": 175,
   "metadata": {},
   "outputs": [
    {
     "data": {
      "text/plain": [
       "False"
      ]
     },
     "execution_count": 175,
     "metadata": {},
     "output_type": "execute_result"
    }
   ],
   "source": [
    "bool(None)"
   ]
  },
  {
   "cell_type": "code",
   "execution_count": 178,
   "metadata": {},
   "outputs": [],
   "source": [
    "### loops"
   ]
  },
  {
   "cell_type": "code",
   "execution_count": 179,
   "metadata": {},
   "outputs": [],
   "source": [
    "li = [1, 2, 3]"
   ]
  },
  {
   "cell_type": "code",
   "execution_count": 181,
   "metadata": {},
   "outputs": [
    {
     "name": "stdout",
     "output_type": "stream",
     "text": [
      "1\n",
      "2\n",
      "3\n"
     ]
    }
   ],
   "source": [
    "for v in li:\n",
    "    print(v)"
   ]
  },
  {
   "cell_type": "code",
   "execution_count": 183,
   "metadata": {},
   "outputs": [
    {
     "name": "stdout",
     "output_type": "stream",
     "text": [
      "3\n",
      "2\n"
     ]
    }
   ],
   "source": [
    "i = 3\n",
    "while i > 0:\n",
    "    print(i)\n",
    "    if i == 2:\n",
    "        break\n",
    "    i -= 1 \n",
    "    "
   ]
  },
  {
   "cell_type": "code",
   "execution_count": 185,
   "metadata": {},
   "outputs": [
    {
     "name": "stdout",
     "output_type": "stream",
     "text": [
      "1\n",
      "3\n"
     ]
    }
   ],
   "source": [
    "for i in range(5):\n",
    "    if i % 2 == 0:\n",
    "        continue\n",
    "    print(i)"
   ]
  },
  {
   "cell_type": "code",
   "execution_count": 1,
   "metadata": {},
   "outputs": [
    {
     "name": "stdout",
     "output_type": "stream",
     "text": [
      "0\n",
      "1\n",
      "2\n",
      "3\n",
      "4\n",
      "5\n"
     ]
    }
   ],
   "source": [
    "for i in range(10):\n",
    "    print(i)\n",
    "    if i > 4:\n",
    "        break\n",
    "else:\n",
    "    print(\"for: else\")"
   ]
  },
  {
   "cell_type": "markdown",
   "metadata": {},
   "source": [
    "* NameError, ValueError, KeyError, IndexError"
   ]
  },
  {
   "cell_type": "code",
   "execution_count": null,
   "metadata": {},
   "outputs": [
    {
     "name": "stdout",
     "output_type": "stream",
     "text": [
      "please debug your program\n"
     ]
    }
   ],
   "source": [
    "while True:\n",
    "    user_input = input(\"any number? \")\n",
    "    try:\n",
    "        k = float(user_input)\n",
    "    except ValueError:\n",
    "        print(\"please, a number\")\n",
    "        continue\n",
    "    except NameError:\n",
    "        print(\"please debug your program\")\n",
    "        break\n",
    "    else:\n",
    "        print(\"all fine!\")\n",
    "    print(k)\n",
    "    break\n"
   ]
  },
  {
   "cell_type": "code",
   "execution_count": null,
   "metadata": {},
   "outputs": [
    {
     "name": "stdout",
     "output_type": "stream",
     "text": [
      "failed! with <class 'FileNotFoundError'> => [Errno 2] No such file or directory: 'doesnotexit'\n"
     ]
    }
   ],
   "source": [
    "try:\n",
    "    open(\"doesnotexit\")\n",
    "except OSError as exc:\n",
    "    print(f\"failed! with {type(exc)} => {exc}\")"
   ]
  },
  {
   "cell_type": "code",
   "execution_count": 15,
   "metadata": {},
   "outputs": [],
   "source": [
    "d = {\"a\": 1, \"b\": \"hello\"}"
   ]
  },
  {
   "cell_type": "code",
   "execution_count": 16,
   "metadata": {},
   "outputs": [
    {
     "name": "stdout",
     "output_type": "stream",
     "text": [
      "not found\n"
     ]
    }
   ],
   "source": [
    "try:\n",
    "    print(d[\"c\"])\n",
    "except KeyError:\n",
    "    print(\"not found\")"
   ]
  },
  {
   "cell_type": "code",
   "execution_count": 19,
   "metadata": {},
   "outputs": [],
   "source": [
    "freq = {}\n",
    "\n",
    "for c in s:\n",
    "    try: \n",
    "        freq[c] += 1\n",
    "    except KeyError:\n",
    "        freq[c] = 1\n",
    "        \n",
    "    # if c in freq: \n",
    "    #     # freq[c] = freq.get(c, 0) + 1\n",
    "    #     freq[c] = freq[c] + 1\n",
    "    # else:\n",
    "    #     freq[c] = 1"
   ]
  },
  {
   "cell_type": "code",
   "execution_count": 20,
   "metadata": {},
   "outputs": [
    {
     "data": {
      "text/plain": [
       "{'\\n': 22,\n",
       " 'T': 3,\n",
       " 'h': 31,\n",
       " 'e': 90,\n",
       " ' ': 124,\n",
       " 'Z': 1,\n",
       " 'n': 40,\n",
       " 'o': 43,\n",
       " 'f': 11,\n",
       " 'P': 2,\n",
       " 'y': 17,\n",
       " 't': 76,\n",
       " ',': 4,\n",
       " 'b': 20,\n",
       " 'i': 50,\n",
       " 'm': 16,\n",
       " 'r': 32,\n",
       " 's': 43,\n",
       " 'B': 1,\n",
       " 'a': 50,\n",
       " 'u': 20,\n",
       " 'l': 33,\n",
       " 'g': 11,\n",
       " '.': 18,\n",
       " 'E': 2,\n",
       " 'x': 6,\n",
       " 'p': 20,\n",
       " 'c': 16,\n",
       " 'S': 3,\n",
       " 'C': 1,\n",
       " 'd': 16,\n",
       " 'F': 1,\n",
       " 'R': 1,\n",
       " \"'\": 4,\n",
       " 'k': 2,\n",
       " 'A': 3,\n",
       " 'v': 5,\n",
       " 'U': 1,\n",
       " 'I': 3,\n",
       " '-': 6,\n",
       " 'w': 4,\n",
       " 'D': 1,\n",
       " 'N': 2,\n",
       " '*': 2,\n",
       " '!': 1}"
      ]
     },
     "execution_count": 20,
     "metadata": {},
     "output_type": "execute_result"
    }
   ],
   "source": [
    "freq"
   ]
  },
  {
   "cell_type": "code",
   "execution_count": 22,
   "metadata": {},
   "outputs": [],
   "source": [
    "## functions"
   ]
  },
  {
   "cell_type": "code",
   "execution_count": 30,
   "metadata": {},
   "outputs": [],
   "source": [
    "def f(x, y): # positional arguments\n",
    "    return x * y"
   ]
  },
  {
   "cell_type": "code",
   "execution_count": 40,
   "metadata": {},
   "outputs": [
    {
     "data": {
      "text/plain": [
       "200"
      ]
     },
     "execution_count": 40,
     "metadata": {},
     "output_type": "execute_result"
    }
   ],
   "source": [
    "f(1, 200)"
   ]
  },
  {
   "cell_type": "code",
   "execution_count": null,
   "metadata": {},
   "outputs": [],
   "source": [
    "def f(x, y, z=0, skip=None):\n",
    "    print(z)\n",
    "    if skip:\n",
    "        return 0\n",
    "    return x * y + z"
   ]
  },
  {
   "cell_type": "code",
   "execution_count": 62,
   "metadata": {},
   "outputs": [
    {
     "name": "stdout",
     "output_type": "stream",
     "text": [
      "100\n"
     ]
    },
    {
     "ename": "TypeError",
     "evalue": "can only concatenate str (not \"int\") to str",
     "output_type": "error",
     "traceback": [
      "\u001b[0;31m---------------------------------------------------------------------------\u001b[0m",
      "\u001b[0;31mTypeError\u001b[0m                                 Traceback (most recent call last)",
      "Cell \u001b[0;32mIn[62], line 1\u001b[0m\n\u001b[0;32m----> 1\u001b[0m \u001b[43mf\u001b[49m\u001b[43m(\u001b[49m\u001b[38;5;124;43m\"\u001b[39;49m\u001b[38;5;124;43ma\u001b[39;49m\u001b[38;5;124;43m\"\u001b[39;49m\u001b[43m,\u001b[49m\u001b[43m \u001b[49m\u001b[38;5;241;43m2\u001b[39;49m\u001b[43m,\u001b[49m\u001b[43m \u001b[49m\u001b[43mz\u001b[49m\u001b[38;5;241;43m=\u001b[39;49m\u001b[38;5;241;43m100\u001b[39;49m\u001b[43m)\u001b[49m\n",
      "Cell \u001b[0;32mIn[58], line 5\u001b[0m, in \u001b[0;36mf\u001b[0;34m(x, y, z, skip)\u001b[0m\n\u001b[1;32m      3\u001b[0m \u001b[38;5;28;01mif\u001b[39;00m skip:\n\u001b[1;32m      4\u001b[0m     \u001b[38;5;28;01mreturn\u001b[39;00m \u001b[38;5;241m0\u001b[39m\n\u001b[0;32m----> 5\u001b[0m \u001b[38;5;28;01mreturn\u001b[39;00m \u001b[43mx\u001b[49m\u001b[43m \u001b[49m\u001b[38;5;241;43m*\u001b[39;49m\u001b[43m \u001b[49m\u001b[43my\u001b[49m\u001b[43m \u001b[49m\u001b[38;5;241;43m+\u001b[39;49m\u001b[43m \u001b[49m\u001b[43mz\u001b[49m\n",
      "\u001b[0;31mTypeError\u001b[0m: can only concatenate str (not \"int\") to str"
     ]
    }
   ],
   "source": [
    "f(\"a\", 2, z=100)"
   ]
  },
  {
   "cell_type": "code",
   "execution_count": 32,
   "metadata": {},
   "outputs": [],
   "source": [
    "def g():\n",
    "    pass"
   ]
  },
  {
   "cell_type": "code",
   "execution_count": 34,
   "metadata": {},
   "outputs": [
    {
     "data": {
      "text/plain": [
       "True"
      ]
     },
     "execution_count": 34,
     "metadata": {},
     "output_type": "execute_result"
    }
   ],
   "source": [
    "g() == None"
   ]
  },
  {
   "cell_type": "code",
   "execution_count": 67,
   "metadata": {},
   "outputs": [],
   "source": [
    "def firstlast(seq):\n",
    "    \"\"\"\n",
    "    Returns the first and last element of an sequence.\n",
    "    \"\"\"\n",
    "    if len(seq) == 0:\n",
    "        raise ValueError(\"empty sequence\")\n",
    "    return (seq[0], seq[-1])"
   ]
  },
  {
   "cell_type": "code",
   "execution_count": 68,
   "metadata": {},
   "outputs": [
    {
     "name": "stdout",
     "output_type": "stream",
     "text": [
      "Help on function firstlast in module __main__:\n",
      "\n",
      "firstlast(seq)\n",
      "    Returns the first and last element of an sequence.\n",
      "\n"
     ]
    }
   ],
   "source": [
    "help(firstlast)"
   ]
  },
  {
   "cell_type": "code",
   "execution_count": 64,
   "metadata": {},
   "outputs": [
    {
     "data": {
      "text/plain": [
       "('h', 'o')"
      ]
     },
     "execution_count": 64,
     "metadata": {},
     "output_type": "execute_result"
    }
   ],
   "source": [
    "firstlast(\"hello\")"
   ]
  },
  {
   "cell_type": "code",
   "execution_count": 65,
   "metadata": {},
   "outputs": [
    {
     "data": {
      "text/plain": [
       "(1, 4)"
      ]
     },
     "execution_count": 65,
     "metadata": {},
     "output_type": "execute_result"
    }
   ],
   "source": [
    "firstlast([1, 2, 3, 4])"
   ]
  },
  {
   "cell_type": "code",
   "execution_count": 66,
   "metadata": {},
   "outputs": [
    {
     "data": {
      "text/plain": [
       "(1, 4)"
      ]
     },
     "execution_count": 66,
     "metadata": {},
     "output_type": "execute_result"
    }
   ],
   "source": [
    "firstlast((1, 2, 3, 4))"
   ]
  },
  {
   "cell_type": "code",
   "execution_count": null,
   "metadata": {},
   "outputs": [],
   "source": []
  }
 ],
 "metadata": {
  "kernelspec": {
   "display_name": ".venv",
   "language": "python",
   "name": "python3"
  },
  "language_info": {
   "codemirror_mode": {
    "name": "ipython",
    "version": 3
   },
   "file_extension": ".py",
   "mimetype": "text/x-python",
   "name": "python",
   "nbconvert_exporter": "python",
   "pygments_lexer": "ipython3",
   "version": "3.11.2"
  }
 },
 "nbformat": 4,
 "nbformat_minor": 2
}
