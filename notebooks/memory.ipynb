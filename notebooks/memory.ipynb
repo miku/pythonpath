{
 "cells": [
  {
   "cell_type": "markdown",
   "id": "156a4306-8622-4a43-b7be-cc3b56c80f12",
   "metadata": {},
   "source": [
    "What can we learn about memory in Python?"
   ]
  },
  {
   "cell_type": "code",
   "execution_count": 1,
   "id": "488b99e2-eda9-4575-8c7a-b4812ac4d1fb",
   "metadata": {},
   "outputs": [],
   "source": [
    "status = 200"
   ]
  },
  {
   "cell_type": "code",
   "execution_count": 2,
   "id": "b2f8d4fb-a50b-4c59-a453-534b6ccfcc80",
   "metadata": {},
   "outputs": [
    {
     "data": {
      "text/plain": [
       "int"
      ]
     },
     "execution_count": 2,
     "metadata": {},
     "output_type": "execute_result"
    }
   ],
   "source": [
    "type(status)"
   ]
  },
  {
   "cell_type": "code",
   "execution_count": 3,
   "id": "dd24aa45-0a4c-4bc1-ba33-e6199486865d",
   "metadata": {},
   "outputs": [],
   "source": [
    "import sys"
   ]
  },
  {
   "cell_type": "code",
   "execution_count": 4,
   "id": "ad0e2e8f-c5a9-44c0-96b6-e485239ba6e5",
   "metadata": {},
   "outputs": [
    {
     "data": {
      "text/plain": [
       "28"
      ]
     },
     "execution_count": 4,
     "metadata": {},
     "output_type": "execute_result"
    }
   ],
   "source": [
    "sys.getsizeof(status)"
   ]
  },
  {
   "cell_type": "markdown",
   "id": "2d1d6557-c60f-4865-800e-1ea5c62f98db",
   "metadata": {},
   "source": [
    "What is in there?\n",
    "\n",
    "* \"everything is an object\" in Python (and objects come with a layout: [common header](https://github.com/python/cpython/blob/main/Objects/object_layout.md#common-header))\n",
    "* as Python ints are essentially a bignum implementation, they take up more space\n",
    "\n",
    "What is inside an int?\n",
    "\n",
    "* a reference count ob_refcnt: 8 bytes\n",
    "* a type ob_type: 8 bytes\n",
    "* an object's size ob_size: 8 bytes\n",
    "* ob_digit: 4 bytes.\n",
    "\n",
    "> Allocating a list of a million integers requires allocating the integers themselves plus a million references to them, which is about 35 megabytes in total. Compare it to 4 megabytes required to allocate an array of a million 32-bit ints. So, sometimes it makes sense to use the array module or numpy to store large amounts of homogenous data. -- https://tenthousandmeters.com/blog/python-behind-the-scenes-8-how-python-integers-work/"
   ]
  },
  {
   "cell_type": "code",
   "execution_count": 5,
   "id": "3db15cff-7060-4a6c-bd82-597497716f2c",
   "metadata": {},
   "outputs": [],
   "source": [
    "status = 9223372036854775807 # https://go.dev/play/p/Bi1IxXaVH6o"
   ]
  },
  {
   "cell_type": "code",
   "execution_count": 6,
   "id": "3a84289b-df0d-4681-9b3d-408898483229",
   "metadata": {},
   "outputs": [
    {
     "data": {
      "text/plain": [
       "36"
      ]
     },
     "execution_count": 6,
     "metadata": {},
     "output_type": "execute_result"
    }
   ],
   "source": [
    "sys.getsizeof(status)"
   ]
  }
 ],
 "metadata": {
  "kernelspec": {
   "display_name": "Python 3 (ipykernel)",
   "language": "python",
   "name": "python3"
  },
  "language_info": {
   "codemirror_mode": {
    "name": "ipython",
    "version": 3
   },
   "file_extension": ".py",
   "mimetype": "text/x-python",
   "name": "python",
   "nbconvert_exporter": "python",
   "pygments_lexer": "ipython3",
   "version": "3.10.12"
  }
 },
 "nbformat": 4,
 "nbformat_minor": 5
}
