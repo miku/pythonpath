{
 "cells": [
  {
   "cell_type": "markdown",
   "metadata": {},
   "source": [
    "# 02 Pandas Reading Excel (data.europe.eu)\n",
    "\n",
    "Content:\n",
    "\n",
    "* Loading (large) Excel file, 75MB\n",
    "* Basic inspection\n",
    "\n",
    "\n",
    "----\n",
    "\n",
    "Note:\n",
    "\n",
    "* Requires additional libraries to load Excel files, e.g. [xlrd](https://github.com/python-excel/xlrd) or [openpyxl](https://openpyxl.readthedocs.io/en/stable/)."
   ]
  },
  {
   "cell_type": "code",
   "execution_count": 4,
   "metadata": {},
   "outputs": [
    {
     "name": "stdout",
     "output_type": "stream",
     "text": [
      "Collecting openpyxl\n",
      "  Downloading openpyxl-3.1.2-py2.py3-none-any.whl.metadata (2.5 kB)\n",
      "Collecting et-xmlfile (from openpyxl)\n",
      "  Downloading et_xmlfile-1.1.0-py3-none-any.whl.metadata (1.8 kB)\n",
      "Downloading openpyxl-3.1.2-py2.py3-none-any.whl (249 kB)\n",
      "\u001b[2K   \u001b[38;2;114;156;31m━━━━━━━━━━━━━━━━━━━━━━━━━━━━━━━━━━━━━━━━\u001b[0m \u001b[32m250.0/250.0 kB\u001b[0m \u001b[31m2.2 MB/s\u001b[0m eta \u001b[36m0:00:00\u001b[0m[36m0:00:01\u001b[0m eta \u001b[36m0:00:01\u001b[0m\n",
      "\u001b[?25hDownloading et_xmlfile-1.1.0-py3-none-any.whl (4.7 kB)\n",
      "Installing collected packages: et-xmlfile, openpyxl\n",
      "Successfully installed et-xmlfile-1.1.0 openpyxl-3.1.2\n"
     ]
    }
   ],
   "source": [
    "!pip install openpyxl"
   ]
  },
  {
   "cell_type": "code",
   "execution_count": 5,
   "metadata": {},
   "outputs": [
    {
     "name": "stdout",
     "output_type": "stream",
     "text": [
      "[4.0K]  \u001b[01;37mdata/E-PRTR_database_v13\u001b[0m\n",
      "├── [ 75M]  \u001b[00mPollutant releases.xlsx\u001b[0m\n",
      "├── [7.6M]  \u001b[00mPollutant transfers.xlsx\u001b[0m\n",
      "└── [ 94M]  \u001b[00mWaste transfers.xlsx\u001b[0m\n",
      "\n",
      "0 directories, 3 files\n"
     ]
    }
   ],
   "source": [
    "!tree -sh data/E-PRTR_database_v13"
   ]
  },
  {
   "cell_type": "code",
   "execution_count": 6,
   "metadata": {},
   "outputs": [],
   "source": [
    "import pandas as pd"
   ]
  },
  {
   "cell_type": "markdown",
   "metadata": {},
   "source": [
    "Reading 75MB of Excel can take a while (few minutes), even with Pandas."
   ]
  },
  {
   "cell_type": "code",
   "execution_count": 7,
   "metadata": {},
   "outputs": [],
   "source": [
    "df = pd.read_excel(\"data/E-PRTR_database_v13/Pollutant releases.xlsx\")"
   ]
  },
  {
   "cell_type": "markdown",
   "metadata": {},
   "source": [
    "## Basic inspection\n",
    "\n",
    "Key takeaways:\n",
    "\n",
    "* Pandas has inferred the types of various columns (`dtypes: bool(1), float64(3), int64(2), object(16)`)\n",
    "\n",
    "Few inspection functions:\n",
    "\n",
    "* `df.info`\n",
    "* `df.describe`\n",
    "* `df[\"columnname\"].unique()`\n",
    "\n",
    "Real-world data is often not complete, values are missing. That's why a `df.info()` is useful to have a first glance at the data quality."
   ]
  },
  {
   "cell_type": "code",
   "execution_count": 8,
   "metadata": {},
   "outputs": [
    {
     "name": "stdout",
     "output_type": "stream",
     "text": [
      "<class 'pandas.core.frame.DataFrame'>\n",
      "RangeIndex: 537982 entries, 0 to 537981\n",
      "Data columns (total 22 columns):\n",
      " #   Column                  Non-Null Count   Dtype  \n",
      "---  ------                  --------------   -----  \n",
      " 0   FacilityID              537982 non-null  int64  \n",
      " 1   NationalID              537982 non-null  object \n",
      " 2   FacilityName            537656 non-null  object \n",
      " 3   StreetName              533093 non-null  object \n",
      " 4   BuildingNumber          364475 non-null  object \n",
      " 5   PostalCode              537884 non-null  object \n",
      " 6   City                    537902 non-null  object \n",
      " 7   CountryName             537982 non-null  object \n",
      " 8   Lat                     537982 non-null  float64\n",
      " 9   Long                    537982 non-null  float64\n",
      " 10  CompetentAuthorityName  537982 non-null  object \n",
      " 11  MainIAActivityCode      537982 non-null  object \n",
      " 12  MainIASectorName        537982 non-null  object \n",
      " 13  MainIAActivityName      537982 non-null  object \n",
      " 14  MainIASubActivityName   119582 non-null  object \n",
      " 15  MainActivityIndicator   537982 non-null  bool   \n",
      " 16  ReportingYear           537982 non-null  int64  \n",
      " 17  PollutantName           537982 non-null  object \n",
      " 18  PollutantGroupName      537982 non-null  object \n",
      " 19  TotalQuantity           537982 non-null  float64\n",
      " 20  ReleaseMediumName       537982 non-null  object \n",
      " 21  MethodTypeName          517859 non-null  object \n",
      "dtypes: bool(1), float64(3), int64(2), object(16)\n",
      "memory usage: 86.7+ MB\n"
     ]
    }
   ],
   "source": [
    "df.info()"
   ]
  },
  {
   "cell_type": "markdown",
   "metadata": {},
   "source": [
    "Then, to get an impression of the content, the column names might or might not be speaking."
   ]
  },
  {
   "cell_type": "code",
   "execution_count": 9,
   "metadata": {},
   "outputs": [
    {
     "data": {
      "text/plain": [
       "Index(['FacilityID', 'NationalID', 'FacilityName', 'StreetName',\n",
       "       'BuildingNumber', 'PostalCode', 'City', 'CountryName', 'Lat', 'Long',\n",
       "       'CompetentAuthorityName', 'MainIAActivityCode', 'MainIASectorName',\n",
       "       'MainIAActivityName', 'MainIASubActivityName', 'MainActivityIndicator',\n",
       "       'ReportingYear', 'PollutantName', 'PollutantGroupName', 'TotalQuantity',\n",
       "       'ReleaseMediumName', 'MethodTypeName'],\n",
       "      dtype='object')"
      ]
     },
     "execution_count": 9,
     "metadata": {},
     "output_type": "execute_result"
    }
   ],
   "source": [
    "df.columns"
   ]
  },
  {
   "cell_type": "markdown",
   "metadata": {},
   "source": [
    "With the various selection techniques, it is quite easy to just peek into the data and get more impressions of values and shape."
   ]
  },
  {
   "cell_type": "code",
   "execution_count": 10,
   "metadata": {},
   "outputs": [
    {
     "data": {
      "text/plain": [
       "0    Czech Republic\n",
       "1    Czech Republic\n",
       "2    Czech Republic\n",
       "3    Czech Republic\n",
       "4    Czech Republic\n",
       "5    Czech Republic\n",
       "6    Czech Republic\n",
       "7    Czech Republic\n",
       "8    Czech Republic\n",
       "9    Czech Republic\n",
       "Name: CountryName, dtype: object"
      ]
     },
     "execution_count": 10,
     "metadata": {},
     "output_type": "execute_result"
    }
   ],
   "source": [
    "df.CountryName[:10]"
   ]
  },
  {
   "cell_type": "markdown",
   "metadata": {},
   "source": [
    "Unique values are often of interest as well."
   ]
  },
  {
   "cell_type": "code",
   "execution_count": 11,
   "metadata": {},
   "outputs": [
    {
     "data": {
      "text/plain": [
       "array(['Czech Republic', 'United Kingdom', 'Ireland', 'Estonia',\n",
       "       'Finland', 'Hungary', 'Lithuania', 'Luxembourg', 'Malta',\n",
       "       'Romania', 'Slovenia', 'Cyprus', 'Slovakia', 'Denmark', 'France',\n",
       "       'Poland', 'Greece', 'Iceland', 'Latvia', 'Serbia', 'Portugal',\n",
       "       'Bulgaria', 'Norway', 'Italy', 'Austria', 'Switzerland',\n",
       "       'Netherlands', 'Belgium', 'Croatia', 'Spain', 'Sweden', 'Germany'],\n",
       "      dtype=object)"
      ]
     },
     "execution_count": 11,
     "metadata": {},
     "output_type": "execute_result"
    }
   ],
   "source": [
    "df.CountryName.unique()"
   ]
  },
  {
   "cell_type": "code",
   "execution_count": 12,
   "metadata": {},
   "outputs": [
    {
     "data": {
      "text/plain": [
       "array(['Mladá Boleslav', 'Praha 18', 'Slezská Ostrava', ...,\n",
       "       'SAINT-BENIGNE', 'PONT-AVEN', 'GRACE-UZEL'], dtype=object)"
      ]
     },
     "execution_count": 12,
     "metadata": {},
     "output_type": "execute_result"
    }
   ],
   "source": [
    "df.City.unique()"
   ]
  },
  {
   "cell_type": "code",
   "execution_count": 13,
   "metadata": {},
   "outputs": [
    {
     "data": {
      "text/plain": [
       "15104"
      ]
     },
     "execution_count": 13,
     "metadata": {},
     "output_type": "execute_result"
    }
   ],
   "source": [
    "len(df.City.unique())"
   ]
  },
  {
   "cell_type": "markdown",
   "metadata": {},
   "source": [
    "Most of the time, unique values *per column* are what is relevant. In case the unique values should be queried\n",
    "across multiple columns, one has to take a slight workaround: first concatenate the columns and then run unique on that."
   ]
  },
  {
   "cell_type": "code",
   "execution_count": 14,
   "metadata": {},
   "outputs": [
    {
     "data": {
      "text/plain": [
       "array(['Mladá Boleslav', 'Praha 18', 'Slezská Ostrava', ..., 'Spain',\n",
       "       'Sweden', 'Germany'], dtype=object)"
      ]
     },
     "execution_count": 14,
     "metadata": {},
     "output_type": "execute_result"
    }
   ],
   "source": [
    "pd.concat([df['City'], df['CountryName']]).unique()"
   ]
  },
  {
   "cell_type": "code",
   "execution_count": 15,
   "metadata": {},
   "outputs": [
    {
     "data": {
      "text/plain": [
       "15135"
      ]
     },
     "execution_count": 15,
     "metadata": {},
     "output_type": "execute_result"
    }
   ],
   "source": [
    "len(pd.concat([df['City'], df['CountryName']]).unique())"
   ]
  },
  {
   "cell_type": "markdown",
   "metadata": {},
   "source": [
    "The value almost equals the sum of the unique values."
   ]
  },
  {
   "cell_type": "code",
   "execution_count": 16,
   "metadata": {},
   "outputs": [
    {
     "data": {
      "text/plain": [
       "15136"
      ]
     },
     "execution_count": 16,
     "metadata": {},
     "output_type": "execute_result"
    }
   ],
   "source": [
    "len(df.City.unique()) + len(df.CountryName.unique())"
   ]
  },
  {
   "cell_type": "markdown",
   "metadata": {},
   "source": [
    "Which means, that there is an overlap between city and country names. The interoperability of Pandas, numpy and Python makes it  quite simple to find the overlap with the built-in set data type."
   ]
  },
  {
   "cell_type": "code",
   "execution_count": 17,
   "metadata": {},
   "outputs": [
    {
     "data": {
      "text/plain": [
       "{'Luxembourg'}"
      ]
     },
     "execution_count": 17,
     "metadata": {},
     "output_type": "execute_result"
    }
   ],
   "source": [
    "set(df.City.unique()) & set(df.CountryName.unique())"
   ]
  },
  {
   "cell_type": "markdown",
   "metadata": {},
   "source": [
    "## Grouping\n",
    "\n",
    "* Grouping is one of the most common operations to perform on data.\n",
    "* The df.groupyby function is \"call-by-need\" or lazily evaluated, it returns a DataFrameGroupBy object.\n",
    "* Aggregations, like size are realised as chained calls.\n",
    "\n",
    "One useful stanza is the `df.groupy(\"columnname\").size().sort_values()` expression, which ranks values by frequency.\n"
   ]
  },
  {
   "cell_type": "code",
   "execution_count": 18,
   "metadata": {},
   "outputs": [
    {
     "data": {
      "text/plain": [
       "<pandas.core.groupby.generic.DataFrameGroupBy object at 0x7e9b5edff580>"
      ]
     },
     "execution_count": 18,
     "metadata": {},
     "output_type": "execute_result"
    }
   ],
   "source": [
    "df.groupby(\"CountryName\")"
   ]
  },
  {
   "cell_type": "code",
   "execution_count": 19,
   "metadata": {},
   "outputs": [
    {
     "data": {
      "text/plain": [
       "CountryName\n",
       "Germany           95038\n",
       "United Kingdom    79397\n",
       "Italy             49962\n",
       "Spain             48544\n",
       "France            41749\n",
       "Poland            34430\n",
       "Norway            27525\n",
       "Belgium           22077\n",
       "Netherlands       19737\n",
       "Czech Republic    18312\n",
       "Portugal          15397\n",
       "Sweden            12333\n",
       "Romania           11237\n",
       "Finland            9124\n",
       "Hungary            9014\n",
       "Slovakia           8593\n",
       "Ireland            5549\n",
       "Bulgaria           4766\n",
       "Austria            4702\n",
       "Greece             3844\n",
       "Denmark            3386\n",
       "Slovenia           2366\n",
       "Switzerland        2366\n",
       "Serbia             1989\n",
       "Estonia            1574\n",
       "Lithuania          1435\n",
       "Cyprus              921\n",
       "Luxembourg          740\n",
       "Latvia              623\n",
       "Iceland             523\n",
       "Croatia             405\n",
       "Malta               324\n",
       "dtype: int64"
      ]
     },
     "execution_count": 19,
     "metadata": {},
     "output_type": "execute_result"
    }
   ],
   "source": [
    "df.groupby(\"CountryName\").size().sort_values(ascending=False)"
   ]
  },
  {
   "cell_type": "markdown",
   "metadata": {},
   "source": [
    "## How many pollutants are listed?\n",
    "\n",
    "* And which one is the most frequent?"
   ]
  },
  {
   "cell_type": "code",
   "execution_count": 20,
   "metadata": {},
   "outputs": [
    {
     "data": {
      "text/plain": [
       "97"
      ]
     },
     "execution_count": 20,
     "metadata": {},
     "output_type": "execute_result"
    }
   ],
   "source": [
    "len(df[\"PollutantName\"].unique())"
   ]
  },
  {
   "cell_type": "code",
   "execution_count": 21,
   "metadata": {},
   "outputs": [
    {
     "data": {
      "text/plain": [
       "PollutantName\n",
       "Ammonia (NH3)                                       67498\n",
       "Nitrogen oxides (NOx/NO2)                           37951\n",
       "Carbon dioxide (CO2)                                33335\n",
       "Zinc and compounds (as Zn)                          32970\n",
       "Total organic carbon (TOC) (as total C or COD/3)    25159\n",
       "                                                    ...  \n",
       "Chlordane                                               6\n",
       "Inorganic substances                                    3\n",
       "Other organic substances                                2\n",
       "Mirex                                                   2\n",
       "Heavy metals                                            1\n",
       "Length: 97, dtype: int64"
      ]
     },
     "execution_count": 21,
     "metadata": {},
     "output_type": "execute_result"
    }
   ],
   "source": [
    "df.groupby(\"PollutantName\").size().sort_values(ascending=False)"
   ]
  },
  {
   "cell_type": "markdown",
   "metadata": {},
   "source": [
    "## Which pollutant groups are listed?"
   ]
  },
  {
   "cell_type": "code",
   "execution_count": 22,
   "metadata": {},
   "outputs": [
    {
     "data": {
      "text/plain": [
       "array(['Other gases', 'Greenhouse gases', 'Other organic substances',\n",
       "       'Heavy metals', 'Inorganic substances',\n",
       "       'Chlorinated organic substances', 'Pesticides'], dtype=object)"
      ]
     },
     "execution_count": 22,
     "metadata": {},
     "output_type": "execute_result"
    }
   ],
   "source": [
    "df.PollutantGroupName.unique()"
   ]
  },
  {
   "cell_type": "markdown",
   "metadata": {},
   "source": [
    "## The medium of release for the pollutant has fewer manifestations.\n",
    "\n",
    "* Air\n",
    "* Water\n",
    "* Soil"
   ]
  },
  {
   "cell_type": "code",
   "execution_count": 23,
   "metadata": {},
   "outputs": [
    {
     "data": {
      "text/plain": [
       "array(['Air', 'Water', 'Soil'], dtype=object)"
      ]
     },
     "execution_count": 23,
     "metadata": {},
     "output_type": "execute_result"
    }
   ],
   "source": [
    "df.ReleaseMediumName.unique()"
   ]
  },
  {
   "cell_type": "code",
   "execution_count": 24,
   "metadata": {},
   "outputs": [
    {
     "data": {
      "text/plain": [
       "ReleaseMediumName\n",
       "Air      316050\n",
       "Water    218721\n",
       "Soil       3211\n",
       "dtype: int64"
      ]
     },
     "execution_count": 24,
     "metadata": {},
     "output_type": "execute_result"
    }
   ],
   "source": [
    "df.groupby(df.ReleaseMediumName).size().sort_values(ascending=False)"
   ]
  },
  {
   "cell_type": "markdown",
   "metadata": {},
   "source": [
    "## Grouping by more than one attribute.\n",
    "\n",
    "Grouping by more than one attribute is supported, by passing a list of columns to `df.groupby`.\n",
    "\n",
    "Are there pollutants, that are release through more than one medium?"
   ]
  },
  {
   "cell_type": "code",
   "execution_count": 25,
   "metadata": {},
   "outputs": [],
   "source": [
    "nm = df.groupby([df.PollutantName, df.ReleaseMediumName]).size()"
   ]
  },
  {
   "cell_type": "markdown",
   "metadata": {},
   "source": [
    "The result is a series with a hierarchical index.\n",
    "\n",
    "> The MultiIndex object is the hierarchical analogue of the standard Index object which typically stores the axis labels in pandas objects. You can think of MultiIndex as an array of tuples where each tuple is unique.\n",
    "\n",
    "From: https://pandas.pydata.org/pandas-docs/stable/advanced.html"
   ]
  },
  {
   "cell_type": "code",
   "execution_count": 26,
   "metadata": {},
   "outputs": [
    {
     "data": {
      "text/plain": [
       "PollutantName                            ReleaseMediumName\n",
       "1,1,1-trichloroethane                    Air                    262\n",
       "                                         Soil                     5\n",
       "                                         Water                   33\n",
       "1,1,2,2-tetrachloroethane                Air                    111\n",
       "1,2,3,4,5,6-hexachlorocyclohexane (HCH)  Air                      1\n",
       "                                         Water                  108\n",
       "1,2-dichloroethane (DCE)                 Air                    739\n",
       "                                         Soil                     4\n",
       "                                         Water                 1019\n",
       "Alachlor                                 Water                   29\n",
       "Aldrin                                   Air                      1\n",
       "                                         Water                  111\n",
       "Ammonia (NH3)                            Air                  67478\n",
       "                                         Water                   20\n",
       "Anthracene                               Air                    257\n",
       "                                         Soil                    10\n",
       "                                         Water                  817\n",
       "Arsenic and compounds (as As)            Air                   3916\n",
       "                                         Soil                   147\n",
       "                                         Water                10191\n",
       "dtype: int64"
      ]
     },
     "execution_count": 26,
     "metadata": {},
     "output_type": "execute_result"
    }
   ],
   "source": [
    "nm.head(20)"
   ]
  },
  {
   "cell_type": "code",
   "execution_count": 27,
   "metadata": {},
   "outputs": [
    {
     "data": {
      "text/plain": [
       "(pandas.core.series.Series, pandas.core.indexes.multi.MultiIndex)"
      ]
     },
     "execution_count": 27,
     "metadata": {},
     "output_type": "execute_result"
    }
   ],
   "source": [
    "type(nm), type(nm.index)"
   ]
  },
  {
   "cell_type": "code",
   "execution_count": 28,
   "metadata": {},
   "outputs": [
    {
     "data": {
      "text/plain": [
       "ReleaseMediumName\n",
       "Air        1\n",
       "Water    111\n",
       "dtype: int64"
      ]
     },
     "execution_count": 28,
     "metadata": {},
     "output_type": "execute_result"
    }
   ],
   "source": [
    "nm[\"Aldrin\"]"
   ]
  },
  {
   "cell_type": "code",
   "execution_count": 29,
   "metadata": {},
   "outputs": [
    {
     "data": {
      "text/plain": [
       "1"
      ]
     },
     "execution_count": 29,
     "metadata": {},
     "output_type": "execute_result"
    }
   ],
   "source": [
    "nm[\"Aldrin\", \"Air\"]"
   ]
  },
  {
   "cell_type": "markdown",
   "metadata": {},
   "source": [
    "To sort an index on various levels, we can use `sort_index`."
   ]
  },
  {
   "cell_type": "code",
   "execution_count": 30,
   "metadata": {},
   "outputs": [
    {
     "data": {
      "text/plain": [
       "PollutantName                            ReleaseMediumName\n",
       "1,1,1-trichloroethane                    Air                  262\n",
       "                                         Soil                   5\n",
       "                                         Water                 33\n",
       "1,1,2,2-tetrachloroethane                Air                  111\n",
       "1,2,3,4,5,6-hexachlorocyclohexane (HCH)  Air                    1\n",
       "dtype: int64"
      ]
     },
     "execution_count": 30,
     "metadata": {},
     "output_type": "execute_result"
    }
   ],
   "source": [
    "nm.sort_index(level=0, ascending=True).head()"
   ]
  },
  {
   "cell_type": "code",
   "execution_count": 31,
   "metadata": {},
   "outputs": [
    {
     "data": {
      "text/plain": [
       "PollutantName                            ReleaseMediumName\n",
       "1,1,1-trichloroethane                    Air                    262\n",
       "1,1,2,2-tetrachloroethane                Air                    111\n",
       "1,2,3,4,5,6-hexachlorocyclohexane (HCH)  Air                      1\n",
       "1,2-dichloroethane (DCE)                 Air                    739\n",
       "Aldrin                                   Air                      1\n",
       "                                                              ...  \n",
       "Trifluralin                              Water                   15\n",
       "Triphenyltin and compounds               Water                   56\n",
       "Vinyl chloride                           Water                  289\n",
       "Xylenes                                  Water                 1173\n",
       "Zinc and compounds (as Zn)               Water                25392\n",
       "Length: 177, dtype: int64"
      ]
     },
     "execution_count": 31,
     "metadata": {},
     "output_type": "execute_result"
    }
   ],
   "source": [
    "nm.sort_index(level=1, ascending=True)"
   ]
  },
  {
   "cell_type": "markdown",
   "metadata": {},
   "source": [
    "We sort by the second level (using level=1). The result is still a series, the display just looks more DataFrame-like."
   ]
  },
  {
   "cell_type": "code",
   "execution_count": 32,
   "metadata": {},
   "outputs": [],
   "source": [
    "by_medium = nm.sort_index(level=1, ascending=True)"
   ]
  },
  {
   "cell_type": "code",
   "execution_count": 33,
   "metadata": {},
   "outputs": [
    {
     "data": {
      "text/plain": [
       "PollutantName                            ReleaseMediumName\n",
       "1,1,1-trichloroethane                    Air                  262\n",
       "1,1,2,2-tetrachloroethane                Air                  111\n",
       "1,2,3,4,5,6-hexachlorocyclohexane (HCH)  Air                    1\n",
       "1,2-dichloroethane (DCE)                 Air                  739\n",
       "Aldrin                                   Air                    1\n",
       "dtype: int64"
      ]
     },
     "execution_count": 33,
     "metadata": {},
     "output_type": "execute_result"
    }
   ],
   "source": [
    "by_medium.head()"
   ]
  },
  {
   "cell_type": "markdown",
   "metadata": {},
   "source": [
    "Access by chaining."
   ]
  },
  {
   "cell_type": "code",
   "execution_count": 34,
   "metadata": {},
   "outputs": [
    {
     "data": {
      "text/plain": [
       "111"
      ]
     },
     "execution_count": 34,
     "metadata": {},
     "output_type": "execute_result"
    }
   ],
   "source": [
    "by_medium[\"Aldrin\"][\"Water\"]"
   ]
  },
  {
   "cell_type": "code",
   "execution_count": 35,
   "metadata": {},
   "outputs": [
    {
     "data": {
      "text/plain": [
       "PollutantName                            ReleaseMediumName\n",
       "1,1,1-trichloroethane                    Air                    262\n",
       "                                         Soil                     5\n",
       "                                         Water                   33\n",
       "1,1,2,2-tetrachloroethane                Air                    111\n",
       "1,2,3,4,5,6-hexachlorocyclohexane (HCH)  Air                      1\n",
       "                                                              ...  \n",
       "Xylenes                                  Air                     13\n",
       "                                         Water                 1173\n",
       "Zinc and compounds (as Zn)               Air                   7016\n",
       "                                         Soil                   562\n",
       "                                         Water                25392\n",
       "Length: 177, dtype: int64"
      ]
     },
     "execution_count": 35,
     "metadata": {},
     "output_type": "execute_result"
    }
   ],
   "source": [
    "nm"
   ]
  },
  {
   "cell_type": "markdown",
   "metadata": {},
   "source": [
    "The idea, that the indices behave like tuples, can be observed here as well."
   ]
  },
  {
   "cell_type": "code",
   "execution_count": 36,
   "metadata": {},
   "outputs": [
    {
     "data": {
      "text/plain": [
       "ReleaseMediumName\n",
       "Air      257\n",
       "Soil      10\n",
       "Water    817\n",
       "dtype: int64"
      ]
     },
     "execution_count": 36,
     "metadata": {},
     "output_type": "execute_result"
    }
   ],
   "source": [
    "nm[(\"Anthracene\",)]"
   ]
  },
  {
   "cell_type": "code",
   "execution_count": 37,
   "metadata": {},
   "outputs": [
    {
     "data": {
      "text/plain": [
       "817"
      ]
     },
     "execution_count": 37,
     "metadata": {},
     "output_type": "execute_result"
    }
   ],
   "source": [
    "nm[(\"Anthracene\", \"Water\")]"
   ]
  },
  {
   "cell_type": "markdown",
   "metadata": {},
   "source": [
    "## Masking on hierarchical index.\n",
    "\n",
    "To filter all levels, we can use boolean indexing as usual."
   ]
  },
  {
   "cell_type": "code",
   "execution_count": 38,
   "metadata": {},
   "outputs": [
    {
     "data": {
      "text/plain": [
       "PollutantName                            ReleaseMediumName\n",
       "1,1,1-trichloroethane                    Air                    262\n",
       "1,1,2,2-tetrachloroethane                Air                    111\n",
       "1,2,3,4,5,6-hexachlorocyclohexane (HCH)  Water                  108\n",
       "1,2-dichloroethane (DCE)                 Air                    739\n",
       "                                         Water                 1019\n",
       "                                                              ...  \n",
       "Vinyl chloride                           Water                  289\n",
       "Xylenes                                  Water                 1173\n",
       "Zinc and compounds (as Zn)               Air                   7016\n",
       "                                         Soil                   562\n",
       "                                         Water                25392\n",
       "Length: 108, dtype: int64"
      ]
     },
     "execution_count": 38,
     "metadata": {},
     "output_type": "execute_result"
    }
   ],
   "source": [
    "nm[nm > 100]"
   ]
  },
  {
   "cell_type": "markdown",
   "metadata": {},
   "source": [
    "To restrict the value for a given type, we can then filter by e.g. PollutantName. This results in a series that contains all pollutants released through water which have measurements above 1000."
   ]
  },
  {
   "cell_type": "code",
   "execution_count": 39,
   "metadata": {},
   "outputs": [
    {
     "data": {
      "text/plain": [
       "PollutantName\n",
       "1,2-dichloroethane (DCE)                              1019\n",
       "Arsenic and compounds (as As)                        10191\n",
       "Asbestos                                              1107\n",
       "Benzene                                               1325\n",
       "Cadmium and compounds (as Cd)                         5159\n",
       "Chlorides (as total Cl)                               9768\n",
       "Chromium and compounds (as Cr)                        6317\n",
       "Copper and compounds (as Cu)                         12883\n",
       "Cyanides (as total CN)                                3694\n",
       "Di-(2-ethyl hexyl) phthalate (DEHP)                   3146\n",
       "Dichloromethane (DCM)                                 1216\n",
       "Diuron                                                1114\n",
       "Fluorides (as total F)                                7630\n",
       "Halogenated organic compounds (as AOX)                5823\n",
       "Lead and compounds (as Pb)                            8855\n",
       "Mercury and compounds (as Hg)                         6379\n",
       "Naphthalene                                           1502\n",
       "Nickel and compounds (as Ni)                         16648\n",
       "Nonylphenol and Nonylphenol ethoxylates (NP/NPEs)     3112\n",
       "Octylphenols and Octylphenol ethoxylates              1038\n",
       "Phenols (as total C)                                  6879\n",
       "Polycyclic aromatic hydrocarbons (PAHs)               1291\n",
       "Toluene                                               1295\n",
       "Total nitrogen                                       20071\n",
       "Total organic carbon (TOC) (as total C or COD/3)     24872\n",
       "Total phosphorus                                     18247\n",
       "Trichloromethane                                      2107\n",
       "Xylenes                                               1173\n",
       "Zinc and compounds (as Zn)                           25392\n",
       "dtype: int64"
      ]
     },
     "execution_count": 39,
     "metadata": {},
     "output_type": "execute_result"
    }
   ],
   "source": [
    "nm[nm > 1000][:, \"Water\"]"
   ]
  },
  {
   "cell_type": "markdown",
   "metadata": {},
   "source": [
    "Another way would be to use `get_level_values`.\n",
    "\n",
    "> Return an Index of values for requested level, equal to the length of the index.\n",
    "\n",
    "It is important to keep the index length intact."
   ]
  },
  {
   "cell_type": "code",
   "execution_count": 40,
   "metadata": {},
   "outputs": [
    {
     "data": {
      "text/plain": [
       "PollutantName                                      ReleaseMediumName\n",
       "1,2-dichloroethane (DCE)                           Water                 1019\n",
       "Arsenic and compounds (as As)                      Water                10191\n",
       "Asbestos                                           Water                 1107\n",
       "Benzene                                            Water                 1325\n",
       "Cadmium and compounds (as Cd)                      Water                 5159\n",
       "Chlorides (as total Cl)                            Water                 9768\n",
       "Chromium and compounds (as Cr)                     Water                 6317\n",
       "Copper and compounds (as Cu)                       Water                12883\n",
       "Cyanides (as total CN)                             Water                 3694\n",
       "Di-(2-ethyl hexyl) phthalate (DEHP)                Water                 3146\n",
       "Dichloromethane (DCM)                              Water                 1216\n",
       "Diuron                                             Water                 1114\n",
       "Fluorides (as total F)                             Water                 7630\n",
       "Halogenated organic compounds (as AOX)             Water                 5823\n",
       "Lead and compounds (as Pb)                         Water                 8855\n",
       "Mercury and compounds (as Hg)                      Water                 6379\n",
       "Naphthalene                                        Water                 1502\n",
       "Nickel and compounds (as Ni)                       Water                16648\n",
       "Nonylphenol and Nonylphenol ethoxylates (NP/NPEs)  Water                 3112\n",
       "Octylphenols and Octylphenol ethoxylates           Water                 1038\n",
       "Phenols (as total C)                               Water                 6879\n",
       "Polycyclic aromatic hydrocarbons (PAHs)            Water                 1291\n",
       "Toluene                                            Water                 1295\n",
       "Total nitrogen                                     Water                20071\n",
       "Total organic carbon (TOC) (as total C or COD/3)   Water                24872\n",
       "Total phosphorus                                   Water                18247\n",
       "Trichloromethane                                   Water                 2107\n",
       "Xylenes                                            Water                 1173\n",
       "Zinc and compounds (as Zn)                         Water                25392\n",
       "dtype: int64"
      ]
     },
     "execution_count": 40,
     "metadata": {},
     "output_type": "execute_result"
    }
   ],
   "source": [
    "nm[(nm.index.get_level_values(\"ReleaseMediumName\") == \"Water\") & (nm > 1000)]"
   ]
  },
  {
   "cell_type": "markdown",
   "metadata": {},
   "source": [
    "## Looking at a specific location"
   ]
  },
  {
   "cell_type": "markdown",
   "metadata": {},
   "source": [
    "How many German cities are contained in the dataset?"
   ]
  },
  {
   "cell_type": "code",
   "execution_count": 41,
   "metadata": {},
   "outputs": [
    {
     "data": {
      "text/plain": [
       "1751"
      ]
     },
     "execution_count": 41,
     "metadata": {},
     "output_type": "execute_result"
    }
   ],
   "source": [
    "df[df.CountryName == \"Germany\"].City.unique().size"
   ]
  },
  {
   "cell_type": "markdown",
   "metadata": {},
   "source": [
    "How many measurements per city in Germany?"
   ]
  },
  {
   "cell_type": "code",
   "execution_count": 42,
   "metadata": {},
   "outputs": [
    {
     "data": {
      "text/plain": [
       "City\n",
       "Ludwigshafen am Rhein                  7103\n",
       "Duisburg                               4802\n",
       "Wesseling                              2210\n",
       "Burghausen i.Lkr. Altötting            1896\n",
       "Köln                                   1770\n",
       "                                       ... \n",
       "Oschersleben (Bode)                       1\n",
       "Oschersleben (Bode) OT Hadmersleben       1\n",
       "Laußig                                    1\n",
       "Oschersleben OT Hadmersleben              1\n",
       "Leisnig                                   1\n",
       "Length: 1750, dtype: int64"
      ]
     },
     "execution_count": 42,
     "metadata": {},
     "output_type": "execute_result"
    }
   ],
   "source": [
    "df[df.CountryName == \"Germany\"].groupby(\"City\").size().sort_values(ascending=False)"
   ]
  },
  {
   "cell_type": "markdown",
   "metadata": {},
   "source": [
    "Is a certain city contained?"
   ]
  },
  {
   "cell_type": "code",
   "execution_count": 54,
   "metadata": {},
   "outputs": [
    {
     "data": {
      "text/plain": [
       "True"
      ]
     },
     "execution_count": 54,
     "metadata": {},
     "output_type": "execute_result"
    }
   ],
   "source": [
    "\"Dresden\" in df[df.CountryName == \"Germany\"].City.values"
   ]
  },
  {
   "cell_type": "markdown",
   "metadata": {},
   "source": [
    "How many entries for given city?"
   ]
  },
  {
   "cell_type": "code",
   "execution_count": 53,
   "metadata": {},
   "outputs": [
    {
     "data": {
      "text/plain": [
       "4268"
      ]
     },
     "execution_count": 53,
     "metadata": {},
     "output_type": "execute_result"
    }
   ],
   "source": [
    "df[df.City == \"Dresden\"].size"
   ]
  },
  {
   "cell_type": "markdown",
   "metadata": {},
   "source": [
    "Filtering out the FacilityName and StreetName for entries in a given city."
   ]
  },
  {
   "cell_type": "code",
   "execution_count": 56,
   "metadata": {},
   "outputs": [
    {
     "data": {
      "text/html": [
       "<div>\n",
       "<style scoped>\n",
       "    .dataframe tbody tr th:only-of-type {\n",
       "        vertical-align: middle;\n",
       "    }\n",
       "\n",
       "    .dataframe tbody tr th {\n",
       "        vertical-align: top;\n",
       "    }\n",
       "\n",
       "    .dataframe thead th {\n",
       "        text-align: right;\n",
       "    }\n",
       "</style>\n",
       "<table border=\"1\" class=\"dataframe\">\n",
       "  <thead>\n",
       "    <tr style=\"text-align: right;\">\n",
       "      <th></th>\n",
       "      <th>FacilityName</th>\n",
       "      <th>StreetName</th>\n",
       "    </tr>\n",
       "  </thead>\n",
       "  <tbody>\n",
       "    <tr>\n",
       "      <th>436710</th>\n",
       "      <td>Kläranlage Dresden-Kaditz</td>\n",
       "      <td>Scharfenberger Str.</td>\n",
       "    </tr>\n",
       "    <tr>\n",
       "      <th>436711</th>\n",
       "      <td>Kläranlage Dresden-Kaditz</td>\n",
       "      <td>Scharfenberger Str.</td>\n",
       "    </tr>\n",
       "    <tr>\n",
       "      <th>436712</th>\n",
       "      <td>Kläranlage Dresden-Kaditz</td>\n",
       "      <td>Scharfenberger Str.</td>\n",
       "    </tr>\n",
       "    <tr>\n",
       "      <th>436713</th>\n",
       "      <td>Kläranlage Dresden-Kaditz</td>\n",
       "      <td>Scharfenberger Str.</td>\n",
       "    </tr>\n",
       "    <tr>\n",
       "      <th>436714</th>\n",
       "      <td>Kläranlage Dresden-Kaditz</td>\n",
       "      <td>Scharfenberger Str.</td>\n",
       "    </tr>\n",
       "    <tr>\n",
       "      <th>436715</th>\n",
       "      <td>Kläranlage Dresden-Kaditz</td>\n",
       "      <td>Scharfenberger Str.</td>\n",
       "    </tr>\n",
       "    <tr>\n",
       "      <th>436716</th>\n",
       "      <td>Kläranlage Dresden-Kaditz</td>\n",
       "      <td>Scharfenberger Str.</td>\n",
       "    </tr>\n",
       "    <tr>\n",
       "      <th>436717</th>\n",
       "      <td>Kläranlage Dresden-Kaditz</td>\n",
       "      <td>Scharfenberger Str.</td>\n",
       "    </tr>\n",
       "    <tr>\n",
       "      <th>436718</th>\n",
       "      <td>Kläranlage Dresden-Kaditz</td>\n",
       "      <td>Scharfenberger Str.</td>\n",
       "    </tr>\n",
       "    <tr>\n",
       "      <th>436719</th>\n",
       "      <td>Kläranlage Dresden-Kaditz</td>\n",
       "      <td>Scharfenberger Str.</td>\n",
       "    </tr>\n",
       "    <tr>\n",
       "      <th>436720</th>\n",
       "      <td>Kläranlage Dresden-Kaditz</td>\n",
       "      <td>Scharfenberger Str.</td>\n",
       "    </tr>\n",
       "    <tr>\n",
       "      <th>436721</th>\n",
       "      <td>Kläranlage Dresden-Kaditz</td>\n",
       "      <td>Scharfenberger Str.</td>\n",
       "    </tr>\n",
       "    <tr>\n",
       "      <th>439302</th>\n",
       "      <td>ZAOE Hausmülldeponie Langebrücker/Dresdner Str.</td>\n",
       "      <td>Langebrücker Str.</td>\n",
       "    </tr>\n",
       "    <tr>\n",
       "      <th>439326</th>\n",
       "      <td>SRD Deponie Radeburger Straße</td>\n",
       "      <td>Hammerweg</td>\n",
       "    </tr>\n",
       "    <tr>\n",
       "      <th>439527</th>\n",
       "      <td>SRD Deponie Radeburger Straße</td>\n",
       "      <td>Hammerweg</td>\n",
       "    </tr>\n",
       "    <tr>\n",
       "      <th>439998</th>\n",
       "      <td>DREWAG Gasturbinen-Heizkraftwerk Nossener Brücke</td>\n",
       "      <td>Oederaner Straße</td>\n",
       "    </tr>\n",
       "    <tr>\n",
       "      <th>439999</th>\n",
       "      <td>DREWAG Gasturbinen-Heizkraftwerk Nossener Brücke</td>\n",
       "      <td>Oederaner Straße</td>\n",
       "    </tr>\n",
       "    <tr>\n",
       "      <th>440657</th>\n",
       "      <td>Holzheizkraftwerk Dresden</td>\n",
       "      <td>Am Lugaer Graben</td>\n",
       "    </tr>\n",
       "    <tr>\n",
       "      <th>441782</th>\n",
       "      <td>Kläranlage Dresden-Kaditz</td>\n",
       "      <td>Scharfenberger Str.</td>\n",
       "    </tr>\n",
       "    <tr>\n",
       "      <th>441783</th>\n",
       "      <td>Kläranlage Dresden-Kaditz</td>\n",
       "      <td>Scharfenberger Str.</td>\n",
       "    </tr>\n",
       "  </tbody>\n",
       "</table>\n",
       "</div>"
      ],
      "text/plain": [
       "                                            FacilityName           StreetName\n",
       "436710                         Kläranlage Dresden-Kaditz  Scharfenberger Str.\n",
       "436711                         Kläranlage Dresden-Kaditz  Scharfenberger Str.\n",
       "436712                         Kläranlage Dresden-Kaditz  Scharfenberger Str.\n",
       "436713                         Kläranlage Dresden-Kaditz  Scharfenberger Str.\n",
       "436714                         Kläranlage Dresden-Kaditz  Scharfenberger Str.\n",
       "436715                         Kläranlage Dresden-Kaditz  Scharfenberger Str.\n",
       "436716                         Kläranlage Dresden-Kaditz  Scharfenberger Str.\n",
       "436717                         Kläranlage Dresden-Kaditz  Scharfenberger Str.\n",
       "436718                         Kläranlage Dresden-Kaditz  Scharfenberger Str.\n",
       "436719                         Kläranlage Dresden-Kaditz  Scharfenberger Str.\n",
       "436720                         Kläranlage Dresden-Kaditz  Scharfenberger Str.\n",
       "436721                         Kläranlage Dresden-Kaditz  Scharfenberger Str.\n",
       "439302   ZAOE Hausmülldeponie Langebrücker/Dresdner Str.    Langebrücker Str.\n",
       "439326                     SRD Deponie Radeburger Straße            Hammerweg\n",
       "439527                     SRD Deponie Radeburger Straße            Hammerweg\n",
       "439998  DREWAG Gasturbinen-Heizkraftwerk Nossener Brücke     Oederaner Straße\n",
       "439999  DREWAG Gasturbinen-Heizkraftwerk Nossener Brücke     Oederaner Straße\n",
       "440657                         Holzheizkraftwerk Dresden     Am Lugaer Graben\n",
       "441782                         Kläranlage Dresden-Kaditz  Scharfenberger Str.\n",
       "441783                         Kläranlage Dresden-Kaditz  Scharfenberger Str."
      ]
     },
     "execution_count": 56,
     "metadata": {},
     "output_type": "execute_result"
    }
   ],
   "source": [
    "df[df.City == \"Dresden\"][[\"FacilityName\", \"StreetName\"]].head(20)"
   ]
  },
  {
   "cell_type": "markdown",
   "metadata": {},
   "source": [
    "Facilities with most entries for a given city."
   ]
  },
  {
   "cell_type": "code",
   "execution_count": 51,
   "metadata": {},
   "outputs": [
    {
     "data": {
      "text/plain": [
       "FacilityName\n",
       "Kläranlage Dresden-Kaditz                           164\n",
       "DREWAG Gasturbinen-Heizkraftwerk Nossener Brücke     20\n",
       "SRD Deponie Radeburger Straße                         8\n",
       "Holzheizkraftwerk Dresden                             1\n",
       "ZAOE Hausmülldeponie Langebrücker/Dresdner Str.       1\n",
       "dtype: int64"
      ]
     },
     "execution_count": 51,
     "metadata": {},
     "output_type": "execute_result"
    }
   ],
   "source": [
    "df[df.City == \"Dresden\"].groupby(\"FacilityName\").size().sort_values(ascending=False)"
   ]
  },
  {
   "cell_type": "code",
   "execution_count": 47,
   "metadata": {},
   "outputs": [
    {
     "data": {
      "text/plain": [
       "FacilityName\n",
       "Kläranlage Dresden-Kaditz                           164\n",
       "DREWAG Gasturbinen-Heizkraftwerk Nossener Brücke     20\n",
       "SRD Deponie Radeburger Straße                         8\n",
       "Holzheizkraftwerk Dresden                             1\n",
       "ZAOE Hausmülldeponie Langebrücker/Dresdner Str.       1\n",
       "dtype: int64"
      ]
     },
     "execution_count": 47,
     "metadata": {},
     "output_type": "execute_result"
    }
   ],
   "source": [
    "df[df.City == \"Dresden\"].groupby(\"FacilityName\").size().sort_values(ascending=False)"
   ]
  },
  {
   "cell_type": "markdown",
   "metadata": {},
   "source": [
    "Sort by pollutant groups."
   ]
  },
  {
   "cell_type": "code",
   "execution_count": 49,
   "metadata": {},
   "outputs": [
    {
     "data": {
      "text/plain": [
       "FacilityName                                      PollutantGroupName            \n",
       "Kläranlage Dresden-Kaditz                         Chlorinated organic substances    17\n",
       "DREWAG Gasturbinen-Heizkraftwerk Nossener Brücke  Greenhouse gases                  10\n",
       "SRD Deponie Radeburger Straße                     Greenhouse gases                   8\n",
       "ZAOE Hausmülldeponie Langebrücker/Dresdner Str.   Greenhouse gases                   1\n",
       "Kläranlage Dresden-Kaditz                         Heavy metals                      87\n",
       "                                                  Inorganic substances              43\n",
       "DREWAG Gasturbinen-Heizkraftwerk Nossener Brücke  Other gases                       10\n",
       "Holzheizkraftwerk Dresden                         Other organic substances           1\n",
       "Kläranlage Dresden-Kaditz                         Other organic substances          12\n",
       "                                                  Pesticides                         5\n",
       "dtype: int64"
      ]
     },
     "execution_count": 49,
     "metadata": {},
     "output_type": "execute_result"
    }
   ],
   "source": [
    "df[df.City == \"Dresden\"].groupby([\"FacilityName\", \"PollutantGroupName\"]).size().sort_index(level=1)"
   ]
  },
  {
   "cell_type": "markdown",
   "metadata": {},
   "source": [
    "Sort by values."
   ]
  },
  {
   "cell_type": "code",
   "execution_count": 50,
   "metadata": {},
   "outputs": [
    {
     "data": {
      "text/plain": [
       "FacilityName                                      PollutantGroupName            \n",
       "Kläranlage Dresden-Kaditz                         Heavy metals                      87\n",
       "                                                  Inorganic substances              43\n",
       "                                                  Chlorinated organic substances    17\n",
       "                                                  Other organic substances          12\n",
       "DREWAG Gasturbinen-Heizkraftwerk Nossener Brücke  Greenhouse gases                  10\n",
       "                                                  Other gases                       10\n",
       "SRD Deponie Radeburger Straße                     Greenhouse gases                   8\n",
       "Kläranlage Dresden-Kaditz                         Pesticides                         5\n",
       "Holzheizkraftwerk Dresden                         Other organic substances           1\n",
       "ZAOE Hausmülldeponie Langebrücker/Dresdner Str.   Greenhouse gases                   1\n",
       "dtype: int64"
      ]
     },
     "execution_count": 50,
     "metadata": {},
     "output_type": "execute_result"
    }
   ],
   "source": [
    "df[df.City == \"Dresden\"].groupby([\"FacilityName\", \"PollutantGroupName\"]).size().sort_values(ascending=False)"
   ]
  },
  {
   "cell_type": "code",
   "execution_count": null,
   "metadata": {},
   "outputs": [],
   "source": []
  }
 ],
 "metadata": {
  "kernelspec": {
   "display_name": "Python 3 (ipykernel)",
   "language": "python",
   "name": "python3"
  },
  "language_info": {
   "codemirror_mode": {
    "name": "ipython",
    "version": 3
   },
   "file_extension": ".py",
   "mimetype": "text/x-python",
   "name": "python",
   "nbconvert_exporter": "python",
   "pygments_lexer": "ipython3",
   "version": "3.8.10"
  }
 },
 "nbformat": 4,
 "nbformat_minor": 4
}
