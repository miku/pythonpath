{
 "cells": [
  {
   "cell_type": "markdown",
   "id": "140935ef-8b55-4481-8d3f-30c85b99f54a",
   "metadata": {},
   "source": [
    "## OO in Python\n",
    "\n",
    "* everything is an object in Python\n",
    "* abstraction, but no strict encapsulation (everything is visible)\n",
    "\n",
    "The convention is to use a single `_` prefix to denote private members."
   ]
  },
  {
   "cell_type": "code",
   "execution_count": 2,
   "id": "5bd89cb4-2f2c-40d5-b293-e20cd697514b",
   "metadata": {},
   "outputs": [],
   "source": [
    "class Task:\n",
    "    def __init__(self):\n",
    "        self._state = \"ready\"\n",
    "\n",
    "    def start(self):\n",
    "        self._state = \"started\"\n",
    "\n",
    "    def pause(self):\n",
    "        self._state = \"paused\"\n",
    "\n",
    "    def kill(self):\n",
    "        self._state = \"stopped\""
   ]
  },
  {
   "cell_type": "code",
   "execution_count": 3,
   "id": "eb8b75a8-7836-4407-8ba0-5920bff4619d",
   "metadata": {},
   "outputs": [],
   "source": [
    "t = Task()"
   ]
  },
  {
   "cell_type": "code",
   "execution_count": 6,
   "id": "1877a383-b14e-4d6d-87e1-8b3e69d9d66d",
   "metadata": {},
   "outputs": [],
   "source": [
    "# t. # TAB: no autocomplete for internal variables"
   ]
  },
  {
   "cell_type": "markdown",
   "id": "8bdcffc4-8e23-45e2-bba8-8bc05605a4c7",
   "metadata": {},
   "source": [
    "## Method Resolution Order (MRO)\n",
    "\n",
    "* how a method is looked up in the inheritance hierarchy"
   ]
  },
  {
   "cell_type": "code",
   "execution_count": 16,
   "id": "0dc7a286-b1bf-4409-abbc-fea45ebff1e9",
   "metadata": {},
   "outputs": [],
   "source": [
    "class A:\n",
    "    def m(self):\n",
    "        print(\"A.m\")\n",
    "\n",
    "class B(A):\n",
    "    def m(self):\n",
    "        print(\"B.m\")\n",
    "\n",
    "class C(A):\n",
    "    def m(self):\n",
    "        print(\"C.m\")\n",
    "\n",
    "class D(C, B): # what D.m returns depends on order of superclasses\n",
    "    pass\n",
    "\n"
   ]
  },
  {
   "cell_type": "code",
   "execution_count": 17,
   "id": "14f39dad-9e11-4e3d-ac26-8abd6aeb2c5b",
   "metadata": {},
   "outputs": [],
   "source": [
    "d = D()"
   ]
  },
  {
   "cell_type": "code",
   "execution_count": 18,
   "id": "36d5b0de-fc55-4825-9a45-54cc3f46867d",
   "metadata": {},
   "outputs": [
    {
     "name": "stdout",
     "output_type": "stream",
     "text": [
      "C.m\n"
     ]
    }
   ],
   "source": [
    "d.m()"
   ]
  },
  {
   "cell_type": "code",
   "execution_count": 20,
   "id": "c1a3ae8d-db3d-4451-a510-8ae6cb61526e",
   "metadata": {},
   "outputs": [
    {
     "data": {
      "text/plain": [
       "[__main__.D, __main__.C, __main__.B, __main__.A, object]"
      ]
     },
     "execution_count": 20,
     "metadata": {},
     "output_type": "execute_result"
    }
   ],
   "source": [
    "d.__class__.mro()"
   ]
  },
  {
   "cell_type": "code",
   "execution_count": null,
   "id": "ec08d9b2-2e8c-4663-b07f-7cb48607b7c4",
   "metadata": {},
   "outputs": [],
   "source": []
  }
 ],
 "metadata": {
  "kernelspec": {
   "display_name": "Python 3 (ipykernel)",
   "language": "python",
   "name": "python3"
  },
  "language_info": {
   "codemirror_mode": {
    "name": "ipython",
    "version": 3
   },
   "file_extension": ".py",
   "mimetype": "text/x-python",
   "name": "python",
   "nbconvert_exporter": "python",
   "pygments_lexer": "ipython3",
   "version": "3.10.12"
  }
 },
 "nbformat": 4,
 "nbformat_minor": 5
}
