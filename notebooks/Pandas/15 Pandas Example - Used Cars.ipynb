{
 "cells": [
  {
   "cell_type": "markdown",
   "metadata": {},
   "source": [
    "## 15 Pandas Example - Used Cars\n",
    "\n",
    "A short tour through some used car data\n",
    "\n",
    "* https://data.world/data-society/used-cars-data\n",
    "\n",
    "This is a real-world data set with couple of flaws: wrong or missing data, outliers.\n",
    "\n",
    "In the process we:\n",
    "\n",
    "* inspect the data\n",
    "* dig into the strange (ugly) parts and clean bad rows\n",
    "* run a few aggregations and visualisation"
   ]
  },
  {
   "cell_type": "code",
   "execution_count": 1,
   "metadata": {},
   "outputs": [],
   "source": [
    "import matplotlib\n",
    "matplotlib.use('Agg')\n",
    "import matplotlib.pyplot as plt\n",
    "%matplotlib inline"
   ]
  },
  {
   "cell_type": "code",
   "execution_count": 2,
   "metadata": {},
   "outputs": [],
   "source": [
    "import pandas as pd"
   ]
  },
  {
   "cell_type": "code",
   "execution_count": 3,
   "metadata": {},
   "outputs": [],
   "source": [
    "df = pd.read_csv(\"data/autos.csv\", encoding=\"latin-1\")"
   ]
  },
  {
   "cell_type": "code",
   "execution_count": 4,
   "metadata": {},
   "outputs": [
    {
     "data": {
      "text/plain": [
       "(371528, 20)"
      ]
     },
     "execution_count": 4,
     "metadata": {},
     "output_type": "execute_result"
    }
   ],
   "source": [
    "df.shape"
   ]
  },
  {
   "cell_type": "markdown",
   "metadata": {},
   "source": [
    "## Inspection\n",
    "\n",
    "* unique\n",
    "* groupby\n",
    "* size\n",
    "* sort_values"
   ]
  },
  {
   "cell_type": "markdown",
   "metadata": {},
   "source": [
    "Unique Brands"
   ]
  },
  {
   "cell_type": "code",
   "execution_count": 5,
   "metadata": {},
   "outputs": [
    {
     "data": {
      "text/plain": [
       "array(['volkswagen', 'audi', 'jeep', 'skoda', 'bmw', 'peugeot', 'ford',\n",
       "       'mazda', 'nissan', 'renault', 'mercedes_benz', 'opel', 'seat',\n",
       "       'citroen', 'honda', 'fiat', 'mini', 'smart', 'hyundai',\n",
       "       'sonstige_autos', 'alfa_romeo', 'subaru', 'volvo', 'mitsubishi',\n",
       "       'kia', 'suzuki', 'lancia', 'porsche', 'toyota', 'chevrolet',\n",
       "       'dacia', 'daihatsu', 'trabant', 'saab', 'chrysler', 'jaguar',\n",
       "       'daewoo', 'rover', 'land_rover', 'lada'], dtype=object)"
      ]
     },
     "execution_count": 5,
     "metadata": {},
     "output_type": "execute_result"
    }
   ],
   "source": [
    "df.brand.unique()"
   ]
  },
  {
   "cell_type": "code",
   "execution_count": 6,
   "metadata": {},
   "outputs": [
    {
     "data": {
      "text/plain": [
       "40"
      ]
     },
     "execution_count": 6,
     "metadata": {},
     "output_type": "execute_result"
    }
   ],
   "source": [
    "df.brand.unique().size"
   ]
  },
  {
   "cell_type": "markdown",
   "metadata": {},
   "source": [
    "Most popular brands"
   ]
  },
  {
   "cell_type": "code",
   "execution_count": 7,
   "metadata": {},
   "outputs": [
    {
     "data": {
      "text/plain": [
       "brand\n",
       "volkswagen        79640\n",
       "bmw               40274\n",
       "opel              40136\n",
       "mercedes_benz     35309\n",
       "audi              32873\n",
       "ford              25573\n",
       "renault           17969\n",
       "peugeot           11027\n",
       "fiat               9676\n",
       "seat               7022\n",
       "mazda              5695\n",
       "skoda              5641\n",
       "smart              5249\n",
       "citroen            5182\n",
       "nissan             5037\n",
       "toyota             4694\n",
       "sonstige_autos     3982\n",
       "hyundai            3646\n",
       "mini               3394\n",
       "volvo              3327\n",
       "mitsubishi         3061\n",
       "honda              2836\n",
       "kia                2555\n",
       "alfa_romeo         2345\n",
       "suzuki             2328\n",
       "porsche            2215\n",
       "chevrolet          1845\n",
       "chrysler           1452\n",
       "dacia               900\n",
       "jeep                807\n",
       "daihatsu            806\n",
       "subaru              779\n",
       "land_rover          770\n",
       "jaguar              621\n",
       "trabant             591\n",
       "daewoo              542\n",
       "saab                530\n",
       "rover               490\n",
       "lancia              484\n",
       "lada                225\n",
       "dtype: int64"
      ]
     },
     "execution_count": 7,
     "metadata": {},
     "output_type": "execute_result"
    }
   ],
   "source": [
    "df.groupby('brand').size().sort_values(ascending=False)"
   ]
  },
  {
   "cell_type": "code",
   "execution_count": 8,
   "metadata": {},
   "outputs": [
    {
     "data": {
      "text/plain": [
       "<matplotlib.axes._subplots.AxesSubplot at 0x1049d3160>"
      ]
     },
     "execution_count": 8,
     "metadata": {},
     "output_type": "execute_result"
    },
    {
     "data": {
      "image/png": "[encoded data removed]",
      "text/plain": [
       "<Figure size 576x432 with 1 Axes>"
      ]
     },
     "metadata": {},
     "output_type": "display_data"
    }
   ],
   "source": [
    "df.groupby('brand').size().sort_values().plot(kind='barh', figsize=(8, 6), grid=True)"
   ]
  },
  {
   "cell_type": "code",
   "execution_count": 9,
   "metadata": {},
   "outputs": [
    {
     "data": {
      "text/html": [
       "<div>\n",
       "<style scoped>\n",
       "    .dataframe tbody tr th:only-of-type {\n",
       "        vertical-align: middle;\n",
       "    }\n",
       "\n",
       "    .dataframe tbody tr th {\n",
       "        vertical-align: top;\n",
       "    }\n",
       "\n",
       "    .dataframe thead th {\n",
       "        text-align: right;\n",
       "    }\n",
       "</style>\n",
       "<table border=\"1\" class=\"dataframe\">\n",
       "  <thead>\n",
       "    <tr style=\"text-align: right;\">\n",
       "      <th></th>\n",
       "      <th>dateCrawled</th>\n",
       "      <th>name</th>\n",
       "      <th>seller</th>\n",
       "      <th>offerType</th>\n",
       "      <th>price</th>\n",
       "      <th>abtest</th>\n",
       "      <th>vehicleType</th>\n",
       "      <th>yearOfRegistration</th>\n",
       "      <th>gearbox</th>\n",
       "      <th>powerPS</th>\n",
       "      <th>model</th>\n",
       "      <th>kilometer</th>\n",
       "      <th>monthOfRegistration</th>\n",
       "      <th>fuelType</th>\n",
       "      <th>brand</th>\n",
       "      <th>notRepairedDamage</th>\n",
       "      <th>dateCreated</th>\n",
       "      <th>nrOfPictures</th>\n",
       "      <th>postalCode</th>\n",
       "      <th>lastSeen</th>\n",
       "    </tr>\n",
       "  </thead>\n",
       "  <tbody>\n",
       "    <tr>\n",
       "      <th>0</th>\n",
       "      <td>2016-03-24 11:52:17</td>\n",
       "      <td>Golf_3_1.6</td>\n",
       "      <td>privat</td>\n",
       "      <td>Angebot</td>\n",
       "      <td>480</td>\n",
       "      <td>test</td>\n",
       "      <td>NaN</td>\n",
       "      <td>1993</td>\n",
       "      <td>manuell</td>\n",
       "      <td>0</td>\n",
       "      <td>golf</td>\n",
       "      <td>150000</td>\n",
       "      <td>0</td>\n",
       "      <td>benzin</td>\n",
       "      <td>volkswagen</td>\n",
       "      <td>NaN</td>\n",
       "      <td>2016-03-24 00:00:00</td>\n",
       "      <td>0</td>\n",
       "      <td>70435</td>\n",
       "      <td>2016-04-07 03:16:57</td>\n",
       "    </tr>\n",
       "    <tr>\n",
       "      <th>1</th>\n",
       "      <td>2016-03-24 10:58:45</td>\n",
       "      <td>A5_Sportback_2.7_Tdi</td>\n",
       "      <td>privat</td>\n",
       "      <td>Angebot</td>\n",
       "      <td>18300</td>\n",
       "      <td>test</td>\n",
       "      <td>coupe</td>\n",
       "      <td>2011</td>\n",
       "      <td>manuell</td>\n",
       "      <td>190</td>\n",
       "      <td>NaN</td>\n",
       "      <td>125000</td>\n",
       "      <td>5</td>\n",
       "      <td>diesel</td>\n",
       "      <td>audi</td>\n",
       "      <td>ja</td>\n",
       "      <td>2016-03-24 00:00:00</td>\n",
       "      <td>0</td>\n",
       "      <td>66954</td>\n",
       "      <td>2016-04-07 01:46:50</td>\n",
       "    </tr>\n",
       "    <tr>\n",
       "      <th>2</th>\n",
       "      <td>2016-03-14 12:52:21</td>\n",
       "      <td>Jeep_Grand_Cherokee_\"Overland\"</td>\n",
       "      <td>privat</td>\n",
       "      <td>Angebot</td>\n",
       "      <td>9800</td>\n",
       "      <td>test</td>\n",
       "      <td>suv</td>\n",
       "      <td>2004</td>\n",
       "      <td>automatik</td>\n",
       "      <td>163</td>\n",
       "      <td>grand</td>\n",
       "      <td>125000</td>\n",
       "      <td>8</td>\n",
       "      <td>diesel</td>\n",
       "      <td>jeep</td>\n",
       "      <td>NaN</td>\n",
       "      <td>2016-03-14 00:00:00</td>\n",
       "      <td>0</td>\n",
       "      <td>90480</td>\n",
       "      <td>2016-04-05 12:47:46</td>\n",
       "    </tr>\n",
       "    <tr>\n",
       "      <th>3</th>\n",
       "      <td>2016-03-17 16:54:04</td>\n",
       "      <td>GOLF_4_1_4__3TÜRER</td>\n",
       "      <td>privat</td>\n",
       "      <td>Angebot</td>\n",
       "      <td>1500</td>\n",
       "      <td>test</td>\n",
       "      <td>kleinwagen</td>\n",
       "      <td>2001</td>\n",
       "      <td>manuell</td>\n",
       "      <td>75</td>\n",
       "      <td>golf</td>\n",
       "      <td>150000</td>\n",
       "      <td>6</td>\n",
       "      <td>benzin</td>\n",
       "      <td>volkswagen</td>\n",
       "      <td>nein</td>\n",
       "      <td>2016-03-17 00:00:00</td>\n",
       "      <td>0</td>\n",
       "      <td>91074</td>\n",
       "      <td>2016-03-17 17:40:17</td>\n",
       "    </tr>\n",
       "    <tr>\n",
       "      <th>4</th>\n",
       "      <td>2016-03-31 17:25:20</td>\n",
       "      <td>Skoda_Fabia_1.4_TDI_PD_Classic</td>\n",
       "      <td>privat</td>\n",
       "      <td>Angebot</td>\n",
       "      <td>3600</td>\n",
       "      <td>test</td>\n",
       "      <td>kleinwagen</td>\n",
       "      <td>2008</td>\n",
       "      <td>manuell</td>\n",
       "      <td>69</td>\n",
       "      <td>fabia</td>\n",
       "      <td>90000</td>\n",
       "      <td>7</td>\n",
       "      <td>diesel</td>\n",
       "      <td>skoda</td>\n",
       "      <td>nein</td>\n",
       "      <td>2016-03-31 00:00:00</td>\n",
       "      <td>0</td>\n",
       "      <td>60437</td>\n",
       "      <td>2016-04-06 10:17:21</td>\n",
       "    </tr>\n",
       "  </tbody>\n",
       "</table>\n",
       "</div>"
      ],
      "text/plain": [
       "           dateCrawled                            name  seller offerType  \\\n",
       "0  2016-03-24 11:52:17                      Golf_3_1.6  privat   Angebot   \n",
       "1  2016-03-24 10:58:45            A5_Sportback_2.7_Tdi  privat   Angebot   \n",
       "2  2016-03-14 12:52:21  Jeep_Grand_Cherokee_\"Overland\"  privat   Angebot   \n",
       "3  2016-03-17 16:54:04              GOLF_4_1_4__3TÜRER  privat   Angebot   \n",
       "4  2016-03-31 17:25:20  Skoda_Fabia_1.4_TDI_PD_Classic  privat   Angebot   \n",
       "\n",
       "   price abtest vehicleType  yearOfRegistration    gearbox  powerPS  model  \\\n",
       "0    480   test         NaN                1993    manuell        0   golf   \n",
       "1  18300   test       coupe                2011    manuell      190    NaN   \n",
       "2   9800   test         suv                2004  automatik      163  grand   \n",
       "3   1500   test  kleinwagen                2001    manuell       75   golf   \n",
       "4   3600   test  kleinwagen                2008    manuell       69  fabia   \n",
       "\n",
       "   kilometer  monthOfRegistration fuelType       brand notRepairedDamage  \\\n",
       "0     150000                    0   benzin  volkswagen               NaN   \n",
       "1     125000                    5   diesel        audi                ja   \n",
       "2     125000                    8   diesel        jeep               NaN   \n",
       "3     150000                    6   benzin  volkswagen              nein   \n",
       "4      90000                    7   diesel       skoda              nein   \n",
       "\n",
       "           dateCreated  nrOfPictures  postalCode             lastSeen  \n",
       "0  2016-03-24 00:00:00             0       70435  2016-04-07 03:16:57  \n",
       "1  2016-03-24 00:00:00             0       66954  2016-04-07 01:46:50  \n",
       "2  2016-03-14 00:00:00             0       90480  2016-04-05 12:47:46  \n",
       "3  2016-03-17 00:00:00             0       91074  2016-03-17 17:40:17  \n",
       "4  2016-03-31 00:00:00             0       60437  2016-04-06 10:17:21  "
      ]
     },
     "execution_count": 9,
     "metadata": {},
     "output_type": "execute_result"
    }
   ],
   "source": [
    "df.head()"
   ]
  },
  {
   "cell_type": "markdown",
   "metadata": {},
   "source": [
    "## Null checks?\n",
    "\n",
    "* isnull\n",
    "* any\n",
    "* head\n",
    "* sum"
   ]
  },
  {
   "cell_type": "code",
   "execution_count": 10,
   "metadata": {},
   "outputs": [
    {
     "data": {
      "text/plain": [
       "True"
      ]
     },
     "execution_count": 10,
     "metadata": {},
     "output_type": "execute_result"
    }
   ],
   "source": [
    "df.isnull().values.any()"
   ]
  },
  {
   "cell_type": "markdown",
   "metadata": {},
   "source": [
    "Ok, but where?"
   ]
  },
  {
   "cell_type": "code",
   "execution_count": 11,
   "metadata": {},
   "outputs": [
    {
     "data": {
      "text/html": [
       "<div>\n",
       "<style scoped>\n",
       "    .dataframe tbody tr th:only-of-type {\n",
       "        vertical-align: middle;\n",
       "    }\n",
       "\n",
       "    .dataframe tbody tr th {\n",
       "        vertical-align: top;\n",
       "    }\n",
       "\n",
       "    .dataframe thead th {\n",
       "        text-align: right;\n",
       "    }\n",
       "</style>\n",
       "<table border=\"1\" class=\"dataframe\">\n",
       "  <thead>\n",
       "    <tr style=\"text-align: right;\">\n",
       "      <th></th>\n",
       "      <th>dateCrawled</th>\n",
       "      <th>name</th>\n",
       "      <th>seller</th>\n",
       "      <th>offerType</th>\n",
       "      <th>price</th>\n",
       "      <th>abtest</th>\n",
       "      <th>vehicleType</th>\n",
       "      <th>yearOfRegistration</th>\n",
       "      <th>gearbox</th>\n",
       "      <th>powerPS</th>\n",
       "      <th>model</th>\n",
       "      <th>kilometer</th>\n",
       "      <th>monthOfRegistration</th>\n",
       "      <th>fuelType</th>\n",
       "      <th>brand</th>\n",
       "      <th>notRepairedDamage</th>\n",
       "      <th>dateCreated</th>\n",
       "      <th>nrOfPictures</th>\n",
       "      <th>postalCode</th>\n",
       "      <th>lastSeen</th>\n",
       "    </tr>\n",
       "  </thead>\n",
       "  <tbody>\n",
       "    <tr>\n",
       "      <th>0</th>\n",
       "      <td>2016-03-24 11:52:17</td>\n",
       "      <td>Golf_3_1.6</td>\n",
       "      <td>privat</td>\n",
       "      <td>Angebot</td>\n",
       "      <td>480</td>\n",
       "      <td>test</td>\n",
       "      <td>NaN</td>\n",
       "      <td>1993</td>\n",
       "      <td>manuell</td>\n",
       "      <td>0</td>\n",
       "      <td>golf</td>\n",
       "      <td>150000</td>\n",
       "      <td>0</td>\n",
       "      <td>benzin</td>\n",
       "      <td>volkswagen</td>\n",
       "      <td>NaN</td>\n",
       "      <td>2016-03-24 00:00:00</td>\n",
       "      <td>0</td>\n",
       "      <td>70435</td>\n",
       "      <td>2016-04-07 03:16:57</td>\n",
       "    </tr>\n",
       "    <tr>\n",
       "      <th>1</th>\n",
       "      <td>2016-03-24 10:58:45</td>\n",
       "      <td>A5_Sportback_2.7_Tdi</td>\n",
       "      <td>privat</td>\n",
       "      <td>Angebot</td>\n",
       "      <td>18300</td>\n",
       "      <td>test</td>\n",
       "      <td>coupe</td>\n",
       "      <td>2011</td>\n",
       "      <td>manuell</td>\n",
       "      <td>190</td>\n",
       "      <td>NaN</td>\n",
       "      <td>125000</td>\n",
       "      <td>5</td>\n",
       "      <td>diesel</td>\n",
       "      <td>audi</td>\n",
       "      <td>ja</td>\n",
       "      <td>2016-03-24 00:00:00</td>\n",
       "      <td>0</td>\n",
       "      <td>66954</td>\n",
       "      <td>2016-04-07 01:46:50</td>\n",
       "    </tr>\n",
       "    <tr>\n",
       "      <th>2</th>\n",
       "      <td>2016-03-14 12:52:21</td>\n",
       "      <td>Jeep_Grand_Cherokee_\"Overland\"</td>\n",
       "      <td>privat</td>\n",
       "      <td>Angebot</td>\n",
       "      <td>9800</td>\n",
       "      <td>test</td>\n",
       "      <td>suv</td>\n",
       "      <td>2004</td>\n",
       "      <td>automatik</td>\n",
       "      <td>163</td>\n",
       "      <td>grand</td>\n",
       "      <td>125000</td>\n",
       "      <td>8</td>\n",
       "      <td>diesel</td>\n",
       "      <td>jeep</td>\n",
       "      <td>NaN</td>\n",
       "      <td>2016-03-14 00:00:00</td>\n",
       "      <td>0</td>\n",
       "      <td>90480</td>\n",
       "      <td>2016-04-05 12:47:46</td>\n",
       "    </tr>\n",
       "    <tr>\n",
       "      <th>8</th>\n",
       "      <td>2016-04-04 23:42:13</td>\n",
       "      <td>Ford_C___Max_Titanium_1_0_L_EcoBoost</td>\n",
       "      <td>privat</td>\n",
       "      <td>Angebot</td>\n",
       "      <td>14500</td>\n",
       "      <td>control</td>\n",
       "      <td>bus</td>\n",
       "      <td>2014</td>\n",
       "      <td>manuell</td>\n",
       "      <td>125</td>\n",
       "      <td>c_max</td>\n",
       "      <td>30000</td>\n",
       "      <td>8</td>\n",
       "      <td>benzin</td>\n",
       "      <td>ford</td>\n",
       "      <td>NaN</td>\n",
       "      <td>2016-04-04 00:00:00</td>\n",
       "      <td>0</td>\n",
       "      <td>94505</td>\n",
       "      <td>2016-04-04 23:42:13</td>\n",
       "    </tr>\n",
       "    <tr>\n",
       "      <th>9</th>\n",
       "      <td>2016-03-17 10:53:50</td>\n",
       "      <td>VW_Golf_4_5_tuerig_zu_verkaufen_mit_Anhaengerk...</td>\n",
       "      <td>privat</td>\n",
       "      <td>Angebot</td>\n",
       "      <td>999</td>\n",
       "      <td>test</td>\n",
       "      <td>kleinwagen</td>\n",
       "      <td>1998</td>\n",
       "      <td>manuell</td>\n",
       "      <td>101</td>\n",
       "      <td>golf</td>\n",
       "      <td>150000</td>\n",
       "      <td>0</td>\n",
       "      <td>NaN</td>\n",
       "      <td>volkswagen</td>\n",
       "      <td>NaN</td>\n",
       "      <td>2016-03-17 00:00:00</td>\n",
       "      <td>0</td>\n",
       "      <td>27472</td>\n",
       "      <td>2016-03-31 17:17:06</td>\n",
       "    </tr>\n",
       "  </tbody>\n",
       "</table>\n",
       "</div>"
      ],
      "text/plain": [
       "           dateCrawled                                               name  \\\n",
       "0  2016-03-24 11:52:17                                         Golf_3_1.6   \n",
       "1  2016-03-24 10:58:45                               A5_Sportback_2.7_Tdi   \n",
       "2  2016-03-14 12:52:21                     Jeep_Grand_Cherokee_\"Overland\"   \n",
       "8  2016-04-04 23:42:13               Ford_C___Max_Titanium_1_0_L_EcoBoost   \n",
       "9  2016-03-17 10:53:50  VW_Golf_4_5_tuerig_zu_verkaufen_mit_Anhaengerk...   \n",
       "\n",
       "   seller offerType  price   abtest vehicleType  yearOfRegistration  \\\n",
       "0  privat   Angebot    480     test         NaN                1993   \n",
       "1  privat   Angebot  18300     test       coupe                2011   \n",
       "2  privat   Angebot   9800     test         suv                2004   \n",
       "8  privat   Angebot  14500  control         bus                2014   \n",
       "9  privat   Angebot    999     test  kleinwagen                1998   \n",
       "\n",
       "     gearbox  powerPS  model  kilometer  monthOfRegistration fuelType  \\\n",
       "0    manuell        0   golf     150000                    0   benzin   \n",
       "1    manuell      190    NaN     125000                    5   diesel   \n",
       "2  automatik      163  grand     125000                    8   diesel   \n",
       "8    manuell      125  c_max      30000                    8   benzin   \n",
       "9    manuell      101   golf     150000                    0      NaN   \n",
       "\n",
       "        brand notRepairedDamage          dateCreated  nrOfPictures  \\\n",
       "0  volkswagen               NaN  2016-03-24 00:00:00             0   \n",
       "1        audi                ja  2016-03-24 00:00:00             0   \n",
       "2        jeep               NaN  2016-03-14 00:00:00             0   \n",
       "8        ford               NaN  2016-04-04 00:00:00             0   \n",
       "9  volkswagen               NaN  2016-03-17 00:00:00             0   \n",
       "\n",
       "   postalCode             lastSeen  \n",
       "0       70435  2016-04-07 03:16:57  \n",
       "1       66954  2016-04-07 01:46:50  \n",
       "2       90480  2016-04-05 12:47:46  \n",
       "8       94505  2016-04-04 23:42:13  \n",
       "9       27472  2016-03-31 17:17:06  "
      ]
     },
     "execution_count": 11,
     "metadata": {},
     "output_type": "execute_result"
    }
   ],
   "source": [
    "df[df.isnull().any(axis=1)].head() # 1/3 of rows contain 0 values"
   ]
  },
  {
   "cell_type": "code",
   "execution_count": 12,
   "metadata": {},
   "outputs": [
    {
     "data": {
      "text/plain": [
       "(110572, 20)"
      ]
     },
     "execution_count": 12,
     "metadata": {},
     "output_type": "execute_result"
    }
   ],
   "source": [
    "df[df.isnull().any(axis=1)].shape # about 1/3 of rows contain 0 values"
   ]
  },
  {
   "cell_type": "markdown",
   "metadata": {},
   "source": [
    "Which columns?"
   ]
  },
  {
   "cell_type": "code",
   "execution_count": 13,
   "metadata": {},
   "outputs": [],
   "source": [
    "void = df[pd.isnull(df).any(axis=1)].loc[:, df.isna().any()]"
   ]
  },
  {
   "cell_type": "code",
   "execution_count": 14,
   "metadata": {},
   "outputs": [
    {
     "data": {
      "text/plain": [
       "(110572, 5)"
      ]
     },
     "execution_count": 14,
     "metadata": {},
     "output_type": "execute_result"
    }
   ],
   "source": [
    "void.shape"
   ]
  },
  {
   "cell_type": "markdown",
   "metadata": {},
   "source": [
    "We created a new data frame, see checks."
   ]
  },
  {
   "cell_type": "code",
   "execution_count": 15,
   "metadata": {},
   "outputs": [
    {
     "data": {
      "text/plain": [
       "False"
      ]
     },
     "execution_count": 15,
     "metadata": {},
     "output_type": "execute_result"
    }
   ],
   "source": [
    "void.values.base is df.values"
   ]
  },
  {
   "cell_type": "code",
   "execution_count": 16,
   "metadata": {},
   "outputs": [
    {
     "data": {
      "text/plain": [
       "False"
      ]
     },
     "execution_count": 16,
     "metadata": {},
     "output_type": "execute_result"
    }
   ],
   "source": [
    "void._is_view"
   ]
  },
  {
   "cell_type": "markdown",
   "metadata": {},
   "source": [
    "Counting null values."
   ]
  },
  {
   "cell_type": "code",
   "execution_count": 17,
   "metadata": {},
   "outputs": [
    {
     "data": {
      "text/html": [
       "<div>\n",
       "<style scoped>\n",
       "    .dataframe tbody tr th:only-of-type {\n",
       "        vertical-align: middle;\n",
       "    }\n",
       "\n",
       "    .dataframe tbody tr th {\n",
       "        vertical-align: top;\n",
       "    }\n",
       "\n",
       "    .dataframe thead th {\n",
       "        text-align: right;\n",
       "    }\n",
       "</style>\n",
       "<table border=\"1\" class=\"dataframe\">\n",
       "  <thead>\n",
       "    <tr style=\"text-align: right;\">\n",
       "      <th></th>\n",
       "      <th>vehicleType</th>\n",
       "      <th>gearbox</th>\n",
       "      <th>model</th>\n",
       "      <th>fuelType</th>\n",
       "      <th>notRepairedDamage</th>\n",
       "    </tr>\n",
       "  </thead>\n",
       "  <tbody>\n",
       "    <tr>\n",
       "      <th>0</th>\n",
       "      <td>True</td>\n",
       "      <td>False</td>\n",
       "      <td>False</td>\n",
       "      <td>False</td>\n",
       "      <td>True</td>\n",
       "    </tr>\n",
       "    <tr>\n",
       "      <th>1</th>\n",
       "      <td>False</td>\n",
       "      <td>False</td>\n",
       "      <td>True</td>\n",
       "      <td>False</td>\n",
       "      <td>False</td>\n",
       "    </tr>\n",
       "    <tr>\n",
       "      <th>2</th>\n",
       "      <td>False</td>\n",
       "      <td>False</td>\n",
       "      <td>False</td>\n",
       "      <td>False</td>\n",
       "      <td>True</td>\n",
       "    </tr>\n",
       "    <tr>\n",
       "      <th>8</th>\n",
       "      <td>False</td>\n",
       "      <td>False</td>\n",
       "      <td>False</td>\n",
       "      <td>False</td>\n",
       "      <td>True</td>\n",
       "    </tr>\n",
       "    <tr>\n",
       "      <th>9</th>\n",
       "      <td>False</td>\n",
       "      <td>False</td>\n",
       "      <td>False</td>\n",
       "      <td>True</td>\n",
       "      <td>True</td>\n",
       "    </tr>\n",
       "    <tr>\n",
       "      <th>12</th>\n",
       "      <td>False</td>\n",
       "      <td>False</td>\n",
       "      <td>False</td>\n",
       "      <td>False</td>\n",
       "      <td>True</td>\n",
       "    </tr>\n",
       "    <tr>\n",
       "      <th>13</th>\n",
       "      <td>False</td>\n",
       "      <td>False</td>\n",
       "      <td>False</td>\n",
       "      <td>True</td>\n",
       "      <td>False</td>\n",
       "    </tr>\n",
       "    <tr>\n",
       "      <th>15</th>\n",
       "      <td>False</td>\n",
       "      <td>True</td>\n",
       "      <td>False</td>\n",
       "      <td>False</td>\n",
       "      <td>True</td>\n",
       "    </tr>\n",
       "    <tr>\n",
       "      <th>16</th>\n",
       "      <td>True</td>\n",
       "      <td>True</td>\n",
       "      <td>False</td>\n",
       "      <td>False</td>\n",
       "      <td>True</td>\n",
       "    </tr>\n",
       "    <tr>\n",
       "      <th>22</th>\n",
       "      <td>True</td>\n",
       "      <td>False</td>\n",
       "      <td>False</td>\n",
       "      <td>False</td>\n",
       "      <td>False</td>\n",
       "    </tr>\n",
       "    <tr>\n",
       "      <th>26</th>\n",
       "      <td>True</td>\n",
       "      <td>False</td>\n",
       "      <td>False</td>\n",
       "      <td>True</td>\n",
       "      <td>False</td>\n",
       "    </tr>\n",
       "    <tr>\n",
       "      <th>31</th>\n",
       "      <td>True</td>\n",
       "      <td>False</td>\n",
       "      <td>False</td>\n",
       "      <td>False</td>\n",
       "      <td>True</td>\n",
       "    </tr>\n",
       "    <tr>\n",
       "      <th>32</th>\n",
       "      <td>False</td>\n",
       "      <td>True</td>\n",
       "      <td>False</td>\n",
       "      <td>False</td>\n",
       "      <td>False</td>\n",
       "    </tr>\n",
       "    <tr>\n",
       "      <th>35</th>\n",
       "      <td>True</td>\n",
       "      <td>False</td>\n",
       "      <td>False</td>\n",
       "      <td>False</td>\n",
       "      <td>False</td>\n",
       "    </tr>\n",
       "    <tr>\n",
       "      <th>36</th>\n",
       "      <td>False</td>\n",
       "      <td>False</td>\n",
       "      <td>False</td>\n",
       "      <td>True</td>\n",
       "      <td>True</td>\n",
       "    </tr>\n",
       "    <tr>\n",
       "      <th>37</th>\n",
       "      <td>True</td>\n",
       "      <td>True</td>\n",
       "      <td>False</td>\n",
       "      <td>False</td>\n",
       "      <td>False</td>\n",
       "    </tr>\n",
       "    <tr>\n",
       "      <th>40</th>\n",
       "      <td>True</td>\n",
       "      <td>True</td>\n",
       "      <td>False</td>\n",
       "      <td>False</td>\n",
       "      <td>True</td>\n",
       "    </tr>\n",
       "    <tr>\n",
       "      <th>41</th>\n",
       "      <td>False</td>\n",
       "      <td>False</td>\n",
       "      <td>False</td>\n",
       "      <td>True</td>\n",
       "      <td>True</td>\n",
       "    </tr>\n",
       "    <tr>\n",
       "      <th>42</th>\n",
       "      <td>False</td>\n",
       "      <td>False</td>\n",
       "      <td>False</td>\n",
       "      <td>False</td>\n",
       "      <td>True</td>\n",
       "    </tr>\n",
       "    <tr>\n",
       "      <th>44</th>\n",
       "      <td>False</td>\n",
       "      <td>False</td>\n",
       "      <td>False</td>\n",
       "      <td>False</td>\n",
       "      <td>True</td>\n",
       "    </tr>\n",
       "    <tr>\n",
       "      <th>48</th>\n",
       "      <td>True</td>\n",
       "      <td>False</td>\n",
       "      <td>False</td>\n",
       "      <td>False</td>\n",
       "      <td>True</td>\n",
       "    </tr>\n",
       "    <tr>\n",
       "      <th>50</th>\n",
       "      <td>False</td>\n",
       "      <td>False</td>\n",
       "      <td>False</td>\n",
       "      <td>False</td>\n",
       "      <td>True</td>\n",
       "    </tr>\n",
       "    <tr>\n",
       "      <th>51</th>\n",
       "      <td>True</td>\n",
       "      <td>False</td>\n",
       "      <td>False</td>\n",
       "      <td>False</td>\n",
       "      <td>False</td>\n",
       "    </tr>\n",
       "    <tr>\n",
       "      <th>52</th>\n",
       "      <td>True</td>\n",
       "      <td>False</td>\n",
       "      <td>False</td>\n",
       "      <td>True</td>\n",
       "      <td>True</td>\n",
       "    </tr>\n",
       "    <tr>\n",
       "      <th>53</th>\n",
       "      <td>False</td>\n",
       "      <td>False</td>\n",
       "      <td>False</td>\n",
       "      <td>False</td>\n",
       "      <td>True</td>\n",
       "    </tr>\n",
       "    <tr>\n",
       "      <th>54</th>\n",
       "      <td>False</td>\n",
       "      <td>False</td>\n",
       "      <td>False</td>\n",
       "      <td>True</td>\n",
       "      <td>False</td>\n",
       "    </tr>\n",
       "    <tr>\n",
       "      <th>58</th>\n",
       "      <td>True</td>\n",
       "      <td>False</td>\n",
       "      <td>False</td>\n",
       "      <td>True</td>\n",
       "      <td>False</td>\n",
       "    </tr>\n",
       "    <tr>\n",
       "      <th>60</th>\n",
       "      <td>False</td>\n",
       "      <td>False</td>\n",
       "      <td>True</td>\n",
       "      <td>True</td>\n",
       "      <td>True</td>\n",
       "    </tr>\n",
       "    <tr>\n",
       "      <th>61</th>\n",
       "      <td>False</td>\n",
       "      <td>False</td>\n",
       "      <td>False</td>\n",
       "      <td>False</td>\n",
       "      <td>True</td>\n",
       "    </tr>\n",
       "    <tr>\n",
       "      <th>66</th>\n",
       "      <td>True</td>\n",
       "      <td>False</td>\n",
       "      <td>False</td>\n",
       "      <td>True</td>\n",
       "      <td>False</td>\n",
       "    </tr>\n",
       "    <tr>\n",
       "      <th>...</th>\n",
       "      <td>...</td>\n",
       "      <td>...</td>\n",
       "      <td>...</td>\n",
       "      <td>...</td>\n",
       "      <td>...</td>\n",
       "    </tr>\n",
       "    <tr>\n",
       "      <th>371443</th>\n",
       "      <td>False</td>\n",
       "      <td>True</td>\n",
       "      <td>False</td>\n",
       "      <td>False</td>\n",
       "      <td>True</td>\n",
       "    </tr>\n",
       "    <tr>\n",
       "      <th>371444</th>\n",
       "      <td>True</td>\n",
       "      <td>False</td>\n",
       "      <td>False</td>\n",
       "      <td>True</td>\n",
       "      <td>False</td>\n",
       "    </tr>\n",
       "    <tr>\n",
       "      <th>371445</th>\n",
       "      <td>False</td>\n",
       "      <td>False</td>\n",
       "      <td>False</td>\n",
       "      <td>False</td>\n",
       "      <td>True</td>\n",
       "    </tr>\n",
       "    <tr>\n",
       "      <th>371448</th>\n",
       "      <td>False</td>\n",
       "      <td>False</td>\n",
       "      <td>False</td>\n",
       "      <td>False</td>\n",
       "      <td>True</td>\n",
       "    </tr>\n",
       "    <tr>\n",
       "      <th>371450</th>\n",
       "      <td>False</td>\n",
       "      <td>False</td>\n",
       "      <td>False</td>\n",
       "      <td>False</td>\n",
       "      <td>True</td>\n",
       "    </tr>\n",
       "    <tr>\n",
       "      <th>371452</th>\n",
       "      <td>False</td>\n",
       "      <td>False</td>\n",
       "      <td>False</td>\n",
       "      <td>False</td>\n",
       "      <td>True</td>\n",
       "    </tr>\n",
       "    <tr>\n",
       "      <th>371454</th>\n",
       "      <td>False</td>\n",
       "      <td>False</td>\n",
       "      <td>False</td>\n",
       "      <td>False</td>\n",
       "      <td>True</td>\n",
       "    </tr>\n",
       "    <tr>\n",
       "      <th>371457</th>\n",
       "      <td>False</td>\n",
       "      <td>False</td>\n",
       "      <td>False</td>\n",
       "      <td>False</td>\n",
       "      <td>True</td>\n",
       "    </tr>\n",
       "    <tr>\n",
       "      <th>371460</th>\n",
       "      <td>True</td>\n",
       "      <td>True</td>\n",
       "      <td>False</td>\n",
       "      <td>True</td>\n",
       "      <td>True</td>\n",
       "    </tr>\n",
       "    <tr>\n",
       "      <th>371473</th>\n",
       "      <td>False</td>\n",
       "      <td>False</td>\n",
       "      <td>False</td>\n",
       "      <td>False</td>\n",
       "      <td>True</td>\n",
       "    </tr>\n",
       "    <tr>\n",
       "      <th>371475</th>\n",
       "      <td>False</td>\n",
       "      <td>False</td>\n",
       "      <td>False</td>\n",
       "      <td>False</td>\n",
       "      <td>True</td>\n",
       "    </tr>\n",
       "    <tr>\n",
       "      <th>371476</th>\n",
       "      <td>False</td>\n",
       "      <td>False</td>\n",
       "      <td>True</td>\n",
       "      <td>False</td>\n",
       "      <td>False</td>\n",
       "    </tr>\n",
       "    <tr>\n",
       "      <th>371482</th>\n",
       "      <td>False</td>\n",
       "      <td>False</td>\n",
       "      <td>False</td>\n",
       "      <td>True</td>\n",
       "      <td>True</td>\n",
       "    </tr>\n",
       "    <tr>\n",
       "      <th>371484</th>\n",
       "      <td>False</td>\n",
       "      <td>False</td>\n",
       "      <td>False</td>\n",
       "      <td>True</td>\n",
       "      <td>True</td>\n",
       "    </tr>\n",
       "    <tr>\n",
       "      <th>371485</th>\n",
       "      <td>False</td>\n",
       "      <td>False</td>\n",
       "      <td>False</td>\n",
       "      <td>False</td>\n",
       "      <td>True</td>\n",
       "    </tr>\n",
       "    <tr>\n",
       "      <th>371486</th>\n",
       "      <td>False</td>\n",
       "      <td>True</td>\n",
       "      <td>False</td>\n",
       "      <td>True</td>\n",
       "      <td>True</td>\n",
       "    </tr>\n",
       "    <tr>\n",
       "      <th>371493</th>\n",
       "      <td>True</td>\n",
       "      <td>False</td>\n",
       "      <td>False</td>\n",
       "      <td>False</td>\n",
       "      <td>True</td>\n",
       "    </tr>\n",
       "    <tr>\n",
       "      <th>371494</th>\n",
       "      <td>False</td>\n",
       "      <td>False</td>\n",
       "      <td>False</td>\n",
       "      <td>False</td>\n",
       "      <td>True</td>\n",
       "    </tr>\n",
       "    <tr>\n",
       "      <th>371495</th>\n",
       "      <td>True</td>\n",
       "      <td>True</td>\n",
       "      <td>True</td>\n",
       "      <td>False</td>\n",
       "      <td>True</td>\n",
       "    </tr>\n",
       "    <tr>\n",
       "      <th>371496</th>\n",
       "      <td>False</td>\n",
       "      <td>False</td>\n",
       "      <td>False</td>\n",
       "      <td>True</td>\n",
       "      <td>False</td>\n",
       "    </tr>\n",
       "    <tr>\n",
       "      <th>371498</th>\n",
       "      <td>False</td>\n",
       "      <td>False</td>\n",
       "      <td>False</td>\n",
       "      <td>False</td>\n",
       "      <td>True</td>\n",
       "    </tr>\n",
       "    <tr>\n",
       "      <th>371504</th>\n",
       "      <td>True</td>\n",
       "      <td>False</td>\n",
       "      <td>False</td>\n",
       "      <td>True</td>\n",
       "      <td>True</td>\n",
       "    </tr>\n",
       "    <tr>\n",
       "      <th>371507</th>\n",
       "      <td>False</td>\n",
       "      <td>False</td>\n",
       "      <td>False</td>\n",
       "      <td>False</td>\n",
       "      <td>True</td>\n",
       "    </tr>\n",
       "    <tr>\n",
       "      <th>371509</th>\n",
       "      <td>True</td>\n",
       "      <td>False</td>\n",
       "      <td>True</td>\n",
       "      <td>True</td>\n",
       "      <td>False</td>\n",
       "    </tr>\n",
       "    <tr>\n",
       "      <th>371514</th>\n",
       "      <td>False</td>\n",
       "      <td>False</td>\n",
       "      <td>False</td>\n",
       "      <td>False</td>\n",
       "      <td>True</td>\n",
       "    </tr>\n",
       "    <tr>\n",
       "      <th>371515</th>\n",
       "      <td>False</td>\n",
       "      <td>False</td>\n",
       "      <td>False</td>\n",
       "      <td>False</td>\n",
       "      <td>True</td>\n",
       "    </tr>\n",
       "    <tr>\n",
       "      <th>371519</th>\n",
       "      <td>True</td>\n",
       "      <td>False</td>\n",
       "      <td>False</td>\n",
       "      <td>True</td>\n",
       "      <td>False</td>\n",
       "    </tr>\n",
       "    <tr>\n",
       "      <th>371522</th>\n",
       "      <td>True</td>\n",
       "      <td>False</td>\n",
       "      <td>False</td>\n",
       "      <td>False</td>\n",
       "      <td>False</td>\n",
       "    </tr>\n",
       "    <tr>\n",
       "      <th>371523</th>\n",
       "      <td>True</td>\n",
       "      <td>True</td>\n",
       "      <td>True</td>\n",
       "      <td>True</td>\n",
       "      <td>True</td>\n",
       "    </tr>\n",
       "    <tr>\n",
       "      <th>371526</th>\n",
       "      <td>False</td>\n",
       "      <td>False</td>\n",
       "      <td>False</td>\n",
       "      <td>False</td>\n",
       "      <td>True</td>\n",
       "    </tr>\n",
       "  </tbody>\n",
       "</table>\n",
       "<p>110572 rows × 5 columns</p>\n",
       "</div>"
      ],
      "text/plain": [
       "        vehicleType  gearbox  model  fuelType  notRepairedDamage\n",
       "0              True    False  False     False               True\n",
       "1             False    False   True     False              False\n",
       "2             False    False  False     False               True\n",
       "8             False    False  False     False               True\n",
       "9             False    False  False      True               True\n",
       "12            False    False  False     False               True\n",
       "13            False    False  False      True              False\n",
       "15            False     True  False     False               True\n",
       "16             True     True  False     False               True\n",
       "22             True    False  False     False              False\n",
       "26             True    False  False      True              False\n",
       "31             True    False  False     False               True\n",
       "32            False     True  False     False              False\n",
       "35             True    False  False     False              False\n",
       "36            False    False  False      True               True\n",
       "37             True     True  False     False              False\n",
       "40             True     True  False     False               True\n",
       "41            False    False  False      True               True\n",
       "42            False    False  False     False               True\n",
       "44            False    False  False     False               True\n",
       "48             True    False  False     False               True\n",
       "50            False    False  False     False               True\n",
       "51             True    False  False     False              False\n",
       "52             True    False  False      True               True\n",
       "53            False    False  False     False               True\n",
       "54            False    False  False      True              False\n",
       "58             True    False  False      True              False\n",
       "60            False    False   True      True               True\n",
       "61            False    False  False     False               True\n",
       "66             True    False  False      True              False\n",
       "...             ...      ...    ...       ...                ...\n",
       "371443        False     True  False     False               True\n",
       "371444         True    False  False      True              False\n",
       "371445        False    False  False     False               True\n",
       "371448        False    False  False     False               True\n",
       "371450        False    False  False     False               True\n",
       "371452        False    False  False     False               True\n",
       "371454        False    False  False     False               True\n",
       "371457        False    False  False     False               True\n",
       "371460         True     True  False      True               True\n",
       "371473        False    False  False     False               True\n",
       "371475        False    False  False     False               True\n",
       "371476        False    False   True     False              False\n",
       "371482        False    False  False      True               True\n",
       "371484        False    False  False      True               True\n",
       "371485        False    False  False     False               True\n",
       "371486        False     True  False      True               True\n",
       "371493         True    False  False     False               True\n",
       "371494        False    False  False     False               True\n",
       "371495         True     True   True     False               True\n",
       "371496        False    False  False      True              False\n",
       "371498        False    False  False     False               True\n",
       "371504         True    False  False      True               True\n",
       "371507        False    False  False     False               True\n",
       "371509         True    False   True      True              False\n",
       "371514        False    False  False     False               True\n",
       "371515        False    False  False     False               True\n",
       "371519         True    False  False      True              False\n",
       "371522         True    False  False     False              False\n",
       "371523         True     True   True      True               True\n",
       "371526        False    False  False     False               True\n",
       "\n",
       "[110572 rows x 5 columns]"
      ]
     },
     "execution_count": 17,
     "metadata": {},
     "output_type": "execute_result"
    }
   ],
   "source": [
    "void.isnull()"
   ]
  },
  {
   "cell_type": "code",
   "execution_count": 18,
   "metadata": {},
   "outputs": [
    {
     "data": {
      "text/plain": [
       "vehicleType          37869\n",
       "gearbox              20209\n",
       "model                20484\n",
       "fuelType             33386\n",
       "notRepairedDamage    72060\n",
       "dtype: int64"
      ]
     },
     "execution_count": 18,
     "metadata": {},
     "output_type": "execute_result"
    }
   ],
   "source": [
    "void.isnull().sum()"
   ]
  },
  {
   "cell_type": "markdown",
   "metadata": {},
   "source": [
    "Question: Is there a group brands, that do not have a vehicle type?\n",
    "\n"
   ]
  },
  {
   "cell_type": "code",
   "execution_count": 19,
   "metadata": {},
   "outputs": [],
   "source": [
    "s = df[df.vehicleType.isnull()].groupby('brand').size().sort_values(ascending=False)"
   ]
  },
  {
   "cell_type": "code",
   "execution_count": 20,
   "metadata": {},
   "outputs": [
    {
     "data": {
      "text/plain": [
       "brand\n",
       "volkswagen       9798\n",
       "opel             4979\n",
       "bmw              2862\n",
       "ford             2820\n",
       "mercedes_benz    2540\n",
       "dtype: int64"
      ]
     },
     "execution_count": 20,
     "metadata": {},
     "output_type": "execute_result"
    }
   ],
   "source": [
    "s.head()"
   ]
  },
  {
   "cell_type": "markdown",
   "metadata": {},
   "source": [
    "What is the ratio of undefined types for each brand in this dataset?"
   ]
  },
  {
   "cell_type": "code",
   "execution_count": 21,
   "metadata": {},
   "outputs": [
    {
     "data": {
      "text/plain": [
       "count    40.000000\n",
       "mean      0.102387\n",
       "std       0.050854\n",
       "min       0.039623\n",
       "25%       0.071718\n",
       "50%       0.098849\n",
       "75%       0.123989\n",
       "max       0.296108\n",
       "dtype: float64"
      ]
     },
     "execution_count": 21,
     "metadata": {},
     "output_type": "execute_result"
    }
   ],
   "source": [
    "(s / df.groupby('brand').size()).describe()"
   ]
  },
  {
   "cell_type": "code",
   "execution_count": 22,
   "metadata": {},
   "outputs": [
    {
     "data": {
      "text/plain": [
       "brand\n",
       "trabant           0.296108\n",
       "sonstige_autos    0.267454\n",
       "daewoo            0.143911\n",
       "rover             0.140816\n",
       "lada              0.133333\n",
       "renault           0.131337\n",
       "fiat              0.128152\n",
       "daihatsu          0.125310\n",
       "honda             0.124824\n",
       "opel              0.124053\n",
       "dtype: float64"
      ]
     },
     "execution_count": 22,
     "metadata": {},
     "output_type": "execute_result"
    }
   ],
   "source": [
    "(s / df.groupby('brand').size()).sort_values(ascending=False).head(10)"
   ]
  },
  {
   "cell_type": "markdown",
   "metadata": {},
   "source": [
    "Oh right, the GDR built cars, too."
   ]
  },
  {
   "cell_type": "markdown",
   "metadata": {},
   "source": [
    "Ok, look at the prices."
   ]
  },
  {
   "cell_type": "code",
   "execution_count": 23,
   "metadata": {},
   "outputs": [
    {
     "data": {
      "text/plain": [
       "count    3.715280e+05\n",
       "mean     1.729514e+04\n",
       "std      3.587954e+06\n",
       "min      0.000000e+00\n",
       "25%      1.150000e+03\n",
       "50%      2.950000e+03\n",
       "75%      7.200000e+03\n",
       "max      2.147484e+09\n",
       "Name: price, dtype: float64"
      ]
     },
     "execution_count": 23,
     "metadata": {},
     "output_type": "execute_result"
    }
   ],
   "source": [
    "df.price.describe()"
   ]
  },
  {
   "cell_type": "code",
   "execution_count": 24,
   "metadata": {},
   "outputs": [],
   "source": [
    "# Suppress scientific notation."
   ]
  },
  {
   "cell_type": "code",
   "execution_count": 25,
   "metadata": {},
   "outputs": [],
   "source": [
    "pd.set_option('display.float_format', lambda x: '%.3f' % x)"
   ]
  },
  {
   "cell_type": "code",
   "execution_count": 26,
   "metadata": {},
   "outputs": [
    {
     "data": {
      "text/plain": [
       "count       371528.000\n",
       "mean         17295.142\n",
       "std        3587953.744\n",
       "min              0.000\n",
       "25%           1150.000\n",
       "50%           2950.000\n",
       "75%           7200.000\n",
       "max     2147483647.000\n",
       "Name: price, dtype: float64"
      ]
     },
     "execution_count": 26,
     "metadata": {},
     "output_type": "execute_result"
    }
   ],
   "source": [
    "df.price.describe()"
   ]
  },
  {
   "cell_type": "markdown",
   "metadata": {},
   "source": [
    "Simple outlier detection."
   ]
  },
  {
   "cell_type": "code",
   "execution_count": 27,
   "metadata": {},
   "outputs": [
    {
     "data": {
      "text/plain": [
       "1523"
      ]
     },
     "execution_count": 27,
     "metadata": {},
     "output_type": "execute_result"
    }
   ],
   "source": [
    "len(df[df.price > 3 * df.price.mean()])"
   ]
  },
  {
   "cell_type": "code",
   "execution_count": 28,
   "metadata": {},
   "outputs": [
    {
     "data": {
      "text/plain": [
       "(1523, 20)"
      ]
     },
     "execution_count": 28,
     "metadata": {},
     "output_type": "execute_result"
    }
   ],
   "source": [
    "df[df.price > 3 * df.price.mean()].shape"
   ]
  },
  {
   "cell_type": "code",
   "execution_count": 29,
   "metadata": {},
   "outputs": [
    {
     "data": {
      "text/html": [
       "<div>\n",
       "<style scoped>\n",
       "    .dataframe tbody tr th:only-of-type {\n",
       "        vertical-align: middle;\n",
       "    }\n",
       "\n",
       "    .dataframe tbody tr th {\n",
       "        vertical-align: top;\n",
       "    }\n",
       "\n",
       "    .dataframe thead th {\n",
       "        text-align: right;\n",
       "    }\n",
       "</style>\n",
       "<table border=\"1\" class=\"dataframe\">\n",
       "  <thead>\n",
       "    <tr style=\"text-align: right;\">\n",
       "      <th></th>\n",
       "      <th>price</th>\n",
       "      <th>yearOfRegistration</th>\n",
       "      <th>powerPS</th>\n",
       "      <th>kilometer</th>\n",
       "      <th>monthOfRegistration</th>\n",
       "      <th>nrOfPictures</th>\n",
       "      <th>postalCode</th>\n",
       "    </tr>\n",
       "  </thead>\n",
       "  <tbody>\n",
       "    <tr>\n",
       "      <th>count</th>\n",
       "      <td>1523.000</td>\n",
       "      <td>1523.000</td>\n",
       "      <td>1523.000</td>\n",
       "      <td>1523.000</td>\n",
       "      <td>1523.000</td>\n",
       "      <td>1523.000</td>\n",
       "      <td>1523.000</td>\n",
       "    </tr>\n",
       "    <tr>\n",
       "      <th>mean</th>\n",
       "      <td>2901972.966</td>\n",
       "      <td>2015.128</td>\n",
       "      <td>332.602</td>\n",
       "      <td>57038.739</td>\n",
       "      <td>5.631</td>\n",
       "      <td>0.000</td>\n",
       "      <td>57059.345</td>\n",
       "    </tr>\n",
       "    <tr>\n",
       "      <th>std</th>\n",
       "      <td>55982903.509</td>\n",
       "      <td>310.438</td>\n",
       "      <td>420.360</td>\n",
       "      <td>47608.681</td>\n",
       "      <td>3.356</td>\n",
       "      <td>0.000</td>\n",
       "      <td>24806.967</td>\n",
       "    </tr>\n",
       "    <tr>\n",
       "      <th>min</th>\n",
       "      <td>51899.000</td>\n",
       "      <td>1000.000</td>\n",
       "      <td>0.000</td>\n",
       "      <td>5000.000</td>\n",
       "      <td>0.000</td>\n",
       "      <td>0.000</td>\n",
       "      <td>1067.000</td>\n",
       "    </tr>\n",
       "    <tr>\n",
       "      <th>25%</th>\n",
       "      <td>59000.000</td>\n",
       "      <td>1997.000</td>\n",
       "      <td>224.000</td>\n",
       "      <td>20000.000</td>\n",
       "      <td>3.000</td>\n",
       "      <td>0.000</td>\n",
       "      <td>38441.000</td>\n",
       "    </tr>\n",
       "    <tr>\n",
       "      <th>50%</th>\n",
       "      <td>69997.000</td>\n",
       "      <td>2010.000</td>\n",
       "      <td>320.000</td>\n",
       "      <td>40000.000</td>\n",
       "      <td>6.000</td>\n",
       "      <td>0.000</td>\n",
       "      <td>60386.000</td>\n",
       "    </tr>\n",
       "    <tr>\n",
       "      <th>75%</th>\n",
       "      <td>106498.000</td>\n",
       "      <td>2014.000</td>\n",
       "      <td>422.000</td>\n",
       "      <td>90000.000</td>\n",
       "      <td>8.000</td>\n",
       "      <td>0.000</td>\n",
       "      <td>78269.500</td>\n",
       "    </tr>\n",
       "    <tr>\n",
       "      <th>max</th>\n",
       "      <td>2147483647.000</td>\n",
       "      <td>9999.000</td>\n",
       "      <td>11620.000</td>\n",
       "      <td>150000.000</td>\n",
       "      <td>12.000</td>\n",
       "      <td>0.000</td>\n",
       "      <td>99880.000</td>\n",
       "    </tr>\n",
       "  </tbody>\n",
       "</table>\n",
       "</div>"
      ],
      "text/plain": [
       "               price  yearOfRegistration   powerPS  kilometer  \\\n",
       "count       1523.000            1523.000  1523.000   1523.000   \n",
       "mean     2901972.966            2015.128   332.602  57038.739   \n",
       "std     55982903.509             310.438   420.360  47608.681   \n",
       "min        51899.000            1000.000     0.000   5000.000   \n",
       "25%        59000.000            1997.000   224.000  20000.000   \n",
       "50%        69997.000            2010.000   320.000  40000.000   \n",
       "75%       106498.000            2014.000   422.000  90000.000   \n",
       "max   2147483647.000            9999.000 11620.000 150000.000   \n",
       "\n",
       "       monthOfRegistration  nrOfPictures  postalCode  \n",
       "count             1523.000      1523.000    1523.000  \n",
       "mean                 5.631         0.000   57059.345  \n",
       "std                  3.356         0.000   24806.967  \n",
       "min                  0.000         0.000    1067.000  \n",
       "25%                  3.000         0.000   38441.000  \n",
       "50%                  6.000         0.000   60386.000  \n",
       "75%                  8.000         0.000   78269.500  \n",
       "max                 12.000         0.000   99880.000  "
      ]
     },
     "execution_count": 29,
     "metadata": {},
     "output_type": "execute_result"
    }
   ],
   "source": [
    "df[df.price > 3 * df.price.mean()].describe()"
   ]
  },
  {
   "cell_type": "markdown",
   "metadata": {},
   "source": [
    "Question: Which used car brands cost 50000 to 60000?"
   ]
  },
  {
   "cell_type": "code",
   "execution_count": 30,
   "metadata": {},
   "outputs": [
    {
     "data": {
      "text/plain": [
       "brand\n",
       "porsche           153\n",
       "audi               90\n",
       "mercedes_benz      76\n",
       "bmw                75\n",
       "sonstige_autos     32\n",
       "volkswagen         25\n",
       "land_rover         10\n",
       "ford                9\n",
       "jaguar              8\n",
       "toyota              3\n",
       "chevrolet           3\n",
       "alfa_romeo          3\n",
       "jeep                2\n",
       "volvo               1\n",
       "renault             1\n",
       "lancia              1\n",
       "dtype: int64"
      ]
     },
     "execution_count": 30,
     "metadata": {},
     "output_type": "execute_result"
    }
   ],
   "source": [
    "df[(df.price > 50000) & (df.price < 60000)].groupby('brand').size().sort_values(ascending=False)"
   ]
  },
  {
   "cell_type": "markdown",
   "metadata": {},
   "source": [
    "And which ones cost over 100k?"
   ]
  },
  {
   "cell_type": "code",
   "execution_count": 31,
   "metadata": {},
   "outputs": [
    {
     "data": {
      "text/plain": [
       "brand\n",
       "porsche           158\n",
       "sonstige_autos     88\n",
       "mercedes_benz      46\n",
       "bmw                28\n",
       "volkswagen         28\n",
       "audi               17\n",
       "jaguar              8\n",
       "ford                7\n",
       "opel                4\n",
       "land_rover          3\n",
       "suzuki              2\n",
       "fiat                2\n",
       "jeep                1\n",
       "chevrolet           1\n",
       "citroen             1\n",
       "volvo               1\n",
       "mazda               1\n",
       "mitsubishi          1\n",
       "renault             1\n",
       "seat                1\n",
       "skoda               1\n",
       "toyota              1\n",
       "trabant             1\n",
       "alfa_romeo          1\n",
       "dtype: int64"
      ]
     },
     "execution_count": 31,
     "metadata": {},
     "output_type": "execute_result"
    }
   ],
   "source": [
    "df[(df.price > 100000)].groupby('brand').size().sort_values(ascending=False)"
   ]
  },
  {
   "cell_type": "markdown",
   "metadata": {},
   "source": [
    "Getting closer to the outlier?"
   ]
  },
  {
   "cell_type": "code",
   "execution_count": 32,
   "metadata": {},
   "outputs": [
    {
     "data": {
      "text/plain": [
       "brand\n",
       "volkswagen        23\n",
       "sonstige_autos    20\n",
       "bmw               13\n",
       "porsche           11\n",
       "audi               8\n",
       "mercedes_benz      6\n",
       "ford               5\n",
       "opel               4\n",
       "fiat               2\n",
       "volvo              1\n",
       "citroen            1\n",
       "chevrolet          1\n",
       "mazda              1\n",
       "jeep               1\n",
       "suzuki             1\n",
       "trabant            1\n",
       "alfa_romeo         1\n",
       "dtype: int64"
      ]
     },
     "execution_count": 32,
     "metadata": {},
     "output_type": "execute_result"
    }
   ],
   "source": [
    "df[(df.price > 500000)].groupby('brand').size().sort_values(ascending=False)"
   ]
  },
  {
   "cell_type": "markdown",
   "metadata": {},
   "source": [
    "Let's look at these gems."
   ]
  },
  {
   "cell_type": "code",
   "execution_count": 33,
   "metadata": {},
   "outputs": [
    {
     "data": {
      "text/html": [
       "<div>\n",
       "<style scoped>\n",
       "    .dataframe tbody tr th:only-of-type {\n",
       "        vertical-align: middle;\n",
       "    }\n",
       "\n",
       "    .dataframe tbody tr th {\n",
       "        vertical-align: top;\n",
       "    }\n",
       "\n",
       "    .dataframe thead th {\n",
       "        text-align: right;\n",
       "    }\n",
       "</style>\n",
       "<table border=\"1\" class=\"dataframe\">\n",
       "  <thead>\n",
       "    <tr style=\"text-align: right;\">\n",
       "      <th></th>\n",
       "      <th>name</th>\n",
       "      <th>seller</th>\n",
       "      <th>price</th>\n",
       "      <th>yearOfRegistration</th>\n",
       "    </tr>\n",
       "  </thead>\n",
       "  <tbody>\n",
       "    <tr>\n",
       "      <th>1846</th>\n",
       "      <td>BMW_M1_Museumsfahrzeug_Neuwagenzustand_Glossy_...</td>\n",
       "      <td>privat</td>\n",
       "      <td>579000</td>\n",
       "      <td>1980</td>\n",
       "    </tr>\n",
       "    <tr>\n",
       "      <th>10649</th>\n",
       "      <td>Porsche_996_GT2_MK2_Clubsport</td>\n",
       "      <td>privat</td>\n",
       "      <td>420000</td>\n",
       "      <td>2004</td>\n",
       "    </tr>\n",
       "    <tr>\n",
       "      <th>14663</th>\n",
       "      <td>Tausch_moeglich_Polo_vw_n9</td>\n",
       "      <td>privat</td>\n",
       "      <td>11111111</td>\n",
       "      <td>2003</td>\n",
       "    </tr>\n",
       "    <tr>\n",
       "      <th>16889</th>\n",
       "      <td>Ford_Mondeo_Kombi_TÜV_abgelaufen</td>\n",
       "      <td>privat</td>\n",
       "      <td>1000000</td>\n",
       "      <td>1998</td>\n",
       "    </tr>\n",
       "    <tr>\n",
       "      <th>20143</th>\n",
       "      <td>Porsche_911R_Einer_von_911</td>\n",
       "      <td>privat</td>\n",
       "      <td>1250000</td>\n",
       "      <td>2016</td>\n",
       "    </tr>\n",
       "    <tr>\n",
       "      <th>20746</th>\n",
       "      <td>Golf3_Schlachtfest</td>\n",
       "      <td>privat</td>\n",
       "      <td>12345678</td>\n",
       "      <td>1995</td>\n",
       "    </tr>\n",
       "    <tr>\n",
       "      <th>21467</th>\n",
       "      <td>Porsche_911_911R_1_of_20_ORIGINAL_R_nur_798KG!...</td>\n",
       "      <td>privat</td>\n",
       "      <td>9999999</td>\n",
       "      <td>1967</td>\n",
       "    </tr>\n",
       "    <tr>\n",
       "      <th>26327</th>\n",
       "      <td>Porsche_911_R</td>\n",
       "      <td>privat</td>\n",
       "      <td>600000</td>\n",
       "      <td>2016</td>\n",
       "    </tr>\n",
       "    <tr>\n",
       "      <th>38445</th>\n",
       "      <td>2_VW_Busse_T3</td>\n",
       "      <td>privat</td>\n",
       "      <td>999999</td>\n",
       "      <td>1981</td>\n",
       "    </tr>\n",
       "    <tr>\n",
       "      <th>39625</th>\n",
       "      <td>Tausche_volvo_v40_gegen_van</td>\n",
       "      <td>privat</td>\n",
       "      <td>12345678</td>\n",
       "      <td>2018</td>\n",
       "    </tr>\n",
       "    <tr>\n",
       "      <th>41980</th>\n",
       "      <td>Maserati_MC12</td>\n",
       "      <td>privat</td>\n",
       "      <td>2995000</td>\n",
       "      <td>2005</td>\n",
       "    </tr>\n",
       "    <tr>\n",
       "      <th>45055</th>\n",
       "      <td>Ferrari_LaFerrari_Deutsche_Auslieferung._A_Cel...</td>\n",
       "      <td>privat</td>\n",
       "      <td>2795000</td>\n",
       "      <td>2016</td>\n",
       "    </tr>\n",
       "    <tr>\n",
       "      <th>45833</th>\n",
       "      <td>Porsche_911_Turbo__930_</td>\n",
       "      <td>privat</td>\n",
       "      <td>1000000</td>\n",
       "      <td>1981</td>\n",
       "    </tr>\n",
       "    <tr>\n",
       "      <th>53507</th>\n",
       "      <td>Suzuki_SJ_Samurai_413_Van__Kein_Lada_Niva_</td>\n",
       "      <td>privat</td>\n",
       "      <td>1000000</td>\n",
       "      <td>1992</td>\n",
       "    </tr>\n",
       "    <tr>\n",
       "      <th>54295</th>\n",
       "      <td>Mazda_5_2.0_CD_DPF_Exclusive</td>\n",
       "      <td>privat</td>\n",
       "      <td>10000000</td>\n",
       "      <td>2007</td>\n",
       "    </tr>\n",
       "    <tr>\n",
       "      <th>54507</th>\n",
       "      <td>Tausch_DKW_F8_gegen_Lanz_Bulldog</td>\n",
       "      <td>privat</td>\n",
       "      <td>11111111</td>\n",
       "      <td>1953</td>\n",
       "    </tr>\n",
       "    <tr>\n",
       "      <th>56973</th>\n",
       "      <td>tausche_ford_mondeo_mk3_ghia_gegen_anderes_auto</td>\n",
       "      <td>privat</td>\n",
       "      <td>99999999</td>\n",
       "      <td>2002</td>\n",
       "    </tr>\n",
       "    <tr>\n",
       "      <th>57594</th>\n",
       "      <td>Astra_f_teile</td>\n",
       "      <td>privat</td>\n",
       "      <td>1111111</td>\n",
       "      <td>1995</td>\n",
       "    </tr>\n",
       "    <tr>\n",
       "      <th>69726</th>\n",
       "      <td>Oldtimer_Lkw</td>\n",
       "      <td>privat</td>\n",
       "      <td>999999</td>\n",
       "      <td>1960</td>\n",
       "    </tr>\n",
       "    <tr>\n",
       "      <th>69747</th>\n",
       "      <td>Suche_Mercedes_Benz_r_klasse_cdi</td>\n",
       "      <td>privat</td>\n",
       "      <td>99999999</td>\n",
       "      <td>2006</td>\n",
       "    </tr>\n",
       "    <tr>\n",
       "      <th>77185</th>\n",
       "      <td>Aston_Martin_DB_7_Zagato</td>\n",
       "      <td>privat</td>\n",
       "      <td>500000</td>\n",
       "      <td>2004</td>\n",
       "    </tr>\n",
       "    <tr>\n",
       "      <th>77520</th>\n",
       "      <td>Tausch_gegen_gleichwertiges</td>\n",
       "      <td>privat</td>\n",
       "      <td>99999999</td>\n",
       "      <td>1999</td>\n",
       "    </tr>\n",
       "    <tr>\n",
       "      <th>78265</th>\n",
       "      <td>McLaren_675LT_Spider/Delivery_on1._May/Vat_is_...</td>\n",
       "      <td>privat</td>\n",
       "      <td>820000</td>\n",
       "      <td>2016</td>\n",
       "    </tr>\n",
       "    <tr>\n",
       "      <th>78480</th>\n",
       "      <td>Porsche_991_R</td>\n",
       "      <td>privat</td>\n",
       "      <td>1250000</td>\n",
       "      <td>2016</td>\n",
       "    </tr>\n",
       "    <tr>\n",
       "      <th>85047</th>\n",
       "      <td>Porsche_911</td>\n",
       "      <td>privat</td>\n",
       "      <td>911911</td>\n",
       "      <td>1967</td>\n",
       "    </tr>\n",
       "    <tr>\n",
       "      <th>87799</th>\n",
       "      <td>Leasinguebernahme</td>\n",
       "      <td>privat</td>\n",
       "      <td>27322222</td>\n",
       "      <td>2014</td>\n",
       "    </tr>\n",
       "    <tr>\n",
       "      <th>90853</th>\n",
       "      <td>Verkaufe_oder_Tausche</td>\n",
       "      <td>privat</td>\n",
       "      <td>11111111</td>\n",
       "      <td>2018</td>\n",
       "    </tr>\n",
       "    <tr>\n",
       "      <th>91106</th>\n",
       "      <td>Verkaufe_oder_tausche_wenn_nur_gegen_Kombi_s4_...</td>\n",
       "      <td>privat</td>\n",
       "      <td>9999999</td>\n",
       "      <td>1996</td>\n",
       "    </tr>\n",
       "    <tr>\n",
       "      <th>100851</th>\n",
       "      <td>Porsche_911R</td>\n",
       "      <td>privat</td>\n",
       "      <td>700000</td>\n",
       "      <td>2016</td>\n",
       "    </tr>\n",
       "    <tr>\n",
       "      <th>106651</th>\n",
       "      <td>SUCHE_PKW_MIT_TÜV_MIN2_MONATE</td>\n",
       "      <td>privat</td>\n",
       "      <td>1111111</td>\n",
       "      <td>2000</td>\n",
       "    </tr>\n",
       "    <tr>\n",
       "      <th>...</th>\n",
       "      <td>...</td>\n",
       "      <td>...</td>\n",
       "      <td>...</td>\n",
       "      <td>...</td>\n",
       "    </tr>\n",
       "    <tr>\n",
       "      <th>281833</th>\n",
       "      <td>Coole_Autowerkstatt_in_Esens_gesucht!</td>\n",
       "      <td>privat</td>\n",
       "      <td>10000000</td>\n",
       "      <td>2019</td>\n",
       "    </tr>\n",
       "    <tr>\n",
       "      <th>287835</th>\n",
       "      <td>tausche_o_verkaufe</td>\n",
       "      <td>privat</td>\n",
       "      <td>12345678</td>\n",
       "      <td>2001</td>\n",
       "    </tr>\n",
       "    <tr>\n",
       "      <th>299872</th>\n",
       "      <td>Vw_polo_6n_Colour_Concept</td>\n",
       "      <td>privat</td>\n",
       "      <td>12345678</td>\n",
       "      <td>1996</td>\n",
       "    </tr>\n",
       "    <tr>\n",
       "      <th>301198</th>\n",
       "      <td>4_Wochen_und_kein_Ergebnis!_Hilfe!</td>\n",
       "      <td>privat</td>\n",
       "      <td>999999</td>\n",
       "      <td>2015</td>\n",
       "    </tr>\n",
       "    <tr>\n",
       "      <th>306469</th>\n",
       "      <td>Vw_Polo_86c_Schrott_Karosse</td>\n",
       "      <td>privat</td>\n",
       "      <td>1000000</td>\n",
       "      <td>1985</td>\n",
       "    </tr>\n",
       "    <tr>\n",
       "      <th>310924</th>\n",
       "      <td>Wer_will_mich_kleinen_polo_6n1</td>\n",
       "      <td>privat</td>\n",
       "      <td>12345678</td>\n",
       "      <td>1997</td>\n",
       "    </tr>\n",
       "    <tr>\n",
       "      <th>312109</th>\n",
       "      <td>A3_zu_verkaufen_fuer_1.000.000_Euro</td>\n",
       "      <td>privat</td>\n",
       "      <td>1000000</td>\n",
       "      <td>2000</td>\n",
       "    </tr>\n",
       "    <tr>\n",
       "      <th>312909</th>\n",
       "      <td>Ford_Focus_Turnier_1.6_16V_Style</td>\n",
       "      <td>privat</td>\n",
       "      <td>999999</td>\n",
       "      <td>2009</td>\n",
       "    </tr>\n",
       "    <tr>\n",
       "      <th>316200</th>\n",
       "      <td>Ferrari_F40</td>\n",
       "      <td>privat</td>\n",
       "      <td>1300000</td>\n",
       "      <td>1992</td>\n",
       "    </tr>\n",
       "    <tr>\n",
       "      <th>318143</th>\n",
       "      <td>Schlachte_Golf_3_gt_tdi</td>\n",
       "      <td>privat</td>\n",
       "      <td>11111111</td>\n",
       "      <td>1995</td>\n",
       "    </tr>\n",
       "    <tr>\n",
       "      <th>325589</th>\n",
       "      <td>Tausche/_verkaufe_Golf_1_LX_mit_H_Zulassung</td>\n",
       "      <td>privat</td>\n",
       "      <td>99999999</td>\n",
       "      <td>1983</td>\n",
       "    </tr>\n",
       "    <tr>\n",
       "      <th>330117</th>\n",
       "      <td>Jaguar_XJ220_Nur_1900_km_Deutsche_Auslieferung...</td>\n",
       "      <td>privat</td>\n",
       "      <td>466000</td>\n",
       "      <td>1993</td>\n",
       "    </tr>\n",
       "    <tr>\n",
       "      <th>332028</th>\n",
       "      <td>Golf_3_Gti_\"16v_Turbo_vr6_bbs\"</td>\n",
       "      <td>privat</td>\n",
       "      <td>11111111</td>\n",
       "      <td>1995</td>\n",
       "    </tr>\n",
       "    <tr>\n",
       "      <th>332531</th>\n",
       "      <td>SUCHE_Chevrolet_oder_Gmc_pick_up_vor/bis_bj86_...</td>\n",
       "      <td>privat</td>\n",
       "      <td>999999</td>\n",
       "      <td>1985</td>\n",
       "    </tr>\n",
       "    <tr>\n",
       "      <th>333699</th>\n",
       "      <td>Maserati_MC12</td>\n",
       "      <td>privat</td>\n",
       "      <td>1600000</td>\n",
       "      <td>2005</td>\n",
       "    </tr>\n",
       "    <tr>\n",
       "      <th>337851</th>\n",
       "      <td>Porsche_911</td>\n",
       "      <td>privat</td>\n",
       "      <td>487000</td>\n",
       "      <td>2015</td>\n",
       "    </tr>\n",
       "    <tr>\n",
       "      <th>338415</th>\n",
       "      <td>Polo_6n_gti__Zustand_egal_</td>\n",
       "      <td>privat</td>\n",
       "      <td>11111111</td>\n",
       "      <td>2000</td>\n",
       "    </tr>\n",
       "    <tr>\n",
       "      <th>344196</th>\n",
       "      <td>Porsche_911R__991R__weiss/rot_2016</td>\n",
       "      <td>privat</td>\n",
       "      <td>745000</td>\n",
       "      <td>2016</td>\n",
       "    </tr>\n",
       "    <tr>\n",
       "      <th>347435</th>\n",
       "      <td>Schlachte_Golf_4_1.4_16_fast_alles_noch_da</td>\n",
       "      <td>privat</td>\n",
       "      <td>9999999</td>\n",
       "      <td>2000</td>\n",
       "    </tr>\n",
       "    <tr>\n",
       "      <th>358868</th>\n",
       "      <td>Tausche_BMW_E46_Touring_Diesel</td>\n",
       "      <td>privat</td>\n",
       "      <td>10000000</td>\n",
       "      <td>2002</td>\n",
       "    </tr>\n",
       "    <tr>\n",
       "      <th>359083</th>\n",
       "      <td>Volkswagen_Jetta_GT</td>\n",
       "      <td>privat</td>\n",
       "      <td>999990</td>\n",
       "      <td>1985</td>\n",
       "    </tr>\n",
       "    <tr>\n",
       "      <th>360768</th>\n",
       "      <td>Andere_Andere_9FF_GT9CS</td>\n",
       "      <td>privat</td>\n",
       "      <td>440000</td>\n",
       "      <td>2015</td>\n",
       "    </tr>\n",
       "    <tr>\n",
       "      <th>361451</th>\n",
       "      <td>Hilfe_Hilfe_Hilfe</td>\n",
       "      <td>privat</td>\n",
       "      <td>10010011</td>\n",
       "      <td>2000</td>\n",
       "    </tr>\n",
       "    <tr>\n",
       "      <th>362782</th>\n",
       "      <td>Passat_35i_1.8_90ps_Kombi_frisch_lackiert_!</td>\n",
       "      <td>privat</td>\n",
       "      <td>99999999</td>\n",
       "      <td>1995</td>\n",
       "    </tr>\n",
       "    <tr>\n",
       "      <th>363434</th>\n",
       "      <td>Vw_Passat_35i_1.8_schlachtfest</td>\n",
       "      <td>privat</td>\n",
       "      <td>10000000</td>\n",
       "      <td>1996</td>\n",
       "    </tr>\n",
       "    <tr>\n",
       "      <th>364171</th>\n",
       "      <td>Ferrari_FXX</td>\n",
       "      <td>privat</td>\n",
       "      <td>3890000</td>\n",
       "      <td>2006</td>\n",
       "    </tr>\n",
       "    <tr>\n",
       "      <th>365461</th>\n",
       "      <td>BMW_M1_mit_4900_Km_Neuwagenzustand_Glossy_Orange</td>\n",
       "      <td>privat</td>\n",
       "      <td>599000</td>\n",
       "      <td>1980</td>\n",
       "    </tr>\n",
       "    <tr>\n",
       "      <th>366653</th>\n",
       "      <td>BMW_E36_Cabrio_tausch_gegen_ein_Opel_Insignia</td>\n",
       "      <td>privat</td>\n",
       "      <td>99999999</td>\n",
       "      <td>1996</td>\n",
       "    </tr>\n",
       "    <tr>\n",
       "      <th>366861</th>\n",
       "      <td>Ferrari_FXX__unfallfrei__perfekter_Zustand</td>\n",
       "      <td>privat</td>\n",
       "      <td>3895000</td>\n",
       "      <td>2006</td>\n",
       "    </tr>\n",
       "    <tr>\n",
       "      <th>367041</th>\n",
       "      <td>Maserati_MC12</td>\n",
       "      <td>privat</td>\n",
       "      <td>1600000</td>\n",
       "      <td>2005</td>\n",
       "    </tr>\n",
       "  </tbody>\n",
       "</table>\n",
       "<p>109 rows × 4 columns</p>\n",
       "</div>"
      ],
      "text/plain": [
       "                                                     name  seller     price  \\\n",
       "1846    BMW_M1_Museumsfahrzeug_Neuwagenzustand_Glossy_...  privat    579000   \n",
       "10649                       Porsche_996_GT2_MK2_Clubsport  privat    420000   \n",
       "14663                          Tausch_moeglich_Polo_vw_n9  privat  11111111   \n",
       "16889                    Ford_Mondeo_Kombi_TÜV_abgelaufen  privat   1000000   \n",
       "20143                          Porsche_911R_Einer_von_911  privat   1250000   \n",
       "20746                                  Golf3_Schlachtfest  privat  12345678   \n",
       "21467   Porsche_911_911R_1_of_20_ORIGINAL_R_nur_798KG!...  privat   9999999   \n",
       "26327                                       Porsche_911_R  privat    600000   \n",
       "38445                                       2_VW_Busse_T3  privat    999999   \n",
       "39625                         Tausche_volvo_v40_gegen_van  privat  12345678   \n",
       "41980                                       Maserati_MC12  privat   2995000   \n",
       "45055   Ferrari_LaFerrari_Deutsche_Auslieferung._A_Cel...  privat   2795000   \n",
       "45833                             Porsche_911_Turbo__930_  privat   1000000   \n",
       "53507          Suzuki_SJ_Samurai_413_Van__Kein_Lada_Niva_  privat   1000000   \n",
       "54295                        Mazda_5_2.0_CD_DPF_Exclusive  privat  10000000   \n",
       "54507                    Tausch_DKW_F8_gegen_Lanz_Bulldog  privat  11111111   \n",
       "56973     tausche_ford_mondeo_mk3_ghia_gegen_anderes_auto  privat  99999999   \n",
       "57594                                       Astra_f_teile  privat   1111111   \n",
       "69726                                        Oldtimer_Lkw  privat    999999   \n",
       "69747                    Suche_Mercedes_Benz_r_klasse_cdi  privat  99999999   \n",
       "77185                            Aston_Martin_DB_7_Zagato  privat    500000   \n",
       "77520                         Tausch_gegen_gleichwertiges  privat  99999999   \n",
       "78265   McLaren_675LT_Spider/Delivery_on1._May/Vat_is_...  privat    820000   \n",
       "78480                                       Porsche_991_R  privat   1250000   \n",
       "85047                                         Porsche_911  privat    911911   \n",
       "87799                                   Leasinguebernahme  privat  27322222   \n",
       "90853                               Verkaufe_oder_Tausche  privat  11111111   \n",
       "91106   Verkaufe_oder_tausche_wenn_nur_gegen_Kombi_s4_...  privat   9999999   \n",
       "100851                                       Porsche_911R  privat    700000   \n",
       "106651                      SUCHE_PKW_MIT_TÜV_MIN2_MONATE  privat   1111111   \n",
       "...                                                   ...     ...       ...   \n",
       "281833              Coole_Autowerkstatt_in_Esens_gesucht!  privat  10000000   \n",
       "287835                                 tausche_o_verkaufe  privat  12345678   \n",
       "299872                          Vw_polo_6n_Colour_Concept  privat  12345678   \n",
       "301198                 4_Wochen_und_kein_Ergebnis!_Hilfe!  privat    999999   \n",
       "306469                        Vw_Polo_86c_Schrott_Karosse  privat   1000000   \n",
       "310924                     Wer_will_mich_kleinen_polo_6n1  privat  12345678   \n",
       "312109                A3_zu_verkaufen_fuer_1.000.000_Euro  privat   1000000   \n",
       "312909                   Ford_Focus_Turnier_1.6_16V_Style  privat    999999   \n",
       "316200                                        Ferrari_F40  privat   1300000   \n",
       "318143                            Schlachte_Golf_3_gt_tdi  privat  11111111   \n",
       "325589        Tausche/_verkaufe_Golf_1_LX_mit_H_Zulassung  privat  99999999   \n",
       "330117  Jaguar_XJ220_Nur_1900_km_Deutsche_Auslieferung...  privat    466000   \n",
       "332028                     Golf_3_Gti_\"16v_Turbo_vr6_bbs\"  privat  11111111   \n",
       "332531  SUCHE_Chevrolet_oder_Gmc_pick_up_vor/bis_bj86_...  privat    999999   \n",
       "333699                                      Maserati_MC12  privat   1600000   \n",
       "337851                                        Porsche_911  privat    487000   \n",
       "338415                         Polo_6n_gti__Zustand_egal_  privat  11111111   \n",
       "344196                 Porsche_911R__991R__weiss/rot_2016  privat    745000   \n",
       "347435         Schlachte_Golf_4_1.4_16_fast_alles_noch_da  privat   9999999   \n",
       "358868                     Tausche_BMW_E46_Touring_Diesel  privat  10000000   \n",
       "359083                                Volkswagen_Jetta_GT  privat    999990   \n",
       "360768                            Andere_Andere_9FF_GT9CS  privat    440000   \n",
       "361451                                  Hilfe_Hilfe_Hilfe  privat  10010011   \n",
       "362782        Passat_35i_1.8_90ps_Kombi_frisch_lackiert_!  privat  99999999   \n",
       "363434                     Vw_Passat_35i_1.8_schlachtfest  privat  10000000   \n",
       "364171                                        Ferrari_FXX  privat   3890000   \n",
       "365461   BMW_M1_mit_4900_Km_Neuwagenzustand_Glossy_Orange  privat    599000   \n",
       "366653      BMW_E36_Cabrio_tausch_gegen_ein_Opel_Insignia  privat  99999999   \n",
       "366861         Ferrari_FXX__unfallfrei__perfekter_Zustand  privat   3895000   \n",
       "367041                                      Maserati_MC12  privat   1600000   \n",
       "\n",
       "        yearOfRegistration  \n",
       "1846                  1980  \n",
       "10649                 2004  \n",
       "14663                 2003  \n",
       "16889                 1998  \n",
       "20143                 2016  \n",
       "20746                 1995  \n",
       "21467                 1967  \n",
       "26327                 2016  \n",
       "38445                 1981  \n",
       "39625                 2018  \n",
       "41980                 2005  \n",
       "45055                 2016  \n",
       "45833                 1981  \n",
       "53507                 1992  \n",
       "54295                 2007  \n",
       "54507                 1953  \n",
       "56973                 2002  \n",
       "57594                 1995  \n",
       "69726                 1960  \n",
       "69747                 2006  \n",
       "77185                 2004  \n",
       "77520                 1999  \n",
       "78265                 2016  \n",
       "78480                 2016  \n",
       "85047                 1967  \n",
       "87799                 2014  \n",
       "90853                 2018  \n",
       "91106                 1996  \n",
       "100851                2016  \n",
       "106651                2000  \n",
       "...                    ...  \n",
       "281833                2019  \n",
       "287835                2001  \n",
       "299872                1996  \n",
       "301198                2015  \n",
       "306469                1985  \n",
       "310924                1997  \n",
       "312109                2000  \n",
       "312909                2009  \n",
       "316200                1992  \n",
       "318143                1995  \n",
       "325589                1983  \n",
       "330117                1993  \n",
       "332028                1995  \n",
       "332531                1985  \n",
       "333699                2005  \n",
       "337851                2015  \n",
       "338415                2000  \n",
       "344196                2016  \n",
       "347435                2000  \n",
       "358868                2002  \n",
       "359083                1985  \n",
       "360768                2015  \n",
       "361451                2000  \n",
       "362782                1995  \n",
       "363434                1996  \n",
       "364171                2006  \n",
       "365461                1980  \n",
       "366653                1996  \n",
       "366861                2006  \n",
       "367041                2005  \n",
       "\n",
       "[109 rows x 4 columns]"
      ]
     },
     "execution_count": 33,
     "metadata": {},
     "output_type": "execute_result"
    }
   ],
   "source": [
    "df[(df.price > 400000)][[\"name\", \"seller\", \"price\", \"yearOfRegistration\"]]"
   ]
  },
  {
   "cell_type": "markdown",
   "metadata": {},
   "source": [
    "Let's ignore all rows, where price is silly. Int and string match?"
   ]
  },
  {
   "cell_type": "code",
   "execution_count": 34,
   "metadata": {},
   "outputs": [
    {
     "data": {
      "text/plain": [
       "dtype('int64')"
      ]
     },
     "execution_count": 34,
     "metadata": {},
     "output_type": "execute_result"
    }
   ],
   "source": [
    "df[(df.price > 400000)].price.dtype"
   ]
  },
  {
   "cell_type": "code",
   "execution_count": 35,
   "metadata": {},
   "outputs": [
    {
     "data": {
      "text/plain": [
       "dtype('O')"
      ]
     },
     "execution_count": 35,
     "metadata": {},
     "output_type": "execute_result"
    }
   ],
   "source": [
    "df[(df.price > 400000)].price.astype(str).dtype"
   ]
  },
  {
   "cell_type": "markdown",
   "metadata": {},
   "source": [
    "Exclude some, but maybe all."
   ]
  },
  {
   "cell_type": "code",
   "execution_count": 36,
   "metadata": {},
   "outputs": [
    {
     "data": {
      "text/plain": [
       "55"
      ]
     },
     "execution_count": 36,
     "metadata": {},
     "output_type": "execute_result"
    }
   ],
   "source": [
    "df[(df.price > 400000)].price.astype(str).str.match(\"999|111|12345|911911\").sum()"
   ]
  },
  {
   "cell_type": "markdown",
   "metadata": {},
   "source": [
    "* https://stackoverflow.com/questions/13851535/how-to-delete-rows-from-a-pandas-dataframe-based-on-a-conditional-expression\n",
    "\n",
    "```\n",
    "df = df.drop(df[df.score < 50].index)\n",
    "```"
   ]
  },
  {
   "cell_type": "markdown",
   "metadata": {},
   "source": [
    "Let's drop these things above 500000."
   ]
  },
  {
   "cell_type": "code",
   "execution_count": 37,
   "metadata": {},
   "outputs": [],
   "source": [
    "df = df.drop(df[df.price > 500000].index)"
   ]
  },
  {
   "cell_type": "code",
   "execution_count": 38,
   "metadata": {},
   "outputs": [],
   "source": [
    "df = df.drop(df[df.price < 1].index)"
   ]
  },
  {
   "cell_type": "code",
   "execution_count": 39,
   "metadata": {},
   "outputs": [
    {
     "data": {
      "text/plain": [
       "(360650, 20)"
      ]
     },
     "execution_count": 39,
     "metadata": {},
     "output_type": "execute_result"
    }
   ],
   "source": [
    "df.shape"
   ]
  },
  {
   "cell_type": "code",
   "execution_count": 40,
   "metadata": {},
   "outputs": [
    {
     "data": {
      "text/plain": [
       "dtype('int64')"
      ]
     },
     "execution_count": 40,
     "metadata": {},
     "output_type": "execute_result"
    }
   ],
   "source": [
    "df.price.dtype"
   ]
  },
  {
   "cell_type": "code",
   "execution_count": 41,
   "metadata": {},
   "outputs": [],
   "source": [
    "df = df.drop(df[df.yearOfRegistration > 2018].index)"
   ]
  },
  {
   "cell_type": "code",
   "execution_count": 42,
   "metadata": {},
   "outputs": [],
   "source": [
    "df = df.drop(df[df.yearOfRegistration < 1886].index)"
   ]
  },
  {
   "cell_type": "code",
   "execution_count": 43,
   "metadata": {},
   "outputs": [
    {
     "data": {
      "text/plain": [
       "(360485, 20)"
      ]
     },
     "execution_count": 43,
     "metadata": {},
     "output_type": "execute_result"
    }
   ],
   "source": [
    "df.shape"
   ]
  },
  {
   "cell_type": "code",
   "execution_count": 44,
   "metadata": {},
   "outputs": [
    {
     "data": {
      "text/plain": [
       "<matplotlib.axes._subplots.AxesSubplot at 0x10955e208>"
      ]
     },
     "execution_count": 44,
     "metadata": {},
     "output_type": "execute_result"
    },
    {
     "data": {
      "image/png": "[encoded data removed]",
      "text/plain": [
       "<Figure size 432x288 with 1 Axes>"
      ]
     },
     "metadata": {},
     "output_type": "display_data"
    }
   ],
   "source": [
    "df.plot(kind=\"scatter\", x=\"yearOfRegistration\", y=\"price\")"
   ]
  },
  {
   "cell_type": "code",
   "execution_count": 45,
   "metadata": {},
   "outputs": [
    {
     "data": {
      "text/plain": [
       "<matplotlib.axes._subplots.AxesSubplot at 0x108fc72b0>"
      ]
     },
     "execution_count": 45,
     "metadata": {},
     "output_type": "execute_result"
    },
    {
     "data": {
      "image/png": "[encoded data removed]",
      "text/plain": [
       "<Figure size 432x288 with 1 Axes>"
      ]
     },
     "metadata": {},
     "output_type": "display_data"
    }
   ],
   "source": [
    "df.plot(kind=\"scatter\", x=\"yearOfRegistration\", y=\"price\", alpha=0.5)"
   ]
  },
  {
   "cell_type": "code",
   "execution_count": 46,
   "metadata": {},
   "outputs": [
    {
     "data": {
      "text/plain": [
       "<matplotlib.axes._subplots.AxesSubplot at 0x108bcd518>"
      ]
     },
     "execution_count": 46,
     "metadata": {},
     "output_type": "execute_result"
    },
    {
     "data": {
      "image/png": "[encoded data removed]",
      "text/plain": [
       "<Figure size 720x576 with 1 Axes>"
      ]
     },
     "metadata": {},
     "output_type": "display_data"
    }
   ],
   "source": [
    "df.groupby('brand').price.mean().sort_values(ascending=True).plot(kind='barh', figsize=(10, 8), grid=True)"
   ]
  },
  {
   "cell_type": "markdown",
   "metadata": {},
   "source": [
    "What else?"
   ]
  },
  {
   "cell_type": "code",
   "execution_count": 47,
   "metadata": {},
   "outputs": [
    {
     "data": {
      "text/plain": [
       "Index(['dateCrawled', 'name', 'seller', 'offerType', 'price', 'abtest',\n",
       "       'vehicleType', 'yearOfRegistration', 'gearbox', 'powerPS', 'model',\n",
       "       'kilometer', 'monthOfRegistration', 'fuelType', 'brand',\n",
       "       'notRepairedDamage', 'dateCreated', 'nrOfPictures', 'postalCode',\n",
       "       'lastSeen'],\n",
       "      dtype='object')"
      ]
     },
     "execution_count": 47,
     "metadata": {},
     "output_type": "execute_result"
    }
   ],
   "source": [
    "df.columns"
   ]
  },
  {
   "cell_type": "markdown",
   "metadata": {},
   "source": [
    "Did PS increase over the years?"
   ]
  },
  {
   "cell_type": "code",
   "execution_count": 48,
   "metadata": {},
   "outputs": [
    {
     "data": {
      "text/plain": [
       "<matplotlib.axes._subplots.AxesSubplot at 0x108fb3da0>"
      ]
     },
     "execution_count": 48,
     "metadata": {},
     "output_type": "execute_result"
    },
    {
     "data": {
      "image/png": "[encoded data removed]",
      "text/plain": [
       "<Figure size 432x288 with 1 Axes>"
      ]
     },
     "metadata": {},
     "output_type": "display_data"
    }
   ],
   "source": [
    "df.plot(kind=\"scatter\", x=\"yearOfRegistration\", y=\"powerPS\")"
   ]
  },
  {
   "cell_type": "markdown",
   "metadata": {},
   "source": [
    "Ok, let's drop some more. 7500 PS?"
   ]
  },
  {
   "cell_type": "code",
   "execution_count": 49,
   "metadata": {},
   "outputs": [
    {
     "data": {
      "text/html": [
       "<div>\n",
       "<style scoped>\n",
       "    .dataframe tbody tr th:only-of-type {\n",
       "        vertical-align: middle;\n",
       "    }\n",
       "\n",
       "    .dataframe tbody tr th {\n",
       "        vertical-align: top;\n",
       "    }\n",
       "\n",
       "    .dataframe thead th {\n",
       "        text-align: right;\n",
       "    }\n",
       "</style>\n",
       "<table border=\"1\" class=\"dataframe\">\n",
       "  <thead>\n",
       "    <tr style=\"text-align: right;\">\n",
       "      <th></th>\n",
       "      <th>dateCrawled</th>\n",
       "      <th>name</th>\n",
       "      <th>seller</th>\n",
       "      <th>offerType</th>\n",
       "      <th>price</th>\n",
       "      <th>abtest</th>\n",
       "      <th>vehicleType</th>\n",
       "      <th>yearOfRegistration</th>\n",
       "      <th>gearbox</th>\n",
       "      <th>powerPS</th>\n",
       "      <th>model</th>\n",
       "      <th>kilometer</th>\n",
       "      <th>monthOfRegistration</th>\n",
       "      <th>fuelType</th>\n",
       "      <th>brand</th>\n",
       "      <th>notRepairedDamage</th>\n",
       "      <th>dateCreated</th>\n",
       "      <th>nrOfPictures</th>\n",
       "      <th>postalCode</th>\n",
       "      <th>lastSeen</th>\n",
       "    </tr>\n",
       "  </thead>\n",
       "  <tbody>\n",
       "    <tr>\n",
       "      <th>390</th>\n",
       "      <td>2016-03-31 21:59:23</td>\n",
       "      <td>Mercedes_Benz_ML_63_AMG_4Matic_7G_TRONIC</td>\n",
       "      <td>privat</td>\n",
       "      <td>Angebot</td>\n",
       "      <td>21500</td>\n",
       "      <td>test</td>\n",
       "      <td>suv</td>\n",
       "      <td>2007</td>\n",
       "      <td>automatik</td>\n",
       "      <td>510</td>\n",
       "      <td>m_klasse</td>\n",
       "      <td>150000</td>\n",
       "      <td>4</td>\n",
       "      <td>lpg</td>\n",
       "      <td>mercedes_benz</td>\n",
       "      <td>nein</td>\n",
       "      <td>2016-03-31 00:00:00</td>\n",
       "      <td>0</td>\n",
       "      <td>33178</td>\n",
       "      <td>2016-04-06 17:45:19</td>\n",
       "    </tr>\n",
       "    <tr>\n",
       "      <th>1898</th>\n",
       "      <td>2016-03-22 20:52:00</td>\n",
       "      <td>Toyota_Corolla</td>\n",
       "      <td>privat</td>\n",
       "      <td>Angebot</td>\n",
       "      <td>3200</td>\n",
       "      <td>control</td>\n",
       "      <td>kleinwagen</td>\n",
       "      <td>2004</td>\n",
       "      <td>manuell</td>\n",
       "      <td>1398</td>\n",
       "      <td>corolla</td>\n",
       "      <td>5000</td>\n",
       "      <td>6</td>\n",
       "      <td>benzin</td>\n",
       "      <td>toyota</td>\n",
       "      <td>nein</td>\n",
       "      <td>2016-03-22 00:00:00</td>\n",
       "      <td>0</td>\n",
       "      <td>22043</td>\n",
       "      <td>2016-03-22 21:43:26</td>\n",
       "    </tr>\n",
       "    <tr>\n",
       "      <th>1903</th>\n",
       "      <td>2016-03-20 13:51:55</td>\n",
       "      <td>Corvette_C6_505_PS___Pfadt_Vossen__LG___inz._M...</td>\n",
       "      <td>privat</td>\n",
       "      <td>Angebot</td>\n",
       "      <td>34899</td>\n",
       "      <td>test</td>\n",
       "      <td>coupe</td>\n",
       "      <td>2006</td>\n",
       "      <td>manuell</td>\n",
       "      <td>505</td>\n",
       "      <td>NaN</td>\n",
       "      <td>20000</td>\n",
       "      <td>7</td>\n",
       "      <td>benzin</td>\n",
       "      <td>sonstige_autos</td>\n",
       "      <td>nein</td>\n",
       "      <td>2016-03-20 00:00:00</td>\n",
       "      <td>0</td>\n",
       "      <td>21702</td>\n",
       "      <td>2016-04-06 15:45:29</td>\n",
       "    </tr>\n",
       "    <tr>\n",
       "      <th>2735</th>\n",
       "      <td>2016-03-16 11:41:35</td>\n",
       "      <td>Ferrari_California_F1</td>\n",
       "      <td>privat</td>\n",
       "      <td>Angebot</td>\n",
       "      <td>120000</td>\n",
       "      <td>test</td>\n",
       "      <td>cabrio</td>\n",
       "      <td>2012</td>\n",
       "      <td>automatik</td>\n",
       "      <td>666</td>\n",
       "      <td>NaN</td>\n",
       "      <td>20000</td>\n",
       "      <td>7</td>\n",
       "      <td>benzin</td>\n",
       "      <td>sonstige_autos</td>\n",
       "      <td>nein</td>\n",
       "      <td>2016-03-16 00:00:00</td>\n",
       "      <td>0</td>\n",
       "      <td>80331</td>\n",
       "      <td>2016-03-21 10:48:23</td>\n",
       "    </tr>\n",
       "    <tr>\n",
       "      <th>4254</th>\n",
       "      <td>2016-04-03 20:31:00</td>\n",
       "      <td>Mitsubishi_Colt_Diesel_1_5</td>\n",
       "      <td>privat</td>\n",
       "      <td>Angebot</td>\n",
       "      <td>3100</td>\n",
       "      <td>control</td>\n",
       "      <td>limousine</td>\n",
       "      <td>2005</td>\n",
       "      <td>manuell</td>\n",
       "      <td>953</td>\n",
       "      <td>colt</td>\n",
       "      <td>150000</td>\n",
       "      <td>4</td>\n",
       "      <td>diesel</td>\n",
       "      <td>mitsubishi</td>\n",
       "      <td>nein</td>\n",
       "      <td>2016-04-03 00:00:00</td>\n",
       "      <td>0</td>\n",
       "      <td>60326</td>\n",
       "      <td>2016-04-07 14:56:46</td>\n",
       "    </tr>\n",
       "  </tbody>\n",
       "</table>\n",
       "</div>"
      ],
      "text/plain": [
       "              dateCrawled                                               name  \\\n",
       "390   2016-03-31 21:59:23           Mercedes_Benz_ML_63_AMG_4Matic_7G_TRONIC   \n",
       "1898  2016-03-22 20:52:00                                     Toyota_Corolla   \n",
       "1903  2016-03-20 13:51:55  Corvette_C6_505_PS___Pfadt_Vossen__LG___inz._M...   \n",
       "2735  2016-03-16 11:41:35                              Ferrari_California_F1   \n",
       "4254  2016-04-03 20:31:00                         Mitsubishi_Colt_Diesel_1_5   \n",
       "\n",
       "      seller offerType   price   abtest vehicleType  yearOfRegistration  \\\n",
       "390   privat   Angebot   21500     test         suv                2007   \n",
       "1898  privat   Angebot    3200  control  kleinwagen                2004   \n",
       "1903  privat   Angebot   34899     test       coupe                2006   \n",
       "2735  privat   Angebot  120000     test      cabrio                2012   \n",
       "4254  privat   Angebot    3100  control   limousine                2005   \n",
       "\n",
       "        gearbox  powerPS     model  kilometer  monthOfRegistration fuelType  \\\n",
       "390   automatik      510  m_klasse     150000                    4      lpg   \n",
       "1898    manuell     1398   corolla       5000                    6   benzin   \n",
       "1903    manuell      505       NaN      20000                    7   benzin   \n",
       "2735  automatik      666       NaN      20000                    7   benzin   \n",
       "4254    manuell      953      colt     150000                    4   diesel   \n",
       "\n",
       "               brand notRepairedDamage          dateCreated  nrOfPictures  \\\n",
       "390    mercedes_benz              nein  2016-03-31 00:00:00             0   \n",
       "1898          toyota              nein  2016-03-22 00:00:00             0   \n",
       "1903  sonstige_autos              nein  2016-03-20 00:00:00             0   \n",
       "2735  sonstige_autos              nein  2016-03-16 00:00:00             0   \n",
       "4254      mitsubishi              nein  2016-04-03 00:00:00             0   \n",
       "\n",
       "      postalCode             lastSeen  \n",
       "390        33178  2016-04-06 17:45:19  \n",
       "1898       22043  2016-03-22 21:43:26  \n",
       "1903       21702  2016-04-06 15:45:29  \n",
       "2735       80331  2016-03-21 10:48:23  \n",
       "4254       60326  2016-04-07 14:56:46  "
      ]
     },
     "execution_count": 49,
     "metadata": {},
     "output_type": "execute_result"
    }
   ],
   "source": [
    "df[df.powerPS > 500].head()"
   ]
  },
  {
   "cell_type": "code",
   "execution_count": 50,
   "metadata": {},
   "outputs": [
    {
     "data": {
      "text/plain": [
       "(785, 20)"
      ]
     },
     "execution_count": 50,
     "metadata": {},
     "output_type": "execute_result"
    }
   ],
   "source": [
    "df[df.powerPS > 500].shape"
   ]
  },
  {
   "cell_type": "code",
   "execution_count": 51,
   "metadata": {},
   "outputs": [],
   "source": [
    "df = df.drop(df[df.powerPS > 500].index)"
   ]
  },
  {
   "cell_type": "code",
   "execution_count": 52,
   "metadata": {},
   "outputs": [
    {
     "data": {
      "text/plain": [
       "(359700, 20)"
      ]
     },
     "execution_count": 52,
     "metadata": {},
     "output_type": "execute_result"
    }
   ],
   "source": [
    "df.shape"
   ]
  },
  {
   "cell_type": "code",
   "execution_count": 53,
   "metadata": {},
   "outputs": [
    {
     "data": {
      "text/plain": [
       "<matplotlib.axes._subplots.AxesSubplot at 0x108ce6048>"
      ]
     },
     "execution_count": 53,
     "metadata": {},
     "output_type": "execute_result"
    },
    {
     "data": {
      "image/png": "[encoded data removed]",
      "text/plain": [
       "<Figure size 432x288 with 1 Axes>"
      ]
     },
     "metadata": {},
     "output_type": "display_data"
    }
   ],
   "source": [
    "df.plot(kind=\"scatter\", x=\"yearOfRegistration\", y=\"powerPS\", alpha=0.4)"
   ]
  },
  {
   "cell_type": "markdown",
   "metadata": {},
   "source": [
    "There seems to be some spike in the 1970? Some breakthrough?"
   ]
  },
  {
   "cell_type": "markdown",
   "metadata": {},
   "source": [
    "What else?"
   ]
  },
  {
   "cell_type": "code",
   "execution_count": 54,
   "metadata": {},
   "outputs": [
    {
     "data": {
      "text/plain": [
       "Index(['dateCrawled', 'name', 'seller', 'offerType', 'price', 'abtest',\n",
       "       'vehicleType', 'yearOfRegistration', 'gearbox', 'powerPS', 'model',\n",
       "       'kilometer', 'monthOfRegistration', 'fuelType', 'brand',\n",
       "       'notRepairedDamage', 'dateCreated', 'nrOfPictures', 'postalCode',\n",
       "       'lastSeen'],\n",
       "      dtype='object')"
      ]
     },
     "execution_count": 54,
     "metadata": {},
     "output_type": "execute_result"
    }
   ],
   "source": [
    "df.columns"
   ]
  },
  {
   "cell_type": "markdown",
   "metadata": {},
   "source": [
    "Price categories for vehicle types?"
   ]
  },
  {
   "cell_type": "code",
   "execution_count": 55,
   "metadata": {},
   "outputs": [
    {
     "data": {
      "text/plain": [
       "<matplotlib.axes._subplots.AxesSubplot at 0x108d37ef0>"
      ]
     },
     "execution_count": 55,
     "metadata": {},
     "output_type": "execute_result"
    },
    {
     "data": {
      "image/png": "[encoded data removed]",
      "text/plain": [
       "<Figure size 432x288 with 1 Axes>"
      ]
     },
     "metadata": {},
     "output_type": "display_data"
    }
   ],
   "source": [
    "df.groupby('vehicleType').price.mean().sort_values().plot(kind='barh')"
   ]
  },
  {
   "cell_type": "code",
   "execution_count": 56,
   "metadata": {},
   "outputs": [
    {
     "data": {
      "text/plain": [
       "<matplotlib.axes._subplots.AxesSubplot at 0x109961908>"
      ]
     },
     "execution_count": 56,
     "metadata": {},
     "output_type": "execute_result"
    },
    {
     "data": {
      "image/png": "[encoded data removed]",
      "text/plain": [
       "<Figure size 432x288 with 1 Axes>"
      ]
     },
     "metadata": {},
     "output_type": "display_data"
    }
   ],
   "source": [
    "df.groupby('vehicleType').price.median().sort_values().plot(kind='barh')"
   ]
  },
  {
   "cell_type": "markdown",
   "metadata": {},
   "source": [
    "What else?"
   ]
  },
  {
   "cell_type": "code",
   "execution_count": 57,
   "metadata": {},
   "outputs": [
    {
     "data": {
      "text/plain": [
       "Index(['dateCrawled', 'name', 'seller', 'offerType', 'price', 'abtest',\n",
       "       'vehicleType', 'yearOfRegistration', 'gearbox', 'powerPS', 'model',\n",
       "       'kilometer', 'monthOfRegistration', 'fuelType', 'brand',\n",
       "       'notRepairedDamage', 'dateCreated', 'nrOfPictures', 'postalCode',\n",
       "       'lastSeen'],\n",
       "      dtype='object')"
      ]
     },
     "execution_count": 57,
     "metadata": {},
     "output_type": "execute_result"
    }
   ],
   "source": [
    "df.columns"
   ]
  },
  {
   "cell_type": "markdown",
   "metadata": {},
   "source": [
    "Last question: Fuel type."
   ]
  },
  {
   "cell_type": "code",
   "execution_count": 58,
   "metadata": {},
   "outputs": [
    {
     "data": {
      "text/plain": [
       "array(['benzin', 'diesel', nan, 'lpg', 'andere', 'hybrid', 'cng',\n",
       "       'elektro'], dtype=object)"
      ]
     },
     "execution_count": 58,
     "metadata": {},
     "output_type": "execute_result"
    }
   ],
   "source": [
    "df.fuelType.unique()"
   ]
  },
  {
   "cell_type": "code",
   "execution_count": 59,
   "metadata": {},
   "outputs": [
    {
     "data": {
      "text/plain": [
       "<matplotlib.axes._subplots.AxesSubplot at 0x108d3fd68>"
      ]
     },
     "execution_count": 59,
     "metadata": {},
     "output_type": "execute_result"
    },
    {
     "data": {
      "image/png": "[encoded data removed]",
      "text/plain": [
       "<Figure size 432x288 with 1 Axes>"
      ]
     },
     "metadata": {},
     "output_type": "display_data"
    }
   ],
   "source": [
    "df.groupby('fuelType').price.mean().sort_values().plot(kind='bar')"
   ]
  },
  {
   "cell_type": "code",
   "execution_count": null,
   "metadata": {},
   "outputs": [],
   "source": []
  }
 ],
 "metadata": {
  "kernelspec": {
   "display_name": "Python (mlcourse)",
   "language": "python",
   "name": "mlcourse"
  },
  "language_info": {
   "codemirror_mode": {
    "name": "ipython",
    "version": 3
   },
   "file_extension": ".py",
   "mimetype": "text/x-python",
   "name": "python",
   "nbconvert_exporter": "python",
   "pygments_lexer": "ipython3",
   "version": "3.6.4"
  }
 },
 "nbformat": 4,
 "nbformat_minor": 2
}
