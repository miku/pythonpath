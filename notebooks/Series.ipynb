{
 "cells": [
  {
   "cell_type": "code",
   "execution_count": 31,
   "metadata": {},
   "outputs": [],
   "source": [
    "\n",
    "from collections.abc import Iterable\n",
    "\n",
    "class Series:\n",
    "\n",
    "    def __init__(self, *values):\n",
    "        if len(values) == 0:\n",
    "            self.data = []\n",
    "        elif isinstance(values[0], Iterable):\n",
    "            self.data = list(values[0])\n",
    "        else:\n",
    "            self.data = list(values)\n",
    "    \n",
    "    def max(self):\n",
    "        return max(self.data)\n",
    "\n",
    "    def min(self):\n",
    "        return min(self.data)\n",
    "    \n",
    "    def sum(self):\n",
    "        return sum(self.data)\n",
    "            \n",
    "    def __str__(self):\n",
    "        return f\"<Series ({len(self.data)})>\"\n",
    "    "
   ]
  },
  {
   "cell_type": "code",
   "execution_count": 32,
   "metadata": {},
   "outputs": [],
   "source": [
    "s = Series(1, 2, 3)\n"
   ]
  },
  {
   "cell_type": "code",
   "execution_count": 33,
   "metadata": {},
   "outputs": [
    {
     "data": {
      "text/plain": [
       "6"
      ]
     },
     "execution_count": 33,
     "metadata": {},
     "output_type": "execute_result"
    }
   ],
   "source": [
    "s.sum()"
   ]
  },
  {
   "cell_type": "code",
   "execution_count": null,
   "metadata": {},
   "outputs": [],
   "source": []
  }
 ],
 "metadata": {
  "kernelspec": {
   "display_name": ".venv",
   "language": "python",
   "name": "python3"
  },
  "language_info": {
   "codemirror_mode": {
    "name": "ipython",
    "version": 3
   },
   "file_extension": ".py",
   "mimetype": "text/x-python",
   "name": "python",
   "nbconvert_exporter": "python",
   "pygments_lexer": "ipython3",
   "version": "3.8.10"
  }
 },
 "nbformat": 4,
 "nbformat_minor": 2
}
