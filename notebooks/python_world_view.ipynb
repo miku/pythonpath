{
 "cells": [
  {
   "cell_type": "markdown",
   "id": "e68c7d18-59b4-483d-a008-319e001c46c0",
   "metadata": {},
   "source": [
    "# Python World View\n",
    "\n",
    "* interpreted, dynamically typed programming language\n",
    "* glue language (scripts, but also legacy code, different systems)\n",
    "* multi-paradigm language\n",
    "* very transparent"
   ]
  },
  {
   "attachments": {},
   "cell_type": "markdown",
   "id": "789d127d-51e9-4b2a-b33c-66e3269f09c7",
   "metadata": {},
   "source": [
    "## What is a variable in Python?\n",
    "\n",
    "* in other languages a variable is declared with a type and is tied to a region of memory\n",
    "\n",
    "> A variable is a name given in a program for some region of memory. Each variable has a type, which tells the compiler how big the region of memory corresponding to it is and how to treat the bits stored in that region when performing various kinds of operations -- https://www.cs.yale.edu/homes/aspnes/pinewiki/C(2f)Variables.html\n",
    "\n",
    "In Python we need memory as well, but there is a level of indirection that is handled by the interpreter.\n",
    "\n"
   ]
  },
  {
   "cell_type": "code",
   "execution_count": 4,
   "id": "e3fa5bbc-c481-4151-a4f8-e043e8f3a517",
   "metadata": {},
   "outputs": [],
   "source": [
    "month = 4"
   ]
  },
  {
   "cell_type": "markdown",
   "id": "2f430ffb-8df0-451a-9bd8-761c29bcb82b",
   "metadata": {},
   "source": [
    "No type declaration, just a value. However, every value has a type and there is function to get this out. More important sometimes, when exploring APIs and systems interactively."
   ]
  },
  {
   "cell_type": "code",
   "execution_count": 5,
   "id": "35461015-ba4a-403e-94d7-81c01a9dc2c9",
   "metadata": {},
   "outputs": [
    {
     "data": {
      "text/plain": [
       "int"
      ]
     },
     "execution_count": 5,
     "metadata": {},
     "output_type": "execute_result"
    }
   ],
   "source": [
    "type(month)"
   ]
  },
  {
   "cell_type": "markdown",
   "id": "5446d6a4-318b-4f62-8c94-1a2e3ad11f3a",
   "metadata": {},
   "source": [
    "We can redeclare a variable during execution."
   ]
  },
  {
   "cell_type": "code",
   "execution_count": 6,
   "id": "2e1d58f2-78c1-4d0e-864d-e6945b47eac4",
   "metadata": {},
   "outputs": [],
   "source": [
    "month = \"april\""
   ]
  },
  {
   "cell_type": "code",
   "execution_count": 7,
   "id": "8b5447c9-2bbf-4827-90c5-245668548be8",
   "metadata": {},
   "outputs": [
    {
     "data": {
      "text/plain": [
       "str"
      ]
     },
     "execution_count": 7,
     "metadata": {},
     "output_type": "execute_result"
    }
   ],
   "source": [
    "type(month)"
   ]
  },
  {
   "cell_type": "markdown",
   "id": "a917a19b-fb4b-428d-b003-3313c0b3b4c4",
   "metadata": {},
   "source": [
    "This mean that every variable identifier may be of any type at any point in the program. In reality, this aspect of python is rarely used and leads to more confusion than clarity. However, it is how Python works. Variables are like labels that get are put on values and you can change the label easily."
   ]
  },
  {
   "cell_type": "markdown",
   "id": "deca488c-00f7-432e-b50c-91bf9e9685d9",
   "metadata": {},
   "source": [
    "## Where do variables live?\n",
    "\n",
    "The live in a scope and technically in Python this is called a namespace. A namespace is related to scope. There are four scopes in Python:\n",
    "\n",
    "\n",
    "* Built-In\n",
    "* Global\n",
    "* Enclosing\n",
    "* Local\n",
    "\n",
    "We already saw a name that lives in the built-in scope - the `type` function. What else is there?"
   ]
  },
  {
   "cell_type": "markdown",
   "id": "f9790f91-fb25-4e7e-870c-5e64c33d6cd5",
   "metadata": {},
   "source": [
    "### Built-In\n",
    "\n",
    "Anything that gets populated before user code is executed. Accessible through a [builtins](https://docs.python.org/3/library/builtins.html#module-builtins) module in Python 3.\n",
    "\n",
    "List of builtin functions:\n",
    "\n",
    "* https://docs.python.org/3/library/functions.html"
   ]
  },
  {
   "cell_type": "code",
   "execution_count": 15,
   "id": "ffe4b90c-7e2c-43c2-b7dd-94976e7466d0",
   "metadata": {},
   "outputs": [],
   "source": [
    "# __builtins__ == __builtin__ # https://mail.python.org/pipermail/python-dev/2005-December/058652.html \"bad idea\""
   ]
  },
  {
   "cell_type": "code",
   "execution_count": 18,
   "id": "f9123a6d-c75a-49b4-9603-572b0be0a024",
   "metadata": {},
   "outputs": [],
   "source": [
    "import builtins"
   ]
  },
  {
   "cell_type": "code",
   "execution_count": 20,
   "id": "08c3530d-2a7c-47c6-90ae-65b911dfca0d",
   "metadata": {},
   "outputs": [
    {
     "data": {
      "text/plain": [
       "['ArithmeticError',\n",
       " 'AssertionError',\n",
       " 'AttributeError',\n",
       " 'BaseException',\n",
       " 'BlockingIOError',\n",
       " 'BrokenPipeError',\n",
       " 'BufferError',\n",
       " 'BytesWarning',\n",
       " 'ChildProcessError',\n",
       " 'ConnectionAbortedError',\n",
       " 'ConnectionError',\n",
       " 'ConnectionRefusedError',\n",
       " 'ConnectionResetError',\n",
       " 'DeprecationWarning',\n",
       " 'EOFError',\n",
       " 'Ellipsis',\n",
       " 'EncodingWarning',\n",
       " 'EnvironmentError',\n",
       " 'Exception',\n",
       " 'False',\n",
       " 'FileExistsError',\n",
       " 'FileNotFoundError',\n",
       " 'FloatingPointError',\n",
       " 'FutureWarning',\n",
       " 'GeneratorExit',\n",
       " 'IOError',\n",
       " 'ImportError',\n",
       " 'ImportWarning',\n",
       " 'IndentationError',\n",
       " 'IndexError',\n",
       " 'InterruptedError',\n",
       " 'IsADirectoryError',\n",
       " 'KeyError',\n",
       " 'KeyboardInterrupt',\n",
       " 'LookupError',\n",
       " 'MemoryError',\n",
       " 'ModuleNotFoundError',\n",
       " 'NameError',\n",
       " 'None',\n",
       " 'NotADirectoryError',\n",
       " 'NotImplemented',\n",
       " 'NotImplementedError',\n",
       " 'OSError',\n",
       " 'OverflowError',\n",
       " 'PendingDeprecationWarning',\n",
       " 'PermissionError',\n",
       " 'ProcessLookupError',\n",
       " 'RecursionError',\n",
       " 'ReferenceError',\n",
       " 'ResourceWarning',\n",
       " 'RuntimeError',\n",
       " 'RuntimeWarning',\n",
       " 'StopAsyncIteration',\n",
       " 'StopIteration',\n",
       " 'SyntaxError',\n",
       " 'SyntaxWarning',\n",
       " 'SystemError',\n",
       " 'SystemExit',\n",
       " 'TabError',\n",
       " 'TimeoutError',\n",
       " 'True',\n",
       " 'TypeError',\n",
       " 'UnboundLocalError',\n",
       " 'UnicodeDecodeError',\n",
       " 'UnicodeEncodeError',\n",
       " 'UnicodeError',\n",
       " 'UnicodeTranslateError',\n",
       " 'UnicodeWarning',\n",
       " 'UserWarning',\n",
       " 'ValueError',\n",
       " 'Warning',\n",
       " 'ZeroDivisionError',\n",
       " '__IPYTHON__',\n",
       " '__build_class__',\n",
       " '__debug__',\n",
       " '__doc__',\n",
       " '__import__',\n",
       " '__loader__',\n",
       " '__name__',\n",
       " '__package__',\n",
       " '__spec__',\n",
       " 'abs',\n",
       " 'aiter',\n",
       " 'all',\n",
       " 'anext',\n",
       " 'any',\n",
       " 'ascii',\n",
       " 'bin',\n",
       " 'bool',\n",
       " 'breakpoint',\n",
       " 'bytearray',\n",
       " 'bytes',\n",
       " 'callable',\n",
       " 'chr',\n",
       " 'classmethod',\n",
       " 'compile',\n",
       " 'complex',\n",
       " 'copyright',\n",
       " 'credits',\n",
       " 'delattr',\n",
       " 'dict',\n",
       " 'dir',\n",
       " 'display',\n",
       " 'divmod',\n",
       " 'enumerate',\n",
       " 'eval',\n",
       " 'exec',\n",
       " 'execfile',\n",
       " 'filter',\n",
       " 'float',\n",
       " 'format',\n",
       " 'frozenset',\n",
       " 'get_ipython',\n",
       " 'getattr',\n",
       " 'globals',\n",
       " 'hasattr',\n",
       " 'hash',\n",
       " 'help',\n",
       " 'hex',\n",
       " 'id',\n",
       " 'input',\n",
       " 'int',\n",
       " 'isinstance',\n",
       " 'issubclass',\n",
       " 'iter',\n",
       " 'len',\n",
       " 'license',\n",
       " 'list',\n",
       " 'locals',\n",
       " 'map',\n",
       " 'max',\n",
       " 'memoryview',\n",
       " 'min',\n",
       " 'next',\n",
       " 'object',\n",
       " 'oct',\n",
       " 'open',\n",
       " 'ord',\n",
       " 'pow',\n",
       " 'print',\n",
       " 'property',\n",
       " 'range',\n",
       " 'repr',\n",
       " 'reversed',\n",
       " 'round',\n",
       " 'runfile',\n",
       " 'set',\n",
       " 'setattr',\n",
       " 'slice',\n",
       " 'sorted',\n",
       " 'staticmethod',\n",
       " 'str',\n",
       " 'sum',\n",
       " 'super',\n",
       " 'tuple',\n",
       " 'type',\n",
       " 'vars',\n",
       " 'zip']"
      ]
     },
     "execution_count": 20,
     "metadata": {},
     "output_type": "execute_result"
    }
   ],
   "source": [
    "dir(builtins)"
   ]
  },
  {
   "cell_type": "markdown",
   "id": "d245452e-49c5-4b9b-8c5b-320af7cb5884",
   "metadata": {},
   "source": [
    "### Global\n",
    "\n",
    "Module level variables. There is a global keyword in Python, but that is rarely used. -- https://docs.python.org/3/reference/simple_stmts.html#global\n",
    "\n",
    "> The global statement is a declaration which holds for the entire current code block. It means that the listed identifiers are to be interpreted as globals.\n",
    "\n",
    "* [What are the rules for local and global variables in Python?](https://docs.python.org/3/faq/programming.html#what-are-the-rules-for-local-and-global-variables-in-python)\n"
   ]
  },
  {
   "cell_type": "markdown",
   "id": "ef9da3c5-8897-430f-8ee6-6493f7ee0722",
   "metadata": {},
   "source": [
    "### Local\n",
    "\n",
    "Every variable defined in a function is local to that function. Control structures do not define a separate scope."
   ]
  },
  {
   "cell_type": "code",
   "execution_count": 24,
   "id": "cd0ee7c7-6941-405b-ab58-b10a1151fd9f",
   "metadata": {},
   "outputs": [],
   "source": [
    "def f():\n",
    "    x = 1"
   ]
  },
  {
   "cell_type": "code",
   "execution_count": 26,
   "id": "5092b729-8a70-4317-b4a4-75b55bce9d84",
   "metadata": {},
   "outputs": [],
   "source": [
    "# print(x) # NameError"
   ]
  },
  {
   "cell_type": "markdown",
   "id": "311a7b70-482d-44ff-968b-b213cc45f209",
   "metadata": {},
   "source": [
    "### Enclosing Scope\n",
    "\n",
    "Since function definitions can be be nested, there is a scope that is not local, but not global either, but enclosing."
   ]
  },
  {
   "cell_type": "code",
   "execution_count": 29,
   "id": "894c906c-e94e-48ef-9451-f16c6200e6a8",
   "metadata": {},
   "outputs": [
    {
     "name": "stdout",
     "output_type": "stream",
     "text": [
      "1\n"
     ]
    }
   ],
   "source": [
    "def f():\n",
    "    x = 1\n",
    "    def g():\n",
    "        print(x)\n",
    "    g()\n",
    "\n",
    "f()"
   ]
  },
  {
   "cell_type": "markdown",
   "id": "f37d637f-2bb8-46d4-bee6-2617985eb75c",
   "metadata": {},
   "source": [
    "The encosed variable cannot be modified. Here the assignment in `g` is local and the assignment in `f` is local to `f`."
   ]
  },
  {
   "cell_type": "code",
   "execution_count": 30,
   "id": "9352a0b5-8904-4ffb-91af-aea88bf4a063",
   "metadata": {},
   "outputs": [
    {
     "name": "stdout",
     "output_type": "stream",
     "text": [
      "1\n"
     ]
    }
   ],
   "source": [
    "def f():\n",
    "    x = 1\n",
    "    def g():\n",
    "        x = 2\n",
    "    g()\n",
    "    print(x)\n",
    "\n",
    "f()"
   ]
  },
  {
   "cell_type": "markdown",
   "id": "69fa1a0d-54c7-44ae-93cd-f88f1dacceae",
   "metadata": {},
   "source": [
    "## How does Python try to lookup a name?\n",
    "\n",
    "* local -> enclosing -> global -> builtin"
   ]
  },
  {
   "cell_type": "markdown",
   "id": "ae2877ae-68e6-47d5-8070-0875c3296722",
   "metadata": {},
   "source": [
    "## What happens if you refer to a name that does not exist in the scope?"
   ]
  },
  {
   "cell_type": "code",
   "execution_count": 35,
   "id": "805396f2-336f-48df-abdf-d7fedee453fe",
   "metadata": {},
   "outputs": [],
   "source": [
    "# print(some_name) # NameError: name 'some_name' is not defined"
   ]
  },
  {
   "cell_type": "markdown",
   "id": "1ad528bf-3c92-457a-99ca-1b4455f9f029",
   "metadata": {},
   "source": [
    "## How do you import code?\n",
    "\n",
    "Import means adding names to our current namespace, e.g. we can import a module (a Python file)."
   ]
  },
  {
   "cell_type": "code",
   "execution_count": 36,
   "id": "04648741-ddf0-4df2-98cc-0362d2867ea1",
   "metadata": {},
   "outputs": [],
   "source": [
    "import sys"
   ]
  },
  {
   "cell_type": "markdown",
   "id": "5f92ed03-5bd9-42b8-a5c3-201113dc0d67",
   "metadata": {},
   "source": [
    "We imported the name sys. In this case, it is a standard library module, available in all Python installations. \n",
    "\n",
    "In this case \"sys\" refers to a module."
   ]
  },
  {
   "cell_type": "code",
   "execution_count": 37,
   "id": "bba35c3b-5d49-46c6-9411-c74b43a328e1",
   "metadata": {},
   "outputs": [
    {
     "data": {
      "text/plain": [
       "module"
      ]
     },
     "execution_count": 37,
     "metadata": {},
     "output_type": "execute_result"
    }
   ],
   "source": [
    "type(sys)"
   ]
  },
  {
   "cell_type": "markdown",
   "id": "fe464d86-dd44-4f53-9873-2f7893ba0579",
   "metadata": {},
   "source": [
    "Through the module, we are able to access any value that is defined in the module. Value, because these may be strings, functions, classes. That is not necessarily visible just from the import."
   ]
  },
  {
   "cell_type": "code",
   "execution_count": 38,
   "id": "d26c2fe7-fba6-426a-adf9-a6ba4920873e",
   "metadata": {},
   "outputs": [
    {
     "data": {
      "text/plain": [
       "'3.10.12 (main, Nov 20 2023, 15:14:05) [GCC 11.4.0]'"
      ]
     },
     "execution_count": 38,
     "metadata": {},
     "output_type": "execute_result"
    }
   ],
   "source": [
    "sys.version"
   ]
  },
  {
   "cell_type": "markdown",
   "id": "60166ebc-0a19-41ea-b019-8358e6902b7b",
   "metadata": {},
   "source": [
    "We can import other names from the sys module by using a variant of the import statement. "
   ]
  },
  {
   "cell_type": "code",
   "execution_count": 39,
   "id": "42a9b3ad-65b1-40cc-b2a2-bc7be201eec9",
   "metadata": {},
   "outputs": [],
   "source": [
    "from sys import version"
   ]
  },
  {
   "cell_type": "code",
   "execution_count": 40,
   "id": "14d775d8-2de4-4188-a76b-e2610df87531",
   "metadata": {},
   "outputs": [
    {
     "data": {
      "text/plain": [
       "'3.10.12 (main, Nov 20 2023, 15:14:05) [GCC 11.4.0]'"
      ]
     },
     "execution_count": 40,
     "metadata": {},
     "output_type": "execute_result"
    }
   ],
   "source": [
    "version"
   ]
  },
  {
   "cell_type": "markdown",
   "id": "c6c413aa-b8ef-42fc-8cc8-7954392a1a19",
   "metadata": {},
   "source": [
    "These are the two most common ways to import code:\n",
    "\n",
    "* `import MODULE`\n",
    "* `from MODULE import NAME`"
   ]
  },
  {
   "cell_type": "markdown",
   "id": "ddab04be-e286-4ff1-8608-64d07ee3d36a",
   "metadata": {},
   "source": [
    "You can try to import a non-existent module, but you get a `ModuleNotFoundError`."
   ]
  },
  {
   "cell_type": "code",
   "execution_count": 45,
   "id": "c4e8e807-4d04-4350-ae02-01ae64052d38",
   "metadata": {},
   "outputs": [],
   "source": [
    "# import fantasy_module # ModuleNotFoundError: No module named 'fantasy_module'"
   ]
  },
  {
   "cell_type": "code",
   "execution_count": 48,
   "id": "1023571a-a9f5-441e-9459-a1ee6f0f3c20",
   "metadata": {},
   "outputs": [],
   "source": [
    "# help(\"modules\") # list all available modules"
   ]
  },
  {
   "cell_type": "markdown",
   "id": "004e4a06-9afe-4457-b4e9-3d37fa36db85",
   "metadata": {},
   "source": [
    "There is a non-trivial procedure how python assembles various locations to look for modules.\n",
    "                                                                            "
   ]
  },
  {
   "cell_type": "code",
   "execution_count": 49,
   "id": "d893643b-021b-40e1-8b95-44afd2ea510c",
   "metadata": {},
   "outputs": [
    {
     "data": {
      "text/plain": [
       "['/home/tir/code/miku/pythonpath/notebooks',\n",
       " '/usr/lib/python3/dist-packages/glances/amps',\n",
       " '/usr/lib/python3/dist-packages/glances/plugins',\n",
       " '/usr/lib/python3/dist-packages/glances/exports',\n",
       " '/usr/lib/python310.zip',\n",
       " '/usr/lib/python3.10',\n",
       " '/usr/lib/python3.10/lib-dynload',\n",
       " '',\n",
       " '/home/tir/.local/lib/python3.10/site-packages',\n",
       " '/usr/local/lib/python3.10/dist-packages',\n",
       " '/usr/lib/python3/dist-packages',\n",
       " '/home/tir/.local/lib/python3.10/site-packages/termgraph',\n",
       " '/usr/lib/python3/dist-packages/pycriu/images',\n",
       " '/usr/lib/virtualbox']"
      ]
     },
     "execution_count": 49,
     "metadata": {},
     "output_type": "execute_result"
    }
   ],
   "source": [
    "sys.path"
   ]
  },
  {
   "cell_type": "markdown",
   "id": "3d14dd49-18b0-42c5-933e-1b9e83839699",
   "metadata": {},
   "source": [
    "They are recorded in `sys.path` and if you import than it will search for modules in that list from top to bottom (first one wins)."
   ]
  },
  {
   "cell_type": "code",
   "execution_count": null,
   "id": "fb1d0cf2-2525-4a63-a2f4-e0de3e65c0f1",
   "metadata": {},
   "outputs": [],
   "source": []
  }
 ],
 "metadata": {
  "kernelspec": {
   "display_name": "Python 3 (ipykernel)",
   "language": "python",
   "name": "python3"
  },
  "language_info": {
   "codemirror_mode": {
    "name": "ipython",
    "version": 3
   },
   "file_extension": ".py",
   "mimetype": "text/x-python",
   "name": "python",
   "nbconvert_exporter": "python",
   "pygments_lexer": "ipython3",
   "version": "3.10.12"
  }
 },
 "nbformat": 4,
 "nbformat_minor": 5
}
