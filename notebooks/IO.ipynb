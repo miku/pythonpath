{
 "cells": [
  {
   "cell_type": "markdown",
   "id": "d4fcab58-9853-4e24-9896-ffbd23d99dba",
   "metadata": {},
   "source": [
    "## File IO"
   ]
  },
  {
   "cell_type": "code",
   "execution_count": 2,
   "id": "a0e8a39e-2e50-488e-ab90-1fe7eea79e88",
   "metadata": {},
   "outputs": [],
   "source": [
    "f = open(\"example.txt\", \"w\")"
   ]
  },
  {
   "cell_type": "code",
   "execution_count": 3,
   "id": "58994505-05ee-4b7d-8008-e468fcc1bb1b",
   "metadata": {},
   "outputs": [
    {
     "data": {
      "text/plain": [
       "7"
      ]
     },
     "execution_count": 3,
     "metadata": {},
     "output_type": "execute_result"
    }
   ],
   "source": [
    "f.write(\"line 1\\n\")"
   ]
  },
  {
   "cell_type": "code",
   "execution_count": 4,
   "id": "c1b8d60c-c2f7-40ba-8823-b70518b894e4",
   "metadata": {},
   "outputs": [
    {
     "data": {
      "text/plain": [
       "7"
      ]
     },
     "execution_count": 4,
     "metadata": {},
     "output_type": "execute_result"
    }
   ],
   "source": [
    "f.write(\"line 2\\n\")"
   ]
  },
  {
   "cell_type": "code",
   "execution_count": 5,
   "id": "22160a82-9fc6-4893-87af-b8b86593ee63",
   "metadata": {},
   "outputs": [],
   "source": [
    "f.close()"
   ]
  },
  {
   "cell_type": "code",
   "execution_count": 6,
   "id": "ab41b4ed-aadb-46a5-954f-1bbbb123e30c",
   "metadata": {},
   "outputs": [],
   "source": [
    "f = open(\"example.txt\")"
   ]
  },
  {
   "cell_type": "code",
   "execution_count": 7,
   "id": "222627e0-a8d3-4aba-b278-8867e2671e3e",
   "metadata": {},
   "outputs": [
    {
     "data": {
      "text/plain": [
       "'line 1\\nline 2\\n'"
      ]
     },
     "execution_count": 7,
     "metadata": {},
     "output_type": "execute_result"
    }
   ],
   "source": [
    "f.read()"
   ]
  },
  {
   "cell_type": "code",
   "execution_count": 8,
   "id": "f597be5f-d443-4797-b580-9a1cdc746415",
   "metadata": {},
   "outputs": [
    {
     "name": "stdout",
     "output_type": "stream",
     "text": [
      "line 1\n",
      "line 2\n",
      "\n"
     ]
    }
   ],
   "source": [
    "with open(\"example.txt\") as f:\n",
    "    print(f.read())"
   ]
  },
  {
   "cell_type": "code",
   "execution_count": 9,
   "id": "68fce5c8-0c0e-4bda-9a19-1ba31417ce00",
   "metadata": {},
   "outputs": [
    {
     "data": {
      "text/plain": [
       "True"
      ]
     },
     "execution_count": 9,
     "metadata": {},
     "output_type": "execute_result"
    }
   ],
   "source": [
    "f.closed"
   ]
  },
  {
   "cell_type": "markdown",
   "id": "78829b47-47fa-4faa-beba-ee852be2ce85",
   "metadata": {},
   "source": [
    "## JSON Serialization"
   ]
  },
  {
   "cell_type": "code",
   "execution_count": 10,
   "id": "1ba14c9f-2459-41e4-936c-2a6ca2e7725d",
   "metadata": {},
   "outputs": [],
   "source": [
    "import json"
   ]
  },
  {
   "cell_type": "code",
   "execution_count": 12,
   "id": "3af69c68-4c80-4f7f-8427-a8e4bf2732ab",
   "metadata": {},
   "outputs": [],
   "source": [
    "data = {\n",
    "    \"city\": \"Dresden\",\n",
    "    \"year\": 2024,\n",
    "    \"lines\": [1, 2, 3, 8],\n",
    "}"
   ]
  },
  {
   "cell_type": "code",
   "execution_count": 14,
   "id": "175d09b9-1597-4824-8fd0-7f0db433c162",
   "metadata": {},
   "outputs": [
    {
     "data": {
      "text/plain": [
       "'{\"city\": \"Dresden\", \"year\": 2024, \"lines\": [1, 2, 3, 8]}'"
      ]
     },
     "execution_count": 14,
     "metadata": {},
     "output_type": "execute_result"
    }
   ],
   "source": [
    "json.dumps(data)"
   ]
  },
  {
   "cell_type": "code",
   "execution_count": 15,
   "id": "3713dcef-586c-479b-a5dd-67106e46a64e",
   "metadata": {},
   "outputs": [],
   "source": [
    "with open(\"data1.json\", \"w\") as f:\n",
    "    f.write(json.dumps(data))"
   ]
  },
  {
   "cell_type": "code",
   "execution_count": 17,
   "id": "2d7bf38c-7246-4d2f-814c-b05e01a40869",
   "metadata": {},
   "outputs": [],
   "source": [
    "with open(\"data1.json\", \"w\") as f:\n",
    "    json.dump(data, f)"
   ]
  },
  {
   "cell_type": "code",
   "execution_count": 19,
   "id": "602b0f8d-3b8b-410a-b44f-099f1989016c",
   "metadata": {},
   "outputs": [
    {
     "name": "stdout",
     "output_type": "stream",
     "text": [
      "{'city': 'Dresden', 'year': 2024, 'lines': [1, 2, 3, 8]}\n"
     ]
    }
   ],
   "source": [
    "with open(\"data1.json\") as f:\n",
    "    print(json.load(f))"
   ]
  },
  {
   "cell_type": "markdown",
   "id": "3a1a3b9f-6f76-4694-8ce8-398877ced38f",
   "metadata": {},
   "source": [
    "Not all types are supported."
   ]
  },
  {
   "cell_type": "code",
   "execution_count": 21,
   "id": "8e42a04c-5979-4e25-83c4-b495547885ce",
   "metadata": {},
   "outputs": [],
   "source": [
    "data = {\n",
    "    \"city\": \"Dresden\",\n",
    "    \"lines\": set([1, 2, 3, 4]),\n",
    "}"
   ]
  },
  {
   "cell_type": "code",
   "execution_count": 23,
   "id": "298bd1b1-6c63-457a-bd3d-25cfbb488573",
   "metadata": {},
   "outputs": [],
   "source": [
    "# json.dumps(data) # TypeError"
   ]
  },
  {
   "cell_type": "markdown",
   "id": "7b06ff68-2d6f-472f-b616-6bc7eee5ecfd",
   "metadata": {},
   "source": [
    "## Working with XML\n",
    "\n",
    "There is some support for XML in the standard library."
   ]
  },
  {
   "cell_type": "code",
   "execution_count": 27,
   "id": "af125bea-3596-4e46-af38-b788106c6311",
   "metadata": {},
   "outputs": [],
   "source": [
    "data = \"\"\"<?xml version=\"1.0\"?>\n",
    "<data>\n",
    "    <country name=\"Liechtenstein\">\n",
    "        <rank>1</rank>\n",
    "        <year>2008</year>\n",
    "        <gdppc>141100</gdppc>\n",
    "        <neighbor name=\"Austria\" direction=\"E\"/>\n",
    "        <neighbor name=\"Switzerland\" direction=\"W\"/>\n",
    "    </country>\n",
    "    <country name=\"Singapore\">\n",
    "        <rank>4</rank>\n",
    "        <year>2011</year>\n",
    "        <gdppc>59900</gdppc>\n",
    "        <neighbor name=\"Malaysia\" direction=\"N\"/>\n",
    "    </country>\n",
    "    <country name=\"Panama\">\n",
    "        <rank>68</rank>\n",
    "        <year>2011</year>\n",
    "        <gdppc>13600</gdppc>\n",
    "        <neighbor name=\"Costa Rica\" direction=\"W\"/>\n",
    "        <neighbor name=\"Colombia\" direction=\"E\"/>\n",
    "    </country>\n",
    "</data>\n",
    "\"\"\""
   ]
  },
  {
   "cell_type": "code",
   "execution_count": 30,
   "id": "f5c39630-614e-4ed8-b4fc-c31927b3b934",
   "metadata": {},
   "outputs": [
    {
     "name": "stdout",
     "output_type": "stream",
     "text": [
      "country {'name': 'Liechtenstein'}\n",
      "country {'name': 'Singapore'}\n",
      "country {'name': 'Panama'}\n"
     ]
    },
    {
     "data": {
      "text/plain": [
       "'2008'"
      ]
     },
     "execution_count": 30,
     "metadata": {},
     "output_type": "execute_result"
    }
   ],
   "source": [
    "import xml.etree.ElementTree as ET\n",
    "root = ET.fromstring(data)\n",
    "\n",
    "for child in root:\n",
    "    print(child.tag, child.attrib)\n",
    "\n",
    "root[0][1].text"
   ]
  },
  {
   "cell_type": "code",
   "execution_count": 31,
   "id": "1894b482-cbec-409b-99e3-5c50ba0e1f00",
   "metadata": {},
   "outputs": [
    {
     "name": "stdout",
     "output_type": "stream",
     "text": [
      "Liechtenstein 1\n",
      "Singapore 4\n",
      "Panama 68\n"
     ]
    }
   ],
   "source": [
    "for country in root.findall('country'):\n",
    "    rank = country.find('rank').text\n",
    "    name = country.get('name')\n",
    "    print(name, rank)"
   ]
  },
  {
   "cell_type": "code",
   "execution_count": 35,
   "id": "e0593503-90a7-49cf-88a6-5f906e5a61c2",
   "metadata": {},
   "outputs": [
    {
     "data": {
      "text/plain": [
       "[<Element 'neighbor' at 0x762b07e38400>,\n",
       " <Element 'neighbor' at 0x762b07e383b0>,\n",
       " <Element 'neighbor' at 0x762b07e38bd0>,\n",
       " <Element 'neighbor' at 0x762b07e39300>,\n",
       " <Element 'neighbor' at 0x762b07e39350>]"
      ]
     },
     "execution_count": 35,
     "metadata": {},
     "output_type": "execute_result"
    }
   ],
   "source": [
    "\n",
    "# All 'neighbor' grand-children of 'country' children of the top-level\n",
    "# elements\n",
    "root.findall(\"./country/neighbor\")"
   ]
  },
  {
   "cell_type": "code",
   "execution_count": 32,
   "id": "6597e819-1a7d-4b26-97a2-1e2bb8a23982",
   "metadata": {},
   "outputs": [
    {
     "data": {
      "text/plain": [
       "[<Element 'country' at 0x762b07e38360>]"
      ]
     },
     "execution_count": 32,
     "metadata": {},
     "output_type": "execute_result"
    }
   ],
   "source": [
    "# Nodes with name='Singapore' that have a 'year' child\n",
    "root.findall(\".//year/..[@name='Singapore']\")"
   ]
  },
  {
   "cell_type": "code",
   "execution_count": 34,
   "id": "065c8e2d-f822-4bd9-9d5c-d953bc011731",
   "metadata": {},
   "outputs": [
    {
     "data": {
      "text/plain": [
       "[<Element 'neighbor' at 0x762b07e383b0>,\n",
       " <Element 'neighbor' at 0x762b07e39350>]"
      ]
     },
     "execution_count": 34,
     "metadata": {},
     "output_type": "execute_result"
    }
   ],
   "source": [
    "# All 'neighbor' nodes that are the second child of their parent\n",
    "root.findall(\".//neighbor[2]\")"
   ]
  },
  {
   "cell_type": "markdown",
   "id": "b203c851-5f28-494b-93a7-ffb42b2999e5",
   "metadata": {},
   "source": [
    "## CSV"
   ]
  },
  {
   "cell_type": "code",
   "execution_count": 36,
   "id": "31052c9c-93ea-48e2-a23b-44ec49905fce",
   "metadata": {},
   "outputs": [],
   "source": [
    "import csv\n",
    "with open('eggs.csv', 'w', newline='') as csvfile:\n",
    "    spamwriter = csv.writer(csvfile, delimiter=' ',\n",
    "                            quotechar='|', quoting=csv.QUOTE_MINIMAL)\n",
    "    spamwriter.writerow(['Spam'] * 5 + ['Baked Beans'])\n",
    "    spamwriter.writerow(['Spam', 'Lovely Spam', 'Wonderful Spam'])"
   ]
  },
  {
   "cell_type": "code",
   "execution_count": 37,
   "id": "d8191ef3-7ce6-44c7-b9b9-a22b34f949a1",
   "metadata": {},
   "outputs": [
    {
     "name": "stdout",
     "output_type": "stream",
     "text": [
      "Spam, Spam, Spam, Spam, Spam, Baked Beans\n",
      "Spam, Lovely Spam, Wonderful Spam\n"
     ]
    }
   ],
   "source": [
    "with open('eggs.csv', newline='') as csvfile:\n",
    "    spamreader = csv.reader(csvfile, delimiter=' ', quotechar='|')\n",
    "    for row in spamreader:\n",
    "        print(', '.join(row))"
   ]
  },
  {
   "cell_type": "markdown",
   "id": "55b37c7e-9114-4a42-acd6-aa17812e45e4",
   "metadata": {},
   "source": [
    "Reading directly into dictionary."
   ]
  },
  {
   "cell_type": "code",
   "execution_count": 39,
   "id": "28cdf802-40ad-4a7e-a105-2eb4ac7ebe27",
   "metadata": {},
   "outputs": [
    {
     "name": "stdout",
     "output_type": "stream",
     "text": [
      "anna anker\n",
      "bert boden\n",
      "cleo canto\n",
      "dino dante\n",
      "{'first_name': 'dino', 'last_name': 'dante'}\n"
     ]
    }
   ],
   "source": [
    "import csv\n",
    "with open('names.csv', newline='') as csvfile:\n",
    "    reader = csv.DictReader(csvfile)\n",
    "    for row in reader:\n",
    "        print(row['first_name'], row['last_name'])\n",
    "\n",
    "\n",
    "\n",
    "\n",
    "print(row)"
   ]
  },
  {
   "cell_type": "markdown",
   "id": "455b865b-03ad-4cf2-a7b6-f40f2d24c488",
   "metadata": {},
   "source": [
    "## HTML"
   ]
  },
  {
   "cell_type": "code",
   "execution_count": 41,
   "id": "c6696252-d46f-4a42-8445-64659837c4b3",
   "metadata": {},
   "outputs": [],
   "source": [
    "html_doc = \"\"\"<html><head><title>The Dormouse's story</title></head>\n",
    "<body>\n",
    "<p class=\"title\"><b>The Dormouse's story</b></p>\n",
    "\n",
    "<p class=\"story\">Once upon a time there were three little sisters; and their names were\n",
    "<a href=\"http://example.com/elsie\" class=\"sister\" id=\"link1\">Elsie</a>,\n",
    "<a href=\"http://example.com/lacie\" class=\"sister\" id=\"link2\">Lacie</a> and\n",
    "<a href=\"http://example.com/tillie\" class=\"sister\" id=\"link3\">Tillie</a>;\n",
    "and they lived at the bottom of a well.</p>\n",
    "\n",
    "<p class=\"story\">...</p>\n",
    "\"\"\"\n"
   ]
  },
  {
   "cell_type": "code",
   "execution_count": 43,
   "id": "00f2c1f9-b978-4385-bc1c-be6f4371d9c0",
   "metadata": {},
   "outputs": [
    {
     "name": "stdout",
     "output_type": "stream",
     "text": [
      "<html>\n",
      " <head>\n",
      "  <title>\n",
      "   The Dormouse's story\n",
      "  </title>\n",
      " </head>\n",
      " <body>\n",
      "  <p class=\"title\">\n",
      "   <b>\n",
      "    The Dormouse's story\n",
      "   </b>\n",
      "  </p>\n",
      "  <p class=\"story\">\n",
      "   Once upon a time there were three little sisters; and their names were\n",
      "   <a class=\"sister\" href=\"http://example.com/elsie\" id=\"link1\">\n",
      "    Elsie\n",
      "   </a>\n",
      "   ,\n",
      "   <a class=\"sister\" href=\"http://example.com/lacie\" id=\"link2\">\n",
      "    Lacie\n",
      "   </a>\n",
      "   and\n",
      "   <a class=\"sister\" href=\"http://example.com/tillie\" id=\"link3\">\n",
      "    Tillie\n",
      "   </a>\n",
      "   ;\n",
      "and they lived at the bottom of a well.\n",
      "  </p>\n",
      "  <p class=\"story\">\n",
      "   ...\n",
      "  </p>\n",
      " </body>\n",
      "</html>\n"
     ]
    }
   ],
   "source": [
    "from bs4 import BeautifulSoup\n",
    "soup = BeautifulSoup(html_doc, 'html.parser')\n",
    "\n",
    "print(soup.prettify())"
   ]
  },
  {
   "cell_type": "code",
   "execution_count": 44,
   "id": "0c641ff8-9a3c-495e-a20a-dcca4dd0b504",
   "metadata": {},
   "outputs": [
    {
     "data": {
      "text/plain": [
       "<title>The Dormouse's story</title>"
      ]
     },
     "execution_count": 44,
     "metadata": {},
     "output_type": "execute_result"
    }
   ],
   "source": [
    "soup.title"
   ]
  },
  {
   "cell_type": "code",
   "execution_count": 45,
   "id": "b43fa788-9d19-4799-9b78-486a324b6005",
   "metadata": {},
   "outputs": [
    {
     "data": {
      "text/plain": [
       "'title'"
      ]
     },
     "execution_count": 45,
     "metadata": {},
     "output_type": "execute_result"
    }
   ],
   "source": [
    "soup.title.name"
   ]
  },
  {
   "cell_type": "code",
   "execution_count": 46,
   "id": "a561f8a5-14e4-4249-abe6-cc8a7301b98d",
   "metadata": {},
   "outputs": [
    {
     "data": {
      "text/plain": [
       "\"The Dormouse's story\""
      ]
     },
     "execution_count": 46,
     "metadata": {},
     "output_type": "execute_result"
    }
   ],
   "source": [
    "soup.title.string"
   ]
  },
  {
   "cell_type": "code",
   "execution_count": 47,
   "id": "308abbcc-9ef7-4cc9-87ff-078551285398",
   "metadata": {},
   "outputs": [
    {
     "data": {
      "text/plain": [
       "'head'"
      ]
     },
     "execution_count": 47,
     "metadata": {},
     "output_type": "execute_result"
    }
   ],
   "source": [
    "soup.title.parent.name"
   ]
  },
  {
   "cell_type": "code",
   "execution_count": 48,
   "id": "8665c5c6-faf8-449c-aa79-8633e2dc2ff1",
   "metadata": {},
   "outputs": [
    {
     "data": {
      "text/plain": [
       "<p class=\"title\"><b>The Dormouse's story</b></p>"
      ]
     },
     "execution_count": 48,
     "metadata": {},
     "output_type": "execute_result"
    }
   ],
   "source": [
    "soup.p"
   ]
  },
  {
   "cell_type": "code",
   "execution_count": 49,
   "id": "36077bd3-c5ff-45e7-b5d8-f53e59daf42c",
   "metadata": {},
   "outputs": [
    {
     "data": {
      "text/plain": [
       "['title']"
      ]
     },
     "execution_count": 49,
     "metadata": {},
     "output_type": "execute_result"
    }
   ],
   "source": [
    "soup.p['class']"
   ]
  },
  {
   "cell_type": "code",
   "execution_count": 50,
   "id": "84a57925-e24a-4382-81f7-abab3e864da5",
   "metadata": {},
   "outputs": [
    {
     "data": {
      "text/plain": [
       "<a class=\"sister\" href=\"http://example.com/elsie\" id=\"link1\">Elsie</a>"
      ]
     },
     "execution_count": 50,
     "metadata": {},
     "output_type": "execute_result"
    }
   ],
   "source": [
    "soup.a"
   ]
  },
  {
   "cell_type": "code",
   "execution_count": 51,
   "id": "f0652d07-4130-4c58-90ed-6d9be95b1c51",
   "metadata": {},
   "outputs": [
    {
     "data": {
      "text/plain": [
       "[<a class=\"sister\" href=\"http://example.com/elsie\" id=\"link1\">Elsie</a>,\n",
       " <a class=\"sister\" href=\"http://example.com/lacie\" id=\"link2\">Lacie</a>,\n",
       " <a class=\"sister\" href=\"http://example.com/tillie\" id=\"link3\">Tillie</a>]"
      ]
     },
     "execution_count": 51,
     "metadata": {},
     "output_type": "execute_result"
    }
   ],
   "source": [
    "soup.find_all('a')"
   ]
  },
  {
   "cell_type": "code",
   "execution_count": 52,
   "id": "33094a30-b868-457a-b9c6-5028646cf567",
   "metadata": {},
   "outputs": [
    {
     "data": {
      "text/plain": [
       "<a class=\"sister\" href=\"http://example.com/tillie\" id=\"link3\">Tillie</a>"
      ]
     },
     "execution_count": 52,
     "metadata": {},
     "output_type": "execute_result"
    }
   ],
   "source": [
    "soup.find(id=\"link3\")"
   ]
  },
  {
   "cell_type": "markdown",
   "id": "ec4e9967-ebb3-4a13-a151-605ea3e88b6f",
   "metadata": {},
   "source": [
    "## Multiple Files and Directories\n",
    "\n",
    "* os.walk and glob.glob"
   ]
  },
  {
   "cell_type": "code",
   "execution_count": 53,
   "id": "5ef7e9aa-20e3-44d9-be3c-caaa16a700a9",
   "metadata": {},
   "outputs": [],
   "source": [
    "import glob"
   ]
  },
  {
   "cell_type": "code",
   "execution_count": 54,
   "id": "6655ea9d-fd0c-40f3-aed7-69df1fe7afdd",
   "metadata": {},
   "outputs": [
    {
     "data": {
      "text/plain": [
       "['eggs.csv', 'names.csv']"
      ]
     },
     "execution_count": 54,
     "metadata": {},
     "output_type": "execute_result"
    }
   ],
   "source": [
    "glob.glob(\"*.csv\")"
   ]
  },
  {
   "cell_type": "code",
   "execution_count": 56,
   "id": "424c168c-f27d-4a8b-bba2-ab42286f5bc5",
   "metadata": {},
   "outputs": [],
   "source": [
    "import os"
   ]
  },
  {
   "cell_type": "code",
   "execution_count": 57,
   "id": "4dd6baff-ef5c-4cb0-b571-1165fc73080d",
   "metadata": {},
   "outputs": [
    {
     "data": {
      "text/plain": [
       "<generator object _walk at 0x762b07b1ece0>"
      ]
     },
     "execution_count": 57,
     "metadata": {},
     "output_type": "execute_result"
    }
   ],
   "source": [
    "os.walk(\".\")"
   ]
  },
  {
   "cell_type": "code",
   "execution_count": 61,
   "id": "0f8746d0-a1af-4b15-8d1f-b499fc11730a",
   "metadata": {},
   "outputs": [
    {
     "name": "stdout",
     "output_type": "stream",
     "text": [
      "./imperative.ipynb\n",
      "./guess.ipynb\n",
      "./memory.ipynb\n",
      "./eggs.csv\n",
      "./data1.json\n",
      "./HelloPandas.ipynb\n",
      "./IO.ipynb\n",
      "./represent.ipynb\n",
      "./overview.ipynb\n",
      "./oo.ipynb\n",
      "./firstlast.ipynb\n",
      "./python_world_view.ipynb\n",
      "./names.csv\n",
      "./example.txt\n",
      "./.ipynb_checkpoints/HelloPandas-checkpoint.ipynb\n",
      "./.ipynb_checkpoints/overview-checkpoint.ipynb\n",
      "./.ipynb_checkpoints/guess-checkpoint.ipynb\n",
      "./.ipynb_checkpoints/memory-checkpoint.ipynb\n",
      "./.ipynb_checkpoints/represent-checkpoint.ipynb\n",
      "./.ipynb_checkpoints/python_world_view-checkpoint.ipynb\n",
      "./.ipynb_checkpoints/names-checkpoint.csv\n",
      "./.ipynb_checkpoints/firstlast-checkpoint.ipynb\n",
      "./.ipynb_checkpoints/learning-python3-checkpoint.ipynb\n",
      "./.ipynb_checkpoints/imperative-checkpoint.ipynb\n",
      "./.ipynb_checkpoints/IO-checkpoint.ipynb\n",
      "./.ipynb_checkpoints/oo-checkpoint.ipynb\n",
      "./intro/04.ipynb\n",
      "./intro/06.ipynb\n",
      "./intro/01.ipynb\n",
      "./intro/07.ipynb\n",
      "./intro/05.ipynb\n",
      "./intro/surface_ex.pdf\n",
      "./intro/surface_ex.png\n",
      "./intro/03.ipynb\n",
      "./intro/02.ipynb\n",
      "./intro/08.ipynb\n",
      "./intro/.ipynb_checkpoints/03-checkpoint.ipynb\n",
      "./intro/.ipynb_checkpoints/07-checkpoint.ipynb\n",
      "./intro/.ipynb_checkpoints/04-checkpoint.ipynb\n",
      "./intro/.ipynb_checkpoints/01-checkpoint.ipynb\n",
      "./intro/.ipynb_checkpoints/06-checkpoint.ipynb\n",
      "./intro/.ipynb_checkpoints/05-checkpoint.ipynb\n",
      "./intro/.ipynb_checkpoints/02-checkpoint.ipynb\n",
      "./intro/.ipynb_checkpoints/08-checkpoint.ipynb\n"
     ]
    }
   ],
   "source": [
    "for root, dirs, files in os.walk(\".\"):\n",
    "    for f in files:\n",
    "        print(os.path.join(root, f))"
   ]
  },
  {
   "cell_type": "markdown",
   "id": "b90177d2-35e5-4405-87b9-e69ecb5a5d7f",
   "metadata": {},
   "source": [
    "## Reading data from the web\n",
    "\n",
    "Standard library recommends the third-party requests package for higher level HTTP interaction. "
   ]
  },
  {
   "cell_type": "code",
   "execution_count": 62,
   "id": "55ea0464-43fa-4d9a-86f6-0a346806cf05",
   "metadata": {},
   "outputs": [
    {
     "name": "stdout",
     "output_type": "stream",
     "text": [
      "b'<!doctype html>\\n<!--[if lt IE 7]>   <html class=\"no-js ie6 lt-ie7 lt-ie8 lt-ie9\">   <![endif]-->\\n<!--[if IE 7]>      <html class=\"no-js ie7 lt-ie8 lt-ie9\">          <![endif]-->\\n<!--[if IE 8]>      <html class=\"no-js ie8 lt-ie9\">                 <![endif]-->\\n<!--[if gt IE 8]><!--><html class=\"no-js\"'\n"
     ]
    }
   ],
   "source": [
    "import urllib.request\n",
    "with urllib.request.urlopen('http://www.python.org/') as f:\n",
    "    print(f.read(300))"
   ]
  },
  {
   "cell_type": "code",
   "execution_count": 63,
   "id": "ce3a9629-e1f5-4db9-875d-5668b8d5c4b8",
   "metadata": {},
   "outputs": [],
   "source": [
    "import requests"
   ]
  },
  {
   "cell_type": "code",
   "execution_count": 64,
   "id": "0fba1e4c-af12-4629-b996-b7e29d2dfb1f",
   "metadata": {},
   "outputs": [],
   "source": [
    "r = requests.get('https://api.github.com/events')"
   ]
  },
  {
   "cell_type": "code",
   "execution_count": 65,
   "id": "42f7507a-2652-4342-a1e2-8194904ce0da",
   "metadata": {},
   "outputs": [
    {
     "data": {
      "text/plain": [
       "200"
      ]
     },
     "execution_count": 65,
     "metadata": {},
     "output_type": "execute_result"
    }
   ],
   "source": [
    "r.status_code"
   ]
  },
  {
   "cell_type": "code",
   "execution_count": 66,
   "id": "21014a2c-af75-42b7-9f21-1ebebb058557",
   "metadata": {},
   "outputs": [
    {
     "data": {
      "text/plain": [
       "89188"
      ]
     },
     "execution_count": 66,
     "metadata": {},
     "output_type": "execute_result"
    }
   ],
   "source": [
    "len(r.text)"
   ]
  },
  {
   "cell_type": "code",
   "execution_count": 72,
   "id": "264effc5-1af9-4e9c-b306-58b2dbbe83da",
   "metadata": {},
   "outputs": [],
   "source": [
    "events = r.json()"
   ]
  },
  {
   "cell_type": "code",
   "execution_count": 73,
   "id": "23017fd9-1b89-4d89-b186-107a8eb9b905",
   "metadata": {},
   "outputs": [
    {
     "data": {
      "text/plain": [
       "30"
      ]
     },
     "execution_count": 73,
     "metadata": {},
     "output_type": "execute_result"
    }
   ],
   "source": [
    "len(events)"
   ]
  },
  {
   "cell_type": "code",
   "execution_count": 74,
   "id": "c9dcec43-95bd-44b5-9b76-3223d7a84263",
   "metadata": {},
   "outputs": [
    {
     "data": {
      "text/plain": [
       "{'id': '37445370657',\n",
       " 'type': 'CreateEvent',\n",
       " 'actor': {'id': 81474942,\n",
       "  'login': 'hohner2008',\n",
       "  'display_login': 'hohner2008',\n",
       "  'gravatar_id': '',\n",
       "  'url': 'https://api.github.com/users/hohner2008',\n",
       "  'avatar_url': 'https://avatars.githubusercontent.com/u/81474942?'},\n",
       " 'repo': {'id': 731077003,\n",
       "  'name': 'hohner2008/openapi-generator',\n",
       "  'url': 'https://api.github.com/repos/hohner2008/openapi-generator'},\n",
       " 'payload': {'ref': 'snyk-fix-ae7a132f724a5a1a72ffc5fce28de0a0',\n",
       "  'ref_type': 'branch',\n",
       "  'master_branch': 'master',\n",
       "  'description': 'OpenAPI Generator allows generation of API client libraries (SDK generation), server stubs, documentation and configuration automatically given an OpenAPI Spec (v2, v3)',\n",
       "  'pusher_type': 'user'},\n",
       " 'public': True,\n",
       " 'created_at': '2024-04-14T23:10:49Z'}"
      ]
     },
     "execution_count": 74,
     "metadata": {},
     "output_type": "execute_result"
    }
   ],
   "source": [
    "events[0]"
   ]
  },
  {
   "cell_type": "code",
   "execution_count": 78,
   "id": "d26a6a7b-8ed6-414f-8bad-93bc487cc99d",
   "metadata": {},
   "outputs": [],
   "source": [
    "r = requests.put('https://httpbin.org/put', data={'key': 'value'})"
   ]
  },
  {
   "cell_type": "code",
   "execution_count": 79,
   "id": "abb8a288-343c-4f81-aa57-bb7d9c1e939e",
   "metadata": {},
   "outputs": [
    {
     "data": {
      "text/plain": [
       "200"
      ]
     },
     "execution_count": 79,
     "metadata": {},
     "output_type": "execute_result"
    }
   ],
   "source": [
    "r.status_code"
   ]
  },
  {
   "cell_type": "code",
   "execution_count": 80,
   "id": "30de3333-cc0a-4c95-8754-bb88d983c67e",
   "metadata": {},
   "outputs": [
    {
     "data": {
      "text/plain": [
       "{'Date': 'Sun, 14 Apr 2024 23:19:36 GMT', 'Content-Type': 'application/json', 'Content-Length': '483', 'Connection': 'keep-alive', 'Server': 'gunicorn/19.9.0', 'Access-Control-Allow-Origin': '*', 'Access-Control-Allow-Credentials': 'true'}"
      ]
     },
     "execution_count": 80,
     "metadata": {},
     "output_type": "execute_result"
    }
   ],
   "source": [
    "r.headers"
   ]
  },
  {
   "cell_type": "code",
   "execution_count": 81,
   "id": "af7aa627-6f26-495a-a1ca-794e7c3f2da9",
   "metadata": {},
   "outputs": [
    {
     "data": {
      "text/plain": [
       "'https://httpbin.org/put'"
      ]
     },
     "execution_count": 81,
     "metadata": {},
     "output_type": "execute_result"
    }
   ],
   "source": [
    "r.url"
   ]
  },
  {
   "cell_type": "code",
   "execution_count": 83,
   "id": "72bfddbe-fdb3-43bf-a7ea-544c98b10bd0",
   "metadata": {},
   "outputs": [
    {
     "data": {
      "text/plain": [
       "{'args': {},\n",
       " 'data': '',\n",
       " 'files': {},\n",
       " 'form': {'key': 'value'},\n",
       " 'headers': {'Accept': '*/*',\n",
       "  'Accept-Encoding': 'gzip, deflate, br',\n",
       "  'Content-Length': '9',\n",
       "  'Content-Type': 'application/x-www-form-urlencoded',\n",
       "  'Host': 'httpbin.org',\n",
       "  'User-Agent': 'python-requests/2.31.0',\n",
       "  'X-Amzn-Trace-Id': 'Root=1-661c6487-5431408a7eaecc02534bbf88'},\n",
       " 'json': None,\n",
       " 'origin': '46.114.203.250',\n",
       " 'url': 'https://httpbin.org/put'}"
      ]
     },
     "execution_count": 83,
     "metadata": {},
     "output_type": "execute_result"
    }
   ],
   "source": [
    "r.json()"
   ]
  },
  {
   "cell_type": "code",
   "execution_count": null,
   "id": "ab1d8a1f-2490-4940-a393-e80afc0d7926",
   "metadata": {},
   "outputs": [],
   "source": []
  }
 ],
 "metadata": {
  "kernelspec": {
   "display_name": "Python 3 (ipykernel)",
   "language": "python",
   "name": "python3"
  },
  "language_info": {
   "codemirror_mode": {
    "name": "ipython",
    "version": 3
   },
   "file_extension": ".py",
   "mimetype": "text/x-python",
   "name": "python",
   "nbconvert_exporter": "python",
   "pygments_lexer": "ipython3",
   "version": "3.10.12"
  }
 },
 "nbformat": 4,
 "nbformat_minor": 5
}
